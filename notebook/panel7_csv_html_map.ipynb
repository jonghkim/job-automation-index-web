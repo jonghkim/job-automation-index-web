{
 "cells": [
  {
   "cell_type": "code",
   "execution_count": 3,
   "metadata": {
    "collapsed": true
   },
   "outputs": [],
   "source": [
    "# -*- coding: utf-8 -*-\n",
    "import pandas as pd"
   ]
  },
  {
   "cell_type": "code",
   "execution_count": 4,
   "metadata": {
    "collapsed": true
   },
   "outputs": [],
   "source": [
    "def table_generation(df, color_code):\n",
    "    lines = []\n",
    "    lines.append('<table class=\"table table-bordered sortable\" id=\"dataTable\" width=\"100%\" cellspacing=\"0\">\\n')\n",
    "    lines.append('<thead>')\n",
    "    lines.append('  <tr>\\n')\n",
    "\n",
    "    lines.append('    <th></th>\\n')\n",
    "    for i, (col, color) in enumerate(zip(df.columns, color_code)):\n",
    "        if i==0:\n",
    "            lines.append('    <th class=\"sorttable_sorted\" bgcolor=\"{}\">{} <span id=\"sorttable_sortfwdind\">&nbsp;▾</span> </th>\\n'.format(color, col))\n",
    "        else:\n",
    "            lines.append('    <th bgcolor=\"{}\">{}</th>\\n'.format(color, col))\n",
    "\n",
    "    lines.append('  </tr>\\n')\n",
    "    lines.append('</thead>\\n')\n",
    "\n",
    "    lines.append('<tfoot>\\n')\n",
    "    lines.append('  <tr>\\n')\n",
    "    \n",
    "    lines.append('    <th></th>\\n')\n",
    "    for i, (col, color) in enumerate(zip(df.columns, color_code)):\n",
    "        lines.append('    <th bgcolor=\"{}\">{}</th>\\n'.format(color, col))\n",
    "    \n",
    "    lines.append('  </tr>\\n')\n",
    "    lines.append('</tfoot>\\n')\n",
    "\n",
    "    lines.append('<tbody>\\n')\n",
    "\n",
    "    for i, r in df.iterrows():\n",
    "        lines.append('  <tr>\\n')\n",
    "        lines.append('    <td ></td>\\n')\n",
    "        for (col, color) in zip(df.columns, color_code):    \n",
    "            if isinstance(r[col],float):\n",
    "                lines.append('    <td bgcolor=\"{}\">{}</td>\\n'.format(color, (\"%.2f\" % (r[col]*100))))\n",
    "            else:\n",
    "                lines.append('    <td bgcolor=\"{}\">{}</td>\\n'.format(color, r[col]))\n",
    "        lines.append('  </tr>\\n')    \n",
    "    lines.append('</tbody>\\n')\n",
    "    lines.append('</table>')\n",
    "    \n",
    "    return ''.join(lines)\n"
   ]
  },
  {
   "cell_type": "code",
   "execution_count": 13,
   "metadata": {
    "collapsed": false
   },
   "outputs": [],
   "source": [
    "year = '2008~2020'\n",
    "csvpath = '../static/data/csv/Panel 7 '+year+'.csv'\n",
    "panel_df = pd.read_csv(csvpath, index_col=0)"
   ]
  },
  {
   "cell_type": "code",
   "execution_count": 14,
   "metadata": {
    "collapsed": false
   },
   "outputs": [
    {
     "data": {
      "text/plain": [
       "Index([u'State', u'Metropolitan Areas', u'Race with the Machine',\n",
       "       u'Interpersonal Task', u'Group Task', u'Conflict Resolution',\n",
       "       u'Management and Supervision', u'Race ahead of the Machine',\n",
       "       u'Communication', u'Systems Analysis',\n",
       "       u'Creative and Critical Thinking', u'Changing the Course of the Race',\n",
       "       u'Routine Problem Solving', u'Information Processing',\n",
       "       u'Race against the Machine', u'General Physical Task',\n",
       "       u'Dynamic Physical Task', u'Running a Different Race',\n",
       "       u'Equipment Maintenance', u'Vehicle and Equipment Operation',\n",
       "       u'Machine Control', u'Hazardous Task'],\n",
       "      dtype='object')"
      ]
     },
     "execution_count": 14,
     "metadata": {},
     "output_type": "execute_result"
    }
   ],
   "source": [
    "panel_df.columns"
   ]
  },
  {
   "cell_type": "code",
   "execution_count": 15,
   "metadata": {
    "collapsed": true
   },
   "outputs": [],
   "source": [
    "panel_df = panel_df[['State', 'Metropolitan Areas', #'Automation Index',                    \n",
    "                    'Race with the Machine', 'Interpersonal Task', 'Group Task', 'Conflict Resolution', 'Management and Supervision',\n",
    "\n",
    "                    'Race ahead of the Machine', 'Communication', 'Systems Analysis', 'Creative and Critical Thinking',\n",
    "\n",
    "                    'Changing the Course of the Race', 'Routine Problem Solving', 'Information Processing',\n",
    "\n",
    "                    'Race against the Machine', 'General Physical Task', 'Dynamic Physical Task',\n",
    "\n",
    "                    'Running a Different Race', 'Equipment Maintenance',  'Vehicle and Equipment Operation', 'Machine Control', 'Hazardous Task'                 \n",
    "                    ]]"
   ]
  },
  {
   "cell_type": "code",
   "execution_count": 16,
   "metadata": {
    "collapsed": true
   },
   "outputs": [],
   "source": [
    "panel_df.to_csv('../static/data/csv/Panel 7 '+year+'.csv')"
   ]
  },
  {
   "cell_type": "code",
   "execution_count": 17,
   "metadata": {
    "collapsed": false
   },
   "outputs": [
    {
     "data": {
      "text/html": [
       "<div>\n",
       "<style>\n",
       "    .dataframe thead tr:only-child th {\n",
       "        text-align: right;\n",
       "    }\n",
       "\n",
       "    .dataframe thead th {\n",
       "        text-align: left;\n",
       "    }\n",
       "\n",
       "    .dataframe tbody tr th {\n",
       "        vertical-align: top;\n",
       "    }\n",
       "</style>\n",
       "<table border=\"1\" class=\"dataframe\">\n",
       "  <thead>\n",
       "    <tr style=\"text-align: right;\">\n",
       "      <th></th>\n",
       "      <th>State</th>\n",
       "      <th>Metropolitan Areas</th>\n",
       "      <th>Race with the Machine</th>\n",
       "      <th>Interpersonal Task</th>\n",
       "      <th>Group Task</th>\n",
       "      <th>Conflict Resolution</th>\n",
       "      <th>Management and Supervision</th>\n",
       "      <th>Race ahead of the Machine</th>\n",
       "      <th>Communication</th>\n",
       "      <th>Systems Analysis</th>\n",
       "      <th>...</th>\n",
       "      <th>Routine Problem Solving</th>\n",
       "      <th>Information Processing</th>\n",
       "      <th>Race against the Machine</th>\n",
       "      <th>General Physical Task</th>\n",
       "      <th>Dynamic Physical Task</th>\n",
       "      <th>Running a Different Race</th>\n",
       "      <th>Equipment Maintenance</th>\n",
       "      <th>Vehicle and Equipment Operation</th>\n",
       "      <th>Machine Control</th>\n",
       "      <th>Hazardous Task</th>\n",
       "    </tr>\n",
       "  </thead>\n",
       "  <tbody>\n",
       "    <tr>\n",
       "      <th>0</th>\n",
       "      <td>AK</td>\n",
       "      <td>Anchorage</td>\n",
       "      <td>0.032225</td>\n",
       "      <td>0.009353</td>\n",
       "      <td>0.004390</td>\n",
       "      <td>0.010633</td>\n",
       "      <td>0.007848</td>\n",
       "      <td>0.014809</td>\n",
       "      <td>0.009318</td>\n",
       "      <td>0.002672</td>\n",
       "      <td>...</td>\n",
       "      <td>-0.001996</td>\n",
       "      <td>0.000021</td>\n",
       "      <td>-0.003891</td>\n",
       "      <td>-0.000034</td>\n",
       "      <td>-0.003857</td>\n",
       "      <td>-0.002381</td>\n",
       "      <td>-0.000010</td>\n",
       "      <td>-0.002088</td>\n",
       "      <td>0.000203</td>\n",
       "      <td>-0.000487</td>\n",
       "    </tr>\n",
       "    <tr>\n",
       "      <th>1</th>\n",
       "      <td>AK</td>\n",
       "      <td>Fairbanks</td>\n",
       "      <td>0.040430</td>\n",
       "      <td>0.012156</td>\n",
       "      <td>0.005150</td>\n",
       "      <td>0.013932</td>\n",
       "      <td>0.009192</td>\n",
       "      <td>0.006345</td>\n",
       "      <td>0.004290</td>\n",
       "      <td>0.001638</td>\n",
       "      <td>...</td>\n",
       "      <td>-0.006650</td>\n",
       "      <td>-0.005946</td>\n",
       "      <td>-0.000273</td>\n",
       "      <td>0.002051</td>\n",
       "      <td>-0.002323</td>\n",
       "      <td>0.003748</td>\n",
       "      <td>0.000840</td>\n",
       "      <td>0.001416</td>\n",
       "      <td>0.001284</td>\n",
       "      <td>0.000208</td>\n",
       "    </tr>\n",
       "    <tr>\n",
       "      <th>2</th>\n",
       "      <td>AL</td>\n",
       "      <td>Anniston-Oxford-Jacksonville</td>\n",
       "      <td>0.026705</td>\n",
       "      <td>0.011090</td>\n",
       "      <td>0.004220</td>\n",
       "      <td>0.006750</td>\n",
       "      <td>0.004645</td>\n",
       "      <td>0.007530</td>\n",
       "      <td>0.008429</td>\n",
       "      <td>-0.000430</td>\n",
       "      <td>...</td>\n",
       "      <td>-0.001654</td>\n",
       "      <td>-0.001171</td>\n",
       "      <td>-0.002337</td>\n",
       "      <td>-0.000350</td>\n",
       "      <td>-0.001986</td>\n",
       "      <td>0.003872</td>\n",
       "      <td>0.002822</td>\n",
       "      <td>-0.002623</td>\n",
       "      <td>0.002065</td>\n",
       "      <td>0.001609</td>\n",
       "    </tr>\n",
       "    <tr>\n",
       "      <th>3</th>\n",
       "      <td>AL</td>\n",
       "      <td>Auburn-Opelika</td>\n",
       "      <td>0.021585</td>\n",
       "      <td>0.007557</td>\n",
       "      <td>0.003383</td>\n",
       "      <td>0.006584</td>\n",
       "      <td>0.004061</td>\n",
       "      <td>0.004802</td>\n",
       "      <td>0.005307</td>\n",
       "      <td>0.000639</td>\n",
       "      <td>...</td>\n",
       "      <td>-0.008701</td>\n",
       "      <td>-0.006107</td>\n",
       "      <td>-0.007164</td>\n",
       "      <td>-0.002469</td>\n",
       "      <td>-0.004695</td>\n",
       "      <td>0.006236</td>\n",
       "      <td>0.000146</td>\n",
       "      <td>0.006644</td>\n",
       "      <td>0.000558</td>\n",
       "      <td>-0.001111</td>\n",
       "    </tr>\n",
       "    <tr>\n",
       "      <th>4</th>\n",
       "      <td>AL</td>\n",
       "      <td>Birmingham-Hoover</td>\n",
       "      <td>0.027478</td>\n",
       "      <td>0.009235</td>\n",
       "      <td>0.004311</td>\n",
       "      <td>0.008390</td>\n",
       "      <td>0.005543</td>\n",
       "      <td>0.012979</td>\n",
       "      <td>0.009391</td>\n",
       "      <td>0.001655</td>\n",
       "      <td>...</td>\n",
       "      <td>-0.005413</td>\n",
       "      <td>0.000247</td>\n",
       "      <td>-0.004878</td>\n",
       "      <td>-0.002115</td>\n",
       "      <td>-0.002764</td>\n",
       "      <td>-0.000089</td>\n",
       "      <td>0.000836</td>\n",
       "      <td>-0.001101</td>\n",
       "      <td>0.000754</td>\n",
       "      <td>-0.000577</td>\n",
       "    </tr>\n",
       "  </tbody>\n",
       "</table>\n",
       "<p>5 rows × 22 columns</p>\n",
       "</div>"
      ],
      "text/plain": [
       "  State            Metropolitan Areas  Race with the Machine  \\\n",
       "0    AK                     Anchorage               0.032225   \n",
       "1    AK                     Fairbanks               0.040430   \n",
       "2    AL  Anniston-Oxford-Jacksonville               0.026705   \n",
       "3    AL                Auburn-Opelika               0.021585   \n",
       "4    AL             Birmingham-Hoover               0.027478   \n",
       "\n",
       "   Interpersonal Task  Group Task  Conflict Resolution  \\\n",
       "0            0.009353    0.004390             0.010633   \n",
       "1            0.012156    0.005150             0.013932   \n",
       "2            0.011090    0.004220             0.006750   \n",
       "3            0.007557    0.003383             0.006584   \n",
       "4            0.009235    0.004311             0.008390   \n",
       "\n",
       "   Management and Supervision  Race ahead of the Machine  Communication  \\\n",
       "0                    0.007848                   0.014809       0.009318   \n",
       "1                    0.009192                   0.006345       0.004290   \n",
       "2                    0.004645                   0.007530       0.008429   \n",
       "3                    0.004061                   0.004802       0.005307   \n",
       "4                    0.005543                   0.012979       0.009391   \n",
       "\n",
       "   Systems Analysis       ...        Routine Problem Solving  \\\n",
       "0          0.002672       ...                      -0.001996   \n",
       "1          0.001638       ...                      -0.006650   \n",
       "2         -0.000430       ...                      -0.001654   \n",
       "3          0.000639       ...                      -0.008701   \n",
       "4          0.001655       ...                      -0.005413   \n",
       "\n",
       "   Information Processing  Race against the Machine  General Physical Task  \\\n",
       "0                0.000021                 -0.003891              -0.000034   \n",
       "1               -0.005946                 -0.000273               0.002051   \n",
       "2               -0.001171                 -0.002337              -0.000350   \n",
       "3               -0.006107                 -0.007164              -0.002469   \n",
       "4                0.000247                 -0.004878              -0.002115   \n",
       "\n",
       "   Dynamic Physical Task  Running a Different Race  Equipment Maintenance  \\\n",
       "0              -0.003857                 -0.002381              -0.000010   \n",
       "1              -0.002323                  0.003748               0.000840   \n",
       "2              -0.001986                  0.003872               0.002822   \n",
       "3              -0.004695                  0.006236               0.000146   \n",
       "4              -0.002764                 -0.000089               0.000836   \n",
       "\n",
       "   Vehicle and Equipment Operation  Machine Control  Hazardous Task  \n",
       "0                        -0.002088         0.000203       -0.000487  \n",
       "1                         0.001416         0.001284        0.000208  \n",
       "2                        -0.002623         0.002065        0.001609  \n",
       "3                         0.006644         0.000558       -0.001111  \n",
       "4                        -0.001101         0.000754       -0.000577  \n",
       "\n",
       "[5 rows x 22 columns]"
      ]
     },
     "execution_count": 17,
     "metadata": {},
     "output_type": "execute_result"
    }
   ],
   "source": [
    "panel_df.head()"
   ]
  },
  {
   "cell_type": "code",
   "execution_count": 18,
   "metadata": {
    "collapsed": true
   },
   "outputs": [],
   "source": [
    "color_code = ['FFFFFF', 'FFFFFF',\n",
    "              'bed7ed', 'ddebf6','ddebf6','ddebf6','ddebf6',\n",
    "              'fee59d', 'fff1ce', 'fff1ce', 'fff1ce',\n",
    "              'dbdbdb', 'ededed', 'ededed',\n",
    "              'f7cbaf', 'fbe4d7', 'fbe4d7',\n",
    "              'c7dfb6', 'e2efdb', 'e2efdb', 'e2efdb', 'e2efdb'\n",
    "              \n",
    "              #'C6E0B4','E2EFDA','E2EFDA','E2EFDA','E2EFDA','E2EFDA',\n",
    "              #'DBDBDB','EDEDED'\n",
    "             ]"
   ]
  },
  {
   "cell_type": "code",
   "execution_count": 19,
   "metadata": {
    "collapsed": true
   },
   "outputs": [],
   "source": [
    "table = table_generation(panel_df, color_code)"
   ]
  },
  {
   "cell_type": "code",
   "execution_count": 20,
   "metadata": {
    "collapsed": true,
    "scrolled": false
   },
   "outputs": [],
   "source": [
    "f = open( '../visualize/templates/visualize/panel7_'+year+'.html', 'w')\n",
    "f.write(table)\n",
    "f.close()"
   ]
  },
  {
   "cell_type": "code",
   "execution_count": null,
   "metadata": {
    "collapsed": true
   },
   "outputs": [],
   "source": []
  }
 ],
 "metadata": {
  "anaconda-cloud": {},
  "kernelspec": {
   "display_name": "py35",
   "language": "python",
   "name": "py35"
  },
  "language_info": {
   "codemirror_mode": {
    "name": "ipython",
    "version": 2
   },
   "file_extension": ".py",
   "mimetype": "text/x-python",
   "name": "python",
   "nbconvert_exporter": "python",
   "pygments_lexer": "ipython2",
   "version": "2.7.12"
  }
 },
 "nbformat": 4,
 "nbformat_minor": 1
}
