{
 "cells": [
  {
   "cell_type": "code",
   "execution_count": 1,
   "metadata": {
    "collapsed": true
   },
   "outputs": [],
   "source": [
    "# -*- coding: utf-8 -*-\n",
    "import pandas as pd"
   ]
  },
  {
   "cell_type": "code",
   "execution_count": 2,
   "metadata": {
    "collapsed": true
   },
   "outputs": [],
   "source": [
    "def table_generation(df, color_code):\n",
    "    lines = []\n",
    "    lines.append('<table class=\"table table-bordered sortable\" id=\"dataTable\" width=\"100%\" cellspacing=\"0\">\\n')\n",
    "    lines.append('<thead>')\n",
    "    lines.append('  <tr>\\n')\n",
    "\n",
    "    lines.append('    <th></th>\\n')\n",
    "    for i, (col, color) in enumerate(zip(df.columns, color_code)):\n",
    "        if i==0:\n",
    "            lines.append('    <th class=\"sorttable_sorted\" bgcolor=\"{}\">{} <span id=\"sorttable_sortfwdind\">&nbsp;▾</span> </th>\\n'.format(color, col))\n",
    "        else:\n",
    "            lines.append('    <th bgcolor=\"{}\">{}</th>\\n'.format(color, col))\n",
    "\n",
    "    lines.append('  </tr>\\n')\n",
    "    lines.append('</thead>\\n')\n",
    "\n",
    "    lines.append('<tfoot>\\n')\n",
    "    lines.append('  <tr>\\n')\n",
    "    \n",
    "    lines.append('    <th></th>\\n')\n",
    "    for i, (col, color) in enumerate(zip(df.columns, color_code)):\n",
    "        lines.append('    <th bgcolor=\"{}\">{}</th>\\n'.format(color, col))\n",
    "    \n",
    "    lines.append('  </tr>\\n')\n",
    "    lines.append('</tfoot>\\n')\n",
    "\n",
    "    lines.append('<tbody>\\n')\n",
    "\n",
    "    for i, r in df.iterrows():\n",
    "        lines.append('  <tr>\\n')\n",
    "        lines.append('    <td ></td>\\n')\n",
    "        for (col, color) in zip(df.columns, color_code):    \n",
    "            if isinstance(r[col],float):\n",
    "                lines.append('    <td bgcolor=\"{}\">{}</td>\\n'.format(color, (\"%.2f\" % (r[col]*100))))\n",
    "            else:\n",
    "                lines.append('    <td bgcolor=\"{}\">{}</td>\\n'.format(color, r[col]))\n",
    "        lines.append('  </tr>\\n')    \n",
    "    lines.append('</tbody>\\n')\n",
    "    lines.append('</table>')\n",
    "    \n",
    "    return ''.join(lines)\n"
   ]
  },
  {
   "cell_type": "code",
   "execution_count": 21,
   "metadata": {
    "collapsed": true
   },
   "outputs": [],
   "source": [
    "year = '2007~2019'\n",
    "csvpath = '../static/data/csv/Panel 7 '+year+'.csv'\n",
    "panel_df = pd.read_csv(csvpath, index_col=0)"
   ]
  },
  {
   "cell_type": "code",
   "execution_count": 22,
   "metadata": {
    "collapsed": false
   },
   "outputs": [
    {
     "data": {
      "text/plain": [
       "Index([u'State', u'Metropolitan Areas', u'Automation Index',\n",
       "       u'Race with the Machine', u'Communication', u'Interpersonal Task',\n",
       "       u'Group Task', u'Race against the Machine', u'Routine Problem Solving',\n",
       "       u'Information Processing', u'Machine Control', u'General Physical Task',\n",
       "       u'Race ahead of the Machine', u'Systems Analysis',\n",
       "       u'Creative and Critical Thinking', u'Running a Different Race',\n",
       "       u'Dynamic Physical Task', u'Equipment Maintenance',\n",
       "       u'Vehicle and Equipment Operation', u'Hazardous Task',\n",
       "       u'Conflict Resolution', u'Management and Supervision'],\n",
       "      dtype='object')"
      ]
     },
     "execution_count": 22,
     "metadata": {},
     "output_type": "execute_result"
    }
   ],
   "source": [
    "panel_df.columns"
   ]
  },
  {
   "cell_type": "code",
   "execution_count": 23,
   "metadata": {
    "collapsed": false
   },
   "outputs": [],
   "source": [
    "panel_df = panel_df[['State', 'Metropolitan Areas', 'Automation Index',\n",
    "                   'Race with the Machine', \n",
    "               'Communication', 'Interpersonal Task','Group Task',\n",
    "               'Race against the Machine',\n",
    "               'Routine Problem Solving', 'Information Processing', \n",
    "               'Machine Control', 'General Physical Task',  \n",
    "               'Race ahead of the Machine', \n",
    "               'Systems Analysis',\n",
    "               'Creative and Critical Thinking', \n",
    "               'Running a Different Race','Dynamic Physical Task', \n",
    "               'Equipment Maintenance',\n",
    "               'Vehicle and Equipment Operation', \n",
    "               'Hazardous Task',\n",
    "               'Conflict Resolution', 'Management and Supervision']]"
   ]
  },
  {
   "cell_type": "code",
   "execution_count": 24,
   "metadata": {
    "collapsed": true
   },
   "outputs": [],
   "source": [
    "panel_df.to_csv('../static/data/csv/Panel 7 '+year+'.csv')"
   ]
  },
  {
   "cell_type": "code",
   "execution_count": 25,
   "metadata": {
    "collapsed": false
   },
   "outputs": [
    {
     "data": {
      "text/html": [
       "<div>\n",
       "<style>\n",
       "    .dataframe thead tr:only-child th {\n",
       "        text-align: right;\n",
       "    }\n",
       "\n",
       "    .dataframe thead th {\n",
       "        text-align: left;\n",
       "    }\n",
       "\n",
       "    .dataframe tbody tr th {\n",
       "        vertical-align: top;\n",
       "    }\n",
       "</style>\n",
       "<table border=\"1\" class=\"dataframe\">\n",
       "  <thead>\n",
       "    <tr style=\"text-align: right;\">\n",
       "      <th></th>\n",
       "      <th>State</th>\n",
       "      <th>Metropolitan Areas</th>\n",
       "      <th>Automation Index</th>\n",
       "      <th>Race with the Machine</th>\n",
       "      <th>Communication</th>\n",
       "      <th>Interpersonal Task</th>\n",
       "      <th>Group Task</th>\n",
       "      <th>Race against the Machine</th>\n",
       "      <th>Routine Problem Solving</th>\n",
       "      <th>Information Processing</th>\n",
       "      <th>...</th>\n",
       "      <th>Race ahead of the Machine</th>\n",
       "      <th>Systems Analysis</th>\n",
       "      <th>Creative and Critical Thinking</th>\n",
       "      <th>Running a Different Race</th>\n",
       "      <th>Dynamic Physical Task</th>\n",
       "      <th>Equipment Maintenance</th>\n",
       "      <th>Vehicle and Equipment Operation</th>\n",
       "      <th>Hazardous Task</th>\n",
       "      <th>Conflict Resolution</th>\n",
       "      <th>Management and Supervision</th>\n",
       "    </tr>\n",
       "  </thead>\n",
       "  <tbody>\n",
       "    <tr>\n",
       "      <th>0</th>\n",
       "      <td>AK</td>\n",
       "      <td>Anchorage</td>\n",
       "      <td>0.004739</td>\n",
       "      <td>0.014127</td>\n",
       "      <td>0.004896</td>\n",
       "      <td>0.006057</td>\n",
       "      <td>0.003173</td>\n",
       "      <td>-0.011110</td>\n",
       "      <td>-0.005217</td>\n",
       "      <td>-0.003040</td>\n",
       "      <td>...</td>\n",
       "      <td>0.001703</td>\n",
       "      <td>0.000622</td>\n",
       "      <td>0.001081</td>\n",
       "      <td>0.000019</td>\n",
       "      <td>-0.004942</td>\n",
       "      <td>-0.000831</td>\n",
       "      <td>-0.004839</td>\n",
       "      <td>-0.001960</td>\n",
       "      <td>0.007773</td>\n",
       "      <td>0.004819</td>\n",
       "    </tr>\n",
       "    <tr>\n",
       "      <th>1</th>\n",
       "      <td>AK</td>\n",
       "      <td>Fairbanks</td>\n",
       "      <td>0.009691</td>\n",
       "      <td>0.016873</td>\n",
       "      <td>0.002421</td>\n",
       "      <td>0.010136</td>\n",
       "      <td>0.004316</td>\n",
       "      <td>-0.015934</td>\n",
       "      <td>-0.007773</td>\n",
       "      <td>-0.005238</td>\n",
       "      <td>...</td>\n",
       "      <td>0.005045</td>\n",
       "      <td>0.002327</td>\n",
       "      <td>0.002719</td>\n",
       "      <td>0.003706</td>\n",
       "      <td>-0.006023</td>\n",
       "      <td>-0.001202</td>\n",
       "      <td>-0.006811</td>\n",
       "      <td>-0.002934</td>\n",
       "      <td>0.012338</td>\n",
       "      <td>0.008339</td>\n",
       "    </tr>\n",
       "    <tr>\n",
       "      <th>2</th>\n",
       "      <td>AL</td>\n",
       "      <td>Anniston-Oxford-Jacksonville</td>\n",
       "      <td>0.008265</td>\n",
       "      <td>0.019630</td>\n",
       "      <td>0.005531</td>\n",
       "      <td>0.010036</td>\n",
       "      <td>0.004063</td>\n",
       "      <td>-0.011381</td>\n",
       "      <td>-0.004288</td>\n",
       "      <td>-0.002264</td>\n",
       "      <td>...</td>\n",
       "      <td>-0.000954</td>\n",
       "      <td>-0.000835</td>\n",
       "      <td>-0.000120</td>\n",
       "      <td>0.000970</td>\n",
       "      <td>-0.003449</td>\n",
       "      <td>-0.000611</td>\n",
       "      <td>-0.004763</td>\n",
       "      <td>-0.001381</td>\n",
       "      <td>0.006968</td>\n",
       "      <td>0.004206</td>\n",
       "    </tr>\n",
       "    <tr>\n",
       "      <th>3</th>\n",
       "      <td>AL</td>\n",
       "      <td>Auburn-Opelika</td>\n",
       "      <td>-0.007856</td>\n",
       "      <td>0.015693</td>\n",
       "      <td>0.004706</td>\n",
       "      <td>0.007637</td>\n",
       "      <td>0.003349</td>\n",
       "      <td>-0.022393</td>\n",
       "      <td>-0.009877</td>\n",
       "      <td>-0.006394</td>\n",
       "      <td>...</td>\n",
       "      <td>-0.001324</td>\n",
       "      <td>-0.000002</td>\n",
       "      <td>-0.001322</td>\n",
       "      <td>0.000169</td>\n",
       "      <td>-0.007175</td>\n",
       "      <td>-0.001591</td>\n",
       "      <td>0.000686</td>\n",
       "      <td>-0.001925</td>\n",
       "      <td>0.006919</td>\n",
       "      <td>0.003255</td>\n",
       "    </tr>\n",
       "    <tr>\n",
       "      <th>4</th>\n",
       "      <td>AL</td>\n",
       "      <td>Birmingham-Hoover</td>\n",
       "      <td>0.005388</td>\n",
       "      <td>0.016169</td>\n",
       "      <td>0.005397</td>\n",
       "      <td>0.007163</td>\n",
       "      <td>0.003609</td>\n",
       "      <td>-0.013895</td>\n",
       "      <td>-0.007832</td>\n",
       "      <td>-0.002147</td>\n",
       "      <td>...</td>\n",
       "      <td>0.001072</td>\n",
       "      <td>0.000255</td>\n",
       "      <td>0.000817</td>\n",
       "      <td>0.002043</td>\n",
       "      <td>-0.003733</td>\n",
       "      <td>-0.000132</td>\n",
       "      <td>-0.003208</td>\n",
       "      <td>-0.001508</td>\n",
       "      <td>0.006526</td>\n",
       "      <td>0.004097</td>\n",
       "    </tr>\n",
       "  </tbody>\n",
       "</table>\n",
       "<p>5 rows × 22 columns</p>\n",
       "</div>"
      ],
      "text/plain": [
       "  State            Metropolitan Areas  Automation Index  \\\n",
       "0    AK                     Anchorage          0.004739   \n",
       "1    AK                     Fairbanks          0.009691   \n",
       "2    AL  Anniston-Oxford-Jacksonville          0.008265   \n",
       "3    AL                Auburn-Opelika         -0.007856   \n",
       "4    AL             Birmingham-Hoover          0.005388   \n",
       "\n",
       "   Race with the Machine  Communication  Interpersonal Task  Group Task  \\\n",
       "0               0.014127       0.004896            0.006057    0.003173   \n",
       "1               0.016873       0.002421            0.010136    0.004316   \n",
       "2               0.019630       0.005531            0.010036    0.004063   \n",
       "3               0.015693       0.004706            0.007637    0.003349   \n",
       "4               0.016169       0.005397            0.007163    0.003609   \n",
       "\n",
       "   Race against the Machine  Routine Problem Solving  Information Processing  \\\n",
       "0                 -0.011110                -0.005217               -0.003040   \n",
       "1                 -0.015934                -0.007773               -0.005238   \n",
       "2                 -0.011381                -0.004288               -0.002264   \n",
       "3                 -0.022393                -0.009877               -0.006394   \n",
       "4                 -0.013895                -0.007832               -0.002147   \n",
       "\n",
       "              ...              Race ahead of the Machine  Systems Analysis  \\\n",
       "0             ...                               0.001703          0.000622   \n",
       "1             ...                               0.005045          0.002327   \n",
       "2             ...                              -0.000954         -0.000835   \n",
       "3             ...                              -0.001324         -0.000002   \n",
       "4             ...                               0.001072          0.000255   \n",
       "\n",
       "   Creative and Critical Thinking  Running a Different Race  \\\n",
       "0                        0.001081                  0.000019   \n",
       "1                        0.002719                  0.003706   \n",
       "2                       -0.000120                  0.000970   \n",
       "3                       -0.001322                  0.000169   \n",
       "4                        0.000817                  0.002043   \n",
       "\n",
       "   Dynamic Physical Task  Equipment Maintenance  \\\n",
       "0              -0.004942              -0.000831   \n",
       "1              -0.006023              -0.001202   \n",
       "2              -0.003449              -0.000611   \n",
       "3              -0.007175              -0.001591   \n",
       "4              -0.003733              -0.000132   \n",
       "\n",
       "   Vehicle and Equipment Operation  Hazardous Task  Conflict Resolution  \\\n",
       "0                        -0.004839       -0.001960             0.007773   \n",
       "1                        -0.006811       -0.002934             0.012338   \n",
       "2                        -0.004763       -0.001381             0.006968   \n",
       "3                         0.000686       -0.001925             0.006919   \n",
       "4                        -0.003208       -0.001508             0.006526   \n",
       "\n",
       "   Management and Supervision  \n",
       "0                    0.004819  \n",
       "1                    0.008339  \n",
       "2                    0.004206  \n",
       "3                    0.003255  \n",
       "4                    0.004097  \n",
       "\n",
       "[5 rows x 22 columns]"
      ]
     },
     "execution_count": 25,
     "metadata": {},
     "output_type": "execute_result"
    }
   ],
   "source": [
    "panel_df.head()"
   ]
  },
  {
   "cell_type": "code",
   "execution_count": 26,
   "metadata": {
    "collapsed": true
   },
   "outputs": [],
   "source": [
    "color_code = ['FFFFFF', 'FFFFFF',\n",
    "              'FFFFCC',\n",
    "              'BDD7EE','DDEBF7','DDEBF7','DDEBF7',\n",
    "              'F8CBAD','FCE4D6','FCE4D6','FCE4D6','FCE4D6',\n",
    "              'FFE699','FFF2CC','FFF2CC',\n",
    "              'C6E0B4','E2EFDA','E2EFDA','E2EFDA','E2EFDA','E2EFDA','E2EFDA',\n",
    "              #'C6E0B4','E2EFDA','E2EFDA','E2EFDA','E2EFDA','E2EFDA',\n",
    "              #'DBDBDB','EDEDED'\n",
    "             ]"
   ]
  },
  {
   "cell_type": "code",
   "execution_count": 27,
   "metadata": {
    "collapsed": true
   },
   "outputs": [],
   "source": [
    "table = table_generation(panel_df, color_code)"
   ]
  },
  {
   "cell_type": "code",
   "execution_count": 28,
   "metadata": {
    "collapsed": true,
    "scrolled": false
   },
   "outputs": [],
   "source": [
    "f = open( '../visualize/templates/visualize/panel7_'+year+'.html', 'w')\n",
    "f.write(table)\n",
    "f.close()"
   ]
  },
  {
   "cell_type": "code",
   "execution_count": null,
   "metadata": {
    "collapsed": true
   },
   "outputs": [],
   "source": []
  }
 ],
 "metadata": {
  "anaconda-cloud": {},
  "kernelspec": {
   "display_name": "py35",
   "language": "python",
   "name": "py35"
  },
  "language_info": {
   "codemirror_mode": {
    "name": "ipython",
    "version": 2
   },
   "file_extension": ".py",
   "mimetype": "text/x-python",
   "name": "python",
   "nbconvert_exporter": "python",
   "pygments_lexer": "ipython2",
   "version": "2.7.12"
  }
 },
 "nbformat": 4,
 "nbformat_minor": 1
}
