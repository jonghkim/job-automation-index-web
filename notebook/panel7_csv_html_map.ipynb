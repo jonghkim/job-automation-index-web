{
 "cells": [
  {
   "cell_type": "code",
   "execution_count": 1,
   "metadata": {
    "collapsed": true
   },
   "outputs": [],
   "source": [
    "# -*- coding: utf-8 -*-\n",
    "import pandas as pd"
   ]
  },
  {
   "cell_type": "code",
   "execution_count": 2,
   "metadata": {
    "collapsed": true
   },
   "outputs": [],
   "source": [
    "def table_generation(df, color_code):\n",
    "    lines = []\n",
    "    lines.append('<table class=\"table table-bordered sortable\" id=\"dataTable\" width=\"100%\" cellspacing=\"0\">\\n')\n",
    "    lines.append('<thead>')\n",
    "    lines.append('  <tr>\\n')\n",
    "\n",
    "    lines.append('    <th></th>\\n')\n",
    "    for i, (col, color) in enumerate(zip(df.columns, color_code)):\n",
    "        if i==0:\n",
    "            lines.append('    <th class=\"sorttable_sorted\" bgcolor=\"{}\">{} <span id=\"sorttable_sortfwdind\">&nbsp;▾</span> </th>\\n'.format(color, col))\n",
    "        else:\n",
    "            lines.append('    <th bgcolor=\"{}\">{}</th>\\n'.format(color, col))\n",
    "\n",
    "    lines.append('  </tr>\\n')\n",
    "    lines.append('</thead>\\n')\n",
    "\n",
    "    lines.append('<tfoot>\\n')\n",
    "    lines.append('  <tr>\\n')\n",
    "    \n",
    "    lines.append('    <th></th>\\n')\n",
    "    for i, (col, color) in enumerate(zip(df.columns, color_code)):\n",
    "        lines.append('    <th bgcolor=\"{}\">{}</th>\\n'.format(color, col))\n",
    "    \n",
    "    lines.append('  </tr>\\n')\n",
    "    lines.append('</tfoot>\\n')\n",
    "\n",
    "    lines.append('<tbody>\\n')\n",
    "\n",
    "    for i, r in df.iterrows():\n",
    "        lines.append('  <tr>\\n')\n",
    "        lines.append('    <td ></td>\\n')\n",
    "        for (col, color) in zip(df.columns, color_code):    \n",
    "            if isinstance(r[col],float):\n",
    "                lines.append('    <td bgcolor=\"{}\">{}</td>\\n'.format(color, (\"%.2f\" % (r[col]*100))))\n",
    "            else:\n",
    "                lines.append('    <td bgcolor=\"{}\">{}</td>\\n'.format(color, r[col]))\n",
    "        lines.append('  </tr>\\n')    \n",
    "    lines.append('</tbody>\\n')\n",
    "    lines.append('</table>')\n",
    "    \n",
    "    return ''.join(lines)\n"
   ]
  },
  {
   "cell_type": "code",
   "execution_count": 19,
   "metadata": {
    "collapsed": true
   },
   "outputs": [],
   "source": [
    "year = '2008~2019'\n",
    "csvpath = '../static/data/csv/Panel 7 '+year+'.csv'\n",
    "panel_df = pd.read_csv(csvpath, encoding='utf-8', index_col=0)"
   ]
  },
  {
   "cell_type": "code",
   "execution_count": 20,
   "metadata": {
    "collapsed": false
   },
   "outputs": [
    {
     "data": {
      "text/plain": [
       "Index([u'State', u'Metropolitan Areas', u'Automation Index',\n",
       "       u'Race with the Machine', u'Interpersonal Task',\n",
       "       u'Administrative Task and Communication', u'Race against the Machine',\n",
       "       u'Information Processing', u'Routine Problem Solving',\n",
       "       u'Vehicle and Equipment Operation', u'Machine Control',\n",
       "       u'Equipment Maintenance', u'General Physical Task',\n",
       "       u'Race ahead of the Machine', u'Systems Thinking',\n",
       "       u'Creative and Critical Thinking', u'Running a Different Race',\n",
       "       u'Dynamic Physical Task', u'Hazardous and Group Task',\n",
       "       u'Conflict Resolution', u'Management and Supervision'],\n",
       "      dtype='object')"
      ]
     },
     "execution_count": 20,
     "metadata": {},
     "output_type": "execute_result"
    }
   ],
   "source": [
    "panel_df.columns"
   ]
  },
  {
   "cell_type": "code",
   "execution_count": 21,
   "metadata": {
    "collapsed": true
   },
   "outputs": [],
   "source": [
    "panel_df = panel_df[['State', 'Metropolitan Areas', 'Automation Index',\n",
    "                   'Race with the Machine', 'Interpersonal Task', 'Administrative Task and Communication',\n",
    "                   'Race against the Machine', 'Information Processing', 'Routine Problem Solving',\n",
    "                   'Vehicle and Equipment Operation', 'Machine Control',\n",
    "                   'Equipment Maintenance', 'General Physical Task',\n",
    "                   'Race ahead of the Machine', 'Systems Thinking',\n",
    "                   'Creative and Critical Thinking', 'Running a Different Race',\n",
    "                   'Dynamic Physical Task', 'Hazardous and Group Task',\n",
    "                   'Conflict Resolution', 'Management and Supervision']]"
   ]
  },
  {
   "cell_type": "code",
   "execution_count": 22,
   "metadata": {
    "collapsed": true
   },
   "outputs": [],
   "source": [
    "panel_df.to_csv('../static/data/csv/Panel 7 '+year+'.csv')"
   ]
  },
  {
   "cell_type": "code",
   "execution_count": 23,
   "metadata": {
    "collapsed": false
   },
   "outputs": [
    {
     "data": {
      "text/html": [
       "<div>\n",
       "<style>\n",
       "    .dataframe thead tr:only-child th {\n",
       "        text-align: right;\n",
       "    }\n",
       "\n",
       "    .dataframe thead th {\n",
       "        text-align: left;\n",
       "    }\n",
       "\n",
       "    .dataframe tbody tr th {\n",
       "        vertical-align: top;\n",
       "    }\n",
       "</style>\n",
       "<table border=\"1\" class=\"dataframe\">\n",
       "  <thead>\n",
       "    <tr style=\"text-align: right;\">\n",
       "      <th></th>\n",
       "      <th>State</th>\n",
       "      <th>Metropolitan Areas</th>\n",
       "      <th>Automation Index</th>\n",
       "      <th>Race with the Machine</th>\n",
       "      <th>Interpersonal Task</th>\n",
       "      <th>Administrative Task and Communication</th>\n",
       "      <th>Race against the Machine</th>\n",
       "      <th>Information Processing</th>\n",
       "      <th>Routine Problem Solving</th>\n",
       "      <th>Vehicle and Equipment Operation</th>\n",
       "      <th>...</th>\n",
       "      <th>Equipment Maintenance</th>\n",
       "      <th>General Physical Task</th>\n",
       "      <th>Race ahead of the Machine</th>\n",
       "      <th>Systems Thinking</th>\n",
       "      <th>Creative and Critical Thinking</th>\n",
       "      <th>Running a Different Race</th>\n",
       "      <th>Dynamic Physical Task</th>\n",
       "      <th>Hazardous and Group Task</th>\n",
       "      <th>Conflict Resolution</th>\n",
       "      <th>Management and Supervision</th>\n",
       "    </tr>\n",
       "  </thead>\n",
       "  <tbody>\n",
       "    <tr>\n",
       "      <th>0</th>\n",
       "      <td>AK</td>\n",
       "      <td>Anchorage</td>\n",
       "      <td>0.005598</td>\n",
       "      <td>0.016626</td>\n",
       "      <td>0.009535</td>\n",
       "      <td>0.007091</td>\n",
       "      <td>-0.022709</td>\n",
       "      <td>-0.003484</td>\n",
       "      <td>-0.001817</td>\n",
       "      <td>-0.006009</td>\n",
       "      <td>...</td>\n",
       "      <td>-0.005170</td>\n",
       "      <td>-0.004231</td>\n",
       "      <td>0.001775</td>\n",
       "      <td>0.000972</td>\n",
       "      <td>0.000803</td>\n",
       "      <td>0.009906</td>\n",
       "      <td>-0.002210</td>\n",
       "      <td>0.000324</td>\n",
       "      <td>0.007784</td>\n",
       "      <td>0.004008</td>\n",
       "    </tr>\n",
       "    <tr>\n",
       "      <th>1</th>\n",
       "      <td>AK</td>\n",
       "      <td>Fairbanks</td>\n",
       "      <td>0.003093</td>\n",
       "      <td>0.017916</td>\n",
       "      <td>0.011190</td>\n",
       "      <td>0.006726</td>\n",
       "      <td>-0.030380</td>\n",
       "      <td>-0.007032</td>\n",
       "      <td>-0.004386</td>\n",
       "      <td>-0.005869</td>\n",
       "      <td>...</td>\n",
       "      <td>-0.005793</td>\n",
       "      <td>-0.005757</td>\n",
       "      <td>0.004048</td>\n",
       "      <td>0.001734</td>\n",
       "      <td>0.002314</td>\n",
       "      <td>0.011509</td>\n",
       "      <td>-0.003892</td>\n",
       "      <td>0.000264</td>\n",
       "      <td>0.009584</td>\n",
       "      <td>0.005553</td>\n",
       "    </tr>\n",
       "    <tr>\n",
       "      <th>2</th>\n",
       "      <td>AL</td>\n",
       "      <td>Anniston-Oxford-Jacksonville</td>\n",
       "      <td>0.007239</td>\n",
       "      <td>0.019467</td>\n",
       "      <td>0.013890</td>\n",
       "      <td>0.005577</td>\n",
       "      <td>-0.027100</td>\n",
       "      <td>-0.004743</td>\n",
       "      <td>-0.001926</td>\n",
       "      <td>-0.006504</td>\n",
       "      <td>...</td>\n",
       "      <td>-0.007079</td>\n",
       "      <td>-0.007310</td>\n",
       "      <td>-0.001292</td>\n",
       "      <td>-0.000560</td>\n",
       "      <td>-0.000732</td>\n",
       "      <td>0.016164</td>\n",
       "      <td>0.001344</td>\n",
       "      <td>0.003147</td>\n",
       "      <td>0.005710</td>\n",
       "      <td>0.005964</td>\n",
       "    </tr>\n",
       "    <tr>\n",
       "      <th>3</th>\n",
       "      <td>AL</td>\n",
       "      <td>Auburn-Opelika</td>\n",
       "      <td>0.005695</td>\n",
       "      <td>0.013115</td>\n",
       "      <td>0.010055</td>\n",
       "      <td>0.003060</td>\n",
       "      <td>-0.019577</td>\n",
       "      <td>-0.008329</td>\n",
       "      <td>-0.004333</td>\n",
       "      <td>0.002495</td>\n",
       "      <td>...</td>\n",
       "      <td>-0.004994</td>\n",
       "      <td>-0.006819</td>\n",
       "      <td>-0.000754</td>\n",
       "      <td>0.000558</td>\n",
       "      <td>-0.001312</td>\n",
       "      <td>0.012910</td>\n",
       "      <td>-0.001497</td>\n",
       "      <td>0.003676</td>\n",
       "      <td>0.006097</td>\n",
       "      <td>0.004633</td>\n",
       "    </tr>\n",
       "    <tr>\n",
       "      <th>4</th>\n",
       "      <td>AL</td>\n",
       "      <td>Birmingham-Hoover</td>\n",
       "      <td>0.005625</td>\n",
       "      <td>0.017672</td>\n",
       "      <td>0.010206</td>\n",
       "      <td>0.007466</td>\n",
       "      <td>-0.021439</td>\n",
       "      <td>-0.003343</td>\n",
       "      <td>-0.003422</td>\n",
       "      <td>-0.003114</td>\n",
       "      <td>...</td>\n",
       "      <td>-0.004186</td>\n",
       "      <td>-0.006747</td>\n",
       "      <td>0.000530</td>\n",
       "      <td>0.000590</td>\n",
       "      <td>-0.000060</td>\n",
       "      <td>0.008863</td>\n",
       "      <td>-0.002103</td>\n",
       "      <td>0.001477</td>\n",
       "      <td>0.005367</td>\n",
       "      <td>0.004122</td>\n",
       "    </tr>\n",
       "  </tbody>\n",
       "</table>\n",
       "<p>5 rows × 21 columns</p>\n",
       "</div>"
      ],
      "text/plain": [
       "  State            Metropolitan Areas  Automation Index  \\\n",
       "0    AK                     Anchorage          0.005598   \n",
       "1    AK                     Fairbanks          0.003093   \n",
       "2    AL  Anniston-Oxford-Jacksonville          0.007239   \n",
       "3    AL                Auburn-Opelika          0.005695   \n",
       "4    AL             Birmingham-Hoover          0.005625   \n",
       "\n",
       "   Race with the Machine  Interpersonal Task  \\\n",
       "0               0.016626            0.009535   \n",
       "1               0.017916            0.011190   \n",
       "2               0.019467            0.013890   \n",
       "3               0.013115            0.010055   \n",
       "4               0.017672            0.010206   \n",
       "\n",
       "   Administrative Task and Communication  Race against the Machine  \\\n",
       "0                               0.007091                 -0.022709   \n",
       "1                               0.006726                 -0.030380   \n",
       "2                               0.005577                 -0.027100   \n",
       "3                               0.003060                 -0.019577   \n",
       "4                               0.007466                 -0.021439   \n",
       "\n",
       "   Information Processing  Routine Problem Solving  \\\n",
       "0               -0.003484                -0.001817   \n",
       "1               -0.007032                -0.004386   \n",
       "2               -0.004743                -0.001926   \n",
       "3               -0.008329                -0.004333   \n",
       "4               -0.003343                -0.003422   \n",
       "\n",
       "   Vehicle and Equipment Operation             ...              \\\n",
       "0                        -0.006009             ...               \n",
       "1                        -0.005869             ...               \n",
       "2                        -0.006504             ...               \n",
       "3                         0.002495             ...               \n",
       "4                        -0.003114             ...               \n",
       "\n",
       "   Equipment Maintenance  General Physical Task  Race ahead of the Machine  \\\n",
       "0              -0.005170              -0.004231                   0.001775   \n",
       "1              -0.005793              -0.005757                   0.004048   \n",
       "2              -0.007079              -0.007310                  -0.001292   \n",
       "3              -0.004994              -0.006819                  -0.000754   \n",
       "4              -0.004186              -0.006747                   0.000530   \n",
       "\n",
       "   Systems Thinking  Creative and Critical Thinking  Running a Different Race  \\\n",
       "0          0.000972                        0.000803                  0.009906   \n",
       "1          0.001734                        0.002314                  0.011509   \n",
       "2         -0.000560                       -0.000732                  0.016164   \n",
       "3          0.000558                       -0.001312                  0.012910   \n",
       "4          0.000590                       -0.000060                  0.008863   \n",
       "\n",
       "   Dynamic Physical Task  Hazardous and Group Task  Conflict Resolution  \\\n",
       "0              -0.002210                  0.000324             0.007784   \n",
       "1              -0.003892                  0.000264             0.009584   \n",
       "2               0.001344                  0.003147             0.005710   \n",
       "3              -0.001497                  0.003676             0.006097   \n",
       "4              -0.002103                  0.001477             0.005367   \n",
       "\n",
       "   Management and Supervision  \n",
       "0                    0.004008  \n",
       "1                    0.005553  \n",
       "2                    0.005964  \n",
       "3                    0.004633  \n",
       "4                    0.004122  \n",
       "\n",
       "[5 rows x 21 columns]"
      ]
     },
     "execution_count": 23,
     "metadata": {},
     "output_type": "execute_result"
    }
   ],
   "source": [
    "panel_df.head()"
   ]
  },
  {
   "cell_type": "code",
   "execution_count": 24,
   "metadata": {
    "collapsed": true
   },
   "outputs": [],
   "source": [
    "#color_code = ['FFFFFF', 'FFFFFF','FFFFCC','BDD7EE','DDEBF7','DDEBF7','DDEBF7','DDEBF7','F8CBAD','FCE4D6','FCE4D6',\n",
    "#             'FCE4D6','FCE4D6','FCE4D6','FFE699','FFF2CC','C6E0B4','E2EFDA','E2EFDA','E2EFDA','E2EFDA','E2EFDA',\n",
    "#             'DBDBDB','EDEDED']\n",
    "\n",
    "color_code = ['FFFFFF', 'FFFFFF',\n",
    "              'FFFFCC',\n",
    "              'BDD7EE','DDEBF7','DDEBF7',\n",
    "              'F8CBAD','FCE4D6','FCE4D6','FCE4D6','FCE4D6','FCE4D6','FCE4D6',\n",
    "              'FFE699','FFF2CC','FFF2CC',\n",
    "              'C6E0B4','E2EFDA','E2EFDA','E2EFDA','E2EFDA',\n",
    "              #'C6E0B4','E2EFDA','E2EFDA','E2EFDA','E2EFDA','E2EFDA',\n",
    "              #'DBDBDB','EDEDED'\n",
    "             ]"
   ]
  },
  {
   "cell_type": "code",
   "execution_count": 25,
   "metadata": {
    "collapsed": true
   },
   "outputs": [],
   "source": [
    "table = table_generation(panel_df, color_code)"
   ]
  },
  {
   "cell_type": "code",
   "execution_count": 26,
   "metadata": {
    "collapsed": true,
    "scrolled": false
   },
   "outputs": [],
   "source": [
    "f = open( '../visualize/templates/visualize/panel7_'+year+'.html', 'w')\n",
    "f.write(table)\n",
    "f.close()"
   ]
  },
  {
   "cell_type": "code",
   "execution_count": null,
   "metadata": {
    "collapsed": true
   },
   "outputs": [],
   "source": []
  }
 ],
 "metadata": {
  "anaconda-cloud": {},
  "kernelspec": {
   "display_name": "py35",
   "language": "python",
   "name": "py35"
  },
  "language_info": {
   "codemirror_mode": {
    "name": "ipython",
    "version": 2
   },
   "file_extension": ".py",
   "mimetype": "text/x-python",
   "name": "python",
   "nbconvert_exporter": "python",
   "pygments_lexer": "ipython2",
   "version": "2.7.12"
  }
 },
 "nbformat": 4,
 "nbformat_minor": 1
}
