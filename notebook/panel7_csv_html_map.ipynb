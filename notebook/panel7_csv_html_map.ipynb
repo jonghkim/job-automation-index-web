{
 "cells": [
  {
   "cell_type": "code",
   "execution_count": 1,
   "metadata": {
    "collapsed": true
   },
   "outputs": [],
   "source": [
    "# -*- coding: utf-8 -*-\n",
    "import pandas as pd"
   ]
  },
  {
   "cell_type": "code",
   "execution_count": 2,
   "metadata": {
    "collapsed": true
   },
   "outputs": [],
   "source": [
    "def table_generation(df, color_code):\n",
    "    lines = []\n",
    "    lines.append('<table class=\"table table-bordered sortable\" id=\"dataTable\" width=\"100%\" cellspacing=\"0\">\\n')\n",
    "    lines.append('<thead>')\n",
    "    lines.append('  <tr>\\n')\n",
    "\n",
    "    lines.append('    <th></th>\\n')\n",
    "    for i, (col, color) in enumerate(zip(df.columns, color_code)):\n",
    "        if i==0:\n",
    "            lines.append('    <th class=\"sorttable_sorted\" bgcolor=\"{}\">{} <span id=\"sorttable_sortfwdind\">&nbsp;▾</span> </th>\\n'.format(color, col))\n",
    "        else:\n",
    "            lines.append('    <th bgcolor=\"{}\">{}</th>\\n'.format(color, col))\n",
    "\n",
    "    lines.append('  </tr>\\n')\n",
    "    lines.append('</thead>\\n')\n",
    "\n",
    "    lines.append('<tfoot>\\n')\n",
    "    lines.append('  <tr>\\n')\n",
    "    \n",
    "    lines.append('    <th></th>\\n')\n",
    "    for i, (col, color) in enumerate(zip(df.columns, color_code)):\n",
    "        lines.append('    <th bgcolor=\"{}\">{}</th>\\n'.format(color, col))\n",
    "    \n",
    "    lines.append('  </tr>\\n')\n",
    "    lines.append('</tfoot>\\n')\n",
    "\n",
    "    lines.append('<tbody>\\n')\n",
    "\n",
    "    for i, r in df.iterrows():\n",
    "        lines.append('  <tr>\\n')\n",
    "        lines.append('    <td ></td>\\n')\n",
    "        for (col, color) in zip(df.columns, color_code):    \n",
    "            if isinstance(r[col],float):\n",
    "                lines.append('    <td bgcolor=\"{}\">{}</td>\\n'.format(color, (\"%.2f\" % (r[col]*100))))\n",
    "            else:\n",
    "                lines.append('    <td bgcolor=\"{}\">{}</td>\\n'.format(color, r[col]))\n",
    "        lines.append('  </tr>\\n')    \n",
    "    lines.append('</tbody>\\n')\n",
    "    lines.append('</table>')\n",
    "    \n",
    "    return ''.join(lines)\n"
   ]
  },
  {
   "cell_type": "code",
   "execution_count": 19,
   "metadata": {
    "collapsed": true
   },
   "outputs": [],
   "source": [
    "year = '2019'\n",
    "csvpath = '../static/data/csv/Panel 7 '+year+'.csv'\n",
    "panel_df = pd.read_csv(csvpath, index_col=0)"
   ]
  },
  {
   "cell_type": "code",
   "execution_count": 20,
   "metadata": {
    "collapsed": false
   },
   "outputs": [
    {
     "data": {
      "text/plain": [
       "Index([u'State', u'Metropolitan Areas', u'Race with the Machine',\n",
       "       u'Communication', u'Interpersonal Task', u'Group Task',\n",
       "       u'Race against the Machine', u'Routine Problem Solving',\n",
       "       u'Information Processing', u'General Physical Task', u'Machine Control',\n",
       "       u'Hazardous Task', u'Race ahead of the Machine', u'Systems Analysis',\n",
       "       u'Creative and Critical Thinking', u'Running a Different Race',\n",
       "       u'Dynamic Physical Task', u'Equipment Maintenance',\n",
       "       u'Vehicle and Equipment Operation', u'Conflict Resolution',\n",
       "       u'Management and Supervision'],\n",
       "      dtype='object')"
      ]
     },
     "execution_count": 20,
     "metadata": {},
     "output_type": "execute_result"
    }
   ],
   "source": [
    "panel_df.columns"
   ]
  },
  {
   "cell_type": "code",
   "execution_count": 21,
   "metadata": {
    "collapsed": false
   },
   "outputs": [],
   "source": [
    "panel_df = panel_df[['State', 'Metropolitan Areas', #'Automation Index',\n",
    "                   'Race with the Machine', \n",
    "               'Communication', 'Interpersonal Task','Group Task',\n",
    "               'Race against the Machine',\n",
    "               'Routine Problem Solving', 'Information Processing', \n",
    "               'General Physical Task', 'Machine Control', 'Hazardous Task',\n",
    "               'Race ahead of the Machine', \n",
    "               'Systems Analysis',\n",
    "               'Creative and Critical Thinking', \n",
    "               'Running a Different Race','Dynamic Physical Task', \n",
    "               'Equipment Maintenance',\n",
    "               'Vehicle and Equipment Operation', \n",
    "               'Conflict Resolution', 'Management and Supervision']]"
   ]
  },
  {
   "cell_type": "code",
   "execution_count": 22,
   "metadata": {
    "collapsed": true
   },
   "outputs": [],
   "source": [
    "panel_df.to_csv('../static/data/csv/Panel 7 '+year+'.csv')"
   ]
  },
  {
   "cell_type": "code",
   "execution_count": 23,
   "metadata": {
    "collapsed": false
   },
   "outputs": [
    {
     "data": {
      "text/html": [
       "<div>\n",
       "<style>\n",
       "    .dataframe thead tr:only-child th {\n",
       "        text-align: right;\n",
       "    }\n",
       "\n",
       "    .dataframe thead th {\n",
       "        text-align: left;\n",
       "    }\n",
       "\n",
       "    .dataframe tbody tr th {\n",
       "        vertical-align: top;\n",
       "    }\n",
       "</style>\n",
       "<table border=\"1\" class=\"dataframe\">\n",
       "  <thead>\n",
       "    <tr style=\"text-align: right;\">\n",
       "      <th></th>\n",
       "      <th>State</th>\n",
       "      <th>Metropolitan Areas</th>\n",
       "      <th>Race with the Machine</th>\n",
       "      <th>Communication</th>\n",
       "      <th>Interpersonal Task</th>\n",
       "      <th>Group Task</th>\n",
       "      <th>Race against the Machine</th>\n",
       "      <th>Routine Problem Solving</th>\n",
       "      <th>Information Processing</th>\n",
       "      <th>General Physical Task</th>\n",
       "      <th>...</th>\n",
       "      <th>Hazardous Task</th>\n",
       "      <th>Race ahead of the Machine</th>\n",
       "      <th>Systems Analysis</th>\n",
       "      <th>Creative and Critical Thinking</th>\n",
       "      <th>Running a Different Race</th>\n",
       "      <th>Dynamic Physical Task</th>\n",
       "      <th>Equipment Maintenance</th>\n",
       "      <th>Vehicle and Equipment Operation</th>\n",
       "      <th>Conflict Resolution</th>\n",
       "      <th>Management and Supervision</th>\n",
       "    </tr>\n",
       "  </thead>\n",
       "  <tbody>\n",
       "    <tr>\n",
       "      <th>0</th>\n",
       "      <td>AK</td>\n",
       "      <td>Anchorage</td>\n",
       "      <td>0.123602</td>\n",
       "      <td>0.060685</td>\n",
       "      <td>0.049172</td>\n",
       "      <td>0.013745</td>\n",
       "      <td>0.147590</td>\n",
       "      <td>0.041909</td>\n",
       "      <td>0.032804</td>\n",
       "      <td>0.036135</td>\n",
       "      <td>...</td>\n",
       "      <td>0.019304</td>\n",
       "      <td>0.032602</td>\n",
       "      <td>0.015369</td>\n",
       "      <td>0.017232</td>\n",
       "      <td>0.149678</td>\n",
       "      <td>0.038839</td>\n",
       "      <td>0.014125</td>\n",
       "      <td>0.030902</td>\n",
       "      <td>0.041316</td>\n",
       "      <td>0.024497</td>\n",
       "    </tr>\n",
       "    <tr>\n",
       "      <th>1</th>\n",
       "      <td>AK</td>\n",
       "      <td>Fairbanks</td>\n",
       "      <td>0.124254</td>\n",
       "      <td>0.057529</td>\n",
       "      <td>0.052085</td>\n",
       "      <td>0.014640</td>\n",
       "      <td>0.148128</td>\n",
       "      <td>0.040250</td>\n",
       "      <td>0.030662</td>\n",
       "      <td>0.038998</td>\n",
       "      <td>...</td>\n",
       "      <td>0.020323</td>\n",
       "      <td>0.032832</td>\n",
       "      <td>0.015311</td>\n",
       "      <td>0.017521</td>\n",
       "      <td>0.155329</td>\n",
       "      <td>0.042761</td>\n",
       "      <td>0.014265</td>\n",
       "      <td>0.030087</td>\n",
       "      <td>0.041826</td>\n",
       "      <td>0.026390</td>\n",
       "    </tr>\n",
       "    <tr>\n",
       "      <th>2</th>\n",
       "      <td>AL</td>\n",
       "      <td>Anniston-Oxford-Jacksonville</td>\n",
       "      <td>0.110747</td>\n",
       "      <td>0.048097</td>\n",
       "      <td>0.048878</td>\n",
       "      <td>0.013772</td>\n",
       "      <td>0.168377</td>\n",
       "      <td>0.041208</td>\n",
       "      <td>0.026925</td>\n",
       "      <td>0.045408</td>\n",
       "      <td>...</td>\n",
       "      <td>0.031236</td>\n",
       "      <td>0.024806</td>\n",
       "      <td>0.010641</td>\n",
       "      <td>0.014165</td>\n",
       "      <td>0.164087</td>\n",
       "      <td>0.045337</td>\n",
       "      <td>0.020486</td>\n",
       "      <td>0.037115</td>\n",
       "      <td>0.039002</td>\n",
       "      <td>0.022146</td>\n",
       "    </tr>\n",
       "    <tr>\n",
       "      <th>3</th>\n",
       "      <td>AL</td>\n",
       "      <td>Auburn-Opelika</td>\n",
       "      <td>0.119128</td>\n",
       "      <td>0.052588</td>\n",
       "      <td>0.052198</td>\n",
       "      <td>0.014341</td>\n",
       "      <td>0.159465</td>\n",
       "      <td>0.039056</td>\n",
       "      <td>0.026262</td>\n",
       "      <td>0.045134</td>\n",
       "      <td>...</td>\n",
       "      <td>0.027670</td>\n",
       "      <td>0.027259</td>\n",
       "      <td>0.011586</td>\n",
       "      <td>0.015672</td>\n",
       "      <td>0.164357</td>\n",
       "      <td>0.048548</td>\n",
       "      <td>0.016413</td>\n",
       "      <td>0.035490</td>\n",
       "      <td>0.041114</td>\n",
       "      <td>0.022792</td>\n",
       "    </tr>\n",
       "    <tr>\n",
       "      <th>4</th>\n",
       "      <td>AL</td>\n",
       "      <td>Birmingham-Hoover</td>\n",
       "      <td>0.123312</td>\n",
       "      <td>0.060207</td>\n",
       "      <td>0.049406</td>\n",
       "      <td>0.013699</td>\n",
       "      <td>0.156414</td>\n",
       "      <td>0.042507</td>\n",
       "      <td>0.033745</td>\n",
       "      <td>0.036481</td>\n",
       "      <td>...</td>\n",
       "      <td>0.023623</td>\n",
       "      <td>0.032506</td>\n",
       "      <td>0.015064</td>\n",
       "      <td>0.017442</td>\n",
       "      <td>0.152488</td>\n",
       "      <td>0.038449</td>\n",
       "      <td>0.016524</td>\n",
       "      <td>0.034243</td>\n",
       "      <td>0.039361</td>\n",
       "      <td>0.023910</td>\n",
       "    </tr>\n",
       "  </tbody>\n",
       "</table>\n",
       "<p>5 rows × 21 columns</p>\n",
       "</div>"
      ],
      "text/plain": [
       "  State            Metropolitan Areas  Race with the Machine  Communication  \\\n",
       "0    AK                     Anchorage               0.123602       0.060685   \n",
       "1    AK                     Fairbanks               0.124254       0.057529   \n",
       "2    AL  Anniston-Oxford-Jacksonville               0.110747       0.048097   \n",
       "3    AL                Auburn-Opelika               0.119128       0.052588   \n",
       "4    AL             Birmingham-Hoover               0.123312       0.060207   \n",
       "\n",
       "   Interpersonal Task  Group Task  Race against the Machine  \\\n",
       "0            0.049172    0.013745                  0.147590   \n",
       "1            0.052085    0.014640                  0.148128   \n",
       "2            0.048878    0.013772                  0.168377   \n",
       "3            0.052198    0.014341                  0.159465   \n",
       "4            0.049406    0.013699                  0.156414   \n",
       "\n",
       "   Routine Problem Solving  Information Processing  General Physical Task  \\\n",
       "0                 0.041909                0.032804               0.036135   \n",
       "1                 0.040250                0.030662               0.038998   \n",
       "2                 0.041208                0.026925               0.045408   \n",
       "3                 0.039056                0.026262               0.045134   \n",
       "4                 0.042507                0.033745               0.036481   \n",
       "\n",
       "              ...              Hazardous Task  Race ahead of the Machine  \\\n",
       "0             ...                    0.019304                   0.032602   \n",
       "1             ...                    0.020323                   0.032832   \n",
       "2             ...                    0.031236                   0.024806   \n",
       "3             ...                    0.027670                   0.027259   \n",
       "4             ...                    0.023623                   0.032506   \n",
       "\n",
       "   Systems Analysis  Creative and Critical Thinking  Running a Different Race  \\\n",
       "0          0.015369                        0.017232                  0.149678   \n",
       "1          0.015311                        0.017521                  0.155329   \n",
       "2          0.010641                        0.014165                  0.164087   \n",
       "3          0.011586                        0.015672                  0.164357   \n",
       "4          0.015064                        0.017442                  0.152488   \n",
       "\n",
       "   Dynamic Physical Task  Equipment Maintenance  \\\n",
       "0               0.038839               0.014125   \n",
       "1               0.042761               0.014265   \n",
       "2               0.045337               0.020486   \n",
       "3               0.048548               0.016413   \n",
       "4               0.038449               0.016524   \n",
       "\n",
       "   Vehicle and Equipment Operation  Conflict Resolution  \\\n",
       "0                         0.030902             0.041316   \n",
       "1                         0.030087             0.041826   \n",
       "2                         0.037115             0.039002   \n",
       "3                         0.035490             0.041114   \n",
       "4                         0.034243             0.039361   \n",
       "\n",
       "   Management and Supervision  \n",
       "0                    0.024497  \n",
       "1                    0.026390  \n",
       "2                    0.022146  \n",
       "3                    0.022792  \n",
       "4                    0.023910  \n",
       "\n",
       "[5 rows x 21 columns]"
      ]
     },
     "execution_count": 23,
     "metadata": {},
     "output_type": "execute_result"
    }
   ],
   "source": [
    "panel_df.head()"
   ]
  },
  {
   "cell_type": "code",
   "execution_count": 24,
   "metadata": {
    "collapsed": true
   },
   "outputs": [],
   "source": [
    "color_code = ['FFFFFF', 'FFFFFF',\n",
    "              'BDD7EE','DDEBF7','DDEBF7','DDEBF7',\n",
    "              'F8CBAD','FCE4D6','FCE4D6','FCE4D6','FCE4D6',\n",
    "              'FFE699','FFF2CC','FFF2CC',\n",
    "              'C6E0B4','E2EFDA','E2EFDA','E2EFDA','E2EFDA','E2EFDA','E2EFDA',\n",
    "              #'C6E0B4','E2EFDA','E2EFDA','E2EFDA','E2EFDA','E2EFDA',\n",
    "              #'DBDBDB','EDEDED'\n",
    "             ]"
   ]
  },
  {
   "cell_type": "code",
   "execution_count": 25,
   "metadata": {
    "collapsed": true
   },
   "outputs": [],
   "source": [
    "table = table_generation(panel_df, color_code)"
   ]
  },
  {
   "cell_type": "code",
   "execution_count": 26,
   "metadata": {
    "collapsed": true,
    "scrolled": false
   },
   "outputs": [],
   "source": [
    "f = open( '../visualize/templates/visualize/panel7_'+year+'.html', 'w')\n",
    "f.write(table)\n",
    "f.close()"
   ]
  },
  {
   "cell_type": "code",
   "execution_count": null,
   "metadata": {
    "collapsed": true
   },
   "outputs": [],
   "source": []
  }
 ],
 "metadata": {
  "anaconda-cloud": {},
  "kernelspec": {
   "display_name": "py35",
   "language": "python",
   "name": "py35"
  },
  "language_info": {
   "codemirror_mode": {
    "name": "ipython",
    "version": 2
   },
   "file_extension": ".py",
   "mimetype": "text/x-python",
   "name": "python",
   "nbconvert_exporter": "python",
   "pygments_lexer": "ipython2",
   "version": "2.7.12"
  }
 },
 "nbformat": 4,
 "nbformat_minor": 1
}
