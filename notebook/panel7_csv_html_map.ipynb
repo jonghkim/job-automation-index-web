{
 "cells": [
  {
   "cell_type": "code",
   "execution_count": 1,
   "metadata": {
    "collapsed": true
   },
   "outputs": [],
   "source": [
    "# -*- coding: utf-8 -*-\n",
    "import pandas as pd"
   ]
  },
  {
   "cell_type": "code",
   "execution_count": 2,
   "metadata": {
    "collapsed": true
   },
   "outputs": [],
   "source": [
    "def table_generation(df):\n",
    "    lines = []\n",
    "    lines.append('<table class=\"table table-bordered sortable\" id=\"dataTable\" width=\"100%\" cellspacing=\"0\">\\n')\n",
    "    lines.append('<thead>')\n",
    "    lines.append('  <tr>\\n')\n",
    "\n",
    "    for i, col in enumerate(df.columns):\n",
    "        if i==0:\n",
    "            lines.append('    <th class=\"sorttable_sorted\">{} <span id=\"sorttable_sortfwdind\">&nbsp;▾</span> </th>\\n'.format(col))\n",
    "        else:\n",
    "            lines.append('    <th>{}</th>\\n'.format(col))\n",
    "\n",
    "    lines.append('  </tr>\\n')\n",
    "    lines.append('</thead>\\n')\n",
    "\n",
    "    lines.append('<tfoot>\\n')\n",
    "    lines.append('  <tr>\\n')\n",
    "    for col in df.columns:\n",
    "        lines.append('    <th>{}</th>\\n'.format(col))\n",
    "    \n",
    "    lines.append('  </tr>\\n')\n",
    "    lines.append('</tfoot>\\n')\n",
    "\n",
    "    lines.append('<tbody>\\n')\n",
    "\n",
    "    for i, r in df.iterrows():\n",
    "        lines.append('  <tr>\\n')\n",
    "        for col in df.columns:    \n",
    "            lines.append('    <td>{}</td>\\n'.format((\"%.2f\" % r[col]) if isinstance(r[col],float) else r[col]))\n",
    "        lines.append('  </tr>\\n')    \n",
    "    lines.append('</tbody>\\n')\n",
    "    lines.append('</table>')\n",
    "    \n",
    "    return ''.join(lines)\n"
   ]
  },
  {
   "cell_type": "code",
   "execution_count": 17,
   "metadata": {
    "collapsed": true
   },
   "outputs": [],
   "source": [
    "year = '2008'\n",
    "csvpath = '../static/data/csv/Panel 7 '+year+'.csv'\n",
    "panel_df = pd.read_csv(csvpath, encoding='utf-8', index_col=0)"
   ]
  },
  {
   "cell_type": "code",
   "execution_count": 18,
   "metadata": {
    "collapsed": false
   },
   "outputs": [
    {
     "data": {
      "text/plain": [
       "Index([u'State', u'Metropolitan Areas', u'Automation Index',\n",
       "       u'Race with the Machine', u'Communication', u'Managerial Task',\n",
       "       u'Clerical Task', u'Equipment Maintenance', u'Race against the Machine',\n",
       "       u'Information Processing', u'Perceptual Task', u'Equipment Operation',\n",
       "       u'Operation Monitoring', u'Physical Task', u'Race ahead of the Machine',\n",
       "       u'Strategic Thinking', u'Running a Different Race',\n",
       "       u'Dynamic Physical Task', u'Hazardous Task', u'Group Task',\n",
       "       u'Conflict Resolution', u'Creative Thinking',\n",
       "       u'Changing the Course of a Race', u'Routine Task'],\n",
       "      dtype='object')"
      ]
     },
     "execution_count": 18,
     "metadata": {},
     "output_type": "execute_result"
    }
   ],
   "source": [
    "panel_df.columns"
   ]
  },
  {
   "cell_type": "code",
   "execution_count": 19,
   "metadata": {
    "collapsed": true
   },
   "outputs": [],
   "source": [
    "panel_df = panel_df[['State', 'Metropolitan Areas',\"Automation Index\",\"Race with the Machine\",\"Communication\",\"Managerial Task\",\"Clerical Task\",\n",
    "                                                \"Equipment Maintenance\",\"Race against the Machine\",\"Information Processing\",\"Perceptual Task\",\n",
    "                                                \"Equipment Operation\",\"Operation Monitoring\",\"Physical Task\",\"Race ahead of the Machine\",\n",
    "                                                \"Strategic Thinking\",\"Running a Different Race\",\"Dynamic Physical Task\",\"Hazardous Task\",\n",
    "                                                \"Group Task\",\"Conflict Resolution\",\"Creative Thinking\",\"Changing the Course of a Race\",\"Routine Task\"]]"
   ]
  },
  {
   "cell_type": "code",
   "execution_count": 20,
   "metadata": {
    "collapsed": true
   },
   "outputs": [],
   "source": [
    "panel_df.to_csv('../static/data/csv/Panel 7 '+year+'.csv')"
   ]
  },
  {
   "cell_type": "code",
   "execution_count": 21,
   "metadata": {
    "collapsed": false
   },
   "outputs": [
    {
     "data": {
      "text/html": [
       "<div>\n",
       "<style>\n",
       "    .dataframe thead tr:only-child th {\n",
       "        text-align: right;\n",
       "    }\n",
       "\n",
       "    .dataframe thead th {\n",
       "        text-align: left;\n",
       "    }\n",
       "\n",
       "    .dataframe tbody tr th {\n",
       "        vertical-align: top;\n",
       "    }\n",
       "</style>\n",
       "<table border=\"1\" class=\"dataframe\">\n",
       "  <thead>\n",
       "    <tr style=\"text-align: right;\">\n",
       "      <th></th>\n",
       "      <th>State</th>\n",
       "      <th>Metropolitan Areas</th>\n",
       "      <th>Automation Index</th>\n",
       "      <th>Race with the Machine</th>\n",
       "      <th>Communication</th>\n",
       "      <th>Managerial Task</th>\n",
       "      <th>Clerical Task</th>\n",
       "      <th>Equipment Maintenance</th>\n",
       "      <th>Race against the Machine</th>\n",
       "      <th>Information Processing</th>\n",
       "      <th>...</th>\n",
       "      <th>Race ahead of the Machine</th>\n",
       "      <th>Strategic Thinking</th>\n",
       "      <th>Running a Different Race</th>\n",
       "      <th>Dynamic Physical Task</th>\n",
       "      <th>Hazardous Task</th>\n",
       "      <th>Group Task</th>\n",
       "      <th>Conflict Resolution</th>\n",
       "      <th>Creative Thinking</th>\n",
       "      <th>Changing the Course of a Race</th>\n",
       "      <th>Routine Task</th>\n",
       "    </tr>\n",
       "  </thead>\n",
       "  <tbody>\n",
       "    <tr>\n",
       "      <th>0</th>\n",
       "      <td>AK</td>\n",
       "      <td>Anchorage</td>\n",
       "      <td>48.741746</td>\n",
       "      <td>14.684050</td>\n",
       "      <td>4.797894</td>\n",
       "      <td>2.356081</td>\n",
       "      <td>5.657605</td>\n",
       "      <td>1.872470</td>\n",
       "      <td>17.453008</td>\n",
       "      <td>3.878498</td>\n",
       "      <td>...</td>\n",
       "      <td>2.273592</td>\n",
       "      <td>2.273592</td>\n",
       "      <td>11.394602</td>\n",
       "      <td>4.563006</td>\n",
       "      <td>1.714825</td>\n",
       "      <td>1.473803</td>\n",
       "      <td>2.948120</td>\n",
       "      <td>0.694848</td>\n",
       "      <td>2.936493</td>\n",
       "      <td>2.936493</td>\n",
       "    </tr>\n",
       "    <tr>\n",
       "      <th>1</th>\n",
       "      <td>AK</td>\n",
       "      <td>Fairbanks</td>\n",
       "      <td>48.922053</td>\n",
       "      <td>14.117661</td>\n",
       "      <td>4.495997</td>\n",
       "      <td>2.164507</td>\n",
       "      <td>5.542383</td>\n",
       "      <td>1.914774</td>\n",
       "      <td>17.945491</td>\n",
       "      <td>3.950802</td>\n",
       "      <td>...</td>\n",
       "      <td>2.049912</td>\n",
       "      <td>2.049912</td>\n",
       "      <td>11.695493</td>\n",
       "      <td>5.106398</td>\n",
       "      <td>1.817640</td>\n",
       "      <td>1.496530</td>\n",
       "      <td>2.651101</td>\n",
       "      <td>0.623824</td>\n",
       "      <td>3.113495</td>\n",
       "      <td>3.113495</td>\n",
       "    </tr>\n",
       "    <tr>\n",
       "      <th>2</th>\n",
       "      <td>AL</td>\n",
       "      <td>Anniston-Oxford-Jacksonville</td>\n",
       "      <td>48.605076</td>\n",
       "      <td>13.016132</td>\n",
       "      <td>4.271889</td>\n",
       "      <td>2.157339</td>\n",
       "      <td>4.348668</td>\n",
       "      <td>2.238236</td>\n",
       "      <td>18.985018</td>\n",
       "      <td>3.179652</td>\n",
       "      <td>...</td>\n",
       "      <td>1.801426</td>\n",
       "      <td>1.801426</td>\n",
       "      <td>12.228257</td>\n",
       "      <td>5.060881</td>\n",
       "      <td>2.364164</td>\n",
       "      <td>1.323624</td>\n",
       "      <td>2.908961</td>\n",
       "      <td>0.570627</td>\n",
       "      <td>2.574242</td>\n",
       "      <td>2.574242</td>\n",
       "    </tr>\n",
       "    <tr>\n",
       "      <th>3</th>\n",
       "      <td>AL</td>\n",
       "      <td>Auburn-Opelika</td>\n",
       "      <td>48.613007</td>\n",
       "      <td>13.569019</td>\n",
       "      <td>4.730012</td>\n",
       "      <td>2.307471</td>\n",
       "      <td>4.753875</td>\n",
       "      <td>1.777661</td>\n",
       "      <td>17.869717</td>\n",
       "      <td>3.445690</td>\n",
       "      <td>...</td>\n",
       "      <td>1.901155</td>\n",
       "      <td>1.901155</td>\n",
       "      <td>12.606232</td>\n",
       "      <td>5.500687</td>\n",
       "      <td>1.950729</td>\n",
       "      <td>1.425269</td>\n",
       "      <td>3.077061</td>\n",
       "      <td>0.652486</td>\n",
       "      <td>2.666884</td>\n",
       "      <td>2.666884</td>\n",
       "    </tr>\n",
       "    <tr>\n",
       "      <th>4</th>\n",
       "      <td>AL</td>\n",
       "      <td>Birmingham-Hoover</td>\n",
       "      <td>48.916497</td>\n",
       "      <td>14.448067</td>\n",
       "      <td>4.632111</td>\n",
       "      <td>2.335070</td>\n",
       "      <td>5.524763</td>\n",
       "      <td>1.956122</td>\n",
       "      <td>18.059896</td>\n",
       "      <td>3.844081</td>\n",
       "      <td>...</td>\n",
       "      <td>2.245583</td>\n",
       "      <td>2.245583</td>\n",
       "      <td>11.146307</td>\n",
       "      <td>4.344607</td>\n",
       "      <td>1.891055</td>\n",
       "      <td>1.355820</td>\n",
       "      <td>2.842491</td>\n",
       "      <td>0.712335</td>\n",
       "      <td>3.016643</td>\n",
       "      <td>3.016643</td>\n",
       "    </tr>\n",
       "  </tbody>\n",
       "</table>\n",
       "<p>5 rows × 24 columns</p>\n",
       "</div>"
      ],
      "text/plain": [
       "  State            Metropolitan Areas  Automation Index  \\\n",
       "0    AK                     Anchorage         48.741746   \n",
       "1    AK                     Fairbanks         48.922053   \n",
       "2    AL  Anniston-Oxford-Jacksonville         48.605076   \n",
       "3    AL                Auburn-Opelika         48.613007   \n",
       "4    AL             Birmingham-Hoover         48.916497   \n",
       "\n",
       "   Race with the Machine  Communication  Managerial Task  Clerical Task  \\\n",
       "0              14.684050       4.797894         2.356081       5.657605   \n",
       "1              14.117661       4.495997         2.164507       5.542383   \n",
       "2              13.016132       4.271889         2.157339       4.348668   \n",
       "3              13.569019       4.730012         2.307471       4.753875   \n",
       "4              14.448067       4.632111         2.335070       5.524763   \n",
       "\n",
       "   Equipment Maintenance  Race against the Machine  Information Processing  \\\n",
       "0               1.872470                 17.453008                3.878498   \n",
       "1               1.914774                 17.945491                3.950802   \n",
       "2               2.238236                 18.985018                3.179652   \n",
       "3               1.777661                 17.869717                3.445690   \n",
       "4               1.956122                 18.059896                3.844081   \n",
       "\n",
       "       ...       Race ahead of the Machine  Strategic Thinking  \\\n",
       "0      ...                        2.273592            2.273592   \n",
       "1      ...                        2.049912            2.049912   \n",
       "2      ...                        1.801426            1.801426   \n",
       "3      ...                        1.901155            1.901155   \n",
       "4      ...                        2.245583            2.245583   \n",
       "\n",
       "   Running a Different Race  Dynamic Physical Task  Hazardous Task  \\\n",
       "0                 11.394602               4.563006        1.714825   \n",
       "1                 11.695493               5.106398        1.817640   \n",
       "2                 12.228257               5.060881        2.364164   \n",
       "3                 12.606232               5.500687        1.950729   \n",
       "4                 11.146307               4.344607        1.891055   \n",
       "\n",
       "   Group Task  Conflict Resolution  Creative Thinking  \\\n",
       "0    1.473803             2.948120           0.694848   \n",
       "1    1.496530             2.651101           0.623824   \n",
       "2    1.323624             2.908961           0.570627   \n",
       "3    1.425269             3.077061           0.652486   \n",
       "4    1.355820             2.842491           0.712335   \n",
       "\n",
       "   Changing the Course of a Race  Routine Task  \n",
       "0                       2.936493      2.936493  \n",
       "1                       3.113495      3.113495  \n",
       "2                       2.574242      2.574242  \n",
       "3                       2.666884      2.666884  \n",
       "4                       3.016643      3.016643  \n",
       "\n",
       "[5 rows x 24 columns]"
      ]
     },
     "execution_count": 21,
     "metadata": {},
     "output_type": "execute_result"
    }
   ],
   "source": [
    "panel_df.head()"
   ]
  },
  {
   "cell_type": "code",
   "execution_count": 22,
   "metadata": {
    "collapsed": true
   },
   "outputs": [],
   "source": [
    "table = table_generation(panel_df)"
   ]
  },
  {
   "cell_type": "code",
   "execution_count": 23,
   "metadata": {
    "collapsed": true,
    "scrolled": false
   },
   "outputs": [],
   "source": [
    "f = open( '../visualize/templates/visualize/panel7_'+year+'.html', 'w')\n",
    "f.write(table)\n",
    "f.close()"
   ]
  },
  {
   "cell_type": "code",
   "execution_count": null,
   "metadata": {
    "collapsed": true
   },
   "outputs": [],
   "source": []
  }
 ],
 "metadata": {
  "anaconda-cloud": {},
  "kernelspec": {
   "display_name": "py35",
   "language": "python",
   "name": "py35"
  },
  "language_info": {
   "codemirror_mode": {
    "name": "ipython",
    "version": 2
   },
   "file_extension": ".py",
   "mimetype": "text/x-python",
   "name": "python",
   "nbconvert_exporter": "python",
   "pygments_lexer": "ipython2",
   "version": "2.7.12"
  }
 },
 "nbformat": 4,
 "nbformat_minor": 1
}
