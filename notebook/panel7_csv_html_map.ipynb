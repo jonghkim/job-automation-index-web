{
 "cells": [
  {
   "cell_type": "code",
   "execution_count": 1,
   "metadata": {
    "collapsed": true
   },
   "outputs": [],
   "source": [
    "# -*- coding: utf-8 -*-\n",
    "import pandas as pd"
   ]
  },
  {
   "cell_type": "code",
   "execution_count": 2,
   "metadata": {
    "collapsed": true
   },
   "outputs": [],
   "source": [
    "def table_generation(df, color_code):\n",
    "    lines = []\n",
    "    lines.append('<table class=\"table table-bordered sortable\" id=\"dataTable\" width=\"100%\" cellspacing=\"0\">\\n')\n",
    "    lines.append('<thead>')\n",
    "    lines.append('  <tr>\\n')\n",
    "\n",
    "    lines.append('    <th></th>\\n')\n",
    "    for i, (col, color) in enumerate(zip(df.columns, color_code)):\n",
    "        if i==0:\n",
    "            lines.append('    <th class=\"sorttable_sorted\" bgcolor=\"{}\">{} <span id=\"sorttable_sortfwdind\">&nbsp;▾</span> </th>\\n'.format(color, col))\n",
    "        else:\n",
    "            lines.append('    <th bgcolor=\"{}\">{}</th>\\n'.format(color, col))\n",
    "\n",
    "    lines.append('  </tr>\\n')\n",
    "    lines.append('</thead>\\n')\n",
    "\n",
    "    lines.append('<tfoot>\\n')\n",
    "    lines.append('  <tr>\\n')\n",
    "    \n",
    "    lines.append('    <th></th>\\n')\n",
    "    for i, (col, color) in enumerate(zip(df.columns, color_code)):\n",
    "        lines.append('    <th bgcolor=\"{}\">{}</th>\\n'.format(color, col))\n",
    "    \n",
    "    lines.append('  </tr>\\n')\n",
    "    lines.append('</tfoot>\\n')\n",
    "\n",
    "    lines.append('<tbody>\\n')\n",
    "\n",
    "    for i, r in df.iterrows():\n",
    "        lines.append('  <tr>\\n')\n",
    "        lines.append('    <td ></td>\\n')\n",
    "        for (col, color) in zip(df.columns, color_code):    \n",
    "            if isinstance(r[col],float):\n",
    "                lines.append('    <td bgcolor=\"{}\">{}</td>\\n'.format(color, (\"%.2f\" % (r[col]*100))))\n",
    "            else:\n",
    "                lines.append('    <td bgcolor=\"{}\">{}</td>\\n'.format(color, r[col]))\n",
    "        lines.append('  </tr>\\n')    \n",
    "    lines.append('</tbody>\\n')\n",
    "    lines.append('</table>')\n",
    "    \n",
    "    return ''.join(lines)\n"
   ]
  },
  {
   "cell_type": "code",
   "execution_count": 19,
   "metadata": {
    "collapsed": true
   },
   "outputs": [],
   "source": [
    "year = '2019'\n",
    "csvpath = '../static/data/csv/Panel 7 '+year+'.csv'\n",
    "panel_df = pd.read_csv(csvpath, encoding='utf-8', index_col=0)"
   ]
  },
  {
   "cell_type": "code",
   "execution_count": 20,
   "metadata": {
    "collapsed": false
   },
   "outputs": [
    {
     "data": {
      "text/plain": [
       "Index([u'State', u'Metropolitan Areas', u'Automation Index',\n",
       "       u'Race with the Machine', u'Interpersonal Task',\n",
       "       u'Administrative Task and Communication', u'Race against the Machine',\n",
       "       u'Information Processing', u'Routine Problem Solving',\n",
       "       u'Vehicle and Equipment Operation', u'Machine Control',\n",
       "       u'General Physical Task', u'Race ahead of the Machine',\n",
       "       u'Systems Thinking', u'Creative and Critical Thinking',\n",
       "       u'Running a Different Race', u'Equipment Maintenance',\n",
       "       u'Dynamic Physical Task', u'Hazardous and Group Task',\n",
       "       u'Conflict Resolution', u'Management and Supervision'],\n",
       "      dtype='object')"
      ]
     },
     "execution_count": 20,
     "metadata": {},
     "output_type": "execute_result"
    }
   ],
   "source": [
    "panel_df.columns"
   ]
  },
  {
   "cell_type": "code",
   "execution_count": 21,
   "metadata": {
    "collapsed": true
   },
   "outputs": [],
   "source": [
    "panel_df = panel_df[['State', 'Metropolitan Areas', 'Automation Index',\n",
    "                   'Race with the Machine', 'Interpersonal Task', 'Administrative Task and Communication',\n",
    "                   'Race against the Machine', 'Information Processing', 'Routine Problem Solving',\n",
    "                   'Vehicle and Equipment Operation', 'Machine Control',\n",
    "                   'General Physical Task',\n",
    "                   'Race ahead of the Machine', 'Systems Thinking',\n",
    "                   'Creative and Critical Thinking', 'Running a Different Race',\n",
    "                   'Equipment Maintenance', \n",
    "                   'Dynamic Physical Task', 'Hazardous and Group Task',\n",
    "                   'Conflict Resolution', 'Management and Supervision']]"
   ]
  },
  {
   "cell_type": "code",
   "execution_count": 22,
   "metadata": {
    "collapsed": true
   },
   "outputs": [],
   "source": [
    "panel_df.to_csv('../static/data/csv/Panel 7 '+year+'.csv')"
   ]
  },
  {
   "cell_type": "code",
   "execution_count": 23,
   "metadata": {
    "collapsed": false
   },
   "outputs": [
    {
     "data": {
      "text/html": [
       "<div>\n",
       "<style>\n",
       "    .dataframe thead tr:only-child th {\n",
       "        text-align: right;\n",
       "    }\n",
       "\n",
       "    .dataframe thead th {\n",
       "        text-align: left;\n",
       "    }\n",
       "\n",
       "    .dataframe tbody tr th {\n",
       "        vertical-align: top;\n",
       "    }\n",
       "</style>\n",
       "<table border=\"1\" class=\"dataframe\">\n",
       "  <thead>\n",
       "    <tr style=\"text-align: right;\">\n",
       "      <th></th>\n",
       "      <th>State</th>\n",
       "      <th>Metropolitan Areas</th>\n",
       "      <th>Automation Index</th>\n",
       "      <th>Race with the Machine</th>\n",
       "      <th>Interpersonal Task</th>\n",
       "      <th>Administrative Task and Communication</th>\n",
       "      <th>Race against the Machine</th>\n",
       "      <th>Information Processing</th>\n",
       "      <th>Routine Problem Solving</th>\n",
       "      <th>Vehicle and Equipment Operation</th>\n",
       "      <th>...</th>\n",
       "      <th>General Physical Task</th>\n",
       "      <th>Race ahead of the Machine</th>\n",
       "      <th>Systems Thinking</th>\n",
       "      <th>Creative and Critical Thinking</th>\n",
       "      <th>Running a Different Race</th>\n",
       "      <th>Equipment Maintenance</th>\n",
       "      <th>Dynamic Physical Task</th>\n",
       "      <th>Hazardous and Group Task</th>\n",
       "      <th>Conflict Resolution</th>\n",
       "      <th>Management and Supervision</th>\n",
       "    </tr>\n",
       "  </thead>\n",
       "  <tbody>\n",
       "    <tr>\n",
       "      <th>0</th>\n",
       "      <td>AK</td>\n",
       "      <td>Anchorage</td>\n",
       "      <td>0.492965</td>\n",
       "      <td>0.125823</td>\n",
       "      <td>0.061178</td>\n",
       "      <td>0.064645</td>\n",
       "      <td>0.175512</td>\n",
       "      <td>0.037248</td>\n",
       "      <td>0.043967</td>\n",
       "      <td>0.030773</td>\n",
       "      <td>...</td>\n",
       "      <td>0.038558</td>\n",
       "      <td>0.036106</td>\n",
       "      <td>0.016640</td>\n",
       "      <td>0.019466</td>\n",
       "      <td>0.155523</td>\n",
       "      <td>0.022791</td>\n",
       "      <td>0.039227</td>\n",
       "      <td>0.033606</td>\n",
       "      <td>0.038859</td>\n",
       "      <td>0.021040</td>\n",
       "    </tr>\n",
       "    <tr>\n",
       "      <th>1</th>\n",
       "      <td>AK</td>\n",
       "      <td>Fairbanks</td>\n",
       "      <td>0.492421</td>\n",
       "      <td>0.123899</td>\n",
       "      <td>0.060374</td>\n",
       "      <td>0.063525</td>\n",
       "      <td>0.176126</td>\n",
       "      <td>0.034062</td>\n",
       "      <td>0.042093</td>\n",
       "      <td>0.032479</td>\n",
       "      <td>...</td>\n",
       "      <td>0.041048</td>\n",
       "      <td>0.034192</td>\n",
       "      <td>0.015569</td>\n",
       "      <td>0.018623</td>\n",
       "      <td>0.158204</td>\n",
       "      <td>0.022842</td>\n",
       "      <td>0.042222</td>\n",
       "      <td>0.034992</td>\n",
       "      <td>0.036826</td>\n",
       "      <td>0.021321</td>\n",
       "    </tr>\n",
       "    <tr>\n",
       "      <th>2</th>\n",
       "      <td>AL</td>\n",
       "      <td>Anniston-Oxford-Jacksonville</td>\n",
       "      <td>0.494082</td>\n",
       "      <td>0.110287</td>\n",
       "      <td>0.060162</td>\n",
       "      <td>0.050125</td>\n",
       "      <td>0.184448</td>\n",
       "      <td>0.029112</td>\n",
       "      <td>0.038735</td>\n",
       "      <td>0.035903</td>\n",
       "      <td>...</td>\n",
       "      <td>0.044222</td>\n",
       "      <td>0.027256</td>\n",
       "      <td>0.011611</td>\n",
       "      <td>0.015645</td>\n",
       "      <td>0.172090</td>\n",
       "      <td>0.026596</td>\n",
       "      <td>0.046942</td>\n",
       "      <td>0.041158</td>\n",
       "      <td>0.036426</td>\n",
       "      <td>0.020968</td>\n",
       "    </tr>\n",
       "    <tr>\n",
       "      <th>3</th>\n",
       "      <td>AL</td>\n",
       "      <td>Auburn-Opelika</td>\n",
       "      <td>0.492370</td>\n",
       "      <td>0.112480</td>\n",
       "      <td>0.060687</td>\n",
       "      <td>0.051793</td>\n",
       "      <td>0.180284</td>\n",
       "      <td>0.027780</td>\n",
       "      <td>0.038413</td>\n",
       "      <td>0.035430</td>\n",
       "      <td>...</td>\n",
       "      <td>0.044008</td>\n",
       "      <td>0.029901</td>\n",
       "      <td>0.012436</td>\n",
       "      <td>0.017465</td>\n",
       "      <td>0.169705</td>\n",
       "      <td>0.024292</td>\n",
       "      <td>0.048119</td>\n",
       "      <td>0.038564</td>\n",
       "      <td>0.038166</td>\n",
       "      <td>0.020565</td>\n",
       "    </tr>\n",
       "    <tr>\n",
       "      <th>4</th>\n",
       "      <td>AL</td>\n",
       "      <td>Birmingham-Hoover</td>\n",
       "      <td>0.494751</td>\n",
       "      <td>0.123924</td>\n",
       "      <td>0.060278</td>\n",
       "      <td>0.063647</td>\n",
       "      <td>0.181072</td>\n",
       "      <td>0.036902</td>\n",
       "      <td>0.043579</td>\n",
       "      <td>0.034754</td>\n",
       "      <td>...</td>\n",
       "      <td>0.036434</td>\n",
       "      <td>0.034952</td>\n",
       "      <td>0.016206</td>\n",
       "      <td>0.018746</td>\n",
       "      <td>0.154803</td>\n",
       "      <td>0.026218</td>\n",
       "      <td>0.037384</td>\n",
       "      <td>0.035218</td>\n",
       "      <td>0.035429</td>\n",
       "      <td>0.020554</td>\n",
       "    </tr>\n",
       "  </tbody>\n",
       "</table>\n",
       "<p>5 rows × 21 columns</p>\n",
       "</div>"
      ],
      "text/plain": [
       "  State            Metropolitan Areas  Automation Index  \\\n",
       "0    AK                     Anchorage          0.492965   \n",
       "1    AK                     Fairbanks          0.492421   \n",
       "2    AL  Anniston-Oxford-Jacksonville          0.494082   \n",
       "3    AL                Auburn-Opelika          0.492370   \n",
       "4    AL             Birmingham-Hoover          0.494751   \n",
       "\n",
       "   Race with the Machine  Interpersonal Task  \\\n",
       "0               0.125823            0.061178   \n",
       "1               0.123899            0.060374   \n",
       "2               0.110287            0.060162   \n",
       "3               0.112480            0.060687   \n",
       "4               0.123924            0.060278   \n",
       "\n",
       "   Administrative Task and Communication  Race against the Machine  \\\n",
       "0                               0.064645                  0.175512   \n",
       "1                               0.063525                  0.176126   \n",
       "2                               0.050125                  0.184448   \n",
       "3                               0.051793                  0.180284   \n",
       "4                               0.063647                  0.181072   \n",
       "\n",
       "   Information Processing  Routine Problem Solving  \\\n",
       "0                0.037248                 0.043967   \n",
       "1                0.034062                 0.042093   \n",
       "2                0.029112                 0.038735   \n",
       "3                0.027780                 0.038413   \n",
       "4                0.036902                 0.043579   \n",
       "\n",
       "   Vehicle and Equipment Operation             ...              \\\n",
       "0                         0.030773             ...               \n",
       "1                         0.032479             ...               \n",
       "2                         0.035903             ...               \n",
       "3                         0.035430             ...               \n",
       "4                         0.034754             ...               \n",
       "\n",
       "   General Physical Task  Race ahead of the Machine  Systems Thinking  \\\n",
       "0               0.038558                   0.036106          0.016640   \n",
       "1               0.041048                   0.034192          0.015569   \n",
       "2               0.044222                   0.027256          0.011611   \n",
       "3               0.044008                   0.029901          0.012436   \n",
       "4               0.036434                   0.034952          0.016206   \n",
       "\n",
       "   Creative and Critical Thinking  Running a Different Race  \\\n",
       "0                        0.019466                  0.155523   \n",
       "1                        0.018623                  0.158204   \n",
       "2                        0.015645                  0.172090   \n",
       "3                        0.017465                  0.169705   \n",
       "4                        0.018746                  0.154803   \n",
       "\n",
       "   Equipment Maintenance  Dynamic Physical Task  Hazardous and Group Task  \\\n",
       "0               0.022791               0.039227                  0.033606   \n",
       "1               0.022842               0.042222                  0.034992   \n",
       "2               0.026596               0.046942                  0.041158   \n",
       "3               0.024292               0.048119                  0.038564   \n",
       "4               0.026218               0.037384                  0.035218   \n",
       "\n",
       "   Conflict Resolution  Management and Supervision  \n",
       "0             0.038859                    0.021040  \n",
       "1             0.036826                    0.021321  \n",
       "2             0.036426                    0.020968  \n",
       "3             0.038166                    0.020565  \n",
       "4             0.035429                    0.020554  \n",
       "\n",
       "[5 rows x 21 columns]"
      ]
     },
     "execution_count": 23,
     "metadata": {},
     "output_type": "execute_result"
    }
   ],
   "source": [
    "panel_df.head()"
   ]
  },
  {
   "cell_type": "code",
   "execution_count": 24,
   "metadata": {
    "collapsed": true
   },
   "outputs": [],
   "source": [
    "#color_code = ['FFFFFF', 'FFFFFF','FFFFCC','BDD7EE','DDEBF7','DDEBF7','DDEBF7','DDEBF7','F8CBAD','FCE4D6','FCE4D6',\n",
    "#             'FCE4D6','FCE4D6','FCE4D6','FFE699','FFF2CC','C6E0B4','E2EFDA','E2EFDA','E2EFDA','E2EFDA','E2EFDA',\n",
    "#             'DBDBDB','EDEDED']\n",
    "\n",
    "color_code = ['FFFFFF', 'FFFFFF',\n",
    "              'FFFFCC',\n",
    "              'BDD7EE','DDEBF7','DDEBF7',\n",
    "              'F8CBAD','FCE4D6','FCE4D6','FCE4D6','FCE4D6','FCE4D6',\n",
    "              'FFE699','FFF2CC','FFF2CC',\n",
    "              'C6E0B4','E2EFDA','E2EFDA','E2EFDA','E2EFDA','E2EFDA',\n",
    "              #'C6E0B4','E2EFDA','E2EFDA','E2EFDA','E2EFDA','E2EFDA',\n",
    "              #'DBDBDB','EDEDED'\n",
    "             ]"
   ]
  },
  {
   "cell_type": "code",
   "execution_count": 25,
   "metadata": {
    "collapsed": true
   },
   "outputs": [],
   "source": [
    "table = table_generation(panel_df, color_code)"
   ]
  },
  {
   "cell_type": "code",
   "execution_count": 26,
   "metadata": {
    "collapsed": true,
    "scrolled": false
   },
   "outputs": [],
   "source": [
    "f = open( '../visualize/templates/visualize/panel7_'+year+'.html', 'w')\n",
    "f.write(table)\n",
    "f.close()"
   ]
  },
  {
   "cell_type": "code",
   "execution_count": null,
   "metadata": {
    "collapsed": true
   },
   "outputs": [],
   "source": []
  }
 ],
 "metadata": {
  "anaconda-cloud": {},
  "kernelspec": {
   "display_name": "py35",
   "language": "python",
   "name": "py35"
  },
  "language_info": {
   "codemirror_mode": {
    "name": "ipython",
    "version": 2
   },
   "file_extension": ".py",
   "mimetype": "text/x-python",
   "name": "python",
   "nbconvert_exporter": "python",
   "pygments_lexer": "ipython2",
   "version": "2.7.12"
  }
 },
 "nbformat": 4,
 "nbformat_minor": 1
}
