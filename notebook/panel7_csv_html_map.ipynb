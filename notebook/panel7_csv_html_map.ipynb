{
 "cells": [
  {
   "cell_type": "code",
   "execution_count": 1,
   "metadata": {
    "collapsed": true
   },
   "outputs": [],
   "source": [
    "# -*- coding: utf-8 -*-\n",
    "import pandas as pd"
   ]
  },
  {
   "cell_type": "code",
   "execution_count": 2,
   "metadata": {
    "collapsed": true
   },
   "outputs": [],
   "source": [
    "def table_generation(df, color_code):\n",
    "    lines = []\n",
    "    lines.append('<table class=\"table table-bordered sortable\" id=\"dataTable\" width=\"100%\" cellspacing=\"0\">\\n')\n",
    "    lines.append('<thead>')\n",
    "    lines.append('  <tr>\\n')\n",
    "\n",
    "    lines.append('    <th></th>\\n')\n",
    "    for i, (col, color) in enumerate(zip(df.columns, color_code)):\n",
    "        if i==0:\n",
    "            lines.append('    <th class=\"sorttable_sorted\" bgcolor=\"{}\">{} <span id=\"sorttable_sortfwdind\">&nbsp;▾</span> </th>\\n'.format(color, col))\n",
    "        else:\n",
    "            lines.append('    <th bgcolor=\"{}\">{}</th>\\n'.format(color, col))\n",
    "\n",
    "    lines.append('  </tr>\\n')\n",
    "    lines.append('</thead>\\n')\n",
    "\n",
    "    lines.append('<tfoot>\\n')\n",
    "    lines.append('  <tr>\\n')\n",
    "    \n",
    "    lines.append('    <th></th>\\n')\n",
    "    for i, (col, color) in enumerate(zip(df.columns, color_code)):\n",
    "        lines.append('    <th bgcolor=\"{}\">{}</th>\\n'.format(color, col))\n",
    "    \n",
    "    lines.append('  </tr>\\n')\n",
    "    lines.append('</tfoot>\\n')\n",
    "\n",
    "    lines.append('<tbody>\\n')\n",
    "\n",
    "    for i, r in df.iterrows():\n",
    "        lines.append('  <tr>\\n')\n",
    "        lines.append('    <td ></td>\\n')\n",
    "        for (col, color) in zip(df.columns, color_code):    \n",
    "            if isinstance(r[col],float):\n",
    "                lines.append('    <td bgcolor=\"{}\">{}</td>\\n'.format(color, (\"%.2f\" % (r[col]*100))))\n",
    "            else:\n",
    "                lines.append('    <td bgcolor=\"{}\">{}</td>\\n'.format(color, r[col]))\n",
    "        lines.append('  </tr>\\n')    \n",
    "    lines.append('</tbody>\\n')\n",
    "    lines.append('</table>')\n",
    "    \n",
    "    return ''.join(lines)\n"
   ]
  },
  {
   "cell_type": "code",
   "execution_count": 19,
   "metadata": {
    "collapsed": true
   },
   "outputs": [],
   "source": [
    "year = '2008~2020'\n",
    "csvpath = '../static/data/csv/Panel 7 '+year+'.csv'\n",
    "panel_df = pd.read_csv(csvpath, index_col=0)"
   ]
  },
  {
   "cell_type": "code",
   "execution_count": 20,
   "metadata": {
    "collapsed": false
   },
   "outputs": [
    {
     "data": {
      "text/plain": [
       "Index([u'State', u'Metropolitan Areas', u'Race with the Machine',\n",
       "       u'Interpersonal Task', u'Group Task', u'Conflict Resolution',\n",
       "       u'Management and Supervision', u'Race against the Machine',\n",
       "       u'Routine Problem Solving', u'Information Processing',\n",
       "       u'General Physical Task', u'Dynamic Physical Task',\n",
       "       u'Race ahead of the Machine', u'Communication', u'Systems Analysis',\n",
       "       u'Creative and Critical Thinking', u'Running a Different Race',\n",
       "       u'Equipment Maintenance', u'Vehicle and Equipment Operation',\n",
       "       u'Machine Control', u'Hazardous Task'],\n",
       "      dtype='object')"
      ]
     },
     "execution_count": 20,
     "metadata": {},
     "output_type": "execute_result"
    }
   ],
   "source": [
    "panel_df.columns"
   ]
  },
  {
   "cell_type": "code",
   "execution_count": 21,
   "metadata": {
    "collapsed": false
   },
   "outputs": [],
   "source": [
    "panel_df = panel_df[['State', 'Metropolitan Areas', #'Automation Index',\n",
    "                       'Race with the Machine','Interpersonal Task','Group Task','Conflict Resolution','Management and Supervision',\n",
    "               \n",
    "               'Race against the Machine','Routine Problem Solving','Information Processing','General Physical Task','Dynamic Physical Task',\n",
    "                 \n",
    "               'Race ahead of the Machine','Communication','Systems Analysis','Creative and Critical Thinking',\n",
    "                 \n",
    "               'Running a Different Race','Equipment Maintenance','Vehicle and Equipment Operation','Machine Control','Hazardous Task']]"
   ]
  },
  {
   "cell_type": "code",
   "execution_count": 22,
   "metadata": {
    "collapsed": true
   },
   "outputs": [],
   "source": [
    "panel_df.to_csv('../static/data/csv/Panel 7 '+year+'.csv')"
   ]
  },
  {
   "cell_type": "code",
   "execution_count": 23,
   "metadata": {
    "collapsed": false
   },
   "outputs": [
    {
     "data": {
      "text/html": [
       "<div>\n",
       "<style>\n",
       "    .dataframe thead tr:only-child th {\n",
       "        text-align: right;\n",
       "    }\n",
       "\n",
       "    .dataframe thead th {\n",
       "        text-align: left;\n",
       "    }\n",
       "\n",
       "    .dataframe tbody tr th {\n",
       "        vertical-align: top;\n",
       "    }\n",
       "</style>\n",
       "<table border=\"1\" class=\"dataframe\">\n",
       "  <thead>\n",
       "    <tr style=\"text-align: right;\">\n",
       "      <th></th>\n",
       "      <th>State</th>\n",
       "      <th>Metropolitan Areas</th>\n",
       "      <th>Race with the Machine</th>\n",
       "      <th>Interpersonal Task</th>\n",
       "      <th>Group Task</th>\n",
       "      <th>Conflict Resolution</th>\n",
       "      <th>Management and Supervision</th>\n",
       "      <th>Race against the Machine</th>\n",
       "      <th>Routine Problem Solving</th>\n",
       "      <th>Information Processing</th>\n",
       "      <th>...</th>\n",
       "      <th>Dynamic Physical Task</th>\n",
       "      <th>Race ahead of the Machine</th>\n",
       "      <th>Communication</th>\n",
       "      <th>Systems Analysis</th>\n",
       "      <th>Creative and Critical Thinking</th>\n",
       "      <th>Running a Different Race</th>\n",
       "      <th>Equipment Maintenance</th>\n",
       "      <th>Vehicle and Equipment Operation</th>\n",
       "      <th>Machine Control</th>\n",
       "      <th>Hazardous Task</th>\n",
       "    </tr>\n",
       "  </thead>\n",
       "  <tbody>\n",
       "    <tr>\n",
       "      <th>0</th>\n",
       "      <td>AK</td>\n",
       "      <td>Anchorage</td>\n",
       "      <td>0.023568</td>\n",
       "      <td>0.005898</td>\n",
       "      <td>0.003498</td>\n",
       "      <td>0.007856</td>\n",
       "      <td>0.006315</td>\n",
       "      <td>-0.019828</td>\n",
       "      <td>-0.005822</td>\n",
       "      <td>-0.002620</td>\n",
       "      <td>...</td>\n",
       "      <td>-0.007876</td>\n",
       "      <td>0.008063</td>\n",
       "      <td>0.004890</td>\n",
       "      <td>0.001545</td>\n",
       "      <td>0.001627</td>\n",
       "      <td>-0.009808</td>\n",
       "      <td>-0.001155</td>\n",
       "      <td>-0.005054</td>\n",
       "      <td>-0.001281</td>\n",
       "      <td>-0.002317</td>\n",
       "    </tr>\n",
       "    <tr>\n",
       "      <th>1</th>\n",
       "      <td>AK</td>\n",
       "      <td>Fairbanks</td>\n",
       "      <td>0.032490</td>\n",
       "      <td>0.008853</td>\n",
       "      <td>0.004290</td>\n",
       "      <td>0.011535</td>\n",
       "      <td>0.007811</td>\n",
       "      <td>-0.027438</td>\n",
       "      <td>-0.010493</td>\n",
       "      <td>-0.008533</td>\n",
       "      <td>...</td>\n",
       "      <td>-0.006746</td>\n",
       "      <td>-0.000012</td>\n",
       "      <td>-0.000015</td>\n",
       "      <td>0.000661</td>\n",
       "      <td>-0.000658</td>\n",
       "      <td>-0.003894</td>\n",
       "      <td>-0.000337</td>\n",
       "      <td>-0.001600</td>\n",
       "      <td>-0.000194</td>\n",
       "      <td>-0.001763</td>\n",
       "    </tr>\n",
       "    <tr>\n",
       "      <th>2</th>\n",
       "      <td>AL</td>\n",
       "      <td>Anniston-Oxford-Jacksonville</td>\n",
       "      <td>0.021102</td>\n",
       "      <td>0.008912</td>\n",
       "      <td>0.003636</td>\n",
       "      <td>0.004873</td>\n",
       "      <td>0.003680</td>\n",
       "      <td>-0.015735</td>\n",
       "      <td>-0.004225</td>\n",
       "      <td>-0.002613</td>\n",
       "      <td>...</td>\n",
       "      <td>-0.005278</td>\n",
       "      <td>0.003868</td>\n",
       "      <td>0.006079</td>\n",
       "      <td>-0.001029</td>\n",
       "      <td>-0.001182</td>\n",
       "      <td>-0.003137</td>\n",
       "      <td>0.001708</td>\n",
       "      <td>-0.005091</td>\n",
       "      <td>0.000656</td>\n",
       "      <td>-0.000411</td>\n",
       "    </tr>\n",
       "    <tr>\n",
       "      <th>3</th>\n",
       "      <td>AL</td>\n",
       "      <td>Auburn-Opelika</td>\n",
       "      <td>0.019959</td>\n",
       "      <td>0.006926</td>\n",
       "      <td>0.003184</td>\n",
       "      <td>0.006017</td>\n",
       "      <td>0.003832</td>\n",
       "      <td>-0.025568</td>\n",
       "      <td>-0.009411</td>\n",
       "      <td>-0.006338</td>\n",
       "      <td>...</td>\n",
       "      <td>-0.006122</td>\n",
       "      <td>0.003915</td>\n",
       "      <td>0.004671</td>\n",
       "      <td>0.000521</td>\n",
       "      <td>-0.001276</td>\n",
       "      <td>0.004504</td>\n",
       "      <td>-0.000052</td>\n",
       "      <td>0.006056</td>\n",
       "      <td>0.000203</td>\n",
       "      <td>-0.001703</td>\n",
       "    </tr>\n",
       "    <tr>\n",
       "      <th>4</th>\n",
       "      <td>AL</td>\n",
       "      <td>Birmingham-Hoover</td>\n",
       "      <td>0.021134</td>\n",
       "      <td>0.006709</td>\n",
       "      <td>0.003667</td>\n",
       "      <td>0.006354</td>\n",
       "      <td>0.004404</td>\n",
       "      <td>-0.020812</td>\n",
       "      <td>-0.008459</td>\n",
       "      <td>-0.001667</td>\n",
       "      <td>...</td>\n",
       "      <td>-0.005766</td>\n",
       "      <td>0.008039</td>\n",
       "      <td>0.006163</td>\n",
       "      <td>0.000828</td>\n",
       "      <td>0.001048</td>\n",
       "      <td>-0.006266</td>\n",
       "      <td>-0.000101</td>\n",
       "      <td>-0.003441</td>\n",
       "      <td>-0.000497</td>\n",
       "      <td>-0.002226</td>\n",
       "    </tr>\n",
       "  </tbody>\n",
       "</table>\n",
       "<p>5 rows × 21 columns</p>\n",
       "</div>"
      ],
      "text/plain": [
       "  State            Metropolitan Areas  Race with the Machine  \\\n",
       "0    AK                     Anchorage               0.023568   \n",
       "1    AK                     Fairbanks               0.032490   \n",
       "2    AL  Anniston-Oxford-Jacksonville               0.021102   \n",
       "3    AL                Auburn-Opelika               0.019959   \n",
       "4    AL             Birmingham-Hoover               0.021134   \n",
       "\n",
       "   Interpersonal Task  Group Task  Conflict Resolution  \\\n",
       "0            0.005898    0.003498             0.007856   \n",
       "1            0.008853    0.004290             0.011535   \n",
       "2            0.008912    0.003636             0.004873   \n",
       "3            0.006926    0.003184             0.006017   \n",
       "4            0.006709    0.003667             0.006354   \n",
       "\n",
       "   Management and Supervision  Race against the Machine  \\\n",
       "0                    0.006315                 -0.019828   \n",
       "1                    0.007811                 -0.027438   \n",
       "2                    0.003680                 -0.015735   \n",
       "3                    0.003832                 -0.025568   \n",
       "4                    0.004404                 -0.020812   \n",
       "\n",
       "   Routine Problem Solving  Information Processing       ...        \\\n",
       "0                -0.005822               -0.002620       ...         \n",
       "1                -0.010493               -0.008533       ...         \n",
       "2                -0.004225               -0.002613       ...         \n",
       "3                -0.009411               -0.006338       ...         \n",
       "4                -0.008459               -0.001667       ...         \n",
       "\n",
       "   Dynamic Physical Task  Race ahead of the Machine  Communication  \\\n",
       "0              -0.007876                   0.008063       0.004890   \n",
       "1              -0.006746                  -0.000012      -0.000015   \n",
       "2              -0.005278                   0.003868       0.006079   \n",
       "3              -0.006122                   0.003915       0.004671   \n",
       "4              -0.005766                   0.008039       0.006163   \n",
       "\n",
       "   Systems Analysis  Creative and Critical Thinking  Running a Different Race  \\\n",
       "0          0.001545                        0.001627                 -0.009808   \n",
       "1          0.000661                       -0.000658                 -0.003894   \n",
       "2         -0.001029                       -0.001182                 -0.003137   \n",
       "3          0.000521                       -0.001276                  0.004504   \n",
       "4          0.000828                        0.001048                 -0.006266   \n",
       "\n",
       "   Equipment Maintenance  Vehicle and Equipment Operation  Machine Control  \\\n",
       "0              -0.001155                        -0.005054        -0.001281   \n",
       "1              -0.000337                        -0.001600        -0.000194   \n",
       "2               0.001708                        -0.005091         0.000656   \n",
       "3              -0.000052                         0.006056         0.000203   \n",
       "4              -0.000101                        -0.003441        -0.000497   \n",
       "\n",
       "   Hazardous Task  \n",
       "0       -0.002317  \n",
       "1       -0.001763  \n",
       "2       -0.000411  \n",
       "3       -0.001703  \n",
       "4       -0.002226  \n",
       "\n",
       "[5 rows x 21 columns]"
      ]
     },
     "execution_count": 23,
     "metadata": {},
     "output_type": "execute_result"
    }
   ],
   "source": [
    "panel_df.head()"
   ]
  },
  {
   "cell_type": "code",
   "execution_count": 24,
   "metadata": {
    "collapsed": true
   },
   "outputs": [],
   "source": [
    "color_code = ['FFFFFF', 'FFFFFF',\n",
    "              'BDD7EE','DDEBF7','DDEBF7','DDEBF7','DDEBF7',\n",
    "              'F8CBAD','FCE4D6','FCE4D6','FCE4D6','FCE4D6',\n",
    "              'FFE699','FFF2CC','FFF2CC','FFF2CC',\n",
    "              'C6E0B4','E2EFDA','E2EFDA','E2EFDA','E2EFDA'\n",
    "              #'C6E0B4','E2EFDA','E2EFDA','E2EFDA','E2EFDA','E2EFDA',\n",
    "              #'DBDBDB','EDEDED'\n",
    "             ]"
   ]
  },
  {
   "cell_type": "code",
   "execution_count": 25,
   "metadata": {
    "collapsed": true
   },
   "outputs": [],
   "source": [
    "table = table_generation(panel_df, color_code)"
   ]
  },
  {
   "cell_type": "code",
   "execution_count": 26,
   "metadata": {
    "collapsed": true,
    "scrolled": false
   },
   "outputs": [],
   "source": [
    "f = open( '../visualize/templates/visualize/panel7_'+year+'.html', 'w')\n",
    "f.write(table)\n",
    "f.close()"
   ]
  },
  {
   "cell_type": "code",
   "execution_count": null,
   "metadata": {
    "collapsed": true
   },
   "outputs": [],
   "source": []
  }
 ],
 "metadata": {
  "anaconda-cloud": {},
  "kernelspec": {
   "display_name": "py35",
   "language": "python",
   "name": "py35"
  },
  "language_info": {
   "codemirror_mode": {
    "name": "ipython",
    "version": 2
   },
   "file_extension": ".py",
   "mimetype": "text/x-python",
   "name": "python",
   "nbconvert_exporter": "python",
   "pygments_lexer": "ipython2",
   "version": "2.7.12"
  }
 },
 "nbformat": 4,
 "nbformat_minor": 1
}
