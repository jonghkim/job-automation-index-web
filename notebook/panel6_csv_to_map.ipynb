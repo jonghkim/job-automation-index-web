{
 "cells": [
  {
   "cell_type": "code",
   "execution_count": 4,
   "metadata": {},
   "outputs": [],
   "source": [
    "# -*- coding: utf-8 -*-\n",
    "import pandas as pd\n",
    "import json"
   ]
  },
  {
   "cell_type": "code",
   "execution_count": 5,
   "metadata": {},
   "outputs": [],
   "source": [
    "year='2008~2020'\n",
    "panel6_df = pd.read_csv(\"../static/data/csv/Panel 6 {}.csv\".format(year))\n"
   ]
  },
  {
   "cell_type": "code",
   "execution_count": 6,
   "metadata": {},
   "outputs": [
    {
     "data": {
      "text/html": [
       "<div>\n",
       "<style scoped>\n",
       "    .dataframe tbody tr th:only-of-type {\n",
       "        vertical-align: middle;\n",
       "    }\n",
       "\n",
       "    .dataframe tbody tr th {\n",
       "        vertical-align: top;\n",
       "    }\n",
       "\n",
       "    .dataframe thead th {\n",
       "        text-align: right;\n",
       "    }\n",
       "</style>\n",
       "<table border=\"1\" class=\"dataframe\">\n",
       "  <thead>\n",
       "    <tr style=\"text-align: right;\">\n",
       "      <th></th>\n",
       "      <th>AREA</th>\n",
       "      <th>AREA_NAME</th>\n",
       "      <th>Employment</th>\n",
       "      <th>Automation Index</th>\n",
       "      <th>Race with the Machine</th>\n",
       "      <th>Race against the Machine</th>\n",
       "      <th>Race ahead of the Machine</th>\n",
       "      <th>Running a Different Race</th>\n",
       "      <th>Lat</th>\n",
       "      <th>Long</th>\n",
       "    </tr>\n",
       "  </thead>\n",
       "  <tbody>\n",
       "    <tr>\n",
       "      <th>0</th>\n",
       "      <td>11260</td>\n",
       "      <td>Anchorage, AK</td>\n",
       "      <td>140960</td>\n",
       "      <td>0.001995</td>\n",
       "      <td>0.023568</td>\n",
       "      <td>-0.019828</td>\n",
       "      <td>0.008063</td>\n",
       "      <td>-0.009808</td>\n",
       "      <td>62.212784</td>\n",
       "      <td>-149.678222</td>\n",
       "    </tr>\n",
       "    <tr>\n",
       "      <th>1</th>\n",
       "      <td>21820</td>\n",
       "      <td>Fairbanks, AK</td>\n",
       "      <td>21830</td>\n",
       "      <td>0.001145</td>\n",
       "      <td>0.032490</td>\n",
       "      <td>-0.027438</td>\n",
       "      <td>-0.000012</td>\n",
       "      <td>-0.003894</td>\n",
       "      <td>64.676044</td>\n",
       "      <td>-146.548159</td>\n",
       "    </tr>\n",
       "    <tr>\n",
       "      <th>2</th>\n",
       "      <td>11500</td>\n",
       "      <td>Anniston-Oxford-Jacksonville, AL</td>\n",
       "      <td>31360</td>\n",
       "      <td>0.006098</td>\n",
       "      <td>0.021102</td>\n",
       "      <td>-0.015735</td>\n",
       "      <td>0.003868</td>\n",
       "      <td>-0.003137</td>\n",
       "      <td>33.771706</td>\n",
       "      <td>-85.822513</td>\n",
       "    </tr>\n",
       "    <tr>\n",
       "      <th>3</th>\n",
       "      <td>12220</td>\n",
       "      <td>Auburn-Opelika, AL</td>\n",
       "      <td>44450</td>\n",
       "      <td>0.002810</td>\n",
       "      <td>0.019959</td>\n",
       "      <td>-0.025568</td>\n",
       "      <td>0.003915</td>\n",
       "      <td>0.004504</td>\n",
       "      <td>32.604064</td>\n",
       "      <td>-85.353048</td>\n",
       "    </tr>\n",
       "    <tr>\n",
       "      <th>4</th>\n",
       "      <td>13820</td>\n",
       "      <td>Birmingham-Hoover, AL</td>\n",
       "      <td>452200</td>\n",
       "      <td>0.002095</td>\n",
       "      <td>0.021134</td>\n",
       "      <td>-0.020812</td>\n",
       "      <td>0.008039</td>\n",
       "      <td>-0.006266</td>\n",
       "      <td>33.462372</td>\n",
       "      <td>-86.814338</td>\n",
       "    </tr>\n",
       "  </tbody>\n",
       "</table>\n",
       "</div>"
      ],
      "text/plain": [
       "    AREA                         AREA_NAME  Employment  Automation Index  \\\n",
       "0  11260                     Anchorage, AK      140960          0.001995   \n",
       "1  21820                     Fairbanks, AK       21830          0.001145   \n",
       "2  11500  Anniston-Oxford-Jacksonville, AL       31360          0.006098   \n",
       "3  12220                Auburn-Opelika, AL       44450          0.002810   \n",
       "4  13820             Birmingham-Hoover, AL      452200          0.002095   \n",
       "\n",
       "   Race with the Machine  Race against the Machine  Race ahead of the Machine  \\\n",
       "0               0.023568                 -0.019828                   0.008063   \n",
       "1               0.032490                 -0.027438                  -0.000012   \n",
       "2               0.021102                 -0.015735                   0.003868   \n",
       "3               0.019959                 -0.025568                   0.003915   \n",
       "4               0.021134                 -0.020812                   0.008039   \n",
       "\n",
       "   Running a Different Race        Lat        Long  \n",
       "0                 -0.009808  62.212784 -149.678222  \n",
       "1                 -0.003894  64.676044 -146.548159  \n",
       "2                 -0.003137  33.771706  -85.822513  \n",
       "3                  0.004504  32.604064  -85.353048  \n",
       "4                 -0.006266  33.462372  -86.814338  "
      ]
     },
     "execution_count": 6,
     "metadata": {},
     "output_type": "execute_result"
    }
   ],
   "source": [
    "panel6_df.head()"
   ]
  },
  {
   "cell_type": "code",
   "execution_count": 7,
   "metadata": {},
   "outputs": [
    {
     "data": {
      "text/plain": [
       "Index(['AREA', 'AREA_NAME', 'Employment', 'Automation Index',\n",
       "       'Race with the Machine', 'Race against the Machine',\n",
       "       'Race ahead of the Machine', 'Running a Different Race', 'Lat', 'Long'],\n",
       "      dtype='object')"
      ]
     },
     "execution_count": 7,
     "metadata": {},
     "output_type": "execute_result"
    }
   ],
   "source": [
    "panel6_df.columns"
   ]
  },
  {
   "cell_type": "code",
   "execution_count": 8,
   "metadata": {},
   "outputs": [],
   "source": [
    "task_types = ['Race with the Machine',\n",
    "                'Race against the Machine','Race ahead of the Machine',\n",
    "                'Running a Different Race'] #, 'Changing the Course of a Race'"
   ]
  },
  {
   "cell_type": "code",
   "execution_count": 9,
   "metadata": {},
   "outputs": [],
   "source": [
    "import json\n",
    "\n",
    "for task_type in task_types:\n",
    "    map_list = []\n",
    "    for i, r in panel6_df.iterrows():\n",
    "        map_dict = {}\n",
    "        map_dict['Location'] = r['AREA_NAME']\n",
    "        map_dict['year'] = year\n",
    "        map_dict['area'] = r['AREA']        \n",
    "        map_dict['Lat'] = r['Lat']    \n",
    "        map_dict['Lng'] = r['Long']        \n",
    "        map_dict['ai'] = r['Automation Index']                \n",
    "        map_dict['task_type'] = task_type\n",
    "        map_dict['e'] = r['Employment']                \n",
    "        map_dict['employment'] = r['Employment']        \n",
    "        map_dict['ai_task_type'] = r[task_type]\n",
    "        map_list.append(map_dict)\n",
    "        \n",
    "    with open('../static/data/map/'+str(year)+'_'+task_type+'.js', 'w') as outfile:    \n",
    "        outfile.write('tilde.cities = ' + json.dumps(map_list))\n",
    "        outfile.close()"
   ]
  },
  {
   "cell_type": "code",
   "execution_count": null,
   "metadata": {
    "collapsed": true
   },
   "outputs": [],
   "source": []
  },
  {
   "cell_type": "code",
   "execution_count": null,
   "metadata": {
    "collapsed": true
   },
   "outputs": [],
   "source": []
  }
 ],
 "metadata": {
  "kernelspec": {
   "display_name": "racial35",
   "language": "python",
   "name": "racial35"
  },
  "language_info": {
   "codemirror_mode": {
    "name": "ipython",
    "version": 3
   },
   "file_extension": ".py",
   "mimetype": "text/x-python",
   "name": "python",
   "nbconvert_exporter": "python",
   "pygments_lexer": "ipython3",
   "version": "3.5.4"
  }
 },
 "nbformat": 4,
 "nbformat_minor": 2
}
