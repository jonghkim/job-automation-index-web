{
 "cells": [
  {
   "cell_type": "code",
   "execution_count": 1,
   "metadata": {
    "collapsed": true
   },
   "outputs": [],
   "source": [
    "# -*- coding: utf-8 -*-\n",
    "import pandas as pd\n",
    "import json"
   ]
  },
  {
   "cell_type": "code",
   "execution_count": 8,
   "metadata": {
    "collapsed": true
   },
   "outputs": [],
   "source": [
    "year='2020'\n",
    "panel6_df = pd.read_csv(\"../static/data/csv/Panel 6 {}.csv\".format(year))\n"
   ]
  },
  {
   "cell_type": "code",
   "execution_count": 9,
   "metadata": {
    "collapsed": false
   },
   "outputs": [
    {
     "data": {
      "text/html": [
       "<div>\n",
       "<style>\n",
       "    .dataframe thead tr:only-child th {\n",
       "        text-align: right;\n",
       "    }\n",
       "\n",
       "    .dataframe thead th {\n",
       "        text-align: left;\n",
       "    }\n",
       "\n",
       "    .dataframe tbody tr th {\n",
       "        vertical-align: top;\n",
       "    }\n",
       "</style>\n",
       "<table border=\"1\" class=\"dataframe\">\n",
       "  <thead>\n",
       "    <tr style=\"text-align: right;\">\n",
       "      <th></th>\n",
       "      <th>AREA</th>\n",
       "      <th>AREA_NAME</th>\n",
       "      <th>Employment</th>\n",
       "      <th>Automation Index</th>\n",
       "      <th>Race with the Machine</th>\n",
       "      <th>Race ahead of the Machine</th>\n",
       "      <th>Changing the Course of the Race</th>\n",
       "      <th>Race against the Machine</th>\n",
       "      <th>Running a Different Race</th>\n",
       "      <th>Lat</th>\n",
       "      <th>Long</th>\n",
       "    </tr>\n",
       "  </thead>\n",
       "  <tbody>\n",
       "    <tr>\n",
       "      <th>0</th>\n",
       "      <td>11260</td>\n",
       "      <td>Anchorage, AK</td>\n",
       "      <td>140960</td>\n",
       "      <td>0.487970</td>\n",
       "      <td>0.139348</td>\n",
       "      <td>0.101945</td>\n",
       "      <td>0.081415</td>\n",
       "      <td>0.077490</td>\n",
       "      <td>0.087773</td>\n",
       "      <td>62.212784</td>\n",
       "      <td>-149.678222</td>\n",
       "    </tr>\n",
       "    <tr>\n",
       "      <th>1</th>\n",
       "      <td>21820</td>\n",
       "      <td>Fairbanks, AK</td>\n",
       "      <td>21830</td>\n",
       "      <td>0.488832</td>\n",
       "      <td>0.140458</td>\n",
       "      <td>0.089655</td>\n",
       "      <td>0.071753</td>\n",
       "      <td>0.089218</td>\n",
       "      <td>0.097749</td>\n",
       "      <td>64.676044</td>\n",
       "      <td>-146.548159</td>\n",
       "    </tr>\n",
       "    <tr>\n",
       "      <th>2</th>\n",
       "      <td>11500</td>\n",
       "      <td>Anniston-Oxford-Jacksonville, AL</td>\n",
       "      <td>31360</td>\n",
       "      <td>0.492837</td>\n",
       "      <td>0.125410</td>\n",
       "      <td>0.076206</td>\n",
       "      <td>0.072231</td>\n",
       "      <td>0.095043</td>\n",
       "      <td>0.123948</td>\n",
       "      <td>33.771706</td>\n",
       "      <td>-85.822513</td>\n",
       "    </tr>\n",
       "    <tr>\n",
       "      <th>3</th>\n",
       "      <td>12220</td>\n",
       "      <td>Auburn-Opelika, AL</td>\n",
       "      <td>44450</td>\n",
       "      <td>0.488861</td>\n",
       "      <td>0.131071</td>\n",
       "      <td>0.081657</td>\n",
       "      <td>0.067204</td>\n",
       "      <td>0.097927</td>\n",
       "      <td>0.111002</td>\n",
       "      <td>32.604064</td>\n",
       "      <td>-85.353048</td>\n",
       "    </tr>\n",
       "    <tr>\n",
       "      <th>4</th>\n",
       "      <td>13820</td>\n",
       "      <td>Birmingham-Hoover, AL</td>\n",
       "      <td>452200</td>\n",
       "      <td>0.490124</td>\n",
       "      <td>0.132674</td>\n",
       "      <td>0.099671</td>\n",
       "      <td>0.081492</td>\n",
       "      <td>0.076700</td>\n",
       "      <td>0.099586</td>\n",
       "      <td>33.462372</td>\n",
       "      <td>-86.814338</td>\n",
       "    </tr>\n",
       "  </tbody>\n",
       "</table>\n",
       "</div>"
      ],
      "text/plain": [
       "    AREA                         AREA_NAME  Employment  Automation Index  \\\n",
       "0  11260                     Anchorage, AK      140960          0.487970   \n",
       "1  21820                     Fairbanks, AK       21830          0.488832   \n",
       "2  11500  Anniston-Oxford-Jacksonville, AL       31360          0.492837   \n",
       "3  12220                Auburn-Opelika, AL       44450          0.488861   \n",
       "4  13820             Birmingham-Hoover, AL      452200          0.490124   \n",
       "\n",
       "   Race with the Machine  Race ahead of the Machine  \\\n",
       "0               0.139348                   0.101945   \n",
       "1               0.140458                   0.089655   \n",
       "2               0.125410                   0.076206   \n",
       "3               0.131071                   0.081657   \n",
       "4               0.132674                   0.099671   \n",
       "\n",
       "   Changing the Course of the Race  Race against the Machine  \\\n",
       "0                         0.081415                  0.077490   \n",
       "1                         0.071753                  0.089218   \n",
       "2                         0.072231                  0.095043   \n",
       "3                         0.067204                  0.097927   \n",
       "4                         0.081492                  0.076700   \n",
       "\n",
       "   Running a Different Race        Lat        Long  \n",
       "0                  0.087773  62.212784 -149.678222  \n",
       "1                  0.097749  64.676044 -146.548159  \n",
       "2                  0.123948  33.771706  -85.822513  \n",
       "3                  0.111002  32.604064  -85.353048  \n",
       "4                  0.099586  33.462372  -86.814338  "
      ]
     },
     "execution_count": 9,
     "metadata": {},
     "output_type": "execute_result"
    }
   ],
   "source": [
    "panel6_df.head()"
   ]
  },
  {
   "cell_type": "code",
   "execution_count": 10,
   "metadata": {
    "collapsed": false
   },
   "outputs": [
    {
     "data": {
      "text/plain": [
       "Index([u'AREA', u'AREA_NAME', u'Employment', u'Automation Index',\n",
       "       u'Race with the Machine', u'Race ahead of the Machine',\n",
       "       u'Changing the Course of the Race', u'Race against the Machine',\n",
       "       u'Running a Different Race', u'Lat', u'Long'],\n",
       "      dtype='object')"
      ]
     },
     "execution_count": 10,
     "metadata": {},
     "output_type": "execute_result"
    }
   ],
   "source": [
    "panel6_df.columns"
   ]
  },
  {
   "cell_type": "code",
   "execution_count": 11,
   "metadata": {
    "collapsed": true
   },
   "outputs": [],
   "source": [
    "task_types = ['Race with the Machine', 'Race ahead of the Machine', 'Changing the Course of the Race',\n",
    "                                                      'Race against the Machine', 'Running a Different Race'\n",
    "             ] #, 'Changing the Course of a Race'"
   ]
  },
  {
   "cell_type": "code",
   "execution_count": 12,
   "metadata": {
    "collapsed": true
   },
   "outputs": [],
   "source": [
    "import json\n",
    "\n",
    "for task_type in task_types:\n",
    "    map_list = []\n",
    "    for i, r in panel6_df.iterrows():\n",
    "        map_dict = {}\n",
    "        map_dict['Location'] = r['AREA_NAME']\n",
    "        map_dict['year'] = year\n",
    "        map_dict['area'] = r['AREA']        \n",
    "        map_dict['Lat'] = r['Lat']    \n",
    "        map_dict['Lng'] = r['Long']        \n",
    "        map_dict['ai'] = r['Automation Index']                \n",
    "        map_dict['task_type'] = task_type\n",
    "        map_dict['e'] = r['Employment']                \n",
    "        map_dict['employment'] = r['Employment']        \n",
    "        map_dict['ai_task_type'] = r[task_type]\n",
    "        map_list.append(map_dict)\n",
    "        \n",
    "    with open('../static/data/map/'+str(year)+'_'+task_type+'.js', 'w') as outfile:    \n",
    "        outfile.write('tilde.cities = ' + json.dumps(map_list))\n",
    "        outfile.close()"
   ]
  },
  {
   "cell_type": "code",
   "execution_count": null,
   "metadata": {
    "collapsed": true
   },
   "outputs": [],
   "source": []
  },
  {
   "cell_type": "code",
   "execution_count": null,
   "metadata": {
    "collapsed": true
   },
   "outputs": [],
   "source": []
  }
 ],
 "metadata": {
  "kernelspec": {
   "display_name": "py35",
   "language": "python",
   "name": "py35"
  },
  "language_info": {
   "codemirror_mode": {
    "name": "ipython",
    "version": 2
   },
   "file_extension": ".py",
   "mimetype": "text/x-python",
   "name": "python",
   "nbconvert_exporter": "python",
   "pygments_lexer": "ipython2",
   "version": "2.7.12"
  }
 },
 "nbformat": 4,
 "nbformat_minor": 2
}
