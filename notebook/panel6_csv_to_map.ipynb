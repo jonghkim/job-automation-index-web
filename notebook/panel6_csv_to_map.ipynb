{
 "cells": [
  {
   "cell_type": "code",
   "execution_count": 3,
   "metadata": {
    "collapsed": true
   },
   "outputs": [],
   "source": [
    "# -*- coding: utf-8 -*-\n",
    "import pandas as pd\n",
    "import json"
   ]
  },
  {
   "cell_type": "code",
   "execution_count": 14,
   "metadata": {
    "collapsed": false
   },
   "outputs": [],
   "source": [
    "year='2019'\n",
    "panel6_df = pd.read_csv(\"../static/data/csv/Panel 6 {}.csv\".format(year))\n"
   ]
  },
  {
   "cell_type": "code",
   "execution_count": 15,
   "metadata": {
    "collapsed": false
   },
   "outputs": [
    {
     "data": {
      "text/html": [
       "<div>\n",
       "<style>\n",
       "    .dataframe thead tr:only-child th {\n",
       "        text-align: right;\n",
       "    }\n",
       "\n",
       "    .dataframe thead th {\n",
       "        text-align: left;\n",
       "    }\n",
       "\n",
       "    .dataframe tbody tr th {\n",
       "        vertical-align: top;\n",
       "    }\n",
       "</style>\n",
       "<table border=\"1\" class=\"dataframe\">\n",
       "  <thead>\n",
       "    <tr style=\"text-align: right;\">\n",
       "      <th></th>\n",
       "      <th>AREA</th>\n",
       "      <th>AREA_NAME</th>\n",
       "      <th>Employment</th>\n",
       "      <th>Automation Index</th>\n",
       "      <th>Race with the Machine</th>\n",
       "      <th>Race against the Machine</th>\n",
       "      <th>Race ahead of the Machine</th>\n",
       "      <th>Running a Different Race</th>\n",
       "      <th>Lat</th>\n",
       "      <th>Long</th>\n",
       "    </tr>\n",
       "  </thead>\n",
       "  <tbody>\n",
       "    <tr>\n",
       "      <th>0</th>\n",
       "      <td>11260</td>\n",
       "      <td>Anchorage, AK</td>\n",
       "      <td>171770</td>\n",
       "      <td>0.492965</td>\n",
       "      <td>0.125823</td>\n",
       "      <td>0.198303</td>\n",
       "      <td>0.036106</td>\n",
       "      <td>0.132732</td>\n",
       "      <td>62.212784</td>\n",
       "      <td>-149.678222</td>\n",
       "    </tr>\n",
       "    <tr>\n",
       "      <th>1</th>\n",
       "      <td>21820</td>\n",
       "      <td>Fairbanks, AK</td>\n",
       "      <td>35410</td>\n",
       "      <td>0.492421</td>\n",
       "      <td>0.123899</td>\n",
       "      <td>0.198969</td>\n",
       "      <td>0.034192</td>\n",
       "      <td>0.135362</td>\n",
       "      <td>64.676044</td>\n",
       "      <td>-146.548159</td>\n",
       "    </tr>\n",
       "    <tr>\n",
       "      <th>2</th>\n",
       "      <td>11500</td>\n",
       "      <td>Anniston-Oxford-Jacksonville, AL</td>\n",
       "      <td>43800</td>\n",
       "      <td>0.494082</td>\n",
       "      <td>0.110287</td>\n",
       "      <td>0.211044</td>\n",
       "      <td>0.027256</td>\n",
       "      <td>0.145495</td>\n",
       "      <td>33.771706</td>\n",
       "      <td>-85.822513</td>\n",
       "    </tr>\n",
       "    <tr>\n",
       "      <th>3</th>\n",
       "      <td>12220</td>\n",
       "      <td>Auburn-Opelika, AL</td>\n",
       "      <td>57650</td>\n",
       "      <td>0.492370</td>\n",
       "      <td>0.112480</td>\n",
       "      <td>0.204575</td>\n",
       "      <td>0.029901</td>\n",
       "      <td>0.145414</td>\n",
       "      <td>32.604064</td>\n",
       "      <td>-85.353048</td>\n",
       "    </tr>\n",
       "    <tr>\n",
       "      <th>4</th>\n",
       "      <td>13820</td>\n",
       "      <td>Birmingham-Hoover, AL</td>\n",
       "      <td>510560</td>\n",
       "      <td>0.494751</td>\n",
       "      <td>0.123924</td>\n",
       "      <td>0.207290</td>\n",
       "      <td>0.034952</td>\n",
       "      <td>0.128585</td>\n",
       "      <td>33.462372</td>\n",
       "      <td>-86.814338</td>\n",
       "    </tr>\n",
       "  </tbody>\n",
       "</table>\n",
       "</div>"
      ],
      "text/plain": [
       "    AREA                         AREA_NAME  Employment  Automation Index  \\\n",
       "0  11260                     Anchorage, AK      171770          0.492965   \n",
       "1  21820                     Fairbanks, AK       35410          0.492421   \n",
       "2  11500  Anniston-Oxford-Jacksonville, AL       43800          0.494082   \n",
       "3  12220                Auburn-Opelika, AL       57650          0.492370   \n",
       "4  13820             Birmingham-Hoover, AL      510560          0.494751   \n",
       "\n",
       "   Race with the Machine  Race against the Machine  Race ahead of the Machine  \\\n",
       "0               0.125823                  0.198303                   0.036106   \n",
       "1               0.123899                  0.198969                   0.034192   \n",
       "2               0.110287                  0.211044                   0.027256   \n",
       "3               0.112480                  0.204575                   0.029901   \n",
       "4               0.123924                  0.207290                   0.034952   \n",
       "\n",
       "   Running a Different Race        Lat        Long  \n",
       "0                  0.132732  62.212784 -149.678222  \n",
       "1                  0.135362  64.676044 -146.548159  \n",
       "2                  0.145495  33.771706  -85.822513  \n",
       "3                  0.145414  32.604064  -85.353048  \n",
       "4                  0.128585  33.462372  -86.814338  "
      ]
     },
     "execution_count": 15,
     "metadata": {},
     "output_type": "execute_result"
    }
   ],
   "source": [
    "panel6_df.head()"
   ]
  },
  {
   "cell_type": "code",
   "execution_count": 16,
   "metadata": {
    "collapsed": false
   },
   "outputs": [
    {
     "data": {
      "text/plain": [
       "Index([u'AREA', u'AREA_NAME', u'Employment', u'Automation Index',\n",
       "       u'Race with the Machine', u'Race against the Machine',\n",
       "       u'Race ahead of the Machine', u'Running a Different Race', u'Lat',\n",
       "       u'Long'],\n",
       "      dtype='object')"
      ]
     },
     "execution_count": 16,
     "metadata": {},
     "output_type": "execute_result"
    }
   ],
   "source": [
    "panel6_df.columns"
   ]
  },
  {
   "cell_type": "code",
   "execution_count": 17,
   "metadata": {
    "collapsed": true
   },
   "outputs": [],
   "source": [
    "task_types = ['Race with the Machine',\n",
    "                'Race against the Machine','Race ahead of the Machine',\n",
    "                'Running a Different Race'] #, 'Changing the Course of a Race'"
   ]
  },
  {
   "cell_type": "code",
   "execution_count": 18,
   "metadata": {
    "collapsed": true
   },
   "outputs": [],
   "source": [
    "import json\n",
    "\n",
    "for task_type in task_types:\n",
    "    map_list = []\n",
    "    for i, r in panel6_df.iterrows():\n",
    "        map_dict = {}\n",
    "        map_dict['Location'] = r['AREA_NAME']\n",
    "        map_dict['year'] = year\n",
    "        map_dict['area'] = r['AREA']        \n",
    "        map_dict['Lat'] = r['Lat']    \n",
    "        map_dict['Lng'] = r['Long']        \n",
    "        map_dict['ai'] = r['Automation Index']                \n",
    "        map_dict['task_type'] = task_type\n",
    "        map_dict['e'] = r['Employment']                \n",
    "        map_dict['employment'] = r['Employment']        \n",
    "        map_dict['ai_task_type'] = r[task_type]\n",
    "        map_list.append(map_dict)\n",
    "        \n",
    "    with open('../static/data/map/'+str(year)+'_'+task_type+'.js', 'w') as outfile:    \n",
    "        outfile.write('tilde.cities = ' + json.dumps(map_list))\n",
    "        outfile.close()"
   ]
  },
  {
   "cell_type": "code",
   "execution_count": null,
   "metadata": {
    "collapsed": true
   },
   "outputs": [],
   "source": []
  }
 ],
 "metadata": {
  "kernelspec": {
   "display_name": "py35",
   "language": "python",
   "name": "py35"
  },
  "language_info": {
   "codemirror_mode": {
    "name": "ipython",
    "version": 2
   },
   "file_extension": ".py",
   "mimetype": "text/x-python",
   "name": "python",
   "nbconvert_exporter": "python",
   "pygments_lexer": "ipython2",
   "version": "2.7.12"
  }
 },
 "nbformat": 4,
 "nbformat_minor": 2
}
