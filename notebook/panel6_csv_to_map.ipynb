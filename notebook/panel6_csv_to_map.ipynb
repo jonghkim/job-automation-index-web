{
 "cells": [
  {
   "cell_type": "code",
   "execution_count": 1,
   "metadata": {
    "collapsed": true
   },
   "outputs": [],
   "source": [
    "# -*- coding: utf-8 -*-\n",
    "import pandas as pd\n",
    "import json"
   ]
  },
  {
   "cell_type": "code",
   "execution_count": 12,
   "metadata": {
    "collapsed": false
   },
   "outputs": [],
   "source": [
    "year='2008~2019'\n",
    "panel6_df = pd.read_csv(\"../static/data/csv/Panel 6 {}.csv\".format(year))\n"
   ]
  },
  {
   "cell_type": "code",
   "execution_count": 13,
   "metadata": {
    "collapsed": false
   },
   "outputs": [
    {
     "data": {
      "text/html": [
       "<div>\n",
       "<style>\n",
       "    .dataframe thead tr:only-child th {\n",
       "        text-align: right;\n",
       "    }\n",
       "\n",
       "    .dataframe thead th {\n",
       "        text-align: left;\n",
       "    }\n",
       "\n",
       "    .dataframe tbody tr th {\n",
       "        vertical-align: top;\n",
       "    }\n",
       "</style>\n",
       "<table border=\"1\" class=\"dataframe\">\n",
       "  <thead>\n",
       "    <tr style=\"text-align: right;\">\n",
       "      <th></th>\n",
       "      <th>AREA</th>\n",
       "      <th>AREA_NAME</th>\n",
       "      <th>Employment</th>\n",
       "      <th>Automation Index</th>\n",
       "      <th>Race with the Machine</th>\n",
       "      <th>Race against the Machine</th>\n",
       "      <th>Race ahead of the Machine</th>\n",
       "      <th>Running a Different Race</th>\n",
       "      <th>Lat</th>\n",
       "      <th>Long</th>\n",
       "    </tr>\n",
       "  </thead>\n",
       "  <tbody>\n",
       "    <tr>\n",
       "      <th>0</th>\n",
       "      <td>11260</td>\n",
       "      <td>Anchorage, AK</td>\n",
       "      <td>171770</td>\n",
       "      <td>0.005598</td>\n",
       "      <td>0.016626</td>\n",
       "      <td>-0.022709</td>\n",
       "      <td>0.001775</td>\n",
       "      <td>0.009906</td>\n",
       "      <td>62.212784</td>\n",
       "      <td>-149.678222</td>\n",
       "    </tr>\n",
       "    <tr>\n",
       "      <th>1</th>\n",
       "      <td>21820</td>\n",
       "      <td>Fairbanks, AK</td>\n",
       "      <td>35410</td>\n",
       "      <td>0.003093</td>\n",
       "      <td>0.017916</td>\n",
       "      <td>-0.030380</td>\n",
       "      <td>0.004048</td>\n",
       "      <td>0.011509</td>\n",
       "      <td>64.676044</td>\n",
       "      <td>-146.548159</td>\n",
       "    </tr>\n",
       "    <tr>\n",
       "      <th>2</th>\n",
       "      <td>11500</td>\n",
       "      <td>Anniston-Oxford-Jacksonville, AL</td>\n",
       "      <td>43800</td>\n",
       "      <td>0.007239</td>\n",
       "      <td>0.019467</td>\n",
       "      <td>-0.027100</td>\n",
       "      <td>-0.001292</td>\n",
       "      <td>0.016164</td>\n",
       "      <td>33.771706</td>\n",
       "      <td>-85.822513</td>\n",
       "    </tr>\n",
       "    <tr>\n",
       "      <th>3</th>\n",
       "      <td>12220</td>\n",
       "      <td>Auburn-Opelika, AL</td>\n",
       "      <td>57650</td>\n",
       "      <td>0.005695</td>\n",
       "      <td>0.013115</td>\n",
       "      <td>-0.019577</td>\n",
       "      <td>-0.000754</td>\n",
       "      <td>0.012910</td>\n",
       "      <td>32.604064</td>\n",
       "      <td>-85.353048</td>\n",
       "    </tr>\n",
       "    <tr>\n",
       "      <th>4</th>\n",
       "      <td>13820</td>\n",
       "      <td>Birmingham-Hoover, AL</td>\n",
       "      <td>510560</td>\n",
       "      <td>0.005625</td>\n",
       "      <td>0.017672</td>\n",
       "      <td>-0.021439</td>\n",
       "      <td>0.000530</td>\n",
       "      <td>0.008863</td>\n",
       "      <td>33.462372</td>\n",
       "      <td>-86.814338</td>\n",
       "    </tr>\n",
       "  </tbody>\n",
       "</table>\n",
       "</div>"
      ],
      "text/plain": [
       "    AREA                         AREA_NAME  Employment  Automation Index  \\\n",
       "0  11260                     Anchorage, AK      171770          0.005598   \n",
       "1  21820                     Fairbanks, AK       35410          0.003093   \n",
       "2  11500  Anniston-Oxford-Jacksonville, AL       43800          0.007239   \n",
       "3  12220                Auburn-Opelika, AL       57650          0.005695   \n",
       "4  13820             Birmingham-Hoover, AL      510560          0.005625   \n",
       "\n",
       "   Race with the Machine  Race against the Machine  Race ahead of the Machine  \\\n",
       "0               0.016626                 -0.022709                   0.001775   \n",
       "1               0.017916                 -0.030380                   0.004048   \n",
       "2               0.019467                 -0.027100                  -0.001292   \n",
       "3               0.013115                 -0.019577                  -0.000754   \n",
       "4               0.017672                 -0.021439                   0.000530   \n",
       "\n",
       "   Running a Different Race        Lat        Long  \n",
       "0                  0.009906  62.212784 -149.678222  \n",
       "1                  0.011509  64.676044 -146.548159  \n",
       "2                  0.016164  33.771706  -85.822513  \n",
       "3                  0.012910  32.604064  -85.353048  \n",
       "4                  0.008863  33.462372  -86.814338  "
      ]
     },
     "execution_count": 13,
     "metadata": {},
     "output_type": "execute_result"
    }
   ],
   "source": [
    "panel6_df.head()"
   ]
  },
  {
   "cell_type": "code",
   "execution_count": 14,
   "metadata": {
    "collapsed": false
   },
   "outputs": [
    {
     "data": {
      "text/plain": [
       "Index([u'AREA', u'AREA_NAME', u'Employment', u'Automation Index',\n",
       "       u'Race with the Machine', u'Race against the Machine',\n",
       "       u'Race ahead of the Machine', u'Running a Different Race', u'Lat',\n",
       "       u'Long'],\n",
       "      dtype='object')"
      ]
     },
     "execution_count": 14,
     "metadata": {},
     "output_type": "execute_result"
    }
   ],
   "source": [
    "panel6_df.columns"
   ]
  },
  {
   "cell_type": "code",
   "execution_count": 15,
   "metadata": {
    "collapsed": true
   },
   "outputs": [],
   "source": [
    "task_types = ['Race with the Machine',\n",
    "                'Race against the Machine','Race ahead of the Machine',\n",
    "                'Running a Different Race'] #, 'Changing the Course of a Race'"
   ]
  },
  {
   "cell_type": "code",
   "execution_count": 16,
   "metadata": {
    "collapsed": true
   },
   "outputs": [],
   "source": [
    "import json\n",
    "\n",
    "for task_type in task_types:\n",
    "    map_list = []\n",
    "    for i, r in panel6_df.iterrows():\n",
    "        map_dict = {}\n",
    "        map_dict['Location'] = r['AREA_NAME']\n",
    "        map_dict['year'] = year\n",
    "        map_dict['area'] = r['AREA']        \n",
    "        map_dict['Lat'] = r['Lat']    \n",
    "        map_dict['Lng'] = r['Long']        \n",
    "        map_dict['ai'] = r['Automation Index']                \n",
    "        map_dict['task_type'] = task_type\n",
    "        map_dict['e'] = r['Employment']                \n",
    "        map_dict['employment'] = r['Employment']        \n",
    "        map_dict['ai_task_type'] = r[task_type]\n",
    "        map_list.append(map_dict)\n",
    "        \n",
    "    with open('../static/data/map/'+str(year)+'_'+task_type+'.js', 'w') as outfile:    \n",
    "        outfile.write('tilde.cities = ' + json.dumps(map_list))\n",
    "        outfile.close()"
   ]
  },
  {
   "cell_type": "code",
   "execution_count": null,
   "metadata": {
    "collapsed": true
   },
   "outputs": [],
   "source": []
  }
 ],
 "metadata": {
  "kernelspec": {
   "display_name": "py35",
   "language": "python",
   "name": "py35"
  },
  "language_info": {
   "codemirror_mode": {
    "name": "ipython",
    "version": 2
   },
   "file_extension": ".py",
   "mimetype": "text/x-python",
   "name": "python",
   "nbconvert_exporter": "python",
   "pygments_lexer": "ipython2",
   "version": "2.7.12"
  }
 },
 "nbformat": 4,
 "nbformat_minor": 2
}
