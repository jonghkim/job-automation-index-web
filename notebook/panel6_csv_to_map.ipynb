{
 "cells": [
  {
   "cell_type": "code",
   "execution_count": 1,
   "metadata": {},
   "outputs": [],
   "source": [
    "# -*- coding: utf-8 -*-\n",
    "import pandas as pd\n",
    "import json"
   ]
  },
  {
   "cell_type": "code",
   "execution_count": 13,
   "metadata": {},
   "outputs": [],
   "source": [
    "year='2008~2020'\n",
    "panel6_df = pd.read_csv(\"../static/data/csv/Panel 6 {}.csv\".format(year))\n"
   ]
  },
  {
   "cell_type": "code",
   "execution_count": 14,
   "metadata": {},
   "outputs": [
    {
     "data": {
      "text/html": [
       "<div>\n",
       "<style scoped>\n",
       "    .dataframe tbody tr th:only-of-type {\n",
       "        vertical-align: middle;\n",
       "    }\n",
       "\n",
       "    .dataframe tbody tr th {\n",
       "        vertical-align: top;\n",
       "    }\n",
       "\n",
       "    .dataframe thead th {\n",
       "        text-align: right;\n",
       "    }\n",
       "</style>\n",
       "<table border=\"1\" class=\"dataframe\">\n",
       "  <thead>\n",
       "    <tr style=\"text-align: right;\">\n",
       "      <th></th>\n",
       "      <th>AREA</th>\n",
       "      <th>AREA_NAME</th>\n",
       "      <th>Employment</th>\n",
       "      <th>Automation Index</th>\n",
       "      <th>Race with the Machine</th>\n",
       "      <th>Race ahead of the Machine</th>\n",
       "      <th>Changing the Course of the Race</th>\n",
       "      <th>Race against the Machine</th>\n",
       "      <th>Running a Different Race</th>\n",
       "      <th>Lat</th>\n",
       "      <th>Long</th>\n",
       "    </tr>\n",
       "  </thead>\n",
       "  <tbody>\n",
       "    <tr>\n",
       "      <th>0</th>\n",
       "      <td>11260</td>\n",
       "      <td>Anchorage, AK</td>\n",
       "      <td>140960</td>\n",
       "      <td>0.038786</td>\n",
       "      <td>0.032225</td>\n",
       "      <td>0.014809</td>\n",
       "      <td>-0.001975</td>\n",
       "      <td>-0.003891</td>\n",
       "      <td>-0.002381</td>\n",
       "      <td>62.212784</td>\n",
       "      <td>-149.678222</td>\n",
       "    </tr>\n",
       "    <tr>\n",
       "      <th>1</th>\n",
       "      <td>21820</td>\n",
       "      <td>Fairbanks, AK</td>\n",
       "      <td>21830</td>\n",
       "      <td>0.037655</td>\n",
       "      <td>0.040430</td>\n",
       "      <td>0.006345</td>\n",
       "      <td>-0.012596</td>\n",
       "      <td>-0.000273</td>\n",
       "      <td>0.003748</td>\n",
       "      <td>64.676044</td>\n",
       "      <td>-146.548159</td>\n",
       "    </tr>\n",
       "    <tr>\n",
       "      <th>2</th>\n",
       "      <td>11500</td>\n",
       "      <td>Anniston-Oxford-Jacksonville, AL</td>\n",
       "      <td>31360</td>\n",
       "      <td>0.032945</td>\n",
       "      <td>0.026705</td>\n",
       "      <td>0.007530</td>\n",
       "      <td>-0.002825</td>\n",
       "      <td>-0.002337</td>\n",
       "      <td>0.003872</td>\n",
       "      <td>33.771706</td>\n",
       "      <td>-85.822513</td>\n",
       "    </tr>\n",
       "    <tr>\n",
       "      <th>3</th>\n",
       "      <td>12220</td>\n",
       "      <td>Auburn-Opelika, AL</td>\n",
       "      <td>44450</td>\n",
       "      <td>0.010652</td>\n",
       "      <td>0.021585</td>\n",
       "      <td>0.004802</td>\n",
       "      <td>-0.014807</td>\n",
       "      <td>-0.007164</td>\n",
       "      <td>0.006236</td>\n",
       "      <td>32.604064</td>\n",
       "      <td>-85.353048</td>\n",
       "    </tr>\n",
       "    <tr>\n",
       "      <th>4</th>\n",
       "      <td>13820</td>\n",
       "      <td>Birmingham-Hoover, AL</td>\n",
       "      <td>452200</td>\n",
       "      <td>0.030324</td>\n",
       "      <td>0.027478</td>\n",
       "      <td>0.012979</td>\n",
       "      <td>-0.005166</td>\n",
       "      <td>-0.004878</td>\n",
       "      <td>-0.000089</td>\n",
       "      <td>33.462372</td>\n",
       "      <td>-86.814338</td>\n",
       "    </tr>\n",
       "  </tbody>\n",
       "</table>\n",
       "</div>"
      ],
      "text/plain": [
       "    AREA                         AREA_NAME  Employment  Automation Index  \\\n",
       "0  11260                     Anchorage, AK      140960          0.038786   \n",
       "1  21820                     Fairbanks, AK       21830          0.037655   \n",
       "2  11500  Anniston-Oxford-Jacksonville, AL       31360          0.032945   \n",
       "3  12220                Auburn-Opelika, AL       44450          0.010652   \n",
       "4  13820             Birmingham-Hoover, AL      452200          0.030324   \n",
       "\n",
       "   Race with the Machine  Race ahead of the Machine  \\\n",
       "0               0.032225                   0.014809   \n",
       "1               0.040430                   0.006345   \n",
       "2               0.026705                   0.007530   \n",
       "3               0.021585                   0.004802   \n",
       "4               0.027478                   0.012979   \n",
       "\n",
       "   Changing the Course of the Race  Race against the Machine  \\\n",
       "0                        -0.001975                 -0.003891   \n",
       "1                        -0.012596                 -0.000273   \n",
       "2                        -0.002825                 -0.002337   \n",
       "3                        -0.014807                 -0.007164   \n",
       "4                        -0.005166                 -0.004878   \n",
       "\n",
       "   Running a Different Race        Lat        Long  \n",
       "0                 -0.002381  62.212784 -149.678222  \n",
       "1                  0.003748  64.676044 -146.548159  \n",
       "2                  0.003872  33.771706  -85.822513  \n",
       "3                  0.006236  32.604064  -85.353048  \n",
       "4                 -0.000089  33.462372  -86.814338  "
      ]
     },
     "execution_count": 14,
     "metadata": {},
     "output_type": "execute_result"
    }
   ],
   "source": [
    "panel6_df.head()"
   ]
  },
  {
   "cell_type": "code",
   "execution_count": 15,
   "metadata": {},
   "outputs": [
    {
     "data": {
      "text/plain": [
       "Index(['AREA', 'AREA_NAME', 'Employment', 'Automation Index',\n",
       "       'Race with the Machine', 'Race ahead of the Machine',\n",
       "       'Changing the Course of the Race', 'Race against the Machine',\n",
       "       'Running a Different Race', 'Lat', 'Long'],\n",
       "      dtype='object')"
      ]
     },
     "execution_count": 15,
     "metadata": {},
     "output_type": "execute_result"
    }
   ],
   "source": [
    "panel6_df.columns"
   ]
  },
  {
   "cell_type": "code",
   "execution_count": 16,
   "metadata": {},
   "outputs": [],
   "source": [
    "task_types = ['Race with the Machine', 'Race ahead of the Machine', 'Changing the Course of the Race',\n",
    "                                                      'Race against the Machine', 'Running a Different Race'\n",
    "             ] #, 'Changing the Course of a Race'"
   ]
  },
  {
   "cell_type": "code",
   "execution_count": 17,
   "metadata": {},
   "outputs": [],
   "source": [
    "import json\n",
    "\n",
    "for task_type in task_types:\n",
    "    map_list = []\n",
    "    for i, r in panel6_df.iterrows():\n",
    "        map_dict = {}\n",
    "        map_dict['Location'] = r['AREA_NAME']\n",
    "        map_dict['year'] = year\n",
    "        map_dict['area'] = r['AREA']        \n",
    "        map_dict['Lat'] = r['Lat']    \n",
    "        map_dict['Lng'] = r['Long']        \n",
    "        map_dict['ai'] = r['Automation Index']                \n",
    "        map_dict['task_type'] = task_type\n",
    "        map_dict['e'] = r['Employment']                \n",
    "        map_dict['employment'] = r['Employment']        \n",
    "        map_dict['ai_task_type'] = r[task_type]\n",
    "        \n",
    "        map_dict['race_with'] = r['Race with the Machine']\n",
    "        map_dict['race_ahead'] = r['Race ahead of the Machine']\n",
    "        map_dict['change'] = r['Changing the Course of the Race']\n",
    "        map_dict['race_against'] = r['Race against the Machine']\n",
    "        map_dict['different'] = r['Running a Different Race']\n",
    "        \n",
    "        map_list.append(map_dict)\n",
    "        \n",
    "    with open('../static/data/map/'+str(year)+'_'+task_type+'.js', 'w') as outfile:    \n",
    "        outfile.write('tilde.cities = ' + json.dumps(map_list))\n",
    "        outfile.close()"
   ]
  },
  {
   "cell_type": "code",
   "execution_count": null,
   "metadata": {
    "collapsed": true
   },
   "outputs": [],
   "source": []
  },
  {
   "cell_type": "code",
   "execution_count": null,
   "metadata": {
    "collapsed": true
   },
   "outputs": [],
   "source": []
  }
 ],
 "metadata": {
  "kernelspec": {
   "display_name": "py36",
   "language": "python",
   "name": "py36"
  },
  "language_info": {
   "codemirror_mode": {
    "name": "ipython",
    "version": 3
   },
   "file_extension": ".py",
   "mimetype": "text/x-python",
   "name": "python",
   "nbconvert_exporter": "python",
   "pygments_lexer": "ipython3",
   "version": "3.6.13"
  }
 },
 "nbformat": 4,
 "nbformat_minor": 2
}
