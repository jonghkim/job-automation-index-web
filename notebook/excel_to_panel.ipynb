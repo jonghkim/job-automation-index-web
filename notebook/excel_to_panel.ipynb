{
 "cells": [
  {
   "cell_type": "code",
   "execution_count": 1,
   "metadata": {
    "collapsed": true
   },
   "outputs": [],
   "source": [
    "# -*- coding: utf-8 -*-\n",
    "import pandas as pd"
   ]
  },
  {
   "cell_type": "markdown",
   "metadata": {},
   "source": [
    "## Job Information"
   ]
  },
  {
   "cell_type": "code",
   "execution_count": 2,
   "metadata": {
    "collapsed": false
   },
   "outputs": [
    {
     "name": "stdout",
     "output_type": "stream",
     "text": [
      "[u'2008', u'2019', u'2008-2019']\n"
     ]
    }
   ],
   "source": [
    "xl = pd.ExcelFile(\"../static/data/xlsx/Job Information.xlsx\")\n",
    "print(xl.sheet_names)  # see all sheet names"
   ]
  },
  {
   "cell_type": "markdown",
   "metadata": {},
   "source": [
    "### jobs"
   ]
  },
  {
   "cell_type": "code",
   "execution_count": 3,
   "metadata": {
    "collapsed": true
   },
   "outputs": [],
   "source": [
    "job_information_df_2008_2019 = pd.read_excel(\"../static/data/xlsx/Job Information.xlsx\", sheetname='2008-2019')"
   ]
  },
  {
   "cell_type": "code",
   "execution_count": 4,
   "metadata": {
    "collapsed": false
   },
   "outputs": [
    {
     "data": {
      "text/html": [
       "<div>\n",
       "<style>\n",
       "    .dataframe thead tr:only-child th {\n",
       "        text-align: right;\n",
       "    }\n",
       "\n",
       "    .dataframe thead th {\n",
       "        text-align: left;\n",
       "    }\n",
       "\n",
       "    .dataframe tbody tr th {\n",
       "        vertical-align: top;\n",
       "    }\n",
       "</style>\n",
       "<table border=\"1\" class=\"dataframe\">\n",
       "  <thead>\n",
       "    <tr style=\"text-align: right;\">\n",
       "      <th></th>\n",
       "      <th>SOC Code</th>\n",
       "      <th>Job Title</th>\n",
       "      <th>Job Family</th>\n",
       "      <th>Description</th>\n",
       "    </tr>\n",
       "  </thead>\n",
       "  <tbody>\n",
       "    <tr>\n",
       "      <th>0</th>\n",
       "      <td>00-0000</td>\n",
       "      <td>TOTAL AVERAGE</td>\n",
       "      <td>TOTAL AVERAGE</td>\n",
       "      <td>Average of all occupations</td>\n",
       "    </tr>\n",
       "    <tr>\n",
       "      <th>1</th>\n",
       "      <td>11-1011</td>\n",
       "      <td>Chief Executives</td>\n",
       "      <td>Management Occupations</td>\n",
       "      <td>Determine and formulate policies and provide o...</td>\n",
       "    </tr>\n",
       "    <tr>\n",
       "      <th>2</th>\n",
       "      <td>11-1021</td>\n",
       "      <td>General and Operations Managers</td>\n",
       "      <td>Management Occupations</td>\n",
       "      <td>Plan, direct, or coordinate the operations of ...</td>\n",
       "    </tr>\n",
       "    <tr>\n",
       "      <th>3</th>\n",
       "      <td>11-2011</td>\n",
       "      <td>Advertising and Promotions Managers</td>\n",
       "      <td>Management Occupations</td>\n",
       "      <td>Plan, direct, or coordinate advertising polici...</td>\n",
       "    </tr>\n",
       "    <tr>\n",
       "      <th>4</th>\n",
       "      <td>11-2021</td>\n",
       "      <td>Marketing Managers</td>\n",
       "      <td>Management Occupations</td>\n",
       "      <td>Plan, direct, or coordinate marketing policies...</td>\n",
       "    </tr>\n",
       "  </tbody>\n",
       "</table>\n",
       "</div>"
      ],
      "text/plain": [
       "  SOC Code                            Job Title              Job Family  \\\n",
       "0  00-0000                        TOTAL AVERAGE           TOTAL AVERAGE   \n",
       "1  11-1011                     Chief Executives  Management Occupations   \n",
       "2  11-1021      General and Operations Managers  Management Occupations   \n",
       "3  11-2011  Advertising and Promotions Managers  Management Occupations   \n",
       "4  11-2021                   Marketing Managers  Management Occupations   \n",
       "\n",
       "                                         Description  \n",
       "0                         Average of all occupations  \n",
       "1  Determine and formulate policies and provide o...  \n",
       "2  Plan, direct, or coordinate the operations of ...  \n",
       "3  Plan, direct, or coordinate advertising polici...  \n",
       "4  Plan, direct, or coordinate marketing policies...  "
      ]
     },
     "execution_count": 4,
     "metadata": {},
     "output_type": "execute_result"
    }
   ],
   "source": [
    "job_information_df_2008_2019[['SOC Code','Job Title', 'Job Family', 'Description']].head()"
   ]
  },
  {
   "cell_type": "code",
   "execution_count": 5,
   "metadata": {
    "collapsed": true
   },
   "outputs": [],
   "source": [
    "family_code = [soc_code.split('-')[0] for soc_code in job_information_df_2008_2019['SOC Code']]\n",
    "job_information_df_2008_2019['Family Code'] = family_code\n",
    "job_information_df_2008_2019 = job_information_df_2008_2019[['Family Code', 'SOC Code','Job Title', 'Job Family', 'Description']]\n",
    "job_information_df_2008_2019.columns = ['Family Code', 'Job Code','Job Title', 'Job Family', 'Description']"
   ]
  },
  {
   "cell_type": "code",
   "execution_count": 6,
   "metadata": {
    "collapsed": false
   },
   "outputs": [
    {
     "data": {
      "text/html": [
       "<div>\n",
       "<style>\n",
       "    .dataframe thead tr:only-child th {\n",
       "        text-align: right;\n",
       "    }\n",
       "\n",
       "    .dataframe thead th {\n",
       "        text-align: left;\n",
       "    }\n",
       "\n",
       "    .dataframe tbody tr th {\n",
       "        vertical-align: top;\n",
       "    }\n",
       "</style>\n",
       "<table border=\"1\" class=\"dataframe\">\n",
       "  <thead>\n",
       "    <tr style=\"text-align: right;\">\n",
       "      <th></th>\n",
       "      <th>Family Code</th>\n",
       "      <th>Job Code</th>\n",
       "      <th>Job Title</th>\n",
       "      <th>Job Family</th>\n",
       "      <th>Description</th>\n",
       "    </tr>\n",
       "  </thead>\n",
       "  <tbody>\n",
       "    <tr>\n",
       "      <th>0</th>\n",
       "      <td>00</td>\n",
       "      <td>00-0000</td>\n",
       "      <td>TOTAL AVERAGE</td>\n",
       "      <td>TOTAL AVERAGE</td>\n",
       "      <td>Average of all occupations</td>\n",
       "    </tr>\n",
       "    <tr>\n",
       "      <th>1</th>\n",
       "      <td>11</td>\n",
       "      <td>11-1011</td>\n",
       "      <td>Chief Executives</td>\n",
       "      <td>Management Occupations</td>\n",
       "      <td>Determine and formulate policies and provide o...</td>\n",
       "    </tr>\n",
       "    <tr>\n",
       "      <th>2</th>\n",
       "      <td>11</td>\n",
       "      <td>11-1021</td>\n",
       "      <td>General and Operations Managers</td>\n",
       "      <td>Management Occupations</td>\n",
       "      <td>Plan, direct, or coordinate the operations of ...</td>\n",
       "    </tr>\n",
       "    <tr>\n",
       "      <th>3</th>\n",
       "      <td>11</td>\n",
       "      <td>11-2011</td>\n",
       "      <td>Advertising and Promotions Managers</td>\n",
       "      <td>Management Occupations</td>\n",
       "      <td>Plan, direct, or coordinate advertising polici...</td>\n",
       "    </tr>\n",
       "    <tr>\n",
       "      <th>4</th>\n",
       "      <td>11</td>\n",
       "      <td>11-2021</td>\n",
       "      <td>Marketing Managers</td>\n",
       "      <td>Management Occupations</td>\n",
       "      <td>Plan, direct, or coordinate marketing policies...</td>\n",
       "    </tr>\n",
       "  </tbody>\n",
       "</table>\n",
       "</div>"
      ],
      "text/plain": [
       "  Family Code Job Code                            Job Title  \\\n",
       "0          00  00-0000                        TOTAL AVERAGE   \n",
       "1          11  11-1011                     Chief Executives   \n",
       "2          11  11-1021      General and Operations Managers   \n",
       "3          11  11-2011  Advertising and Promotions Managers   \n",
       "4          11  11-2021                   Marketing Managers   \n",
       "\n",
       "               Job Family                                        Description  \n",
       "0           TOTAL AVERAGE                         Average of all occupations  \n",
       "1  Management Occupations  Determine and formulate policies and provide o...  \n",
       "2  Management Occupations  Plan, direct, or coordinate the operations of ...  \n",
       "3  Management Occupations  Plan, direct, or coordinate advertising polici...  \n",
       "4  Management Occupations  Plan, direct, or coordinate marketing policies...  "
      ]
     },
     "execution_count": 6,
     "metadata": {},
     "output_type": "execute_result"
    }
   ],
   "source": [
    "job_information_df_2008_2019.head()"
   ]
  },
  {
   "cell_type": "code",
   "execution_count": 7,
   "metadata": {
    "collapsed": false
   },
   "outputs": [],
   "source": [
    "job_information_df_2008_2019.to_csv(\"../static/data/csv/jobs.csv\", index=False, encoding='utf-8')"
   ]
  },
  {
   "cell_type": "markdown",
   "metadata": {},
   "source": [
    "### Panel 1"
   ]
  },
  {
   "cell_type": "code",
   "execution_count": 8,
   "metadata": {
    "collapsed": true
   },
   "outputs": [],
   "source": [
    "job_information_df_2008 = pd.read_excel(\"../static/data/xlsx/Job Information.xlsx\", sheetname='2008')\n",
    "job_information_df_2019 = pd.read_excel(\"../static/data/xlsx/Job Information.xlsx\", sheetname='2019')\n",
    "job_information_df_2008_2019 = pd.read_excel(\"../static/data/xlsx/Job Information.xlsx\", sheetname='2008-2019')\n",
    "\n",
    "rank_label = pd.read_excel(\"../static/data/xlsx/Rank Label.xlsx\")"
   ]
  },
  {
   "cell_type": "code",
   "execution_count": 9,
   "metadata": {
    "collapsed": true
   },
   "outputs": [],
   "source": [
    "job_information_df_2008['Year'] = '2008'\n",
    "job_information_df_2019['Year'] = '2019'\n",
    "job_information_df_2008_2019['Year'] = '2008~2019'"
   ]
  },
  {
   "cell_type": "code",
   "execution_count": 10,
   "metadata": {
    "collapsed": true
   },
   "outputs": [],
   "source": [
    "job_information_df_2008['Job Automation Index Rank'] = [None] + job_information_df_2008['Job Automation Index'].iloc[1:].rank(ascending=0, method='first').tolist()\n",
    "job_information_df_2008['Job Automation Index Percentile'] = ['Top 50%'] + pd.merge(job_information_df_2008[['Job Automation Index Rank']], rank_label.rename(columns={\"Rank\": \"Job Automation Index Rank\"}), on='Job Automation Index Rank', how='left')['Label'].iloc[1:].tolist()\n",
    "\n",
    "job_information_df_2008['Employment Rank'] = [None] + job_information_df_2008['Employment'].iloc[1:].rank(ascending=0, method='first').tolist()\n",
    "job_information_df_2008['Employment Percentile'] = [None] + pd.merge(job_information_df_2008[['Employment Rank']], rank_label.rename(columns={\"Rank\": \"Employment Rank\"}), on='Employment Rank', how='left')['Label'].iloc[1:].tolist()\n",
    "\n",
    "job_information_df_2008['Annual Wage Rank'] = [None] + job_information_df_2008['Annual Wage'].iloc[1:].rank(ascending=0, method='first').tolist()\n",
    "job_information_df_2008['Annual Wage Percentile'] = ['Top 50%'] + pd.merge(job_information_df_2008[['Annual Wage Rank']], rank_label.rename(columns={\"Rank\": \"Annual Wage Rank\"}), on='Annual Wage Rank', how='left')['Label'].iloc[1:].tolist()"
   ]
  },
  {
   "cell_type": "code",
   "execution_count": 11,
   "metadata": {
    "collapsed": true
   },
   "outputs": [],
   "source": [
    "job_information_df_2019['Job Automation Index Rank'] = [None] + job_information_df_2019['Job Automation Index'].iloc[1:].rank(ascending=0, method='first').tolist()\n",
    "job_information_df_2019['Job Automation Index Percentile'] = ['Top 50%'] + pd.merge(job_information_df_2019[['Job Automation Index Rank']], rank_label.rename(columns={\"Rank\": \"Job Automation Index Rank\"}), on='Job Automation Index Rank', how='left')['Label'].iloc[1:].tolist()\n",
    "\n",
    "job_information_df_2019['Employment Rank'] = [None] + job_information_df_2019['Employment'].iloc[1:].rank(ascending=0, method='first').tolist()\n",
    "job_information_df_2019['Employment Percentile'] = [None] + pd.merge(job_information_df_2019[['Employment Rank']], rank_label.rename(columns={\"Rank\": \"Employment Rank\"}), on='Employment Rank', how='left')['Label'].iloc[1:].tolist()\n",
    "\n",
    "job_information_df_2019['Annual Wage Rank'] = [None] + job_information_df_2019['Annual Wage'].iloc[1:].rank(ascending=0, method='first').tolist()\n",
    "job_information_df_2019['Annual Wage Percentile'] = ['Top 50%'] + pd.merge(job_information_df_2019[['Annual Wage Rank']], rank_label.rename(columns={\"Rank\": \"Annual Wage Rank\"}), on='Annual Wage Rank', how='left')['Label'].iloc[1:].tolist()"
   ]
  },
  {
   "cell_type": "code",
   "execution_count": 12,
   "metadata": {
    "collapsed": false
   },
   "outputs": [],
   "source": [
    "job_information_df_2008_2019['Job Automation Index Change'] = job_information_df_2008_2019['Job Automation Index']\n",
    "\n",
    "job_information_df_2008_2019['Job Automation Index'] = None\n",
    "\n",
    "job_information_df_2008_2019['Job Automation Index Change Rank'] = [None] + job_information_df_2008_2019['Job Automation Index Change'].iloc[1:].rank(ascending=0, method='first').tolist()\n",
    "job_information_df_2008_2019['Job Automation Index Change Percentile'] = ['Top 50%'] + pd.merge(job_information_df_2008_2019[['Job Automation Index Change Rank']], rank_label.rename(columns={\"Rank\": \"Job Automation Index Change Rank\"}), on='Job Automation Index Change Rank', how='left')['Label'].iloc[1:].tolist()\n",
    "\n",
    "job_information_df_2008_2019['Wage Share Change Rank'] = [None] + job_information_df_2008_2019['Wage Share Change'].iloc[1:].rank(ascending=0, method='first').tolist()\n",
    "job_information_df_2008_2019['Wage Share Change Percentile']= [None] + pd.merge(job_information_df_2008_2019[['Wage Share Change Rank']], rank_label.rename(columns={\"Rank\": \"Wage Share Change Rank\"}), on='Wage Share Change Rank', how='left')['Label'].iloc[1:].tolist()"
   ]
  },
  {
   "cell_type": "code",
   "execution_count": 13,
   "metadata": {
    "collapsed": false
   },
   "outputs": [
    {
     "data": {
      "text/html": [
       "<div>\n",
       "<style>\n",
       "    .dataframe thead tr:only-child th {\n",
       "        text-align: right;\n",
       "    }\n",
       "\n",
       "    .dataframe thead th {\n",
       "        text-align: left;\n",
       "    }\n",
       "\n",
       "    .dataframe tbody tr th {\n",
       "        vertical-align: top;\n",
       "    }\n",
       "</style>\n",
       "<table border=\"1\" class=\"dataframe\">\n",
       "  <thead>\n",
       "    <tr style=\"text-align: right;\">\n",
       "      <th></th>\n",
       "      <th>SOC Code</th>\n",
       "      <th>Job Title</th>\n",
       "      <th>Job Family</th>\n",
       "      <th>Description</th>\n",
       "      <th>Job Automation Index</th>\n",
       "      <th>Wage Share Change</th>\n",
       "      <th>Year</th>\n",
       "      <th>Job Automation Index Change</th>\n",
       "      <th>Job Automation Index Change Rank</th>\n",
       "      <th>Job Automation Index Change Percentile</th>\n",
       "      <th>Wage Share Change Rank</th>\n",
       "      <th>Wage Share Change Percentile</th>\n",
       "    </tr>\n",
       "  </thead>\n",
       "  <tbody>\n",
       "    <tr>\n",
       "      <th>0</th>\n",
       "      <td>00-0000</td>\n",
       "      <td>TOTAL AVERAGE</td>\n",
       "      <td>TOTAL AVERAGE</td>\n",
       "      <td>Average of all occupations</td>\n",
       "      <td>None</td>\n",
       "      <td>NaN</td>\n",
       "      <td>2008~2019</td>\n",
       "      <td>0.006322</td>\n",
       "      <td>NaN</td>\n",
       "      <td>Top 50%</td>\n",
       "      <td>NaN</td>\n",
       "      <td>None</td>\n",
       "    </tr>\n",
       "    <tr>\n",
       "      <th>1</th>\n",
       "      <td>11-1011</td>\n",
       "      <td>Chief Executives</td>\n",
       "      <td>Management Occupations</td>\n",
       "      <td>Determine and formulate policies and provide o...</td>\n",
       "      <td>None</td>\n",
       "      <td>-0.003623</td>\n",
       "      <td>2008~2019</td>\n",
       "      <td>0.007055</td>\n",
       "      <td>322.0</td>\n",
       "      <td>Bottom 50%</td>\n",
       "      <td>639.0</td>\n",
       "      <td>Bottom 5%</td>\n",
       "    </tr>\n",
       "    <tr>\n",
       "      <th>2</th>\n",
       "      <td>11-1021</td>\n",
       "      <td>General and Operations Managers</td>\n",
       "      <td>Management Occupations</td>\n",
       "      <td>Plan, direct, or coordinate the operations of ...</td>\n",
       "      <td>None</td>\n",
       "      <td>0.006734</td>\n",
       "      <td>2008~2019</td>\n",
       "      <td>0.011908</td>\n",
       "      <td>192.0</td>\n",
       "      <td>Top 30%</td>\n",
       "      <td>1.0</td>\n",
       "      <td>Top 1%</td>\n",
       "    </tr>\n",
       "    <tr>\n",
       "      <th>3</th>\n",
       "      <td>11-2011</td>\n",
       "      <td>Advertising and Promotions Managers</td>\n",
       "      <td>Management Occupations</td>\n",
       "      <td>Plan, direct, or coordinate advertising polici...</td>\n",
       "      <td>None</td>\n",
       "      <td>-0.000165</td>\n",
       "      <td>2008~2019</td>\n",
       "      <td>0.006692</td>\n",
       "      <td>335.0</td>\n",
       "      <td>Bottom 50%</td>\n",
       "      <td>525.0</td>\n",
       "      <td>Bottom 20%</td>\n",
       "    </tr>\n",
       "    <tr>\n",
       "      <th>4</th>\n",
       "      <td>11-2021</td>\n",
       "      <td>Marketing Managers</td>\n",
       "      <td>Management Occupations</td>\n",
       "      <td>Plan, direct, or coordinate marketing policies...</td>\n",
       "      <td>None</td>\n",
       "      <td>0.001463</td>\n",
       "      <td>2008~2019</td>\n",
       "      <td>0.001415</td>\n",
       "      <td>466.0</td>\n",
       "      <td>Bottom 30%</td>\n",
       "      <td>13.0</td>\n",
       "      <td>Top 5%</td>\n",
       "    </tr>\n",
       "  </tbody>\n",
       "</table>\n",
       "</div>"
      ],
      "text/plain": [
       "  SOC Code                            Job Title              Job Family  \\\n",
       "0  00-0000                        TOTAL AVERAGE           TOTAL AVERAGE   \n",
       "1  11-1011                     Chief Executives  Management Occupations   \n",
       "2  11-1021      General and Operations Managers  Management Occupations   \n",
       "3  11-2011  Advertising and Promotions Managers  Management Occupations   \n",
       "4  11-2021                   Marketing Managers  Management Occupations   \n",
       "\n",
       "                                         Description Job Automation Index  \\\n",
       "0                         Average of all occupations                 None   \n",
       "1  Determine and formulate policies and provide o...                 None   \n",
       "2  Plan, direct, or coordinate the operations of ...                 None   \n",
       "3  Plan, direct, or coordinate advertising polici...                 None   \n",
       "4  Plan, direct, or coordinate marketing policies...                 None   \n",
       "\n",
       "   Wage Share Change       Year  Job Automation Index Change  \\\n",
       "0                NaN  2008~2019                     0.006322   \n",
       "1          -0.003623  2008~2019                     0.007055   \n",
       "2           0.006734  2008~2019                     0.011908   \n",
       "3          -0.000165  2008~2019                     0.006692   \n",
       "4           0.001463  2008~2019                     0.001415   \n",
       "\n",
       "   Job Automation Index Change Rank Job Automation Index Change Percentile  \\\n",
       "0                               NaN                                Top 50%   \n",
       "1                             322.0                             Bottom 50%   \n",
       "2                             192.0                                Top 30%   \n",
       "3                             335.0                             Bottom 50%   \n",
       "4                             466.0                             Bottom 30%   \n",
       "\n",
       "   Wage Share Change Rank Wage Share Change Percentile  \n",
       "0                     NaN                         None  \n",
       "1                   639.0                    Bottom 5%  \n",
       "2                     1.0                       Top 1%  \n",
       "3                   525.0                   Bottom 20%  \n",
       "4                    13.0                       Top 5%  "
      ]
     },
     "execution_count": 13,
     "metadata": {},
     "output_type": "execute_result"
    }
   ],
   "source": [
    "job_information_df_2008_2019.head()"
   ]
  },
  {
   "cell_type": "code",
   "execution_count": 14,
   "metadata": {
    "collapsed": true
   },
   "outputs": [],
   "source": [
    "panel1_df = pd.DataFrame()\n",
    "panel1_df = panel1_df.append(job_information_df_2008)\n",
    "panel1_df = panel1_df.append(job_information_df_2019)\n",
    "panel1_df = panel1_df.append(job_information_df_2008_2019)"
   ]
  },
  {
   "cell_type": "code",
   "execution_count": 15,
   "metadata": {
    "collapsed": true
   },
   "outputs": [],
   "source": [
    "panel1_df = panel1_df[['Year','SOC Code','Job Title','Description','Job Automation Index', 'Job Automation Index Rank','Job Automation Index Percentile',\n",
    "                       'Employment', 'Employment Rank','Employment Percentile', \n",
    "                       'Annual Wage', 'Annual Wage Rank', 'Annual Wage Percentile', \n",
    "                       'Job Automation Index Change', 'Job Automation Index Change Rank','Job Automation Index Change Percentile',\n",
    "                       'Wage Share Change', 'Wage Share Change Rank', 'Wage Share Change Percentile',]]"
   ]
  },
  {
   "cell_type": "code",
   "execution_count": 16,
   "metadata": {
    "collapsed": false
   },
   "outputs": [
    {
     "data": {
      "text/html": [
       "<div>\n",
       "<style>\n",
       "    .dataframe thead tr:only-child th {\n",
       "        text-align: right;\n",
       "    }\n",
       "\n",
       "    .dataframe thead th {\n",
       "        text-align: left;\n",
       "    }\n",
       "\n",
       "    .dataframe tbody tr th {\n",
       "        vertical-align: top;\n",
       "    }\n",
       "</style>\n",
       "<table border=\"1\" class=\"dataframe\">\n",
       "  <thead>\n",
       "    <tr style=\"text-align: right;\">\n",
       "      <th></th>\n",
       "      <th>Year</th>\n",
       "      <th>SOC Code</th>\n",
       "      <th>Job Title</th>\n",
       "      <th>Description</th>\n",
       "      <th>Job Automation Index</th>\n",
       "      <th>Job Automation Index Rank</th>\n",
       "      <th>Job Automation Index Percentile</th>\n",
       "      <th>Employment</th>\n",
       "      <th>Employment Rank</th>\n",
       "      <th>Employment Percentile</th>\n",
       "      <th>Annual Wage</th>\n",
       "      <th>Annual Wage Rank</th>\n",
       "      <th>Annual Wage Percentile</th>\n",
       "      <th>Job Automation Index Change</th>\n",
       "      <th>Job Automation Index Change Rank</th>\n",
       "      <th>Job Automation Index Change Percentile</th>\n",
       "      <th>Wage Share Change</th>\n",
       "      <th>Wage Share Change Rank</th>\n",
       "      <th>Wage Share Change Percentile</th>\n",
       "    </tr>\n",
       "  </thead>\n",
       "  <tbody>\n",
       "    <tr>\n",
       "      <th>0</th>\n",
       "      <td>2008</td>\n",
       "      <td>00-0000</td>\n",
       "      <td>TOTAL AVERAGE</td>\n",
       "      <td>Average of all occupations</td>\n",
       "      <td>0.486269</td>\n",
       "      <td>NaN</td>\n",
       "      <td>Top 50%</td>\n",
       "      <td>NaN</td>\n",
       "      <td>NaN</td>\n",
       "      <td>None</td>\n",
       "      <td>42270.0</td>\n",
       "      <td>NaN</td>\n",
       "      <td>Top 50%</td>\n",
       "      <td>NaN</td>\n",
       "      <td>NaN</td>\n",
       "      <td>NaN</td>\n",
       "      <td>NaN</td>\n",
       "      <td>NaN</td>\n",
       "      <td>NaN</td>\n",
       "    </tr>\n",
       "    <tr>\n",
       "      <th>1</th>\n",
       "      <td>2008</td>\n",
       "      <td>11-1011</td>\n",
       "      <td>Chief Executives</td>\n",
       "      <td>Determine and formulate policies and provide o...</td>\n",
       "      <td>0.476988</td>\n",
       "      <td>397.0</td>\n",
       "      <td>Bottom 40%</td>\n",
       "      <td>301930.0</td>\n",
       "      <td>90.0</td>\n",
       "      <td>Top 15%</td>\n",
       "      <td>160440.0</td>\n",
       "      <td>9.0</td>\n",
       "      <td>Top 5%</td>\n",
       "      <td>NaN</td>\n",
       "      <td>NaN</td>\n",
       "      <td>NaN</td>\n",
       "      <td>NaN</td>\n",
       "      <td>NaN</td>\n",
       "      <td>NaN</td>\n",
       "    </tr>\n",
       "    <tr>\n",
       "      <th>2</th>\n",
       "      <td>2008</td>\n",
       "      <td>11-1021</td>\n",
       "      <td>General and Operations Managers</td>\n",
       "      <td>Plan, direct, or coordinate the operations of ...</td>\n",
       "      <td>0.47494</td>\n",
       "      <td>433.0</td>\n",
       "      <td>Bottom 35%</td>\n",
       "      <td>1697690.0</td>\n",
       "      <td>13.0</td>\n",
       "      <td>Top 5%</td>\n",
       "      <td>107970.0</td>\n",
       "      <td>24.0</td>\n",
       "      <td>Top 5%</td>\n",
       "      <td>NaN</td>\n",
       "      <td>NaN</td>\n",
       "      <td>NaN</td>\n",
       "      <td>NaN</td>\n",
       "      <td>NaN</td>\n",
       "      <td>NaN</td>\n",
       "    </tr>\n",
       "    <tr>\n",
       "      <th>3</th>\n",
       "      <td>2008</td>\n",
       "      <td>11-2011</td>\n",
       "      <td>Advertising and Promotions Managers</td>\n",
       "      <td>Plan, direct, or coordinate advertising polici...</td>\n",
       "      <td>0.475223</td>\n",
       "      <td>425.0</td>\n",
       "      <td>Bottom 35%</td>\n",
       "      <td>36100.0</td>\n",
       "      <td>392.0</td>\n",
       "      <td>Bottom 40%</td>\n",
       "      <td>94720.0</td>\n",
       "      <td>38.0</td>\n",
       "      <td>Top 10%</td>\n",
       "      <td>NaN</td>\n",
       "      <td>NaN</td>\n",
       "      <td>NaN</td>\n",
       "      <td>NaN</td>\n",
       "      <td>NaN</td>\n",
       "      <td>NaN</td>\n",
       "    </tr>\n",
       "    <tr>\n",
       "      <th>4</th>\n",
       "      <td>2008</td>\n",
       "      <td>11-2021</td>\n",
       "      <td>Marketing Managers</td>\n",
       "      <td>Plan, direct, or coordinate marketing policies...</td>\n",
       "      <td>0.475687</td>\n",
       "      <td>419.0</td>\n",
       "      <td>Bottom 35%</td>\n",
       "      <td>166790.0</td>\n",
       "      <td>157.0</td>\n",
       "      <td>Top 25%</td>\n",
       "      <td>118160.0</td>\n",
       "      <td>20.0</td>\n",
       "      <td>Top 5%</td>\n",
       "      <td>NaN</td>\n",
       "      <td>NaN</td>\n",
       "      <td>NaN</td>\n",
       "      <td>NaN</td>\n",
       "      <td>NaN</td>\n",
       "      <td>NaN</td>\n",
       "    </tr>\n",
       "  </tbody>\n",
       "</table>\n",
       "</div>"
      ],
      "text/plain": [
       "   Year SOC Code                            Job Title  \\\n",
       "0  2008  00-0000                        TOTAL AVERAGE   \n",
       "1  2008  11-1011                     Chief Executives   \n",
       "2  2008  11-1021      General and Operations Managers   \n",
       "3  2008  11-2011  Advertising and Promotions Managers   \n",
       "4  2008  11-2021                   Marketing Managers   \n",
       "\n",
       "                                         Description Job Automation Index  \\\n",
       "0                         Average of all occupations             0.486269   \n",
       "1  Determine and formulate policies and provide o...             0.476988   \n",
       "2  Plan, direct, or coordinate the operations of ...              0.47494   \n",
       "3  Plan, direct, or coordinate advertising polici...             0.475223   \n",
       "4  Plan, direct, or coordinate marketing policies...             0.475687   \n",
       "\n",
       "   Job Automation Index Rank Job Automation Index Percentile  Employment  \\\n",
       "0                        NaN                         Top 50%         NaN   \n",
       "1                      397.0                      Bottom 40%    301930.0   \n",
       "2                      433.0                      Bottom 35%   1697690.0   \n",
       "3                      425.0                      Bottom 35%     36100.0   \n",
       "4                      419.0                      Bottom 35%    166790.0   \n",
       "\n",
       "   Employment Rank Employment Percentile  Annual Wage  Annual Wage Rank  \\\n",
       "0              NaN                  None      42270.0               NaN   \n",
       "1             90.0               Top 15%     160440.0               9.0   \n",
       "2             13.0                Top 5%     107970.0              24.0   \n",
       "3            392.0            Bottom 40%      94720.0              38.0   \n",
       "4            157.0               Top 25%     118160.0              20.0   \n",
       "\n",
       "  Annual Wage Percentile  Job Automation Index Change  \\\n",
       "0                Top 50%                          NaN   \n",
       "1                 Top 5%                          NaN   \n",
       "2                 Top 5%                          NaN   \n",
       "3                Top 10%                          NaN   \n",
       "4                 Top 5%                          NaN   \n",
       "\n",
       "   Job Automation Index Change Rank Job Automation Index Change Percentile  \\\n",
       "0                               NaN                                    NaN   \n",
       "1                               NaN                                    NaN   \n",
       "2                               NaN                                    NaN   \n",
       "3                               NaN                                    NaN   \n",
       "4                               NaN                                    NaN   \n",
       "\n",
       "   Wage Share Change  Wage Share Change Rank Wage Share Change Percentile  \n",
       "0                NaN                     NaN                          NaN  \n",
       "1                NaN                     NaN                          NaN  \n",
       "2                NaN                     NaN                          NaN  \n",
       "3                NaN                     NaN                          NaN  \n",
       "4                NaN                     NaN                          NaN  "
      ]
     },
     "execution_count": 16,
     "metadata": {},
     "output_type": "execute_result"
    }
   ],
   "source": [
    "panel1_df.head()"
   ]
  },
  {
   "cell_type": "code",
   "execution_count": 17,
   "metadata": {
    "collapsed": true
   },
   "outputs": [],
   "source": [
    "panel1_df = panel1_df.rename({'SOC Code': 'Job Code'})"
   ]
  },
  {
   "cell_type": "code",
   "execution_count": 18,
   "metadata": {
    "collapsed": false
   },
   "outputs": [],
   "source": [
    "panel1_df.to_csv(\"../static/data/csv/Panel 1.csv\", index=False, encoding='utf-8')"
   ]
  },
  {
   "cell_type": "markdown",
   "metadata": {},
   "source": [
    "## Task-Level Automation"
   ]
  },
  {
   "cell_type": "markdown",
   "metadata": {},
   "source": [
    "### Panel 2"
   ]
  },
  {
   "cell_type": "code",
   "execution_count": 19,
   "metadata": {
    "collapsed": true
   },
   "outputs": [],
   "source": [
    "task_automation_df_2008 = pd.read_excel(\"../static/data/xlsx/Task-Level Automation.xlsx\", sheetname='2008')\n",
    "task_automation_df_2019 = pd.read_excel(\"../static/data/xlsx/Task-Level Automation.xlsx\", sheetname='2019')\n",
    "task_automation_df_2008_2019 = pd.read_excel(\"../static/data/xlsx/Task-Level Automation.xlsx\", sheetname='2008-2019')"
   ]
  },
  {
   "cell_type": "code",
   "execution_count": 20,
   "metadata": {
    "collapsed": true
   },
   "outputs": [],
   "source": [
    "task_automation_df_2008['Year'] = '2008'\n",
    "task_automation_df_2019['Year'] = '2019'\n",
    "task_automation_df_2008_2019['Year'] = '2008~2019'"
   ]
  },
  {
   "cell_type": "code",
   "execution_count": 21,
   "metadata": {
    "collapsed": true
   },
   "outputs": [],
   "source": [
    "panel2_df = pd.DataFrame()\n",
    "panel2_df = panel2_df.append(task_automation_df_2008[['Year','SOC Code','Job Title','Race with the Machine','Race against the Machine','Race ahead of the Machine','Running a Different Race']])\n",
    "panel2_df = panel2_df.append(task_automation_df_2019[['Year','SOC Code','Job Title','Race with the Machine','Race against the Machine','Race ahead of the Machine','Running a Different Race']])\n",
    "panel2_df = panel2_df.append(task_automation_df_2008_2019[['Year','SOC Code','Job Title','Race with the Machine','Race against the Machine','Race ahead of the Machine','Running a Different Race']])"
   ]
  },
  {
   "cell_type": "code",
   "execution_count": 22,
   "metadata": {
    "collapsed": false
   },
   "outputs": [
    {
     "data": {
      "text/html": [
       "<div>\n",
       "<style>\n",
       "    .dataframe thead tr:only-child th {\n",
       "        text-align: right;\n",
       "    }\n",
       "\n",
       "    .dataframe thead th {\n",
       "        text-align: left;\n",
       "    }\n",
       "\n",
       "    .dataframe tbody tr th {\n",
       "        vertical-align: top;\n",
       "    }\n",
       "</style>\n",
       "<table border=\"1\" class=\"dataframe\">\n",
       "  <thead>\n",
       "    <tr style=\"text-align: right;\">\n",
       "      <th></th>\n",
       "      <th>SOC Code</th>\n",
       "      <th>Job Title</th>\n",
       "      <th>Job Family</th>\n",
       "      <th>Description</th>\n",
       "      <th>Job Automation Index</th>\n",
       "      <th>Wage Share Change</th>\n",
       "      <th>Year</th>\n",
       "      <th>Job Automation Index Change</th>\n",
       "      <th>Job Automation Index Change Rank</th>\n",
       "      <th>Job Automation Index Change Percentile</th>\n",
       "      <th>Wage Share Change Rank</th>\n",
       "      <th>Wage Share Change Percentile</th>\n",
       "    </tr>\n",
       "  </thead>\n",
       "  <tbody>\n",
       "    <tr>\n",
       "      <th>0</th>\n",
       "      <td>00-0000</td>\n",
       "      <td>TOTAL AVERAGE</td>\n",
       "      <td>TOTAL AVERAGE</td>\n",
       "      <td>Average of all occupations</td>\n",
       "      <td>None</td>\n",
       "      <td>NaN</td>\n",
       "      <td>2008~2019</td>\n",
       "      <td>0.006322</td>\n",
       "      <td>NaN</td>\n",
       "      <td>Top 50%</td>\n",
       "      <td>NaN</td>\n",
       "      <td>None</td>\n",
       "    </tr>\n",
       "    <tr>\n",
       "      <th>1</th>\n",
       "      <td>11-1011</td>\n",
       "      <td>Chief Executives</td>\n",
       "      <td>Management Occupations</td>\n",
       "      <td>Determine and formulate policies and provide o...</td>\n",
       "      <td>None</td>\n",
       "      <td>-0.003623</td>\n",
       "      <td>2008~2019</td>\n",
       "      <td>0.007055</td>\n",
       "      <td>322.0</td>\n",
       "      <td>Bottom 50%</td>\n",
       "      <td>639.0</td>\n",
       "      <td>Bottom 5%</td>\n",
       "    </tr>\n",
       "    <tr>\n",
       "      <th>2</th>\n",
       "      <td>11-1021</td>\n",
       "      <td>General and Operations Managers</td>\n",
       "      <td>Management Occupations</td>\n",
       "      <td>Plan, direct, or coordinate the operations of ...</td>\n",
       "      <td>None</td>\n",
       "      <td>0.006734</td>\n",
       "      <td>2008~2019</td>\n",
       "      <td>0.011908</td>\n",
       "      <td>192.0</td>\n",
       "      <td>Top 30%</td>\n",
       "      <td>1.0</td>\n",
       "      <td>Top 1%</td>\n",
       "    </tr>\n",
       "    <tr>\n",
       "      <th>3</th>\n",
       "      <td>11-2011</td>\n",
       "      <td>Advertising and Promotions Managers</td>\n",
       "      <td>Management Occupations</td>\n",
       "      <td>Plan, direct, or coordinate advertising polici...</td>\n",
       "      <td>None</td>\n",
       "      <td>-0.000165</td>\n",
       "      <td>2008~2019</td>\n",
       "      <td>0.006692</td>\n",
       "      <td>335.0</td>\n",
       "      <td>Bottom 50%</td>\n",
       "      <td>525.0</td>\n",
       "      <td>Bottom 20%</td>\n",
       "    </tr>\n",
       "    <tr>\n",
       "      <th>4</th>\n",
       "      <td>11-2021</td>\n",
       "      <td>Marketing Managers</td>\n",
       "      <td>Management Occupations</td>\n",
       "      <td>Plan, direct, or coordinate marketing policies...</td>\n",
       "      <td>None</td>\n",
       "      <td>0.001463</td>\n",
       "      <td>2008~2019</td>\n",
       "      <td>0.001415</td>\n",
       "      <td>466.0</td>\n",
       "      <td>Bottom 30%</td>\n",
       "      <td>13.0</td>\n",
       "      <td>Top 5%</td>\n",
       "    </tr>\n",
       "  </tbody>\n",
       "</table>\n",
       "</div>"
      ],
      "text/plain": [
       "  SOC Code                            Job Title              Job Family  \\\n",
       "0  00-0000                        TOTAL AVERAGE           TOTAL AVERAGE   \n",
       "1  11-1011                     Chief Executives  Management Occupations   \n",
       "2  11-1021      General and Operations Managers  Management Occupations   \n",
       "3  11-2011  Advertising and Promotions Managers  Management Occupations   \n",
       "4  11-2021                   Marketing Managers  Management Occupations   \n",
       "\n",
       "                                         Description Job Automation Index  \\\n",
       "0                         Average of all occupations                 None   \n",
       "1  Determine and formulate policies and provide o...                 None   \n",
       "2  Plan, direct, or coordinate the operations of ...                 None   \n",
       "3  Plan, direct, or coordinate advertising polici...                 None   \n",
       "4  Plan, direct, or coordinate marketing policies...                 None   \n",
       "\n",
       "   Wage Share Change       Year  Job Automation Index Change  \\\n",
       "0                NaN  2008~2019                     0.006322   \n",
       "1          -0.003623  2008~2019                     0.007055   \n",
       "2           0.006734  2008~2019                     0.011908   \n",
       "3          -0.000165  2008~2019                     0.006692   \n",
       "4           0.001463  2008~2019                     0.001415   \n",
       "\n",
       "   Job Automation Index Change Rank Job Automation Index Change Percentile  \\\n",
       "0                               NaN                                Top 50%   \n",
       "1                             322.0                             Bottom 50%   \n",
       "2                             192.0                                Top 30%   \n",
       "3                             335.0                             Bottom 50%   \n",
       "4                             466.0                             Bottom 30%   \n",
       "\n",
       "   Wage Share Change Rank Wage Share Change Percentile  \n",
       "0                     NaN                         None  \n",
       "1                   639.0                    Bottom 5%  \n",
       "2                     1.0                       Top 1%  \n",
       "3                   525.0                   Bottom 20%  \n",
       "4                    13.0                       Top 5%  "
      ]
     },
     "execution_count": 22,
     "metadata": {},
     "output_type": "execute_result"
    }
   ],
   "source": [
    "job_information_df_2008_2019.head()"
   ]
  },
  {
   "cell_type": "code",
   "execution_count": 23,
   "metadata": {
    "collapsed": false
   },
   "outputs": [],
   "source": [
    "panel2_df = panel2_df.merge(job_information_df_2008_2019[['SOC Code','Job Family']], on='SOC Code', how='left')"
   ]
  },
  {
   "cell_type": "code",
   "execution_count": 24,
   "metadata": {
    "collapsed": false
   },
   "outputs": [
    {
     "data": {
      "text/html": [
       "<div>\n",
       "<style>\n",
       "    .dataframe thead tr:only-child th {\n",
       "        text-align: right;\n",
       "    }\n",
       "\n",
       "    .dataframe thead th {\n",
       "        text-align: left;\n",
       "    }\n",
       "\n",
       "    .dataframe tbody tr th {\n",
       "        vertical-align: top;\n",
       "    }\n",
       "</style>\n",
       "<table border=\"1\" class=\"dataframe\">\n",
       "  <thead>\n",
       "    <tr style=\"text-align: right;\">\n",
       "      <th></th>\n",
       "      <th>Year</th>\n",
       "      <th>SOC Code</th>\n",
       "      <th>Job Title</th>\n",
       "      <th>Race with the Machine</th>\n",
       "      <th>Race against the Machine</th>\n",
       "      <th>Race ahead of the Machine</th>\n",
       "      <th>Running a Different Race</th>\n",
       "      <th>Job Family</th>\n",
       "    </tr>\n",
       "  </thead>\n",
       "  <tbody>\n",
       "    <tr>\n",
       "      <th>0</th>\n",
       "      <td>2008</td>\n",
       "      <td>00-0000</td>\n",
       "      <td>TOTAL AVERAGE</td>\n",
       "      <td>0.092712</td>\n",
       "      <td>0.236456</td>\n",
       "      <td>0.052123</td>\n",
       "      <td>0.104977</td>\n",
       "      <td>TOTAL AVERAGE</td>\n",
       "    </tr>\n",
       "    <tr>\n",
       "      <th>1</th>\n",
       "      <td>2008</td>\n",
       "      <td>11-1011</td>\n",
       "      <td>Chief Executives</td>\n",
       "      <td>0.133970</td>\n",
       "      <td>0.128483</td>\n",
       "      <td>0.105247</td>\n",
       "      <td>0.109288</td>\n",
       "      <td>Management Occupations</td>\n",
       "    </tr>\n",
       "    <tr>\n",
       "      <th>2</th>\n",
       "      <td>2008</td>\n",
       "      <td>11-1021</td>\n",
       "      <td>General and Operations Managers</td>\n",
       "      <td>0.132244</td>\n",
       "      <td>0.116155</td>\n",
       "      <td>0.080950</td>\n",
       "      <td>0.145591</td>\n",
       "      <td>Management Occupations</td>\n",
       "    </tr>\n",
       "    <tr>\n",
       "      <th>3</th>\n",
       "      <td>2008</td>\n",
       "      <td>11-2011</td>\n",
       "      <td>Advertising and Promotions Managers</td>\n",
       "      <td>0.169479</td>\n",
       "      <td>0.130309</td>\n",
       "      <td>0.080936</td>\n",
       "      <td>0.094499</td>\n",
       "      <td>Management Occupations</td>\n",
       "    </tr>\n",
       "    <tr>\n",
       "      <th>4</th>\n",
       "      <td>2008</td>\n",
       "      <td>11-2021</td>\n",
       "      <td>Marketing Managers</td>\n",
       "      <td>0.182354</td>\n",
       "      <td>0.091652</td>\n",
       "      <td>0.112406</td>\n",
       "      <td>0.089276</td>\n",
       "      <td>Management Occupations</td>\n",
       "    </tr>\n",
       "  </tbody>\n",
       "</table>\n",
       "</div>"
      ],
      "text/plain": [
       "   Year SOC Code                            Job Title  Race with the Machine  \\\n",
       "0  2008  00-0000                        TOTAL AVERAGE               0.092712   \n",
       "1  2008  11-1011                     Chief Executives               0.133970   \n",
       "2  2008  11-1021      General and Operations Managers               0.132244   \n",
       "3  2008  11-2011  Advertising and Promotions Managers               0.169479   \n",
       "4  2008  11-2021                   Marketing Managers               0.182354   \n",
       "\n",
       "   Race against the Machine  Race ahead of the Machine  \\\n",
       "0                  0.236456                   0.052123   \n",
       "1                  0.128483                   0.105247   \n",
       "2                  0.116155                   0.080950   \n",
       "3                  0.130309                   0.080936   \n",
       "4                  0.091652                   0.112406   \n",
       "\n",
       "   Running a Different Race              Job Family  \n",
       "0                  0.104977           TOTAL AVERAGE  \n",
       "1                  0.109288  Management Occupations  \n",
       "2                  0.145591  Management Occupations  \n",
       "3                  0.094499  Management Occupations  \n",
       "4                  0.089276  Management Occupations  "
      ]
     },
     "execution_count": 24,
     "metadata": {},
     "output_type": "execute_result"
    }
   ],
   "source": [
    "panel2_df.head()"
   ]
  },
  {
   "cell_type": "code",
   "execution_count": 25,
   "metadata": {
    "collapsed": true
   },
   "outputs": [],
   "source": [
    "panel2_df = panel2_df[['Year','SOC Code','Job Title','Job Family', 'Race with the Machine', 'Race against the Machine', 'Race ahead of the Machine', 'Running a Different Race']]"
   ]
  },
  {
   "cell_type": "code",
   "execution_count": 26,
   "metadata": {
    "collapsed": true
   },
   "outputs": [],
   "source": [
    "panel2_df = panel2_df.rename(columns={'SOC Code': 'Job Code'})"
   ]
  },
  {
   "cell_type": "code",
   "execution_count": 27,
   "metadata": {
    "collapsed": false
   },
   "outputs": [
    {
     "data": {
      "text/html": [
       "<div>\n",
       "<style>\n",
       "    .dataframe thead tr:only-child th {\n",
       "        text-align: right;\n",
       "    }\n",
       "\n",
       "    .dataframe thead th {\n",
       "        text-align: left;\n",
       "    }\n",
       "\n",
       "    .dataframe tbody tr th {\n",
       "        vertical-align: top;\n",
       "    }\n",
       "</style>\n",
       "<table border=\"1\" class=\"dataframe\">\n",
       "  <thead>\n",
       "    <tr style=\"text-align: right;\">\n",
       "      <th></th>\n",
       "      <th>Year</th>\n",
       "      <th>Job Code</th>\n",
       "      <th>Job Title</th>\n",
       "      <th>Job Family</th>\n",
       "      <th>Race with the Machine</th>\n",
       "      <th>Race against the Machine</th>\n",
       "      <th>Race ahead of the Machine</th>\n",
       "      <th>Running a Different Race</th>\n",
       "    </tr>\n",
       "  </thead>\n",
       "  <tbody>\n",
       "    <tr>\n",
       "      <th>0</th>\n",
       "      <td>2008</td>\n",
       "      <td>00-0000</td>\n",
       "      <td>TOTAL AVERAGE</td>\n",
       "      <td>TOTAL AVERAGE</td>\n",
       "      <td>0.092712</td>\n",
       "      <td>0.236456</td>\n",
       "      <td>0.052123</td>\n",
       "      <td>0.104977</td>\n",
       "    </tr>\n",
       "    <tr>\n",
       "      <th>1</th>\n",
       "      <td>2008</td>\n",
       "      <td>11-1011</td>\n",
       "      <td>Chief Executives</td>\n",
       "      <td>Management Occupations</td>\n",
       "      <td>0.133970</td>\n",
       "      <td>0.128483</td>\n",
       "      <td>0.105247</td>\n",
       "      <td>0.109288</td>\n",
       "    </tr>\n",
       "    <tr>\n",
       "      <th>2</th>\n",
       "      <td>2008</td>\n",
       "      <td>11-1021</td>\n",
       "      <td>General and Operations Managers</td>\n",
       "      <td>Management Occupations</td>\n",
       "      <td>0.132244</td>\n",
       "      <td>0.116155</td>\n",
       "      <td>0.080950</td>\n",
       "      <td>0.145591</td>\n",
       "    </tr>\n",
       "    <tr>\n",
       "      <th>3</th>\n",
       "      <td>2008</td>\n",
       "      <td>11-2011</td>\n",
       "      <td>Advertising and Promotions Managers</td>\n",
       "      <td>Management Occupations</td>\n",
       "      <td>0.169479</td>\n",
       "      <td>0.130309</td>\n",
       "      <td>0.080936</td>\n",
       "      <td>0.094499</td>\n",
       "    </tr>\n",
       "    <tr>\n",
       "      <th>4</th>\n",
       "      <td>2008</td>\n",
       "      <td>11-2021</td>\n",
       "      <td>Marketing Managers</td>\n",
       "      <td>Management Occupations</td>\n",
       "      <td>0.182354</td>\n",
       "      <td>0.091652</td>\n",
       "      <td>0.112406</td>\n",
       "      <td>0.089276</td>\n",
       "    </tr>\n",
       "  </tbody>\n",
       "</table>\n",
       "</div>"
      ],
      "text/plain": [
       "   Year Job Code                            Job Title              Job Family  \\\n",
       "0  2008  00-0000                        TOTAL AVERAGE           TOTAL AVERAGE   \n",
       "1  2008  11-1011                     Chief Executives  Management Occupations   \n",
       "2  2008  11-1021      General and Operations Managers  Management Occupations   \n",
       "3  2008  11-2011  Advertising and Promotions Managers  Management Occupations   \n",
       "4  2008  11-2021                   Marketing Managers  Management Occupations   \n",
       "\n",
       "   Race with the Machine  Race against the Machine  Race ahead of the Machine  \\\n",
       "0               0.092712                  0.236456                   0.052123   \n",
       "1               0.133970                  0.128483                   0.105247   \n",
       "2               0.132244                  0.116155                   0.080950   \n",
       "3               0.169479                  0.130309                   0.080936   \n",
       "4               0.182354                  0.091652                   0.112406   \n",
       "\n",
       "   Running a Different Race  \n",
       "0                  0.104977  \n",
       "1                  0.109288  \n",
       "2                  0.145591  \n",
       "3                  0.094499  \n",
       "4                  0.089276  "
      ]
     },
     "execution_count": 27,
     "metadata": {},
     "output_type": "execute_result"
    }
   ],
   "source": [
    "panel2_df.head()"
   ]
  },
  {
   "cell_type": "code",
   "execution_count": 28,
   "metadata": {
    "collapsed": false
   },
   "outputs": [],
   "source": [
    "panel2_df.to_csv(\"../static/data/csv/Panel 2.csv\", index=False, encoding='utf-8')"
   ]
  },
  {
   "cell_type": "markdown",
   "metadata": {},
   "source": [
    "### Panel 4"
   ]
  },
  {
   "cell_type": "code",
   "execution_count": 29,
   "metadata": {
    "collapsed": true
   },
   "outputs": [],
   "source": [
    "task_automation_df_2008 = pd.read_excel(\"../static/data/xlsx/Task-Level Automation.xlsx\", sheetname='2008')\n",
    "task_automation_df_2019 = pd.read_excel(\"../static/data/xlsx/Task-Level Automation.xlsx\", sheetname='2019')\n",
    "task_automation_df_2008_2019 = pd.read_excel(\"../static/data/xlsx/Task-Level Automation.xlsx\", sheetname='2008-2019')"
   ]
  },
  {
   "cell_type": "code",
   "execution_count": 30,
   "metadata": {
    "collapsed": true
   },
   "outputs": [],
   "source": [
    "task_automation_df_2008 = task_automation_df_2008.rename(columns={\"SOC Code\":\"Job Code\"})\n",
    "task_automation_df_2019 = task_automation_df_2019.rename(columns={\"SOC Code\":\"Job Code\"})\n",
    "task_automation_df_2008_2019 = task_automation_df_2008_2019.rename(columns={\"SOC Code\":\"Job Code\"})"
   ]
  },
  {
   "cell_type": "code",
   "execution_count": 31,
   "metadata": {
    "collapsed": true
   },
   "outputs": [],
   "source": [
    "task_automation_df_2008.to_csv(\"../static/data/csv/Panel 4 2008.csv\")\n",
    "task_automation_df_2019.to_csv(\"../static/data/csv/Panel 4 2019.csv\")\n",
    "task_automation_df_2008_2019.to_csv(\"../static/data/csv/Panel 4 2008~2019.csv\")"
   ]
  },
  {
   "cell_type": "markdown",
   "metadata": {},
   "source": [
    "### Panel 5"
   ]
  },
  {
   "cell_type": "code",
   "execution_count": 32,
   "metadata": {
    "collapsed": true
   },
   "outputs": [],
   "source": [
    "task_automation_df_2008 = pd.read_excel(\"../static/data/xlsx/Task-Level Automation.xlsx\", sheetname='2008')\n",
    "task_automation_df_2019 = pd.read_excel(\"../static/data/xlsx/Task-Level Automation.xlsx\", sheetname='2019')\n",
    "task_automation_df_2008_2019 = pd.read_excel(\"../static/data/xlsx/Task-Level Automation.xlsx\", sheetname='2008-2019')"
   ]
  },
  {
   "cell_type": "code",
   "execution_count": 33,
   "metadata": {
    "collapsed": true
   },
   "outputs": [],
   "source": [
    "task_automation_df_2008 = task_automation_df_2008[['SOC Code','Job Title','Automation Index','Race with the Machine','Race against the Machine','Race ahead of the Machine','Running a Different Race']]\n",
    "task_automation_df_2019 = task_automation_df_2019[['SOC Code','Job Title','Automation Index','Race with the Machine','Race against the Machine','Race ahead of the Machine','Running a Different Race']]\n",
    "task_automation_df_2008_2019 = task_automation_df_2008_2019[['SOC Code','Job Title','Automation Index','Race with the Machine','Race against the Machine','Race ahead of the Machine','Running a Different Race']]"
   ]
  },
  {
   "cell_type": "code",
   "execution_count": 34,
   "metadata": {
    "collapsed": true
   },
   "outputs": [],
   "source": [
    "task_automation_df_2008 = task_automation_df_2008.rename(columns={\"SOC Code\":\"Job Code\"})\n",
    "task_automation_df_2019 = task_automation_df_2019.rename(columns={\"SOC Code\":\"Job Code\"})\n",
    "task_automation_df_2008_2019 = task_automation_df_2008_2019.rename(columns={\"SOC Code\":\"Job Code\"})"
   ]
  },
  {
   "cell_type": "code",
   "execution_count": 35,
   "metadata": {
    "collapsed": true
   },
   "outputs": [],
   "source": [
    "task_automation_df_2008.to_csv(\"../static/data/csv/Panel 5 2008.csv\")\n",
    "task_automation_df_2019.to_csv(\"../static/data/csv/Panel 5 2019.csv\")\n",
    "task_automation_df_2008_2019.to_csv(\"../static/data/csv/Panel 5 2008~2019.csv\")"
   ]
  },
  {
   "cell_type": "markdown",
   "metadata": {},
   "source": [
    "## Skill DNA"
   ]
  },
  {
   "cell_type": "code",
   "execution_count": 36,
   "metadata": {
    "collapsed": false
   },
   "outputs": [],
   "source": [
    "skill_dna_df_2008 = pd.read_excel(\"../static/data/xlsx/Skill DNA.xlsx\", sheetname='2008 - Importance', skiprows=[0])\n",
    "skill_dna_df_2019 = pd.read_excel(\"../static/data/xlsx/Skill DNA.xlsx\", sheetname='2019 - Importance', skiprows=[0])\n",
    "skill_dna_df_automation_level = pd.read_excel(\"../static/data/xlsx/Skill DNA.xlsx\", sheetname='Automation Level')"
   ]
  },
  {
   "cell_type": "code",
   "execution_count": 37,
   "metadata": {
    "collapsed": false
   },
   "outputs": [
    {
     "data": {
      "text/html": [
       "<div>\n",
       "<style>\n",
       "    .dataframe thead tr:only-child th {\n",
       "        text-align: right;\n",
       "    }\n",
       "\n",
       "    .dataframe thead th {\n",
       "        text-align: left;\n",
       "    }\n",
       "\n",
       "    .dataframe tbody tr th {\n",
       "        vertical-align: top;\n",
       "    }\n",
       "</style>\n",
       "<table border=\"1\" class=\"dataframe\">\n",
       "  <thead>\n",
       "    <tr style=\"text-align: right;\">\n",
       "      <th></th>\n",
       "      <th>ElementID</th>\n",
       "      <th>node</th>\n",
       "      <th>Task</th>\n",
       "      <th>2019_automation_value</th>\n",
       "      <th>2008_automation_value</th>\n",
       "      <th>Change between 2008-2019</th>\n",
       "    </tr>\n",
       "  </thead>\n",
       "  <tbody>\n",
       "    <tr>\n",
       "      <th>0</th>\n",
       "      <td>4.A.3.b.1</td>\n",
       "      <td>Interacting With Computers</td>\n",
       "      <td>Administrative Task and Communication</td>\n",
       "      <td>0.608170</td>\n",
       "      <td>0.632423</td>\n",
       "      <td>-0.024253</td>\n",
       "    </tr>\n",
       "    <tr>\n",
       "      <th>1</th>\n",
       "      <td>2.B.3.e</td>\n",
       "      <td>Programming</td>\n",
       "      <td>Administrative Task and Communication</td>\n",
       "      <td>0.588503</td>\n",
       "      <td>0.560941</td>\n",
       "      <td>0.027562</td>\n",
       "    </tr>\n",
       "    <tr>\n",
       "      <th>2</th>\n",
       "      <td>4.C.2.d.1.a</td>\n",
       "      <td>Spend Time Sitting</td>\n",
       "      <td>Administrative Task and Communication</td>\n",
       "      <td>0.572816</td>\n",
       "      <td>0.588516</td>\n",
       "      <td>-0.015700</td>\n",
       "    </tr>\n",
       "    <tr>\n",
       "      <th>3</th>\n",
       "      <td>4.A.4.c.1</td>\n",
       "      <td>Performing Administrative Activities</td>\n",
       "      <td>Administrative Task and Communication</td>\n",
       "      <td>0.550240</td>\n",
       "      <td>0.536965</td>\n",
       "      <td>0.013276</td>\n",
       "    </tr>\n",
       "    <tr>\n",
       "      <th>4</th>\n",
       "      <td>4.C.1.a.2.j</td>\n",
       "      <td>Letters and Memos</td>\n",
       "      <td>Administrative Task and Communication</td>\n",
       "      <td>0.531585</td>\n",
       "      <td>0.505103</td>\n",
       "      <td>0.026482</td>\n",
       "    </tr>\n",
       "  </tbody>\n",
       "</table>\n",
       "</div>"
      ],
      "text/plain": [
       "     ElementID                                  node  \\\n",
       "0    4.A.3.b.1            Interacting With Computers   \n",
       "1      2.B.3.e                           Programming   \n",
       "2  4.C.2.d.1.a                    Spend Time Sitting   \n",
       "3    4.A.4.c.1  Performing Administrative Activities   \n",
       "4  4.C.1.a.2.j                     Letters and Memos   \n",
       "\n",
       "                                    Task  2019_automation_value  \\\n",
       "0  Administrative Task and Communication               0.608170   \n",
       "1  Administrative Task and Communication               0.588503   \n",
       "2  Administrative Task and Communication               0.572816   \n",
       "3  Administrative Task and Communication               0.550240   \n",
       "4  Administrative Task and Communication               0.531585   \n",
       "\n",
       "   2008_automation_value  Change between 2008-2019  \n",
       "0               0.632423                 -0.024253  \n",
       "1               0.560941                  0.027562  \n",
       "2               0.588516                 -0.015700  \n",
       "3               0.536965                  0.013276  \n",
       "4               0.505103                  0.026482  "
      ]
     },
     "execution_count": 37,
     "metadata": {},
     "output_type": "execute_result"
    }
   ],
   "source": [
    "skill_dna_df_automation_level.head()"
   ]
  },
  {
   "cell_type": "code",
   "execution_count": 38,
   "metadata": {
    "collapsed": true
   },
   "outputs": [],
   "source": [
    "skill_dna_df_automation_level.columns = ['Skill Id', 'Skill Name', 'Task', '2019 Automation Level', '2008 Automation Level', 'Change during 2008-2019']"
   ]
  },
  {
   "cell_type": "code",
   "execution_count": 39,
   "metadata": {
    "collapsed": true
   },
   "outputs": [],
   "source": [
    "skill_dna_df_automation_level.to_csv(\"../static/data/csv/Panel 3.csv\", index=False)"
   ]
  },
  {
   "cell_type": "code",
   "execution_count": 40,
   "metadata": {
    "collapsed": true
   },
   "outputs": [],
   "source": [
    "skill_dna_df_2008 = skill_dna_df_2008.rename(columns={\"SOC Code\":\"Job Code\"})\n",
    "skill_dna_df_2019 = skill_dna_df_2019.rename(columns={\"SOC Code\":\"Job Code\"})"
   ]
  },
  {
   "cell_type": "code",
   "execution_count": 41,
   "metadata": {
    "collapsed": true
   },
   "outputs": [],
   "source": [
    "skill_dna_df_2008.to_csv(\"../static/data/csv/Panel 3 Skill Importance 2008.csv\", index=False)\n",
    "skill_dna_df_2019.to_csv(\"../static/data/csv/Panel 3 Skill Importance 2019.csv\", index=False)"
   ]
  },
  {
   "cell_type": "markdown",
   "metadata": {},
   "source": [
    "## City-Level Automation"
   ]
  },
  {
   "cell_type": "markdown",
   "metadata": {},
   "source": [
    "### Panel 6"
   ]
  },
  {
   "cell_type": "code",
   "execution_count": 42,
   "metadata": {
    "collapsed": true
   },
   "outputs": [],
   "source": [
    "city_level_df_2008 = pd.read_excel(\"../static/data/xlsx/City-Level Automation.xlsx\", sheetname='2008')\n",
    "city_level_df_2019 = pd.read_excel(\"../static/data/xlsx/City-Level Automation.xlsx\", sheetname='2019')\n",
    "city_level_df_2008_2019 = pd.read_excel(\"../static/data/xlsx/City-Level Automation.xlsx\", sheetname='2008-2019')"
   ]
  },
  {
   "cell_type": "code",
   "execution_count": 43,
   "metadata": {
    "collapsed": false
   },
   "outputs": [
    {
     "data": {
      "text/html": [
       "<div>\n",
       "<style>\n",
       "    .dataframe thead tr:only-child th {\n",
       "        text-align: right;\n",
       "    }\n",
       "\n",
       "    .dataframe thead th {\n",
       "        text-align: left;\n",
       "    }\n",
       "\n",
       "    .dataframe tbody tr th {\n",
       "        vertical-align: top;\n",
       "    }\n",
       "</style>\n",
       "<table border=\"1\" class=\"dataframe\">\n",
       "  <thead>\n",
       "    <tr style=\"text-align: right;\">\n",
       "      <th></th>\n",
       "      <th>MSA Code</th>\n",
       "      <th>AREA_NAME</th>\n",
       "      <th>Lat</th>\n",
       "      <th>Long</th>\n",
       "      <th>Employment</th>\n",
       "      <th>Automation Index</th>\n",
       "      <th>Race with the Machine</th>\n",
       "      <th>Interpersonal Task</th>\n",
       "      <th>Administrative Task and Communication</th>\n",
       "      <th>Race against the Machine</th>\n",
       "      <th>...</th>\n",
       "      <th>Equipment Maintenance</th>\n",
       "      <th>General Physical Task</th>\n",
       "      <th>Race ahead of the Machine</th>\n",
       "      <th>Systems Thinking</th>\n",
       "      <th>Creative and Critical Thinking</th>\n",
       "      <th>Running a Different Race</th>\n",
       "      <th>Dynamic Physical Task</th>\n",
       "      <th>Hazardous and Group Task</th>\n",
       "      <th>Conflict Resolution</th>\n",
       "      <th>Management and Supervision</th>\n",
       "    </tr>\n",
       "  </thead>\n",
       "  <tbody>\n",
       "    <tr>\n",
       "      <th>0</th>\n",
       "      <td>11260</td>\n",
       "      <td>Anchorage, AK</td>\n",
       "      <td>62.212784</td>\n",
       "      <td>-149.678222</td>\n",
       "      <td>164800</td>\n",
       "      <td>0.487366</td>\n",
       "      <td>0.109197</td>\n",
       "      <td>0.051644</td>\n",
       "      <td>0.057554</td>\n",
       "      <td>0.221012</td>\n",
       "      <td>...</td>\n",
       "      <td>0.027960</td>\n",
       "      <td>0.042789</td>\n",
       "      <td>0.034331</td>\n",
       "      <td>0.015668</td>\n",
       "      <td>0.018663</td>\n",
       "      <td>0.122827</td>\n",
       "      <td>0.041437</td>\n",
       "      <td>0.033282</td>\n",
       "      <td>0.031075</td>\n",
       "      <td>0.017033</td>\n",
       "    </tr>\n",
       "    <tr>\n",
       "      <th>1</th>\n",
       "      <td>21820</td>\n",
       "      <td>Fairbanks, AK</td>\n",
       "      <td>64.676044</td>\n",
       "      <td>-146.548159</td>\n",
       "      <td>36520</td>\n",
       "      <td>0.489328</td>\n",
       "      <td>0.105983</td>\n",
       "      <td>0.049184</td>\n",
       "      <td>0.056799</td>\n",
       "      <td>0.229349</td>\n",
       "      <td>...</td>\n",
       "      <td>0.028636</td>\n",
       "      <td>0.046805</td>\n",
       "      <td>0.030144</td>\n",
       "      <td>0.013835</td>\n",
       "      <td>0.016308</td>\n",
       "      <td>0.123852</td>\n",
       "      <td>0.046115</td>\n",
       "      <td>0.034728</td>\n",
       "      <td>0.027242</td>\n",
       "      <td>0.015768</td>\n",
       "    </tr>\n",
       "    <tr>\n",
       "      <th>2</th>\n",
       "      <td>11500</td>\n",
       "      <td>Anniston-Oxford-Jacksonville, AL</td>\n",
       "      <td>33.771706</td>\n",
       "      <td>-85.822513</td>\n",
       "      <td>47810</td>\n",
       "      <td>0.486843</td>\n",
       "      <td>0.090820</td>\n",
       "      <td>0.046273</td>\n",
       "      <td>0.044548</td>\n",
       "      <td>0.238145</td>\n",
       "      <td>...</td>\n",
       "      <td>0.033675</td>\n",
       "      <td>0.051532</td>\n",
       "      <td>0.028548</td>\n",
       "      <td>0.012171</td>\n",
       "      <td>0.016377</td>\n",
       "      <td>0.129330</td>\n",
       "      <td>0.045598</td>\n",
       "      <td>0.038011</td>\n",
       "      <td>0.030717</td>\n",
       "      <td>0.015005</td>\n",
       "    </tr>\n",
       "    <tr>\n",
       "      <th>3</th>\n",
       "      <td>12220</td>\n",
       "      <td>Auburn-Opelika, AL</td>\n",
       "      <td>32.604064</td>\n",
       "      <td>-85.353048</td>\n",
       "      <td>48830</td>\n",
       "      <td>0.486675</td>\n",
       "      <td>0.099365</td>\n",
       "      <td>0.050632</td>\n",
       "      <td>0.048733</td>\n",
       "      <td>0.224152</td>\n",
       "      <td>...</td>\n",
       "      <td>0.029286</td>\n",
       "      <td>0.050827</td>\n",
       "      <td>0.030654</td>\n",
       "      <td>0.011878</td>\n",
       "      <td>0.018777</td>\n",
       "      <td>0.132504</td>\n",
       "      <td>0.049616</td>\n",
       "      <td>0.034887</td>\n",
       "      <td>0.032069</td>\n",
       "      <td>0.015932</td>\n",
       "    </tr>\n",
       "    <tr>\n",
       "      <th>4</th>\n",
       "      <td>13820</td>\n",
       "      <td>Birmingham-Hoover, AL</td>\n",
       "      <td>33.462372</td>\n",
       "      <td>-86.814338</td>\n",
       "      <td>517940</td>\n",
       "      <td>0.489126</td>\n",
       "      <td>0.106253</td>\n",
       "      <td>0.050072</td>\n",
       "      <td>0.056181</td>\n",
       "      <td>0.228729</td>\n",
       "      <td>...</td>\n",
       "      <td>0.030404</td>\n",
       "      <td>0.043181</td>\n",
       "      <td>0.034422</td>\n",
       "      <td>0.015616</td>\n",
       "      <td>0.018806</td>\n",
       "      <td>0.119722</td>\n",
       "      <td>0.039487</td>\n",
       "      <td>0.033741</td>\n",
       "      <td>0.030062</td>\n",
       "      <td>0.016432</td>\n",
       "    </tr>\n",
       "  </tbody>\n",
       "</table>\n",
       "<p>5 rows × 24 columns</p>\n",
       "</div>"
      ],
      "text/plain": [
       "   MSA Code                         AREA_NAME        Lat        Long  \\\n",
       "0     11260                     Anchorage, AK  62.212784 -149.678222   \n",
       "1     21820                     Fairbanks, AK  64.676044 -146.548159   \n",
       "2     11500  Anniston-Oxford-Jacksonville, AL  33.771706  -85.822513   \n",
       "3     12220                Auburn-Opelika, AL  32.604064  -85.353048   \n",
       "4     13820             Birmingham-Hoover, AL  33.462372  -86.814338   \n",
       "\n",
       "   Employment  Automation Index  Race with the Machine  Interpersonal Task  \\\n",
       "0      164800          0.487366               0.109197            0.051644   \n",
       "1       36520          0.489328               0.105983            0.049184   \n",
       "2       47810          0.486843               0.090820            0.046273   \n",
       "3       48830          0.486675               0.099365            0.050632   \n",
       "4      517940          0.489126               0.106253            0.050072   \n",
       "\n",
       "   Administrative Task and Communication  Race against the Machine  \\\n",
       "0                               0.057554                  0.221012   \n",
       "1                               0.056799                  0.229349   \n",
       "2                               0.044548                  0.238145   \n",
       "3                               0.048733                  0.224152   \n",
       "4                               0.056181                  0.228729   \n",
       "\n",
       "              ...              Equipment Maintenance  General Physical Task  \\\n",
       "0             ...                           0.027960               0.042789   \n",
       "1             ...                           0.028636               0.046805   \n",
       "2             ...                           0.033675               0.051532   \n",
       "3             ...                           0.029286               0.050827   \n",
       "4             ...                           0.030404               0.043181   \n",
       "\n",
       "   Race ahead of the Machine  Systems Thinking  \\\n",
       "0                   0.034331          0.015668   \n",
       "1                   0.030144          0.013835   \n",
       "2                   0.028548          0.012171   \n",
       "3                   0.030654          0.011878   \n",
       "4                   0.034422          0.015616   \n",
       "\n",
       "   Creative and Critical Thinking  Running a Different Race  \\\n",
       "0                        0.018663                  0.122827   \n",
       "1                        0.016308                  0.123852   \n",
       "2                        0.016377                  0.129330   \n",
       "3                        0.018777                  0.132504   \n",
       "4                        0.018806                  0.119722   \n",
       "\n",
       "   Dynamic Physical Task  Hazardous and Group Task  Conflict Resolution  \\\n",
       "0               0.041437                  0.033282             0.031075   \n",
       "1               0.046115                  0.034728             0.027242   \n",
       "2               0.045598                  0.038011             0.030717   \n",
       "3               0.049616                  0.034887             0.032069   \n",
       "4               0.039487                  0.033741             0.030062   \n",
       "\n",
       "   Management and Supervision  \n",
       "0                    0.017033  \n",
       "1                    0.015768  \n",
       "2                    0.015005  \n",
       "3                    0.015932  \n",
       "4                    0.016432  \n",
       "\n",
       "[5 rows x 24 columns]"
      ]
     },
     "execution_count": 43,
     "metadata": {},
     "output_type": "execute_result"
    }
   ],
   "source": [
    "city_level_df_2008.head()"
   ]
  },
  {
   "cell_type": "code",
   "execution_count": 44,
   "metadata": {
    "collapsed": true
   },
   "outputs": [],
   "source": [
    "city_level_df_2008 = city_level_df_2008[['MSA Code', 'AREA_NAME', 'Employment','Automation Index', 'Race with the Machine','Race against the Machine','Race ahead of the Machine','Running a Different Race','Lat','Long']]\n",
    "city_level_df_2019 = city_level_df_2019[['MSA Code', 'AREA_NAME', 'Employment','Automation Index', 'Race with the Machine','Race against the Machine','Race ahead of the Machine','Running a Different Race','Lat','Long']]\n",
    "city_level_df_2008_2019 = city_level_df_2008_2019[['MSA Code', 'AREA_NAME', 'Employment','Automation Index', 'Race with the Machine','Race against the Machine','Race ahead of the Machine','Running a Different Race','Lat','Long']]"
   ]
  },
  {
   "cell_type": "code",
   "execution_count": 45,
   "metadata": {
    "collapsed": true
   },
   "outputs": [],
   "source": [
    "city_level_df_2008 = city_level_df_2008.rename(columns={'MSA Code':'AREA'})\n",
    "city_level_df_2019 = city_level_df_2019.rename(columns={'MSA Code':'AREA'})\n",
    "city_level_df_2008_2019 = city_level_df_2008_2019.rename(columns={'MSA Code':'AREA'})"
   ]
  },
  {
   "cell_type": "code",
   "execution_count": 46,
   "metadata": {
    "collapsed": true
   },
   "outputs": [],
   "source": [
    "city_level_df_2008.to_csv(\"../static/data/csv/Panel 6 2008.csv\", index=False)\n",
    "city_level_df_2019.to_csv(\"../static/data/csv/Panel 6 2019.csv\", index=False)\n",
    "city_level_df_2008_2019.to_csv(\"../static/data/csv/Panel 6 2008~2019.csv\", index=False)"
   ]
  },
  {
   "cell_type": "markdown",
   "metadata": {},
   "source": [
    "### Panel 7"
   ]
  },
  {
   "cell_type": "code",
   "execution_count": 47,
   "metadata": {
    "collapsed": true
   },
   "outputs": [],
   "source": [
    "city_level_df_2008 = pd.read_excel(\"../static/data/xlsx/City-Level Automation.xlsx\", sheetname='2008')\n",
    "city_level_df_2019 = pd.read_excel(\"../static/data/xlsx/City-Level Automation.xlsx\", sheetname='2019')\n",
    "city_level_df_2008_2019 = pd.read_excel(\"../static/data/xlsx/City-Level Automation.xlsx\", sheetname='2008-2019')"
   ]
  },
  {
   "cell_type": "code",
   "execution_count": 48,
   "metadata": {
    "collapsed": false
   },
   "outputs": [
    {
     "data": {
      "text/html": [
       "<div>\n",
       "<style>\n",
       "    .dataframe thead tr:only-child th {\n",
       "        text-align: right;\n",
       "    }\n",
       "\n",
       "    .dataframe thead th {\n",
       "        text-align: left;\n",
       "    }\n",
       "\n",
       "    .dataframe tbody tr th {\n",
       "        vertical-align: top;\n",
       "    }\n",
       "</style>\n",
       "<table border=\"1\" class=\"dataframe\">\n",
       "  <thead>\n",
       "    <tr style=\"text-align: right;\">\n",
       "      <th></th>\n",
       "      <th>MSA Code</th>\n",
       "      <th>AREA_NAME</th>\n",
       "      <th>Lat</th>\n",
       "      <th>Long</th>\n",
       "      <th>Employment</th>\n",
       "      <th>Automation Index</th>\n",
       "      <th>Race with the Machine</th>\n",
       "      <th>Interpersonal Task</th>\n",
       "      <th>Administrative Task and Communication</th>\n",
       "      <th>Race against the Machine</th>\n",
       "      <th>...</th>\n",
       "      <th>Equipment Maintenance</th>\n",
       "      <th>General Physical Task</th>\n",
       "      <th>Race ahead of the Machine</th>\n",
       "      <th>Systems Thinking</th>\n",
       "      <th>Creative and Critical Thinking</th>\n",
       "      <th>Running a Different Race</th>\n",
       "      <th>Dynamic Physical Task</th>\n",
       "      <th>Hazardous and Group Task</th>\n",
       "      <th>Conflict Resolution</th>\n",
       "      <th>Management and Supervision</th>\n",
       "    </tr>\n",
       "  </thead>\n",
       "  <tbody>\n",
       "    <tr>\n",
       "      <th>0</th>\n",
       "      <td>11260</td>\n",
       "      <td>Anchorage, AK</td>\n",
       "      <td>62.212784</td>\n",
       "      <td>-149.678222</td>\n",
       "      <td>164800</td>\n",
       "      <td>0.487366</td>\n",
       "      <td>0.109197</td>\n",
       "      <td>0.051644</td>\n",
       "      <td>0.057554</td>\n",
       "      <td>0.221012</td>\n",
       "      <td>...</td>\n",
       "      <td>0.027960</td>\n",
       "      <td>0.042789</td>\n",
       "      <td>0.034331</td>\n",
       "      <td>0.015668</td>\n",
       "      <td>0.018663</td>\n",
       "      <td>0.122827</td>\n",
       "      <td>0.041437</td>\n",
       "      <td>0.033282</td>\n",
       "      <td>0.031075</td>\n",
       "      <td>0.017033</td>\n",
       "    </tr>\n",
       "    <tr>\n",
       "      <th>1</th>\n",
       "      <td>21820</td>\n",
       "      <td>Fairbanks, AK</td>\n",
       "      <td>64.676044</td>\n",
       "      <td>-146.548159</td>\n",
       "      <td>36520</td>\n",
       "      <td>0.489328</td>\n",
       "      <td>0.105983</td>\n",
       "      <td>0.049184</td>\n",
       "      <td>0.056799</td>\n",
       "      <td>0.229349</td>\n",
       "      <td>...</td>\n",
       "      <td>0.028636</td>\n",
       "      <td>0.046805</td>\n",
       "      <td>0.030144</td>\n",
       "      <td>0.013835</td>\n",
       "      <td>0.016308</td>\n",
       "      <td>0.123852</td>\n",
       "      <td>0.046115</td>\n",
       "      <td>0.034728</td>\n",
       "      <td>0.027242</td>\n",
       "      <td>0.015768</td>\n",
       "    </tr>\n",
       "    <tr>\n",
       "      <th>2</th>\n",
       "      <td>11500</td>\n",
       "      <td>Anniston-Oxford-Jacksonville, AL</td>\n",
       "      <td>33.771706</td>\n",
       "      <td>-85.822513</td>\n",
       "      <td>47810</td>\n",
       "      <td>0.486843</td>\n",
       "      <td>0.090820</td>\n",
       "      <td>0.046273</td>\n",
       "      <td>0.044548</td>\n",
       "      <td>0.238145</td>\n",
       "      <td>...</td>\n",
       "      <td>0.033675</td>\n",
       "      <td>0.051532</td>\n",
       "      <td>0.028548</td>\n",
       "      <td>0.012171</td>\n",
       "      <td>0.016377</td>\n",
       "      <td>0.129330</td>\n",
       "      <td>0.045598</td>\n",
       "      <td>0.038011</td>\n",
       "      <td>0.030717</td>\n",
       "      <td>0.015005</td>\n",
       "    </tr>\n",
       "    <tr>\n",
       "      <th>3</th>\n",
       "      <td>12220</td>\n",
       "      <td>Auburn-Opelika, AL</td>\n",
       "      <td>32.604064</td>\n",
       "      <td>-85.353048</td>\n",
       "      <td>48830</td>\n",
       "      <td>0.486675</td>\n",
       "      <td>0.099365</td>\n",
       "      <td>0.050632</td>\n",
       "      <td>0.048733</td>\n",
       "      <td>0.224152</td>\n",
       "      <td>...</td>\n",
       "      <td>0.029286</td>\n",
       "      <td>0.050827</td>\n",
       "      <td>0.030654</td>\n",
       "      <td>0.011878</td>\n",
       "      <td>0.018777</td>\n",
       "      <td>0.132504</td>\n",
       "      <td>0.049616</td>\n",
       "      <td>0.034887</td>\n",
       "      <td>0.032069</td>\n",
       "      <td>0.015932</td>\n",
       "    </tr>\n",
       "    <tr>\n",
       "      <th>4</th>\n",
       "      <td>13820</td>\n",
       "      <td>Birmingham-Hoover, AL</td>\n",
       "      <td>33.462372</td>\n",
       "      <td>-86.814338</td>\n",
       "      <td>517940</td>\n",
       "      <td>0.489126</td>\n",
       "      <td>0.106253</td>\n",
       "      <td>0.050072</td>\n",
       "      <td>0.056181</td>\n",
       "      <td>0.228729</td>\n",
       "      <td>...</td>\n",
       "      <td>0.030404</td>\n",
       "      <td>0.043181</td>\n",
       "      <td>0.034422</td>\n",
       "      <td>0.015616</td>\n",
       "      <td>0.018806</td>\n",
       "      <td>0.119722</td>\n",
       "      <td>0.039487</td>\n",
       "      <td>0.033741</td>\n",
       "      <td>0.030062</td>\n",
       "      <td>0.016432</td>\n",
       "    </tr>\n",
       "  </tbody>\n",
       "</table>\n",
       "<p>5 rows × 24 columns</p>\n",
       "</div>"
      ],
      "text/plain": [
       "   MSA Code                         AREA_NAME        Lat        Long  \\\n",
       "0     11260                     Anchorage, AK  62.212784 -149.678222   \n",
       "1     21820                     Fairbanks, AK  64.676044 -146.548159   \n",
       "2     11500  Anniston-Oxford-Jacksonville, AL  33.771706  -85.822513   \n",
       "3     12220                Auburn-Opelika, AL  32.604064  -85.353048   \n",
       "4     13820             Birmingham-Hoover, AL  33.462372  -86.814338   \n",
       "\n",
       "   Employment  Automation Index  Race with the Machine  Interpersonal Task  \\\n",
       "0      164800          0.487366               0.109197            0.051644   \n",
       "1       36520          0.489328               0.105983            0.049184   \n",
       "2       47810          0.486843               0.090820            0.046273   \n",
       "3       48830          0.486675               0.099365            0.050632   \n",
       "4      517940          0.489126               0.106253            0.050072   \n",
       "\n",
       "   Administrative Task and Communication  Race against the Machine  \\\n",
       "0                               0.057554                  0.221012   \n",
       "1                               0.056799                  0.229349   \n",
       "2                               0.044548                  0.238145   \n",
       "3                               0.048733                  0.224152   \n",
       "4                               0.056181                  0.228729   \n",
       "\n",
       "              ...              Equipment Maintenance  General Physical Task  \\\n",
       "0             ...                           0.027960               0.042789   \n",
       "1             ...                           0.028636               0.046805   \n",
       "2             ...                           0.033675               0.051532   \n",
       "3             ...                           0.029286               0.050827   \n",
       "4             ...                           0.030404               0.043181   \n",
       "\n",
       "   Race ahead of the Machine  Systems Thinking  \\\n",
       "0                   0.034331          0.015668   \n",
       "1                   0.030144          0.013835   \n",
       "2                   0.028548          0.012171   \n",
       "3                   0.030654          0.011878   \n",
       "4                   0.034422          0.015616   \n",
       "\n",
       "   Creative and Critical Thinking  Running a Different Race  \\\n",
       "0                        0.018663                  0.122827   \n",
       "1                        0.016308                  0.123852   \n",
       "2                        0.016377                  0.129330   \n",
       "3                        0.018777                  0.132504   \n",
       "4                        0.018806                  0.119722   \n",
       "\n",
       "   Dynamic Physical Task  Hazardous and Group Task  Conflict Resolution  \\\n",
       "0               0.041437                  0.033282             0.031075   \n",
       "1               0.046115                  0.034728             0.027242   \n",
       "2               0.045598                  0.038011             0.030717   \n",
       "3               0.049616                  0.034887             0.032069   \n",
       "4               0.039487                  0.033741             0.030062   \n",
       "\n",
       "   Management and Supervision  \n",
       "0                    0.017033  \n",
       "1                    0.015768  \n",
       "2                    0.015005  \n",
       "3                    0.015932  \n",
       "4                    0.016432  \n",
       "\n",
       "[5 rows x 24 columns]"
      ]
     },
     "execution_count": 48,
     "metadata": {},
     "output_type": "execute_result"
    }
   ],
   "source": [
    "city_level_df_2008.head()"
   ]
  },
  {
   "cell_type": "code",
   "execution_count": 49,
   "metadata": {
    "collapsed": false
   },
   "outputs": [
    {
     "data": {
      "text/plain": [
       "24"
      ]
     },
     "execution_count": 49,
     "metadata": {},
     "output_type": "execute_result"
    }
   ],
   "source": [
    "len(city_level_df_2008.columns)"
   ]
  },
  {
   "cell_type": "code",
   "execution_count": 50,
   "metadata": {
    "collapsed": true
   },
   "outputs": [],
   "source": [
    "city_level_df_2008['State'] = [area_name.split(', ')[1] for area_name in city_level_df_2008['AREA_NAME'].tolist()]\n",
    "city_level_df_2019['State'] = [area_name.split(', ')[1] for area_name in city_level_df_2019['AREA_NAME'].tolist()]\n",
    "city_level_df_2008_2019['State'] = [area_name.split(', ')[1] for area_name in city_level_df_2008_2019['AREA_NAME'].tolist()]"
   ]
  },
  {
   "cell_type": "code",
   "execution_count": 51,
   "metadata": {
    "collapsed": true
   },
   "outputs": [],
   "source": [
    "city_level_df_2008['Metropolitan Areas'] = [area_name.split(', ')[0] for area_name in city_level_df_2008['AREA_NAME'].tolist()]\n",
    "city_level_df_2019['Metropolitan Areas'] = [area_name.split(', ')[0] for area_name in city_level_df_2019['AREA_NAME'].tolist()]\n",
    "city_level_df_2008_2019['Metropolitan Areas'] = [area_name.split(', ')[0] for area_name in city_level_df_2008_2019['AREA_NAME'].tolist()]"
   ]
  },
  {
   "cell_type": "code",
   "execution_count": 52,
   "metadata": {
    "collapsed": false
   },
   "outputs": [
    {
     "data": {
      "text/plain": [
       "Index([                             u'MSA Code',\n",
       "                                   u'AREA_NAME',\n",
       "                                         u'Lat',\n",
       "                                        u'Long',\n",
       "                                  u'Employment',\n",
       "                            u'Automation Index',\n",
       "                       u'Race with the Machine',\n",
       "                          u'Interpersonal Task',\n",
       "       u'Administrative Task and Communication',\n",
       "                    u'Race against the Machine',\n",
       "                      u'Information Processing',\n",
       "                     u'Routine Problem Solving',\n",
       "             u'Vehicle and Equipment Operation',\n",
       "                             u'Machine Control',\n",
       "                       u'Equipment Maintenance',\n",
       "                       u'General Physical Task',\n",
       "                   u'Race ahead of the Machine',\n",
       "                            u'Systems Thinking',\n",
       "              u'Creative and Critical Thinking',\n",
       "                    u'Running a Different Race',\n",
       "                       u'Dynamic Physical Task',\n",
       "                    u'Hazardous and Group Task',\n",
       "                         u'Conflict Resolution',\n",
       "                  u'Management and Supervision',\n",
       "                                       u'State',\n",
       "                          u'Metropolitan Areas'],\n",
       "      dtype='object')"
      ]
     },
     "execution_count": 52,
     "metadata": {},
     "output_type": "execute_result"
    }
   ],
   "source": [
    "city_level_df_2008.columns"
   ]
  },
  {
   "cell_type": "code",
   "execution_count": 53,
   "metadata": {
    "collapsed": false
   },
   "outputs": [],
   "source": [
    "selected_cols = ['State','Metropolitan Areas',\n",
    "               'Automation Index', 'Race with the Machine', 'Interpersonal Task',\n",
    "               'Administrative Task and Communication', 'Race against the Machine',\n",
    "               'Information Processing', 'Routine Problem Solving',\n",
    "               'Vehicle and Equipment Operation', 'Machine Control',\n",
    "               'Equipment Maintenance', 'General Physical Task',\n",
    "               'Race ahead of the Machine', 'Systems Thinking',\n",
    "               'Creative and Critical Thinking', 'Running a Different Race',\n",
    "               'Dynamic Physical Task', 'Hazardous and Group Task',\n",
    "               'Conflict Resolution', 'Management and Supervision']\n",
    "\n",
    "city_level_df_2008 = city_level_df_2008[selected_cols]\n",
    "city_level_df_2019 = city_level_df_2019[selected_cols]\n",
    "city_level_df_2008_2019 = city_level_df_2008_2019[selected_cols]"
   ]
  },
  {
   "cell_type": "code",
   "execution_count": 54,
   "metadata": {
    "collapsed": true
   },
   "outputs": [],
   "source": [
    "city_level_df_2008.to_csv(\"../static/data/csv/Panel 7 2008.csv\")\n",
    "city_level_df_2019.to_csv(\"../static/data/csv/Panel 7 2019.csv\")\n",
    "city_level_df_2008_2019.to_csv(\"../static/data/csv/Panel 7 2008~2019.csv\")"
   ]
  }
 ],
 "metadata": {
  "kernelspec": {
   "display_name": "py35",
   "language": "python",
   "name": "py35"
  },
  "language_info": {
   "codemirror_mode": {
    "name": "ipython",
    "version": 2
   },
   "file_extension": ".py",
   "mimetype": "text/x-python",
   "name": "python",
   "nbconvert_exporter": "python",
   "pygments_lexer": "ipython2",
   "version": "2.7.12"
  }
 },
 "nbformat": 4,
 "nbformat_minor": 2
}
