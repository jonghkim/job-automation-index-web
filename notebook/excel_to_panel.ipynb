{
 "cells": [
  {
   "cell_type": "code",
   "execution_count": 1,
   "metadata": {
    "collapsed": true
   },
   "outputs": [],
   "source": [
    "# -*- coding: utf-8 -*-\n",
    "import pandas as pd"
   ]
  },
  {
   "cell_type": "markdown",
   "metadata": {},
   "source": [
    "## Job Information"
   ]
  },
  {
   "cell_type": "code",
   "execution_count": 2,
   "metadata": {
    "collapsed": false
   },
   "outputs": [
    {
     "name": "stdout",
     "output_type": "stream",
     "text": [
      "[u'2007', u'2019', u'2007-2019']\n"
     ]
    }
   ],
   "source": [
    "xl = pd.ExcelFile(\"../static/data/xlsx/Job Information.xlsx\")\n",
    "print(xl.sheet_names)  # see all sheet names"
   ]
  },
  {
   "cell_type": "markdown",
   "metadata": {},
   "source": [
    "### jobs"
   ]
  },
  {
   "cell_type": "code",
   "execution_count": 3,
   "metadata": {
    "collapsed": true
   },
   "outputs": [],
   "source": [
    "job_information_df_2007_2019 = pd.read_excel(\"../static/data/xlsx/Job Information.xlsx\", sheetname='2007-2019')"
   ]
  },
  {
   "cell_type": "code",
   "execution_count": 4,
   "metadata": {
    "collapsed": false
   },
   "outputs": [
    {
     "data": {
      "text/html": [
       "<div>\n",
       "<style>\n",
       "    .dataframe thead tr:only-child th {\n",
       "        text-align: right;\n",
       "    }\n",
       "\n",
       "    .dataframe thead th {\n",
       "        text-align: left;\n",
       "    }\n",
       "\n",
       "    .dataframe tbody tr th {\n",
       "        vertical-align: top;\n",
       "    }\n",
       "</style>\n",
       "<table border=\"1\" class=\"dataframe\">\n",
       "  <thead>\n",
       "    <tr style=\"text-align: right;\">\n",
       "      <th></th>\n",
       "      <th>SOC Code</th>\n",
       "      <th>Job Title</th>\n",
       "      <th>Job Family</th>\n",
       "      <th>Description</th>\n",
       "    </tr>\n",
       "  </thead>\n",
       "  <tbody>\n",
       "    <tr>\n",
       "      <th>0</th>\n",
       "      <td>00-0000</td>\n",
       "      <td>TOTAL AVERAGE</td>\n",
       "      <td>TOTAL AVERAGE</td>\n",
       "      <td>Average of all occupations</td>\n",
       "    </tr>\n",
       "    <tr>\n",
       "      <th>1</th>\n",
       "      <td>11-1011</td>\n",
       "      <td>Chief Executives</td>\n",
       "      <td>Management Occupations</td>\n",
       "      <td>Determine and formulate policies and provide o...</td>\n",
       "    </tr>\n",
       "    <tr>\n",
       "      <th>2</th>\n",
       "      <td>11-1021</td>\n",
       "      <td>General and Operations Managers</td>\n",
       "      <td>Management Occupations</td>\n",
       "      <td>Plan, direct, or coordinate the operations of ...</td>\n",
       "    </tr>\n",
       "    <tr>\n",
       "      <th>3</th>\n",
       "      <td>11-2011</td>\n",
       "      <td>Advertising and Promotions Managers</td>\n",
       "      <td>Management Occupations</td>\n",
       "      <td>Plan, direct, or coordinate advertising polici...</td>\n",
       "    </tr>\n",
       "    <tr>\n",
       "      <th>4</th>\n",
       "      <td>11-2021</td>\n",
       "      <td>Marketing Managers</td>\n",
       "      <td>Management Occupations</td>\n",
       "      <td>Plan, direct, or coordinate marketing policies...</td>\n",
       "    </tr>\n",
       "  </tbody>\n",
       "</table>\n",
       "</div>"
      ],
      "text/plain": [
       "  SOC Code                            Job Title              Job Family  \\\n",
       "0  00-0000                        TOTAL AVERAGE           TOTAL AVERAGE   \n",
       "1  11-1011                     Chief Executives  Management Occupations   \n",
       "2  11-1021      General and Operations Managers  Management Occupations   \n",
       "3  11-2011  Advertising and Promotions Managers  Management Occupations   \n",
       "4  11-2021                   Marketing Managers  Management Occupations   \n",
       "\n",
       "                                         Description  \n",
       "0                         Average of all occupations  \n",
       "1  Determine and formulate policies and provide o...  \n",
       "2  Plan, direct, or coordinate the operations of ...  \n",
       "3  Plan, direct, or coordinate advertising polici...  \n",
       "4  Plan, direct, or coordinate marketing policies...  "
      ]
     },
     "execution_count": 4,
     "metadata": {},
     "output_type": "execute_result"
    }
   ],
   "source": [
    "job_information_df_2007_2019[['SOC Code','Job Title', 'Job Family', 'Description']].head()"
   ]
  },
  {
   "cell_type": "code",
   "execution_count": 5,
   "metadata": {
    "collapsed": true
   },
   "outputs": [],
   "source": [
    "family_code = [soc_code.split('-')[0] for soc_code in job_information_df_2007_2019['SOC Code']]\n",
    "job_information_df_2007_2019['Family Code'] = family_code\n",
    "job_information_df_2007_2019 = job_information_df_2007_2019[['Family Code', 'SOC Code','Job Title', 'Job Family', 'Description']]\n",
    "job_information_df_2007_2019.columns = ['Family Code', 'Job Code','Job Title', 'Job Family', 'Description']"
   ]
  },
  {
   "cell_type": "code",
   "execution_count": 6,
   "metadata": {
    "collapsed": false
   },
   "outputs": [
    {
     "data": {
      "text/html": [
       "<div>\n",
       "<style>\n",
       "    .dataframe thead tr:only-child th {\n",
       "        text-align: right;\n",
       "    }\n",
       "\n",
       "    .dataframe thead th {\n",
       "        text-align: left;\n",
       "    }\n",
       "\n",
       "    .dataframe tbody tr th {\n",
       "        vertical-align: top;\n",
       "    }\n",
       "</style>\n",
       "<table border=\"1\" class=\"dataframe\">\n",
       "  <thead>\n",
       "    <tr style=\"text-align: right;\">\n",
       "      <th></th>\n",
       "      <th>Family Code</th>\n",
       "      <th>Job Code</th>\n",
       "      <th>Job Title</th>\n",
       "      <th>Job Family</th>\n",
       "      <th>Description</th>\n",
       "    </tr>\n",
       "  </thead>\n",
       "  <tbody>\n",
       "    <tr>\n",
       "      <th>0</th>\n",
       "      <td>00</td>\n",
       "      <td>00-0000</td>\n",
       "      <td>TOTAL AVERAGE</td>\n",
       "      <td>TOTAL AVERAGE</td>\n",
       "      <td>Average of all occupations</td>\n",
       "    </tr>\n",
       "    <tr>\n",
       "      <th>1</th>\n",
       "      <td>11</td>\n",
       "      <td>11-1011</td>\n",
       "      <td>Chief Executives</td>\n",
       "      <td>Management Occupations</td>\n",
       "      <td>Determine and formulate policies and provide o...</td>\n",
       "    </tr>\n",
       "    <tr>\n",
       "      <th>2</th>\n",
       "      <td>11</td>\n",
       "      <td>11-1021</td>\n",
       "      <td>General and Operations Managers</td>\n",
       "      <td>Management Occupations</td>\n",
       "      <td>Plan, direct, or coordinate the operations of ...</td>\n",
       "    </tr>\n",
       "    <tr>\n",
       "      <th>3</th>\n",
       "      <td>11</td>\n",
       "      <td>11-2011</td>\n",
       "      <td>Advertising and Promotions Managers</td>\n",
       "      <td>Management Occupations</td>\n",
       "      <td>Plan, direct, or coordinate advertising polici...</td>\n",
       "    </tr>\n",
       "    <tr>\n",
       "      <th>4</th>\n",
       "      <td>11</td>\n",
       "      <td>11-2021</td>\n",
       "      <td>Marketing Managers</td>\n",
       "      <td>Management Occupations</td>\n",
       "      <td>Plan, direct, or coordinate marketing policies...</td>\n",
       "    </tr>\n",
       "  </tbody>\n",
       "</table>\n",
       "</div>"
      ],
      "text/plain": [
       "  Family Code Job Code                            Job Title  \\\n",
       "0          00  00-0000                        TOTAL AVERAGE   \n",
       "1          11  11-1011                     Chief Executives   \n",
       "2          11  11-1021      General and Operations Managers   \n",
       "3          11  11-2011  Advertising and Promotions Managers   \n",
       "4          11  11-2021                   Marketing Managers   \n",
       "\n",
       "               Job Family                                        Description  \n",
       "0           TOTAL AVERAGE                         Average of all occupations  \n",
       "1  Management Occupations  Determine and formulate policies and provide o...  \n",
       "2  Management Occupations  Plan, direct, or coordinate the operations of ...  \n",
       "3  Management Occupations  Plan, direct, or coordinate advertising polici...  \n",
       "4  Management Occupations  Plan, direct, or coordinate marketing policies...  "
      ]
     },
     "execution_count": 6,
     "metadata": {},
     "output_type": "execute_result"
    }
   ],
   "source": [
    "job_information_df_2007_2019.head()"
   ]
  },
  {
   "cell_type": "code",
   "execution_count": 7,
   "metadata": {
    "collapsed": false
   },
   "outputs": [],
   "source": [
    "job_information_df_2007_2019.to_csv(\"../static/data/csv/jobs.csv\", index=False, encoding='utf-8')"
   ]
  },
  {
   "cell_type": "markdown",
   "metadata": {},
   "source": [
    "### Panel 1"
   ]
  },
  {
   "cell_type": "code",
   "execution_count": 25,
   "metadata": {
    "collapsed": true
   },
   "outputs": [],
   "source": [
    "job_information_df_2007 = pd.read_excel(\"../static/data/xlsx/Job Information.xlsx\", sheetname='2007')\n",
    "job_information_df_2019 = pd.read_excel(\"../static/data/xlsx/Job Information.xlsx\", sheetname='2019')\n",
    "job_information_df_2007_2019 = pd.read_excel(\"../static/data/xlsx/Job Information.xlsx\", sheetname='2007-2019')\n",
    "\n",
    "rank_label = pd.read_excel(\"../static/data/xlsx/Rank Label.xlsx\")"
   ]
  },
  {
   "cell_type": "code",
   "execution_count": 26,
   "metadata": {
    "collapsed": true
   },
   "outputs": [],
   "source": [
    "job_information_df_2007['Year'] = '2007'\n",
    "job_information_df_2019['Year'] = '2019'\n",
    "job_information_df_2007_2019['Year'] = '2007~2019'"
   ]
  },
  {
   "cell_type": "code",
   "execution_count": 29,
   "metadata": {
    "collapsed": true
   },
   "outputs": [],
   "source": [
    "job_information_df_2007['Job Automation Index Rank'] = [None] + job_information_df_2007['Job Automation Index'].iloc[1:].rank(ascending=0, method='first').tolist()\n",
    "job_information_df_2007['Job Automation Index Percentile'] = ['Top 50%'] + pd.merge(job_information_df_2007[['Job Automation Index Rank']], rank_label.rename(columns={\"Rank\": \"Job Automation Index Rank\"}), on='Job Automation Index Rank', how='left')['Label'].iloc[1:].tolist()\n",
    "\n",
    "job_information_df_2007['Employment Rank'] = [None] + job_information_df_2007['Employment'].iloc[1:].rank(ascending=0, method='first').tolist()\n",
    "job_information_df_2007['Employment Percentile'] = [None] + pd.merge(job_information_df_2007[['Employment Rank']], rank_label.rename(columns={\"Rank\": \"Employment Rank\"}), on='Employment Rank', how='left')['Label'].iloc[1:].tolist()\n",
    "\n",
    "job_information_df_2007['Annual Wage Rank'] = [None] + job_information_df_2007['Annual Wage'].iloc[1:].rank(ascending=0, method='first').tolist()\n",
    "job_information_df_2007['Annual Wage Percentile'] = ['Top 50%'] + pd.merge(job_information_df_2007[['Annual Wage Rank']], rank_label.rename(columns={\"Rank\": \"Annual Wage Rank\"}), on='Annual Wage Rank', how='left')['Label'].iloc[1:].tolist()"
   ]
  },
  {
   "cell_type": "code",
   "execution_count": 30,
   "metadata": {
    "collapsed": true
   },
   "outputs": [],
   "source": [
    "job_information_df_2019['Job Automation Index Rank'] = [None] + job_information_df_2019['Job Automation Index'].iloc[1:].rank(ascending=0, method='first').tolist()\n",
    "job_information_df_2019['Job Automation Index Percentile'] = ['Top 50%'] + pd.merge(job_information_df_2019[['Job Automation Index Rank']], rank_label.rename(columns={\"Rank\": \"Job Automation Index Rank\"}), on='Job Automation Index Rank', how='left')['Label'].iloc[1:].tolist()\n",
    "\n",
    "job_information_df_2019['Employment Rank'] = [None] + job_information_df_2019['Employment'].iloc[1:].rank(ascending=0, method='first').tolist()\n",
    "job_information_df_2019['Employment Percentile'] = [None] + pd.merge(job_information_df_2019[['Employment Rank']], rank_label.rename(columns={\"Rank\": \"Employment Rank\"}), on='Employment Rank', how='left')['Label'].iloc[1:].tolist()\n",
    "\n",
    "job_information_df_2019['Annual Wage Rank'] = [None] + job_information_df_2019['Annual Wage'].iloc[1:].rank(ascending=0, method='first').tolist()\n",
    "job_information_df_2019['Annual Wage Percentile'] = ['Top 50%'] + pd.merge(job_information_df_2019[['Annual Wage Rank']], rank_label.rename(columns={\"Rank\": \"Annual Wage Rank\"}), on='Annual Wage Rank', how='left')['Label'].iloc[1:].tolist()"
   ]
  },
  {
   "cell_type": "code",
   "execution_count": 31,
   "metadata": {
    "collapsed": false
   },
   "outputs": [],
   "source": [
    "job_information_df_2007_2019['Job Automation Index Change'] = job_information_df_2007_2019['Job Automation Index']\n",
    "\n",
    "job_information_df_2007_2019['Job Automation Index'] = None\n",
    "\n",
    "job_information_df_2007_2019['Job Automation Index Change Rank'] = [None] + job_information_df_2007_2019['Job Automation Index Change'].iloc[1:].rank(ascending=0, method='first').tolist()\n",
    "job_information_df_2007_2019['Job Automation Index Change Percentile'] = ['Top 50%'] + pd.merge(job_information_df_2007_2019[['Job Automation Index Change Rank']], rank_label.rename(columns={\"Rank\": \"Job Automation Index Change Rank\"}), on='Job Automation Index Change Rank', how='left')['Label'].iloc[1:].tolist()\n",
    "\n",
    "job_information_df_2007_2019['Wage Share Change Rank'] = [None] + job_information_df_2007_2019['Wage Share Change'].iloc[1:].rank(ascending=0, method='first').tolist()\n",
    "job_information_df_2007_2019['Wage Share Change Percentile']= [None] + pd.merge(job_information_df_2007_2019[['Wage Share Change Rank']], rank_label.rename(columns={\"Rank\": \"Wage Share Change Rank\"}), on='Wage Share Change Rank', how='left')['Label'].iloc[1:].tolist()"
   ]
  },
  {
   "cell_type": "code",
   "execution_count": 33,
   "metadata": {
    "collapsed": false
   },
   "outputs": [
    {
     "data": {
      "text/html": [
       "<div>\n",
       "<style>\n",
       "    .dataframe thead tr:only-child th {\n",
       "        text-align: right;\n",
       "    }\n",
       "\n",
       "    .dataframe thead th {\n",
       "        text-align: left;\n",
       "    }\n",
       "\n",
       "    .dataframe tbody tr th {\n",
       "        vertical-align: top;\n",
       "    }\n",
       "</style>\n",
       "<table border=\"1\" class=\"dataframe\">\n",
       "  <thead>\n",
       "    <tr style=\"text-align: right;\">\n",
       "      <th></th>\n",
       "      <th>SOC Code</th>\n",
       "      <th>Job Title</th>\n",
       "      <th>Job Family</th>\n",
       "      <th>Description</th>\n",
       "      <th>Job Automation Index</th>\n",
       "      <th>Wage Share Change</th>\n",
       "      <th>Year</th>\n",
       "      <th>Job Automation Index Change</th>\n",
       "      <th>Job Automation Index Change Rank</th>\n",
       "      <th>Job Automation Index Change Percentile</th>\n",
       "      <th>Wage Share Change Rank</th>\n",
       "      <th>Wage Share Change Percentile</th>\n",
       "    </tr>\n",
       "  </thead>\n",
       "  <tbody>\n",
       "    <tr>\n",
       "      <th>0</th>\n",
       "      <td>00-0000</td>\n",
       "      <td>TOTAL AVERAGE</td>\n",
       "      <td>TOTAL AVERAGE</td>\n",
       "      <td>Average of all occupations</td>\n",
       "      <td>None</td>\n",
       "      <td>NaN</td>\n",
       "      <td>2007~2019</td>\n",
       "      <td>0.003835</td>\n",
       "      <td>NaN</td>\n",
       "      <td>Top 50%</td>\n",
       "      <td>NaN</td>\n",
       "      <td>None</td>\n",
       "    </tr>\n",
       "    <tr>\n",
       "      <th>1</th>\n",
       "      <td>11-1011</td>\n",
       "      <td>Chief Executives</td>\n",
       "      <td>Management Occupations</td>\n",
       "      <td>Determine and formulate policies and provide o...</td>\n",
       "      <td>None</td>\n",
       "      <td>-0.003936</td>\n",
       "      <td>2007~2019</td>\n",
       "      <td>-0.001103</td>\n",
       "      <td>434.0</td>\n",
       "      <td>Bottom 35%</td>\n",
       "      <td>647.0</td>\n",
       "      <td>Bottom 1%</td>\n",
       "    </tr>\n",
       "    <tr>\n",
       "      <th>2</th>\n",
       "      <td>11-1021</td>\n",
       "      <td>General and Operations Managers</td>\n",
       "      <td>Management Occupations</td>\n",
       "      <td>Plan, direct, or coordinate the operations of ...</td>\n",
       "      <td>None</td>\n",
       "      <td>0.003441</td>\n",
       "      <td>2007~2019</td>\n",
       "      <td>0.003039</td>\n",
       "      <td>353.0</td>\n",
       "      <td>Bottom 50%</td>\n",
       "      <td>10.0</td>\n",
       "      <td>Top 5%</td>\n",
       "    </tr>\n",
       "    <tr>\n",
       "      <th>3</th>\n",
       "      <td>11-2011</td>\n",
       "      <td>Advertising and Promotions Managers</td>\n",
       "      <td>Management Occupations</td>\n",
       "      <td>Plan, direct, or coordinate advertising polici...</td>\n",
       "      <td>None</td>\n",
       "      <td>-0.000205</td>\n",
       "      <td>2007~2019</td>\n",
       "      <td>0.000990</td>\n",
       "      <td>401.0</td>\n",
       "      <td>Bottom 40%</td>\n",
       "      <td>495.0</td>\n",
       "      <td>Bottom 25%</td>\n",
       "    </tr>\n",
       "    <tr>\n",
       "      <th>4</th>\n",
       "      <td>11-2021</td>\n",
       "      <td>Marketing Managers</td>\n",
       "      <td>Management Occupations</td>\n",
       "      <td>Plan, direct, or coordinate marketing policies...</td>\n",
       "      <td>None</td>\n",
       "      <td>0.001286</td>\n",
       "      <td>2007~2019</td>\n",
       "      <td>-0.006078</td>\n",
       "      <td>516.0</td>\n",
       "      <td>Bottom 25%</td>\n",
       "      <td>16.0</td>\n",
       "      <td>Top 5%</td>\n",
       "    </tr>\n",
       "  </tbody>\n",
       "</table>\n",
       "</div>"
      ],
      "text/plain": [
       "  SOC Code                            Job Title              Job Family  \\\n",
       "0  00-0000                        TOTAL AVERAGE           TOTAL AVERAGE   \n",
       "1  11-1011                     Chief Executives  Management Occupations   \n",
       "2  11-1021      General and Operations Managers  Management Occupations   \n",
       "3  11-2011  Advertising and Promotions Managers  Management Occupations   \n",
       "4  11-2021                   Marketing Managers  Management Occupations   \n",
       "\n",
       "                                         Description Job Automation Index  \\\n",
       "0                         Average of all occupations                 None   \n",
       "1  Determine and formulate policies and provide o...                 None   \n",
       "2  Plan, direct, or coordinate the operations of ...                 None   \n",
       "3  Plan, direct, or coordinate advertising polici...                 None   \n",
       "4  Plan, direct, or coordinate marketing policies...                 None   \n",
       "\n",
       "   Wage Share Change       Year  Job Automation Index Change  \\\n",
       "0                NaN  2007~2019                     0.003835   \n",
       "1          -0.003936  2007~2019                    -0.001103   \n",
       "2           0.003441  2007~2019                     0.003039   \n",
       "3          -0.000205  2007~2019                     0.000990   \n",
       "4           0.001286  2007~2019                    -0.006078   \n",
       "\n",
       "   Job Automation Index Change Rank Job Automation Index Change Percentile  \\\n",
       "0                               NaN                                Top 50%   \n",
       "1                             434.0                             Bottom 35%   \n",
       "2                             353.0                             Bottom 50%   \n",
       "3                             401.0                             Bottom 40%   \n",
       "4                             516.0                             Bottom 25%   \n",
       "\n",
       "   Wage Share Change Rank Wage Share Change Percentile  \n",
       "0                     NaN                         None  \n",
       "1                   647.0                    Bottom 1%  \n",
       "2                    10.0                       Top 5%  \n",
       "3                   495.0                   Bottom 25%  \n",
       "4                    16.0                       Top 5%  "
      ]
     },
     "execution_count": 33,
     "metadata": {},
     "output_type": "execute_result"
    }
   ],
   "source": [
    "job_information_df_2007_2019.head()"
   ]
  },
  {
   "cell_type": "code",
   "execution_count": 34,
   "metadata": {
    "collapsed": true
   },
   "outputs": [],
   "source": [
    "panel1_df = pd.DataFrame()\n",
    "panel1_df = panel1_df.append(job_information_df_2007)\n",
    "panel1_df = panel1_df.append(job_information_df_2019)\n",
    "panel1_df = panel1_df.append(job_information_df_2007_2019)"
   ]
  },
  {
   "cell_type": "code",
   "execution_count": 35,
   "metadata": {
    "collapsed": true
   },
   "outputs": [],
   "source": [
    "panel1_df = panel1_df[['Year','SOC Code','Job Title','Description','Job Automation Index', 'Job Automation Index Rank','Job Automation Index Percentile',\n",
    "                       'Employment', 'Employment Rank','Employment Percentile', \n",
    "                       'Annual Wage', 'Annual Wage Rank', 'Annual Wage Percentile', \n",
    "                       'Job Automation Index Change', 'Job Automation Index Change Rank','Job Automation Index Change Percentile',\n",
    "                       'Wage Share Change', 'Wage Share Change Rank', 'Wage Share Change Percentile',]]"
   ]
  },
  {
   "cell_type": "code",
   "execution_count": 36,
   "metadata": {
    "collapsed": false
   },
   "outputs": [
    {
     "data": {
      "text/html": [
       "<div>\n",
       "<style>\n",
       "    .dataframe thead tr:only-child th {\n",
       "        text-align: right;\n",
       "    }\n",
       "\n",
       "    .dataframe thead th {\n",
       "        text-align: left;\n",
       "    }\n",
       "\n",
       "    .dataframe tbody tr th {\n",
       "        vertical-align: top;\n",
       "    }\n",
       "</style>\n",
       "<table border=\"1\" class=\"dataframe\">\n",
       "  <thead>\n",
       "    <tr style=\"text-align: right;\">\n",
       "      <th></th>\n",
       "      <th>Year</th>\n",
       "      <th>SOC Code</th>\n",
       "      <th>Job Title</th>\n",
       "      <th>Description</th>\n",
       "      <th>Job Automation Index</th>\n",
       "      <th>Job Automation Index Rank</th>\n",
       "      <th>Job Automation Index Percentile</th>\n",
       "      <th>Employment</th>\n",
       "      <th>Employment Rank</th>\n",
       "      <th>Employment Percentile</th>\n",
       "      <th>Annual Wage</th>\n",
       "      <th>Annual Wage Rank</th>\n",
       "      <th>Annual Wage Percentile</th>\n",
       "      <th>Job Automation Index Change</th>\n",
       "      <th>Job Automation Index Change Rank</th>\n",
       "      <th>Job Automation Index Change Percentile</th>\n",
       "      <th>Wage Share Change</th>\n",
       "      <th>Wage Share Change Rank</th>\n",
       "      <th>Wage Share Change Percentile</th>\n",
       "    </tr>\n",
       "  </thead>\n",
       "  <tbody>\n",
       "    <tr>\n",
       "      <th>0</th>\n",
       "      <td>2007</td>\n",
       "      <td>00-0000</td>\n",
       "      <td>TOTAL AVERAGE</td>\n",
       "      <td>Average of all occupations</td>\n",
       "      <td>0.485689</td>\n",
       "      <td>NaN</td>\n",
       "      <td>Top 50%</td>\n",
       "      <td>124783560.0</td>\n",
       "      <td>NaN</td>\n",
       "      <td>None</td>\n",
       "      <td>40174.603998</td>\n",
       "      <td>NaN</td>\n",
       "      <td>Top 50%</td>\n",
       "      <td>NaN</td>\n",
       "      <td>NaN</td>\n",
       "      <td>NaN</td>\n",
       "      <td>NaN</td>\n",
       "      <td>NaN</td>\n",
       "      <td>NaN</td>\n",
       "    </tr>\n",
       "    <tr>\n",
       "      <th>1</th>\n",
       "      <td>2007</td>\n",
       "      <td>11-1011</td>\n",
       "      <td>Chief Executives</td>\n",
       "      <td>Determine and formulate policies and provide o...</td>\n",
       "      <td>0.473873</td>\n",
       "      <td>447.0</td>\n",
       "      <td>Bottom 35%</td>\n",
       "      <td>299160.0</td>\n",
       "      <td>93.0</td>\n",
       "      <td>Top 15%</td>\n",
       "      <td>151370.000000</td>\n",
       "      <td>9.0</td>\n",
       "      <td>Top 5%</td>\n",
       "      <td>NaN</td>\n",
       "      <td>NaN</td>\n",
       "      <td>NaN</td>\n",
       "      <td>NaN</td>\n",
       "      <td>NaN</td>\n",
       "      <td>NaN</td>\n",
       "    </tr>\n",
       "    <tr>\n",
       "      <th>2</th>\n",
       "      <td>2007</td>\n",
       "      <td>11-1021</td>\n",
       "      <td>General and Operations Managers</td>\n",
       "      <td>Plan, direct, or coordinate the operations of ...</td>\n",
       "      <td>0.47246</td>\n",
       "      <td>465.0</td>\n",
       "      <td>Bottom 30%</td>\n",
       "      <td>1655410.0</td>\n",
       "      <td>14.0</td>\n",
       "      <td>Top 5%</td>\n",
       "      <td>103780.000000</td>\n",
       "      <td>24.0</td>\n",
       "      <td>Top 5%</td>\n",
       "      <td>NaN</td>\n",
       "      <td>NaN</td>\n",
       "      <td>NaN</td>\n",
       "      <td>NaN</td>\n",
       "      <td>NaN</td>\n",
       "      <td>NaN</td>\n",
       "    </tr>\n",
       "    <tr>\n",
       "      <th>3</th>\n",
       "      <td>2007</td>\n",
       "      <td>11-2011</td>\n",
       "      <td>Advertising and Promotions Managers</td>\n",
       "      <td>Plan, direct, or coordinate advertising polici...</td>\n",
       "      <td>0.471311</td>\n",
       "      <td>476.0</td>\n",
       "      <td>Bottom 30%</td>\n",
       "      <td>36300.0</td>\n",
       "      <td>394.0</td>\n",
       "      <td>Bottom 40%</td>\n",
       "      <td>91100.000000</td>\n",
       "      <td>38.0</td>\n",
       "      <td>Top 10%</td>\n",
       "      <td>NaN</td>\n",
       "      <td>NaN</td>\n",
       "      <td>NaN</td>\n",
       "      <td>NaN</td>\n",
       "      <td>NaN</td>\n",
       "      <td>NaN</td>\n",
       "    </tr>\n",
       "    <tr>\n",
       "      <th>4</th>\n",
       "      <td>2007</td>\n",
       "      <td>11-2021</td>\n",
       "      <td>Marketing Managers</td>\n",
       "      <td>Plan, direct, or coordinate marketing policies...</td>\n",
       "      <td>0.471814</td>\n",
       "      <td>468.0</td>\n",
       "      <td>Bottom 30%</td>\n",
       "      <td>165240.0</td>\n",
       "      <td>161.0</td>\n",
       "      <td>Top 25%</td>\n",
       "      <td>113400.000000</td>\n",
       "      <td>19.0</td>\n",
       "      <td>Top 5%</td>\n",
       "      <td>NaN</td>\n",
       "      <td>NaN</td>\n",
       "      <td>NaN</td>\n",
       "      <td>NaN</td>\n",
       "      <td>NaN</td>\n",
       "      <td>NaN</td>\n",
       "    </tr>\n",
       "  </tbody>\n",
       "</table>\n",
       "</div>"
      ],
      "text/plain": [
       "   Year SOC Code                            Job Title  \\\n",
       "0  2007  00-0000                        TOTAL AVERAGE   \n",
       "1  2007  11-1011                     Chief Executives   \n",
       "2  2007  11-1021      General and Operations Managers   \n",
       "3  2007  11-2011  Advertising and Promotions Managers   \n",
       "4  2007  11-2021                   Marketing Managers   \n",
       "\n",
       "                                         Description Job Automation Index  \\\n",
       "0                         Average of all occupations             0.485689   \n",
       "1  Determine and formulate policies and provide o...             0.473873   \n",
       "2  Plan, direct, or coordinate the operations of ...              0.47246   \n",
       "3  Plan, direct, or coordinate advertising polici...             0.471311   \n",
       "4  Plan, direct, or coordinate marketing policies...             0.471814   \n",
       "\n",
       "   Job Automation Index Rank Job Automation Index Percentile   Employment  \\\n",
       "0                        NaN                         Top 50%  124783560.0   \n",
       "1                      447.0                      Bottom 35%     299160.0   \n",
       "2                      465.0                      Bottom 30%    1655410.0   \n",
       "3                      476.0                      Bottom 30%      36300.0   \n",
       "4                      468.0                      Bottom 30%     165240.0   \n",
       "\n",
       "   Employment Rank Employment Percentile    Annual Wage  Annual Wage Rank  \\\n",
       "0              NaN                  None   40174.603998               NaN   \n",
       "1             93.0               Top 15%  151370.000000               9.0   \n",
       "2             14.0                Top 5%  103780.000000              24.0   \n",
       "3            394.0            Bottom 40%   91100.000000              38.0   \n",
       "4            161.0               Top 25%  113400.000000              19.0   \n",
       "\n",
       "  Annual Wage Percentile  Job Automation Index Change  \\\n",
       "0                Top 50%                          NaN   \n",
       "1                 Top 5%                          NaN   \n",
       "2                 Top 5%                          NaN   \n",
       "3                Top 10%                          NaN   \n",
       "4                 Top 5%                          NaN   \n",
       "\n",
       "   Job Automation Index Change Rank Job Automation Index Change Percentile  \\\n",
       "0                               NaN                                    NaN   \n",
       "1                               NaN                                    NaN   \n",
       "2                               NaN                                    NaN   \n",
       "3                               NaN                                    NaN   \n",
       "4                               NaN                                    NaN   \n",
       "\n",
       "   Wage Share Change  Wage Share Change Rank Wage Share Change Percentile  \n",
       "0                NaN                     NaN                          NaN  \n",
       "1                NaN                     NaN                          NaN  \n",
       "2                NaN                     NaN                          NaN  \n",
       "3                NaN                     NaN                          NaN  \n",
       "4                NaN                     NaN                          NaN  "
      ]
     },
     "execution_count": 36,
     "metadata": {},
     "output_type": "execute_result"
    }
   ],
   "source": [
    "panel1_df.head()"
   ]
  },
  {
   "cell_type": "code",
   "execution_count": 37,
   "metadata": {
    "collapsed": true
   },
   "outputs": [],
   "source": [
    "panel1_df = panel1_df.rename({'SOC Code': 'Job Code'})"
   ]
  },
  {
   "cell_type": "code",
   "execution_count": 38,
   "metadata": {
    "collapsed": false
   },
   "outputs": [],
   "source": [
    "panel1_df.to_csv(\"../static/data/csv/Panel 1.csv\", index=False, encoding='utf-8')"
   ]
  },
  {
   "cell_type": "markdown",
   "metadata": {},
   "source": [
    "## Task-Level Automation"
   ]
  },
  {
   "cell_type": "markdown",
   "metadata": {},
   "source": [
    "### Panel 2"
   ]
  },
  {
   "cell_type": "code",
   "execution_count": 39,
   "metadata": {
    "collapsed": true
   },
   "outputs": [],
   "source": [
    "task_automation_df_2007 = pd.read_excel(\"../static/data/xlsx/Task-Level Automation.xlsx\", sheetname='2007')\n",
    "task_automation_df_2019 = pd.read_excel(\"../static/data/xlsx/Task-Level Automation.xlsx\", sheetname='2019')\n",
    "task_automation_df_2007_2019 = pd.read_excel(\"../static/data/xlsx/Task-Level Automation.xlsx\", sheetname='2007-2019')"
   ]
  },
  {
   "cell_type": "code",
   "execution_count": 40,
   "metadata": {
    "collapsed": true
   },
   "outputs": [],
   "source": [
    "task_automation_df_2007['Year'] = '2007'\n",
    "task_automation_df_2019['Year'] = '2019'\n",
    "task_automation_df_2007_2019['Year'] = '2007~2019'"
   ]
  },
  {
   "cell_type": "code",
   "execution_count": 41,
   "metadata": {
    "collapsed": true
   },
   "outputs": [],
   "source": [
    "panel2_df = pd.DataFrame()\n",
    "panel2_df = panel2_df.append(task_automation_df_2007[['Year','SOC Code','Job Title','Race with the Machine','Race against the Machine','Race ahead of the Machine','Running a Different Race']])\n",
    "panel2_df = panel2_df.append(task_automation_df_2019[['Year','SOC Code','Job Title','Race with the Machine','Race against the Machine','Race ahead of the Machine','Running a Different Race']])\n",
    "panel2_df = panel2_df.append(task_automation_df_2007_2019[['Year','SOC Code','Job Title','Race with the Machine','Race against the Machine','Race ahead of the Machine','Running a Different Race']])"
   ]
  },
  {
   "cell_type": "code",
   "execution_count": 42,
   "metadata": {
    "collapsed": false
   },
   "outputs": [
    {
     "data": {
      "text/html": [
       "<div>\n",
       "<style>\n",
       "    .dataframe thead tr:only-child th {\n",
       "        text-align: right;\n",
       "    }\n",
       "\n",
       "    .dataframe thead th {\n",
       "        text-align: left;\n",
       "    }\n",
       "\n",
       "    .dataframe tbody tr th {\n",
       "        vertical-align: top;\n",
       "    }\n",
       "</style>\n",
       "<table border=\"1\" class=\"dataframe\">\n",
       "  <thead>\n",
       "    <tr style=\"text-align: right;\">\n",
       "      <th></th>\n",
       "      <th>SOC Code</th>\n",
       "      <th>Job Title</th>\n",
       "      <th>Job Family</th>\n",
       "      <th>Description</th>\n",
       "      <th>Job Automation Index</th>\n",
       "      <th>Wage Share Change</th>\n",
       "      <th>Year</th>\n",
       "      <th>Job Automation Index Change</th>\n",
       "      <th>Job Automation Index Change Rank</th>\n",
       "      <th>Job Automation Index Change Percentile</th>\n",
       "      <th>Wage Share Change Rank</th>\n",
       "      <th>Wage Share Change Percentile</th>\n",
       "    </tr>\n",
       "  </thead>\n",
       "  <tbody>\n",
       "    <tr>\n",
       "      <th>0</th>\n",
       "      <td>00-0000</td>\n",
       "      <td>TOTAL AVERAGE</td>\n",
       "      <td>TOTAL AVERAGE</td>\n",
       "      <td>Average of all occupations</td>\n",
       "      <td>None</td>\n",
       "      <td>NaN</td>\n",
       "      <td>2007~2019</td>\n",
       "      <td>0.003835</td>\n",
       "      <td>NaN</td>\n",
       "      <td>Top 50%</td>\n",
       "      <td>NaN</td>\n",
       "      <td>None</td>\n",
       "    </tr>\n",
       "    <tr>\n",
       "      <th>1</th>\n",
       "      <td>11-1011</td>\n",
       "      <td>Chief Executives</td>\n",
       "      <td>Management Occupations</td>\n",
       "      <td>Determine and formulate policies and provide o...</td>\n",
       "      <td>None</td>\n",
       "      <td>-0.003936</td>\n",
       "      <td>2007~2019</td>\n",
       "      <td>-0.001103</td>\n",
       "      <td>434.0</td>\n",
       "      <td>Bottom 35%</td>\n",
       "      <td>647.0</td>\n",
       "      <td>Bottom 1%</td>\n",
       "    </tr>\n",
       "    <tr>\n",
       "      <th>2</th>\n",
       "      <td>11-1021</td>\n",
       "      <td>General and Operations Managers</td>\n",
       "      <td>Management Occupations</td>\n",
       "      <td>Plan, direct, or coordinate the operations of ...</td>\n",
       "      <td>None</td>\n",
       "      <td>0.003441</td>\n",
       "      <td>2007~2019</td>\n",
       "      <td>0.003039</td>\n",
       "      <td>353.0</td>\n",
       "      <td>Bottom 50%</td>\n",
       "      <td>10.0</td>\n",
       "      <td>Top 5%</td>\n",
       "    </tr>\n",
       "    <tr>\n",
       "      <th>3</th>\n",
       "      <td>11-2011</td>\n",
       "      <td>Advertising and Promotions Managers</td>\n",
       "      <td>Management Occupations</td>\n",
       "      <td>Plan, direct, or coordinate advertising polici...</td>\n",
       "      <td>None</td>\n",
       "      <td>-0.000205</td>\n",
       "      <td>2007~2019</td>\n",
       "      <td>0.000990</td>\n",
       "      <td>401.0</td>\n",
       "      <td>Bottom 40%</td>\n",
       "      <td>495.0</td>\n",
       "      <td>Bottom 25%</td>\n",
       "    </tr>\n",
       "    <tr>\n",
       "      <th>4</th>\n",
       "      <td>11-2021</td>\n",
       "      <td>Marketing Managers</td>\n",
       "      <td>Management Occupations</td>\n",
       "      <td>Plan, direct, or coordinate marketing policies...</td>\n",
       "      <td>None</td>\n",
       "      <td>0.001286</td>\n",
       "      <td>2007~2019</td>\n",
       "      <td>-0.006078</td>\n",
       "      <td>516.0</td>\n",
       "      <td>Bottom 25%</td>\n",
       "      <td>16.0</td>\n",
       "      <td>Top 5%</td>\n",
       "    </tr>\n",
       "  </tbody>\n",
       "</table>\n",
       "</div>"
      ],
      "text/plain": [
       "  SOC Code                            Job Title              Job Family  \\\n",
       "0  00-0000                        TOTAL AVERAGE           TOTAL AVERAGE   \n",
       "1  11-1011                     Chief Executives  Management Occupations   \n",
       "2  11-1021      General and Operations Managers  Management Occupations   \n",
       "3  11-2011  Advertising and Promotions Managers  Management Occupations   \n",
       "4  11-2021                   Marketing Managers  Management Occupations   \n",
       "\n",
       "                                         Description Job Automation Index  \\\n",
       "0                         Average of all occupations                 None   \n",
       "1  Determine and formulate policies and provide o...                 None   \n",
       "2  Plan, direct, or coordinate the operations of ...                 None   \n",
       "3  Plan, direct, or coordinate advertising polici...                 None   \n",
       "4  Plan, direct, or coordinate marketing policies...                 None   \n",
       "\n",
       "   Wage Share Change       Year  Job Automation Index Change  \\\n",
       "0                NaN  2007~2019                     0.003835   \n",
       "1          -0.003936  2007~2019                    -0.001103   \n",
       "2           0.003441  2007~2019                     0.003039   \n",
       "3          -0.000205  2007~2019                     0.000990   \n",
       "4           0.001286  2007~2019                    -0.006078   \n",
       "\n",
       "   Job Automation Index Change Rank Job Automation Index Change Percentile  \\\n",
       "0                               NaN                                Top 50%   \n",
       "1                             434.0                             Bottom 35%   \n",
       "2                             353.0                             Bottom 50%   \n",
       "3                             401.0                             Bottom 40%   \n",
       "4                             516.0                             Bottom 25%   \n",
       "\n",
       "   Wage Share Change Rank Wage Share Change Percentile  \n",
       "0                     NaN                         None  \n",
       "1                   647.0                    Bottom 1%  \n",
       "2                    10.0                       Top 5%  \n",
       "3                   495.0                   Bottom 25%  \n",
       "4                    16.0                       Top 5%  "
      ]
     },
     "execution_count": 42,
     "metadata": {},
     "output_type": "execute_result"
    }
   ],
   "source": [
    "job_information_df_2007_2019.head()"
   ]
  },
  {
   "cell_type": "code",
   "execution_count": 43,
   "metadata": {
    "collapsed": false
   },
   "outputs": [],
   "source": [
    "panel2_df = panel2_df.merge(job_information_df_2007_2019[['SOC Code','Job Family']], on='SOC Code', how='left')"
   ]
  },
  {
   "cell_type": "code",
   "execution_count": 44,
   "metadata": {
    "collapsed": false
   },
   "outputs": [
    {
     "data": {
      "text/html": [
       "<div>\n",
       "<style>\n",
       "    .dataframe thead tr:only-child th {\n",
       "        text-align: right;\n",
       "    }\n",
       "\n",
       "    .dataframe thead th {\n",
       "        text-align: left;\n",
       "    }\n",
       "\n",
       "    .dataframe tbody tr th {\n",
       "        vertical-align: top;\n",
       "    }\n",
       "</style>\n",
       "<table border=\"1\" class=\"dataframe\">\n",
       "  <thead>\n",
       "    <tr style=\"text-align: right;\">\n",
       "      <th></th>\n",
       "      <th>Year</th>\n",
       "      <th>SOC Code</th>\n",
       "      <th>Job Title</th>\n",
       "      <th>Race with the Machine</th>\n",
       "      <th>Race against the Machine</th>\n",
       "      <th>Race ahead of the Machine</th>\n",
       "      <th>Running a Different Race</th>\n",
       "      <th>Job Family</th>\n",
       "    </tr>\n",
       "  </thead>\n",
       "  <tbody>\n",
       "    <tr>\n",
       "      <th>0</th>\n",
       "      <td>2007</td>\n",
       "      <td>00-0000</td>\n",
       "      <td>TOTAL AVERAGE</td>\n",
       "      <td>0.101742</td>\n",
       "      <td>0.152735</td>\n",
       "      <td>0.049711</td>\n",
       "      <td>0.181501</td>\n",
       "      <td>TOTAL AVERAGE</td>\n",
       "    </tr>\n",
       "    <tr>\n",
       "      <th>1</th>\n",
       "      <td>2007</td>\n",
       "      <td>11-1011</td>\n",
       "      <td>Chief Executives</td>\n",
       "      <td>0.143980</td>\n",
       "      <td>0.100651</td>\n",
       "      <td>0.103554</td>\n",
       "      <td>0.125688</td>\n",
       "      <td>Management Occupations</td>\n",
       "    </tr>\n",
       "    <tr>\n",
       "      <th>2</th>\n",
       "      <td>2007</td>\n",
       "      <td>11-1021</td>\n",
       "      <td>General and Operations Managers</td>\n",
       "      <td>0.164564</td>\n",
       "      <td>0.062978</td>\n",
       "      <td>0.071447</td>\n",
       "      <td>0.173470</td>\n",
       "      <td>Management Occupations</td>\n",
       "    </tr>\n",
       "    <tr>\n",
       "      <th>3</th>\n",
       "      <td>2007</td>\n",
       "      <td>11-2011</td>\n",
       "      <td>Advertising and Promotions Managers</td>\n",
       "      <td>0.187961</td>\n",
       "      <td>0.100956</td>\n",
       "      <td>0.080247</td>\n",
       "      <td>0.102148</td>\n",
       "      <td>Management Occupations</td>\n",
       "    </tr>\n",
       "    <tr>\n",
       "      <th>4</th>\n",
       "      <td>2007</td>\n",
       "      <td>11-2021</td>\n",
       "      <td>Marketing Managers</td>\n",
       "      <td>0.174684</td>\n",
       "      <td>0.082074</td>\n",
       "      <td>0.110365</td>\n",
       "      <td>0.104691</td>\n",
       "      <td>Management Occupations</td>\n",
       "    </tr>\n",
       "  </tbody>\n",
       "</table>\n",
       "</div>"
      ],
      "text/plain": [
       "   Year SOC Code                            Job Title  Race with the Machine  \\\n",
       "0  2007  00-0000                        TOTAL AVERAGE               0.101742   \n",
       "1  2007  11-1011                     Chief Executives               0.143980   \n",
       "2  2007  11-1021      General and Operations Managers               0.164564   \n",
       "3  2007  11-2011  Advertising and Promotions Managers               0.187961   \n",
       "4  2007  11-2021                   Marketing Managers               0.174684   \n",
       "\n",
       "   Race against the Machine  Race ahead of the Machine  \\\n",
       "0                  0.152735                   0.049711   \n",
       "1                  0.100651                   0.103554   \n",
       "2                  0.062978                   0.071447   \n",
       "3                  0.100956                   0.080247   \n",
       "4                  0.082074                   0.110365   \n",
       "\n",
       "   Running a Different Race              Job Family  \n",
       "0                  0.181501           TOTAL AVERAGE  \n",
       "1                  0.125688  Management Occupations  \n",
       "2                  0.173470  Management Occupations  \n",
       "3                  0.102148  Management Occupations  \n",
       "4                  0.104691  Management Occupations  "
      ]
     },
     "execution_count": 44,
     "metadata": {},
     "output_type": "execute_result"
    }
   ],
   "source": [
    "panel2_df.head()"
   ]
  },
  {
   "cell_type": "code",
   "execution_count": 45,
   "metadata": {
    "collapsed": true
   },
   "outputs": [],
   "source": [
    "panel2_df = panel2_df[['Year','SOC Code','Job Title','Job Family', 'Race with the Machine', 'Race against the Machine', 'Race ahead of the Machine', 'Running a Different Race']]"
   ]
  },
  {
   "cell_type": "code",
   "execution_count": 46,
   "metadata": {
    "collapsed": true
   },
   "outputs": [],
   "source": [
    "panel2_df = panel2_df.rename(columns={'SOC Code': 'Job Code'})"
   ]
  },
  {
   "cell_type": "code",
   "execution_count": 47,
   "metadata": {
    "collapsed": false
   },
   "outputs": [
    {
     "data": {
      "text/html": [
       "<div>\n",
       "<style>\n",
       "    .dataframe thead tr:only-child th {\n",
       "        text-align: right;\n",
       "    }\n",
       "\n",
       "    .dataframe thead th {\n",
       "        text-align: left;\n",
       "    }\n",
       "\n",
       "    .dataframe tbody tr th {\n",
       "        vertical-align: top;\n",
       "    }\n",
       "</style>\n",
       "<table border=\"1\" class=\"dataframe\">\n",
       "  <thead>\n",
       "    <tr style=\"text-align: right;\">\n",
       "      <th></th>\n",
       "      <th>Year</th>\n",
       "      <th>Job Code</th>\n",
       "      <th>Job Title</th>\n",
       "      <th>Job Family</th>\n",
       "      <th>Race with the Machine</th>\n",
       "      <th>Race against the Machine</th>\n",
       "      <th>Race ahead of the Machine</th>\n",
       "      <th>Running a Different Race</th>\n",
       "    </tr>\n",
       "  </thead>\n",
       "  <tbody>\n",
       "    <tr>\n",
       "      <th>0</th>\n",
       "      <td>2007</td>\n",
       "      <td>00-0000</td>\n",
       "      <td>TOTAL AVERAGE</td>\n",
       "      <td>TOTAL AVERAGE</td>\n",
       "      <td>0.101742</td>\n",
       "      <td>0.152735</td>\n",
       "      <td>0.049711</td>\n",
       "      <td>0.181501</td>\n",
       "    </tr>\n",
       "    <tr>\n",
       "      <th>1</th>\n",
       "      <td>2007</td>\n",
       "      <td>11-1011</td>\n",
       "      <td>Chief Executives</td>\n",
       "      <td>Management Occupations</td>\n",
       "      <td>0.143980</td>\n",
       "      <td>0.100651</td>\n",
       "      <td>0.103554</td>\n",
       "      <td>0.125688</td>\n",
       "    </tr>\n",
       "    <tr>\n",
       "      <th>2</th>\n",
       "      <td>2007</td>\n",
       "      <td>11-1021</td>\n",
       "      <td>General and Operations Managers</td>\n",
       "      <td>Management Occupations</td>\n",
       "      <td>0.164564</td>\n",
       "      <td>0.062978</td>\n",
       "      <td>0.071447</td>\n",
       "      <td>0.173470</td>\n",
       "    </tr>\n",
       "    <tr>\n",
       "      <th>3</th>\n",
       "      <td>2007</td>\n",
       "      <td>11-2011</td>\n",
       "      <td>Advertising and Promotions Managers</td>\n",
       "      <td>Management Occupations</td>\n",
       "      <td>0.187961</td>\n",
       "      <td>0.100956</td>\n",
       "      <td>0.080247</td>\n",
       "      <td>0.102148</td>\n",
       "    </tr>\n",
       "    <tr>\n",
       "      <th>4</th>\n",
       "      <td>2007</td>\n",
       "      <td>11-2021</td>\n",
       "      <td>Marketing Managers</td>\n",
       "      <td>Management Occupations</td>\n",
       "      <td>0.174684</td>\n",
       "      <td>0.082074</td>\n",
       "      <td>0.110365</td>\n",
       "      <td>0.104691</td>\n",
       "    </tr>\n",
       "  </tbody>\n",
       "</table>\n",
       "</div>"
      ],
      "text/plain": [
       "   Year Job Code                            Job Title              Job Family  \\\n",
       "0  2007  00-0000                        TOTAL AVERAGE           TOTAL AVERAGE   \n",
       "1  2007  11-1011                     Chief Executives  Management Occupations   \n",
       "2  2007  11-1021      General and Operations Managers  Management Occupations   \n",
       "3  2007  11-2011  Advertising and Promotions Managers  Management Occupations   \n",
       "4  2007  11-2021                   Marketing Managers  Management Occupations   \n",
       "\n",
       "   Race with the Machine  Race against the Machine  Race ahead of the Machine  \\\n",
       "0               0.101742                  0.152735                   0.049711   \n",
       "1               0.143980                  0.100651                   0.103554   \n",
       "2               0.164564                  0.062978                   0.071447   \n",
       "3               0.187961                  0.100956                   0.080247   \n",
       "4               0.174684                  0.082074                   0.110365   \n",
       "\n",
       "   Running a Different Race  \n",
       "0                  0.181501  \n",
       "1                  0.125688  \n",
       "2                  0.173470  \n",
       "3                  0.102148  \n",
       "4                  0.104691  "
      ]
     },
     "execution_count": 47,
     "metadata": {},
     "output_type": "execute_result"
    }
   ],
   "source": [
    "panel2_df.head()"
   ]
  },
  {
   "cell_type": "code",
   "execution_count": 48,
   "metadata": {
    "collapsed": false
   },
   "outputs": [],
   "source": [
    "panel2_df.to_csv(\"../static/data/csv/Panel 2.csv\", index=False, encoding='utf-8')"
   ]
  },
  {
   "cell_type": "markdown",
   "metadata": {},
   "source": [
    "### Panel 4"
   ]
  },
  {
   "cell_type": "code",
   "execution_count": 49,
   "metadata": {
    "collapsed": true
   },
   "outputs": [],
   "source": [
    "task_automation_df_2007 = pd.read_excel(\"../static/data/xlsx/Task-Level Automation.xlsx\", sheetname='2007')\n",
    "task_automation_df_2019 = pd.read_excel(\"../static/data/xlsx/Task-Level Automation.xlsx\", sheetname='2019')\n",
    "task_automation_df_2007_2019 = pd.read_excel(\"../static/data/xlsx/Task-Level Automation.xlsx\", sheetname='2007-2019')"
   ]
  },
  {
   "cell_type": "code",
   "execution_count": 50,
   "metadata": {
    "collapsed": true
   },
   "outputs": [],
   "source": [
    "task_automation_df_2007 = task_automation_df_2007.rename(columns={\"SOC Code\":\"Job Code\"})\n",
    "task_automation_df_2019 = task_automation_df_2019.rename(columns={\"SOC Code\":\"Job Code\"})\n",
    "task_automation_df_2007_2019 = task_automation_df_2007_2019.rename(columns={\"SOC Code\":\"Job Code\"})"
   ]
  },
  {
   "cell_type": "code",
   "execution_count": 53,
   "metadata": {
    "collapsed": false
   },
   "outputs": [],
   "source": [
    "task_automation_df_2007.to_csv(\"../static/data/csv/Panel 4 2007.csv\", encoding='utf-8')\n",
    "task_automation_df_2019.to_csv(\"../static/data/csv/Panel 4 2019.csv\", encoding='utf-8')\n",
    "task_automation_df_2007_2019.to_csv(\"../static/data/csv/Panel 4 2007~2019.csv\", encoding='utf-8')"
   ]
  },
  {
   "cell_type": "markdown",
   "metadata": {},
   "source": [
    "### Panel 5"
   ]
  },
  {
   "cell_type": "code",
   "execution_count": 54,
   "metadata": {
    "collapsed": true
   },
   "outputs": [],
   "source": [
    "task_automation_df_2007 = pd.read_excel(\"../static/data/xlsx/Task-Level Automation.xlsx\", sheetname='2007')\n",
    "task_automation_df_2019 = pd.read_excel(\"../static/data/xlsx/Task-Level Automation.xlsx\", sheetname='2019')\n",
    "task_automation_df_2007_2019 = pd.read_excel(\"../static/data/xlsx/Task-Level Automation.xlsx\", sheetname='2007-2019')"
   ]
  },
  {
   "cell_type": "code",
   "execution_count": 55,
   "metadata": {
    "collapsed": true
   },
   "outputs": [],
   "source": [
    "task_automation_df_2007 = task_automation_df_2007[['SOC Code','Job Title','Automation Index','Race with the Machine','Race against the Machine','Race ahead of the Machine','Running a Different Race']]\n",
    "task_automation_df_2019 = task_automation_df_2019[['SOC Code','Job Title','Automation Index','Race with the Machine','Race against the Machine','Race ahead of the Machine','Running a Different Race']]\n",
    "task_automation_df_2007_2019 = task_automation_df_2007_2019[['SOC Code','Job Title','Automation Index','Race with the Machine','Race against the Machine','Race ahead of the Machine','Running a Different Race']]"
   ]
  },
  {
   "cell_type": "code",
   "execution_count": 56,
   "metadata": {
    "collapsed": true
   },
   "outputs": [],
   "source": [
    "task_automation_df_2007 = task_automation_df_2007.rename(columns={\"SOC Code\":\"Job Code\"})\n",
    "task_automation_df_2019 = task_automation_df_2019.rename(columns={\"SOC Code\":\"Job Code\"})\n",
    "task_automation_df_2007_2019 = task_automation_df_2007_2019.rename(columns={\"SOC Code\":\"Job Code\"})"
   ]
  },
  {
   "cell_type": "code",
   "execution_count": 58,
   "metadata": {
    "collapsed": false
   },
   "outputs": [],
   "source": [
    "task_automation_df_2007.to_csv(\"../static/data/csv/Panel 5 2007.csv\", encoding='utf-8')\n",
    "task_automation_df_2019.to_csv(\"../static/data/csv/Panel 5 2019.csv\", encoding='utf-8')\n",
    "task_automation_df_2007_2019.to_csv(\"../static/data/csv/Panel 5 2007~2019.csv\", encoding='utf-8')"
   ]
  },
  {
   "cell_type": "markdown",
   "metadata": {},
   "source": [
    "## Skill DNA"
   ]
  },
  {
   "cell_type": "code",
   "execution_count": 60,
   "metadata": {
    "collapsed": false
   },
   "outputs": [],
   "source": [
    "skill_dna_df_2007 = pd.read_excel(\"../static/data/xlsx/Skill DNA.xlsx\", sheetname='2007', skiprows=[0])\n",
    "skill_dna_df_2019 = pd.read_excel(\"../static/data/xlsx/Skill DNA.xlsx\", sheetname='2019', skiprows=[0])\n",
    "skill_dna_df_automation_level = pd.read_excel(\"../static/data/xlsx/Skill DNA.xlsx\", sheetname='Automation Level')"
   ]
  },
  {
   "cell_type": "code",
   "execution_count": 61,
   "metadata": {
    "collapsed": false
   },
   "outputs": [
    {
     "data": {
      "text/html": [
       "<div>\n",
       "<style>\n",
       "    .dataframe thead tr:only-child th {\n",
       "        text-align: right;\n",
       "    }\n",
       "\n",
       "    .dataframe thead th {\n",
       "        text-align: left;\n",
       "    }\n",
       "\n",
       "    .dataframe tbody tr th {\n",
       "        vertical-align: top;\n",
       "    }\n",
       "</style>\n",
       "<table border=\"1\" class=\"dataframe\">\n",
       "  <thead>\n",
       "    <tr style=\"text-align: right;\">\n",
       "      <th></th>\n",
       "      <th>ElementID</th>\n",
       "      <th>node</th>\n",
       "      <th>Task</th>\n",
       "      <th>2019_automation</th>\n",
       "      <th>2007_automation</th>\n",
       "      <th>Change between 2007-2019</th>\n",
       "    </tr>\n",
       "  </thead>\n",
       "  <tbody>\n",
       "    <tr>\n",
       "      <th>0</th>\n",
       "      <td>2.A.2.b</td>\n",
       "      <td>Active Learning</td>\n",
       "      <td>Creative and Critical Thinking</td>\n",
       "      <td>0.410292</td>\n",
       "      <td>0.426175</td>\n",
       "      <td>-0.015883</td>\n",
       "    </tr>\n",
       "    <tr>\n",
       "      <th>1</th>\n",
       "      <td>1.A.2.c.2</td>\n",
       "      <td>Wrist-Finger Speed</td>\n",
       "      <td>Machine Control</td>\n",
       "      <td>0.546390</td>\n",
       "      <td>0.548566</td>\n",
       "      <td>-0.002176</td>\n",
       "    </tr>\n",
       "    <tr>\n",
       "      <th>2</th>\n",
       "      <td>1.A.1.c.2</td>\n",
       "      <td>Number Facility</td>\n",
       "      <td>Information Processing</td>\n",
       "      <td>0.586415</td>\n",
       "      <td>0.576460</td>\n",
       "      <td>0.009955</td>\n",
       "    </tr>\n",
       "    <tr>\n",
       "      <th>3</th>\n",
       "      <td>4.C.1.a.2.h</td>\n",
       "      <td>Electronic Mail</td>\n",
       "      <td>Communication</td>\n",
       "      <td>0.487914</td>\n",
       "      <td>0.521616</td>\n",
       "      <td>-0.033703</td>\n",
       "    </tr>\n",
       "    <tr>\n",
       "      <th>4</th>\n",
       "      <td>4.C.2.a.1.e</td>\n",
       "      <td>In an Open Vehicle or Equipment</td>\n",
       "      <td>Vehicle and Equipment Operation</td>\n",
       "      <td>0.490551</td>\n",
       "      <td>0.483999</td>\n",
       "      <td>0.006552</td>\n",
       "    </tr>\n",
       "  </tbody>\n",
       "</table>\n",
       "</div>"
      ],
      "text/plain": [
       "     ElementID                             node  \\\n",
       "0      2.A.2.b                  Active Learning   \n",
       "1    1.A.2.c.2               Wrist-Finger Speed   \n",
       "2    1.A.1.c.2                  Number Facility   \n",
       "3  4.C.1.a.2.h                  Electronic Mail   \n",
       "4  4.C.2.a.1.e  In an Open Vehicle or Equipment   \n",
       "\n",
       "                              Task  2019_automation  2007_automation  \\\n",
       "0   Creative and Critical Thinking         0.410292         0.426175   \n",
       "1                  Machine Control         0.546390         0.548566   \n",
       "2           Information Processing         0.586415         0.576460   \n",
       "3                    Communication         0.487914         0.521616   \n",
       "4  Vehicle and Equipment Operation         0.490551         0.483999   \n",
       "\n",
       "   Change between 2007-2019  \n",
       "0                 -0.015883  \n",
       "1                 -0.002176  \n",
       "2                  0.009955  \n",
       "3                 -0.033703  \n",
       "4                  0.006552  "
      ]
     },
     "execution_count": 61,
     "metadata": {},
     "output_type": "execute_result"
    }
   ],
   "source": [
    "skill_dna_df_automation_level.head()"
   ]
  },
  {
   "cell_type": "code",
   "execution_count": 62,
   "metadata": {
    "collapsed": true
   },
   "outputs": [],
   "source": [
    "skill_dna_df_automation_level.columns = ['Skill Id', 'Skill Name', 'Task', '2019 Automation Level', '2007 Automation Level', 'Change during 2007-2019']"
   ]
  },
  {
   "cell_type": "code",
   "execution_count": 63,
   "metadata": {
    "collapsed": true
   },
   "outputs": [],
   "source": [
    "skill_dna_df_automation_level.to_csv(\"../static/data/csv/Panel 3.csv\", index=False)"
   ]
  },
  {
   "cell_type": "code",
   "execution_count": 64,
   "metadata": {
    "collapsed": true
   },
   "outputs": [],
   "source": [
    "skill_dna_df_2007 = skill_dna_df_2007.rename(columns={\"SOC Code\":\"Job Code\"})\n",
    "skill_dna_df_2019 = skill_dna_df_2019.rename(columns={\"SOC Code\":\"Job Code\"})"
   ]
  },
  {
   "cell_type": "code",
   "execution_count": 66,
   "metadata": {
    "collapsed": false
   },
   "outputs": [],
   "source": [
    "skill_dna_df_2007.to_csv(\"../static/data/csv/Panel 3 Skill Importance 2007.csv\", index=False, encoding='utf-8')\n",
    "skill_dna_df_2019.to_csv(\"../static/data/csv/Panel 3 Skill Importance 2019.csv\", index=False, encoding='utf-8')"
   ]
  },
  {
   "cell_type": "markdown",
   "metadata": {},
   "source": [
    "## City-Level Automation"
   ]
  },
  {
   "cell_type": "markdown",
   "metadata": {},
   "source": [
    "### Panel 6"
   ]
  },
  {
   "cell_type": "code",
   "execution_count": 67,
   "metadata": {
    "collapsed": true
   },
   "outputs": [],
   "source": [
    "city_level_df_2007 = pd.read_excel(\"../static/data/xlsx/City-Level Automation.xlsx\", sheetname='2007')\n",
    "city_level_df_2019 = pd.read_excel(\"../static/data/xlsx/City-Level Automation.xlsx\", sheetname='2019')\n",
    "city_level_df_2007_2019 = pd.read_excel(\"../static/data/xlsx/City-Level Automation.xlsx\", sheetname='2007-2019')"
   ]
  },
  {
   "cell_type": "code",
   "execution_count": 68,
   "metadata": {
    "collapsed": false
   },
   "outputs": [
    {
     "data": {
      "text/html": [
       "<div>\n",
       "<style>\n",
       "    .dataframe thead tr:only-child th {\n",
       "        text-align: right;\n",
       "    }\n",
       "\n",
       "    .dataframe thead th {\n",
       "        text-align: left;\n",
       "    }\n",
       "\n",
       "    .dataframe tbody tr th {\n",
       "        vertical-align: top;\n",
       "    }\n",
       "</style>\n",
       "<table border=\"1\" class=\"dataframe\">\n",
       "  <thead>\n",
       "    <tr style=\"text-align: right;\">\n",
       "      <th></th>\n",
       "      <th>MSA Code</th>\n",
       "      <th>AREA_NAME</th>\n",
       "      <th>Lat</th>\n",
       "      <th>Long</th>\n",
       "      <th>Employment</th>\n",
       "      <th>Automation Index</th>\n",
       "      <th>Race with the Machine</th>\n",
       "      <th>Communication</th>\n",
       "      <th>Interpersonal Task</th>\n",
       "      <th>Group Task</th>\n",
       "      <th>...</th>\n",
       "      <th>Race ahead of the Machine</th>\n",
       "      <th>Systems Analysis</th>\n",
       "      <th>Creative and Critical Thinking</th>\n",
       "      <th>Running a Different Race</th>\n",
       "      <th>Dynamic Physical Task</th>\n",
       "      <th>Equipment Maintenance</th>\n",
       "      <th>Vehicle and Equipment Operation</th>\n",
       "      <th>Hazardous Task</th>\n",
       "      <th>Conflict Resolution</th>\n",
       "      <th>Management and Supervision</th>\n",
       "    </tr>\n",
       "  </thead>\n",
       "  <tbody>\n",
       "    <tr>\n",
       "      <th>0</th>\n",
       "      <td>11260</td>\n",
       "      <td>Anchorage, AK</td>\n",
       "      <td>62.212784</td>\n",
       "      <td>-149.678222</td>\n",
       "      <td>477750</td>\n",
       "      <td>0.448733</td>\n",
       "      <td>0.109475</td>\n",
       "      <td>0.055789</td>\n",
       "      <td>0.043115</td>\n",
       "      <td>0.010572</td>\n",
       "      <td>...</td>\n",
       "      <td>0.030899</td>\n",
       "      <td>0.014747</td>\n",
       "      <td>0.016152</td>\n",
       "      <td>0.168963</td>\n",
       "      <td>0.043781</td>\n",
       "      <td>0.014956</td>\n",
       "      <td>0.035740</td>\n",
       "      <td>0.021264</td>\n",
       "      <td>0.033543</td>\n",
       "      <td>0.019678</td>\n",
       "    </tr>\n",
       "    <tr>\n",
       "      <th>1</th>\n",
       "      <td>21820</td>\n",
       "      <td>Fairbanks, AK</td>\n",
       "      <td>64.676044</td>\n",
       "      <td>-146.548159</td>\n",
       "      <td>99500</td>\n",
       "      <td>0.450853</td>\n",
       "      <td>0.107381</td>\n",
       "      <td>0.055108</td>\n",
       "      <td>0.041949</td>\n",
       "      <td>0.010324</td>\n",
       "      <td>...</td>\n",
       "      <td>0.027786</td>\n",
       "      <td>0.012984</td>\n",
       "      <td>0.014802</td>\n",
       "      <td>0.171946</td>\n",
       "      <td>0.048784</td>\n",
       "      <td>0.015468</td>\n",
       "      <td>0.036898</td>\n",
       "      <td>0.023257</td>\n",
       "      <td>0.029488</td>\n",
       "      <td>0.018052</td>\n",
       "    </tr>\n",
       "    <tr>\n",
       "      <th>2</th>\n",
       "      <td>11500</td>\n",
       "      <td>Anniston-Oxford-Jacksonville, AL</td>\n",
       "      <td>33.771706</td>\n",
       "      <td>-85.822513</td>\n",
       "      <td>135470</td>\n",
       "      <td>0.459752</td>\n",
       "      <td>0.091117</td>\n",
       "      <td>0.042566</td>\n",
       "      <td>0.038842</td>\n",
       "      <td>0.009708</td>\n",
       "      <td>...</td>\n",
       "      <td>0.025761</td>\n",
       "      <td>0.011476</td>\n",
       "      <td>0.014285</td>\n",
       "      <td>0.194353</td>\n",
       "      <td>0.048786</td>\n",
       "      <td>0.021097</td>\n",
       "      <td>0.041878</td>\n",
       "      <td>0.032617</td>\n",
       "      <td>0.032034</td>\n",
       "      <td>0.017940</td>\n",
       "    </tr>\n",
       "    <tr>\n",
       "      <th>3</th>\n",
       "      <td>12220</td>\n",
       "      <td>Auburn-Opelika, AL</td>\n",
       "      <td>32.604064</td>\n",
       "      <td>-85.353048</td>\n",
       "      <td>135410</td>\n",
       "      <td>0.478064</td>\n",
       "      <td>0.103435</td>\n",
       "      <td>0.047882</td>\n",
       "      <td>0.044562</td>\n",
       "      <td>0.010992</td>\n",
       "      <td>...</td>\n",
       "      <td>0.028583</td>\n",
       "      <td>0.011589</td>\n",
       "      <td>0.016994</td>\n",
       "      <td>0.191858</td>\n",
       "      <td>0.055723</td>\n",
       "      <td>0.018004</td>\n",
       "      <td>0.034803</td>\n",
       "      <td>0.029596</td>\n",
       "      <td>0.034195</td>\n",
       "      <td>0.019537</td>\n",
       "    </tr>\n",
       "    <tr>\n",
       "      <th>4</th>\n",
       "      <td>13820</td>\n",
       "      <td>Birmingham-Hoover, AL</td>\n",
       "      <td>33.462372</td>\n",
       "      <td>-86.814338</td>\n",
       "      <td>1540270</td>\n",
       "      <td>0.459331</td>\n",
       "      <td>0.107143</td>\n",
       "      <td>0.054810</td>\n",
       "      <td>0.042243</td>\n",
       "      <td>0.010090</td>\n",
       "      <td>...</td>\n",
       "      <td>0.031434</td>\n",
       "      <td>0.014809</td>\n",
       "      <td>0.016625</td>\n",
       "      <td>0.174068</td>\n",
       "      <td>0.042182</td>\n",
       "      <td>0.016656</td>\n",
       "      <td>0.037451</td>\n",
       "      <td>0.025131</td>\n",
       "      <td>0.032835</td>\n",
       "      <td>0.019813</td>\n",
       "    </tr>\n",
       "  </tbody>\n",
       "</table>\n",
       "<p>5 rows × 25 columns</p>\n",
       "</div>"
      ],
      "text/plain": [
       "   MSA Code                         AREA_NAME        Lat        Long  \\\n",
       "0     11260                     Anchorage, AK  62.212784 -149.678222   \n",
       "1     21820                     Fairbanks, AK  64.676044 -146.548159   \n",
       "2     11500  Anniston-Oxford-Jacksonville, AL  33.771706  -85.822513   \n",
       "3     12220                Auburn-Opelika, AL  32.604064  -85.353048   \n",
       "4     13820             Birmingham-Hoover, AL  33.462372  -86.814338   \n",
       "\n",
       "   Employment  Automation Index  Race with the Machine  Communication  \\\n",
       "0      477750          0.448733               0.109475       0.055789   \n",
       "1       99500          0.450853               0.107381       0.055108   \n",
       "2      135470          0.459752               0.091117       0.042566   \n",
       "3      135410          0.478064               0.103435       0.047882   \n",
       "4     1540270          0.459331               0.107143       0.054810   \n",
       "\n",
       "   Interpersonal Task  Group Task             ...              \\\n",
       "0            0.043115    0.010572             ...               \n",
       "1            0.041949    0.010324             ...               \n",
       "2            0.038842    0.009708             ...               \n",
       "3            0.044562    0.010992             ...               \n",
       "4            0.042243    0.010090             ...               \n",
       "\n",
       "   Race ahead of the Machine  Systems Analysis  \\\n",
       "0                   0.030899          0.014747   \n",
       "1                   0.027786          0.012984   \n",
       "2                   0.025761          0.011476   \n",
       "3                   0.028583          0.011589   \n",
       "4                   0.031434          0.014809   \n",
       "\n",
       "   Creative and Critical Thinking  Running a Different Race  \\\n",
       "0                        0.016152                  0.168963   \n",
       "1                        0.014802                  0.171946   \n",
       "2                        0.014285                  0.194353   \n",
       "3                        0.016994                  0.191858   \n",
       "4                        0.016625                  0.174068   \n",
       "\n",
       "   Dynamic Physical Task  Equipment Maintenance  \\\n",
       "0               0.043781               0.014956   \n",
       "1               0.048784               0.015468   \n",
       "2               0.048786               0.021097   \n",
       "3               0.055723               0.018004   \n",
       "4               0.042182               0.016656   \n",
       "\n",
       "   Vehicle and Equipment Operation  Hazardous Task  Conflict Resolution  \\\n",
       "0                         0.035740        0.021264             0.033543   \n",
       "1                         0.036898        0.023257             0.029488   \n",
       "2                         0.041878        0.032617             0.032034   \n",
       "3                         0.034803        0.029596             0.034195   \n",
       "4                         0.037451        0.025131             0.032835   \n",
       "\n",
       "   Management and Supervision  \n",
       "0                    0.019678  \n",
       "1                    0.018052  \n",
       "2                    0.017940  \n",
       "3                    0.019537  \n",
       "4                    0.019813  \n",
       "\n",
       "[5 rows x 25 columns]"
      ]
     },
     "execution_count": 68,
     "metadata": {},
     "output_type": "execute_result"
    }
   ],
   "source": [
    "city_level_df_2007.head()"
   ]
  },
  {
   "cell_type": "code",
   "execution_count": 69,
   "metadata": {
    "collapsed": true
   },
   "outputs": [],
   "source": [
    "city_level_df_2007 = city_level_df_2007[['MSA Code', 'AREA_NAME', 'Employment','Automation Index', 'Race with the Machine','Race against the Machine','Race ahead of the Machine','Running a Different Race','Lat','Long']]\n",
    "city_level_df_2019 = city_level_df_2019[['MSA Code', 'AREA_NAME', 'Employment','Automation Index', 'Race with the Machine','Race against the Machine','Race ahead of the Machine','Running a Different Race','Lat','Long']]\n",
    "city_level_df_2007_2019 = city_level_df_2007_2019[['MSA Code', 'AREA_NAME', 'Employment','Automation Index', 'Race with the Machine','Race against the Machine','Race ahead of the Machine','Running a Different Race','Lat','Long']]"
   ]
  },
  {
   "cell_type": "code",
   "execution_count": 70,
   "metadata": {
    "collapsed": true
   },
   "outputs": [],
   "source": [
    "city_level_df_2007 = city_level_df_2007.rename(columns={'MSA Code':'AREA'})\n",
    "city_level_df_2019 = city_level_df_2019.rename(columns={'MSA Code':'AREA'})\n",
    "city_level_df_2007_2019 = city_level_df_2007_2019.rename(columns={'MSA Code':'AREA'})"
   ]
  },
  {
   "cell_type": "code",
   "execution_count": 71,
   "metadata": {
    "collapsed": true
   },
   "outputs": [],
   "source": [
    "city_level_df_2007.to_csv(\"../static/data/csv/Panel 6 2007.csv\", index=False)\n",
    "city_level_df_2019.to_csv(\"../static/data/csv/Panel 6 2019.csv\", index=False)\n",
    "city_level_df_2007_2019.to_csv(\"../static/data/csv/Panel 6 2007~2019.csv\", index=False)"
   ]
  },
  {
   "cell_type": "markdown",
   "metadata": {},
   "source": [
    "### Panel 7"
   ]
  },
  {
   "cell_type": "code",
   "execution_count": 72,
   "metadata": {
    "collapsed": true
   },
   "outputs": [],
   "source": [
    "city_level_df_2007 = pd.read_excel(\"../static/data/xlsx/City-Level Automation.xlsx\", sheetname='2007')\n",
    "city_level_df_2019 = pd.read_excel(\"../static/data/xlsx/City-Level Automation.xlsx\", sheetname='2019')\n",
    "city_level_df_2007_2019 = pd.read_excel(\"../static/data/xlsx/City-Level Automation.xlsx\", sheetname='2007-2019')"
   ]
  },
  {
   "cell_type": "code",
   "execution_count": 73,
   "metadata": {
    "collapsed": false
   },
   "outputs": [
    {
     "data": {
      "text/html": [
       "<div>\n",
       "<style>\n",
       "    .dataframe thead tr:only-child th {\n",
       "        text-align: right;\n",
       "    }\n",
       "\n",
       "    .dataframe thead th {\n",
       "        text-align: left;\n",
       "    }\n",
       "\n",
       "    .dataframe tbody tr th {\n",
       "        vertical-align: top;\n",
       "    }\n",
       "</style>\n",
       "<table border=\"1\" class=\"dataframe\">\n",
       "  <thead>\n",
       "    <tr style=\"text-align: right;\">\n",
       "      <th></th>\n",
       "      <th>MSA Code</th>\n",
       "      <th>AREA_NAME</th>\n",
       "      <th>Lat</th>\n",
       "      <th>Long</th>\n",
       "      <th>Employment</th>\n",
       "      <th>Automation Index</th>\n",
       "      <th>Race with the Machine</th>\n",
       "      <th>Communication</th>\n",
       "      <th>Interpersonal Task</th>\n",
       "      <th>Group Task</th>\n",
       "      <th>...</th>\n",
       "      <th>Race ahead of the Machine</th>\n",
       "      <th>Systems Analysis</th>\n",
       "      <th>Creative and Critical Thinking</th>\n",
       "      <th>Running a Different Race</th>\n",
       "      <th>Dynamic Physical Task</th>\n",
       "      <th>Equipment Maintenance</th>\n",
       "      <th>Vehicle and Equipment Operation</th>\n",
       "      <th>Hazardous Task</th>\n",
       "      <th>Conflict Resolution</th>\n",
       "      <th>Management and Supervision</th>\n",
       "    </tr>\n",
       "  </thead>\n",
       "  <tbody>\n",
       "    <tr>\n",
       "      <th>0</th>\n",
       "      <td>11260</td>\n",
       "      <td>Anchorage, AK</td>\n",
       "      <td>62.212784</td>\n",
       "      <td>-149.678222</td>\n",
       "      <td>477750</td>\n",
       "      <td>0.448733</td>\n",
       "      <td>0.109475</td>\n",
       "      <td>0.055789</td>\n",
       "      <td>0.043115</td>\n",
       "      <td>0.010572</td>\n",
       "      <td>...</td>\n",
       "      <td>0.030899</td>\n",
       "      <td>0.014747</td>\n",
       "      <td>0.016152</td>\n",
       "      <td>0.168963</td>\n",
       "      <td>0.043781</td>\n",
       "      <td>0.014956</td>\n",
       "      <td>0.035740</td>\n",
       "      <td>0.021264</td>\n",
       "      <td>0.033543</td>\n",
       "      <td>0.019678</td>\n",
       "    </tr>\n",
       "    <tr>\n",
       "      <th>1</th>\n",
       "      <td>21820</td>\n",
       "      <td>Fairbanks, AK</td>\n",
       "      <td>64.676044</td>\n",
       "      <td>-146.548159</td>\n",
       "      <td>99500</td>\n",
       "      <td>0.450853</td>\n",
       "      <td>0.107381</td>\n",
       "      <td>0.055108</td>\n",
       "      <td>0.041949</td>\n",
       "      <td>0.010324</td>\n",
       "      <td>...</td>\n",
       "      <td>0.027786</td>\n",
       "      <td>0.012984</td>\n",
       "      <td>0.014802</td>\n",
       "      <td>0.171946</td>\n",
       "      <td>0.048784</td>\n",
       "      <td>0.015468</td>\n",
       "      <td>0.036898</td>\n",
       "      <td>0.023257</td>\n",
       "      <td>0.029488</td>\n",
       "      <td>0.018052</td>\n",
       "    </tr>\n",
       "    <tr>\n",
       "      <th>2</th>\n",
       "      <td>11500</td>\n",
       "      <td>Anniston-Oxford-Jacksonville, AL</td>\n",
       "      <td>33.771706</td>\n",
       "      <td>-85.822513</td>\n",
       "      <td>135470</td>\n",
       "      <td>0.459752</td>\n",
       "      <td>0.091117</td>\n",
       "      <td>0.042566</td>\n",
       "      <td>0.038842</td>\n",
       "      <td>0.009708</td>\n",
       "      <td>...</td>\n",
       "      <td>0.025761</td>\n",
       "      <td>0.011476</td>\n",
       "      <td>0.014285</td>\n",
       "      <td>0.194353</td>\n",
       "      <td>0.048786</td>\n",
       "      <td>0.021097</td>\n",
       "      <td>0.041878</td>\n",
       "      <td>0.032617</td>\n",
       "      <td>0.032034</td>\n",
       "      <td>0.017940</td>\n",
       "    </tr>\n",
       "    <tr>\n",
       "      <th>3</th>\n",
       "      <td>12220</td>\n",
       "      <td>Auburn-Opelika, AL</td>\n",
       "      <td>32.604064</td>\n",
       "      <td>-85.353048</td>\n",
       "      <td>135410</td>\n",
       "      <td>0.478064</td>\n",
       "      <td>0.103435</td>\n",
       "      <td>0.047882</td>\n",
       "      <td>0.044562</td>\n",
       "      <td>0.010992</td>\n",
       "      <td>...</td>\n",
       "      <td>0.028583</td>\n",
       "      <td>0.011589</td>\n",
       "      <td>0.016994</td>\n",
       "      <td>0.191858</td>\n",
       "      <td>0.055723</td>\n",
       "      <td>0.018004</td>\n",
       "      <td>0.034803</td>\n",
       "      <td>0.029596</td>\n",
       "      <td>0.034195</td>\n",
       "      <td>0.019537</td>\n",
       "    </tr>\n",
       "    <tr>\n",
       "      <th>4</th>\n",
       "      <td>13820</td>\n",
       "      <td>Birmingham-Hoover, AL</td>\n",
       "      <td>33.462372</td>\n",
       "      <td>-86.814338</td>\n",
       "      <td>1540270</td>\n",
       "      <td>0.459331</td>\n",
       "      <td>0.107143</td>\n",
       "      <td>0.054810</td>\n",
       "      <td>0.042243</td>\n",
       "      <td>0.010090</td>\n",
       "      <td>...</td>\n",
       "      <td>0.031434</td>\n",
       "      <td>0.014809</td>\n",
       "      <td>0.016625</td>\n",
       "      <td>0.174068</td>\n",
       "      <td>0.042182</td>\n",
       "      <td>0.016656</td>\n",
       "      <td>0.037451</td>\n",
       "      <td>0.025131</td>\n",
       "      <td>0.032835</td>\n",
       "      <td>0.019813</td>\n",
       "    </tr>\n",
       "  </tbody>\n",
       "</table>\n",
       "<p>5 rows × 25 columns</p>\n",
       "</div>"
      ],
      "text/plain": [
       "   MSA Code                         AREA_NAME        Lat        Long  \\\n",
       "0     11260                     Anchorage, AK  62.212784 -149.678222   \n",
       "1     21820                     Fairbanks, AK  64.676044 -146.548159   \n",
       "2     11500  Anniston-Oxford-Jacksonville, AL  33.771706  -85.822513   \n",
       "3     12220                Auburn-Opelika, AL  32.604064  -85.353048   \n",
       "4     13820             Birmingham-Hoover, AL  33.462372  -86.814338   \n",
       "\n",
       "   Employment  Automation Index  Race with the Machine  Communication  \\\n",
       "0      477750          0.448733               0.109475       0.055789   \n",
       "1       99500          0.450853               0.107381       0.055108   \n",
       "2      135470          0.459752               0.091117       0.042566   \n",
       "3      135410          0.478064               0.103435       0.047882   \n",
       "4     1540270          0.459331               0.107143       0.054810   \n",
       "\n",
       "   Interpersonal Task  Group Task             ...              \\\n",
       "0            0.043115    0.010572             ...               \n",
       "1            0.041949    0.010324             ...               \n",
       "2            0.038842    0.009708             ...               \n",
       "3            0.044562    0.010992             ...               \n",
       "4            0.042243    0.010090             ...               \n",
       "\n",
       "   Race ahead of the Machine  Systems Analysis  \\\n",
       "0                   0.030899          0.014747   \n",
       "1                   0.027786          0.012984   \n",
       "2                   0.025761          0.011476   \n",
       "3                   0.028583          0.011589   \n",
       "4                   0.031434          0.014809   \n",
       "\n",
       "   Creative and Critical Thinking  Running a Different Race  \\\n",
       "0                        0.016152                  0.168963   \n",
       "1                        0.014802                  0.171946   \n",
       "2                        0.014285                  0.194353   \n",
       "3                        0.016994                  0.191858   \n",
       "4                        0.016625                  0.174068   \n",
       "\n",
       "   Dynamic Physical Task  Equipment Maintenance  \\\n",
       "0               0.043781               0.014956   \n",
       "1               0.048784               0.015468   \n",
       "2               0.048786               0.021097   \n",
       "3               0.055723               0.018004   \n",
       "4               0.042182               0.016656   \n",
       "\n",
       "   Vehicle and Equipment Operation  Hazardous Task  Conflict Resolution  \\\n",
       "0                         0.035740        0.021264             0.033543   \n",
       "1                         0.036898        0.023257             0.029488   \n",
       "2                         0.041878        0.032617             0.032034   \n",
       "3                         0.034803        0.029596             0.034195   \n",
       "4                         0.037451        0.025131             0.032835   \n",
       "\n",
       "   Management and Supervision  \n",
       "0                    0.019678  \n",
       "1                    0.018052  \n",
       "2                    0.017940  \n",
       "3                    0.019537  \n",
       "4                    0.019813  \n",
       "\n",
       "[5 rows x 25 columns]"
      ]
     },
     "execution_count": 73,
     "metadata": {},
     "output_type": "execute_result"
    }
   ],
   "source": [
    "city_level_df_2007.head()"
   ]
  },
  {
   "cell_type": "code",
   "execution_count": 74,
   "metadata": {
    "collapsed": false
   },
   "outputs": [
    {
     "data": {
      "text/plain": [
       "25"
      ]
     },
     "execution_count": 74,
     "metadata": {},
     "output_type": "execute_result"
    }
   ],
   "source": [
    "len(city_level_df_2007.columns)"
   ]
  },
  {
   "cell_type": "code",
   "execution_count": 75,
   "metadata": {
    "collapsed": true
   },
   "outputs": [],
   "source": [
    "city_level_df_2007['State'] = [area_name.split(', ')[1] for area_name in city_level_df_2007['AREA_NAME'].tolist()]\n",
    "city_level_df_2019['State'] = [area_name.split(', ')[1] for area_name in city_level_df_2019['AREA_NAME'].tolist()]\n",
    "city_level_df_2007_2019['State'] = [area_name.split(', ')[1] for area_name in city_level_df_2007_2019['AREA_NAME'].tolist()]"
   ]
  },
  {
   "cell_type": "code",
   "execution_count": 76,
   "metadata": {
    "collapsed": true
   },
   "outputs": [],
   "source": [
    "city_level_df_2007['Metropolitan Areas'] = [area_name.split(', ')[0] for area_name in city_level_df_2007['AREA_NAME'].tolist()]\n",
    "city_level_df_2019['Metropolitan Areas'] = [area_name.split(', ')[0] for area_name in city_level_df_2019['AREA_NAME'].tolist()]\n",
    "city_level_df_2007_2019['Metropolitan Areas'] = [area_name.split(', ')[0] for area_name in city_level_df_2007_2019['AREA_NAME'].tolist()]"
   ]
  },
  {
   "cell_type": "code",
   "execution_count": 77,
   "metadata": {
    "collapsed": false
   },
   "outputs": [
    {
     "data": {
      "text/plain": [
       "Index([                       u'MSA Code',                       u'AREA_NAME',\n",
       "                                   u'Lat',                            u'Long',\n",
       "                            u'Employment',                u'Automation Index',\n",
       "                 u'Race with the Machine',                   u'Communication',\n",
       "                    u'Interpersonal Task',                      u'Group Task',\n",
       "              u'Race against the Machine',         u'Routine Problem Solving',\n",
       "                u'Information Processing',                 u'Machine Control',\n",
       "                 u'General Physical Task',       u'Race ahead of the Machine',\n",
       "                      u'Systems Analysis',  u'Creative and Critical Thinking',\n",
       "              u'Running a Different Race',           u'Dynamic Physical Task',\n",
       "                 u'Equipment Maintenance', u'Vehicle and Equipment Operation',\n",
       "                        u'Hazardous Task',             u'Conflict Resolution',\n",
       "            u'Management and Supervision',                           u'State',\n",
       "                    u'Metropolitan Areas'],\n",
       "      dtype='object')"
      ]
     },
     "execution_count": 77,
     "metadata": {},
     "output_type": "execute_result"
    }
   ],
   "source": [
    "city_level_df_2007.columns"
   ]
  },
  {
   "cell_type": "code",
   "execution_count": 79,
   "metadata": {
    "collapsed": false
   },
   "outputs": [],
   "source": [
    "selected_cols = ['State','Metropolitan Areas',\n",
    "               'Automation Index', \n",
    "                 \n",
    "               'Race with the Machine', 'Communication', 'Interpersonal Task','Group Task',\n",
    "               \n",
    "               'Race against the Machine',\n",
    "               'Routine Problem Solving', 'Information Processing', \n",
    "               'Machine Control', 'General Physical Task',\n",
    "                 \n",
    "               'Race ahead of the Machine', \n",
    "               'Systems Analysis',\n",
    "               'Creative and Critical Thinking', \n",
    "                 \n",
    "               'Running a Different Race','Dynamic Physical Task', \n",
    "               'Equipment Maintenance',\n",
    "               'Vehicle and Equipment Operation', \n",
    "               'Hazardous Task',\n",
    "               'Conflict Resolution', 'Management and Supervision']\n",
    "\n",
    "city_level_df_2007 = city_level_df_2007[selected_cols]\n",
    "city_level_df_2019 = city_level_df_2019[selected_cols]\n",
    "city_level_df_2007_2019 = city_level_df_2007_2019[selected_cols]"
   ]
  },
  {
   "cell_type": "code",
   "execution_count": 80,
   "metadata": {
    "collapsed": true
   },
   "outputs": [],
   "source": [
    "city_level_df_2007.to_csv(\"../static/data/csv/Panel 7 2007.csv\")\n",
    "city_level_df_2019.to_csv(\"../static/data/csv/Panel 7 2019.csv\")\n",
    "city_level_df_2007_2019.to_csv(\"../static/data/csv/Panel 7 2007~2019.csv\")"
   ]
  }
 ],
 "metadata": {
  "kernelspec": {
   "display_name": "py35",
   "language": "python",
   "name": "py35"
  },
  "language_info": {
   "codemirror_mode": {
    "name": "ipython",
    "version": 2
   },
   "file_extension": ".py",
   "mimetype": "text/x-python",
   "name": "python",
   "nbconvert_exporter": "python",
   "pygments_lexer": "ipython2",
   "version": "2.7.12"
  }
 },
 "nbformat": 4,
 "nbformat_minor": 2
}
