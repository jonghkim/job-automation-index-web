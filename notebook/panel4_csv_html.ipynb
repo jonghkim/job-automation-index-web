{
 "cells": [
  {
   "cell_type": "code",
   "execution_count": 32,
   "metadata": {
    "collapsed": true
   },
   "outputs": [],
   "source": [
    "# -*- coding: utf-8 -*-\n",
    "import pandas as pd"
   ]
  },
  {
   "cell_type": "code",
   "execution_count": 33,
   "metadata": {
    "collapsed": true
   },
   "outputs": [],
   "source": [
    "def table_generation(df):\n",
    "    lines = []\n",
    "    lines.append('<table class=\"table table-bordered sortable\" id=\"dataTable\" width=\"100%\" cellspacing=\"0\">\\n')\n",
    "    lines.append('<thead>')\n",
    "    lines.append('  <tr>\\n')\n",
    "\n",
    "    for i, col in enumerate(df.columns):\n",
    "        if i==0:\n",
    "            lines.append('    <th class=\"sorttable_sorted\">{} <span id=\"sorttable_sortfwdind\">&nbsp;▾</span> </th>\\n'.format(col))\n",
    "        else:\n",
    "            lines.append('    <th>{}</th>\\n'.format(col))\n",
    "\n",
    "    lines.append('  </tr>\\n')\n",
    "    lines.append('</thead>\\n')\n",
    "\n",
    "    lines.append('<tfoot>\\n')\n",
    "    lines.append('  <tr>\\n')\n",
    "    for col in df.columns:\n",
    "        lines.append('    <th>{}</th>\\n'.format(col))\n",
    "    \n",
    "    lines.append('  </tr>\\n')\n",
    "    lines.append('</tfoot>\\n')\n",
    "\n",
    "    lines.append('<tbody>\\n')\n",
    "\n",
    "    for i, r in df.iterrows():\n",
    "        lines.append('  <tr>\\n')\n",
    "        for col in df.columns:    \n",
    "            lines.append('    <td>{}</td>\\n'.format((\"%.2f\" % r[col]) if isinstance(r[col],float) else r[col]))\n",
    "        lines.append('  </tr>\\n')    \n",
    "    lines.append('</tbody>\\n')\n",
    "    lines.append('</table>')\n",
    "    \n",
    "    return ''.join(lines)\n"
   ]
  },
  {
   "cell_type": "code",
   "execution_count": 46,
   "metadata": {
    "collapsed": true
   },
   "outputs": [],
   "source": [
    "year = '2008'\n",
    "csvpath = '../static/data/csv/Panel 4 '+year+'.csv'\n",
    "panel_df = pd.read_csv(csvpath, encoding='utf-8', index_col=0)"
   ]
  },
  {
   "cell_type": "code",
   "execution_count": 47,
   "metadata": {
    "collapsed": false
   },
   "outputs": [
    {
     "data": {
      "text/plain": [
       "'\\npanel_df.columns = [\\'Job Code\\', \\'Job Title\\', \"Automation Index\",\"Race with the Machine\",\"Communication\",\"Managerial Task\",\"Clerical Task\",\\n                                                \"Equipment Maintenance\",\"Race against the Machine\",\"Information Processing\",\"Perceptual Task\",\\n                                                \"Equipment Operation\",\"Operation Monitoring\",\"Physical Task\",\"Race ahead of the Machine\",\\n                                                \"Strategic Thinking\",\"Running a Different Race\",\"Dynamic Physical Task\",\"Hazardous Task\",\\n                                                \"Group Task\",\"Conflict Resolution\",\"Creative Thinking\",\"Changing the Course of a Race\",\"Routine Task\"]\\n'"
      ]
     },
     "execution_count": 47,
     "metadata": {},
     "output_type": "execute_result"
    }
   ],
   "source": [
    "\"\"\"\n",
    "panel_df.columns = ['Job Code', 'Job Title', \"Automation Index\",\"Race with the Machine\",\"Communication\",\"Managerial Task\",\"Clerical Task\",\n",
    "                                                \"Equipment Maintenance\",\"Race against the Machine\",\"Information Processing\",\"Perceptual Task\",\n",
    "                                                \"Equipment Operation\",\"Operation Monitoring\",\"Physical Task\",\"Race ahead of the Machine\",\n",
    "                                                \"Strategic Thinking\",\"Running a Different Race\",\"Dynamic Physical Task\",\"Hazardous Task\",\n",
    "                                                \"Group Task\",\"Conflict Resolution\",\"Creative Thinking\",\"Changing the Course of a Race\",\"Routine Task\"]\n",
    "\"\"\""
   ]
  },
  {
   "cell_type": "code",
   "execution_count": 48,
   "metadata": {
    "collapsed": false
   },
   "outputs": [],
   "source": [
    "panel_df = panel_df[['Job Code', 'Job Title', \"Automation Index\",\"Race with the Machine\",\"Communication\",\"Managerial Task\",\"Clerical Task\",\n",
    "                                                \"Equipment Maintenance\",\"Race against the Machine\",\"Information Processing\",\"Perceptual Task\",\n",
    "                                                \"Equipment Operation\",\"Operation Monitoring\",\"Physical Task\",\"Race ahead of the Machine\",\n",
    "                                                \"Strategic Thinking\",\"Running a Different Race\",\"Dynamic Physical Task\",\"Hazardous Task\",\n",
    "                                                \"Group Task\",\"Conflict Resolution\",\"Creative Thinking\",\"Changing the Course of a Race\",\"Routine Task\"]]\n",
    "\"\"\"\n",
    "panel_df.columns = panel_df.columns.tolist()[0:3]+[\"Automation for \"+ col for col in panel_df.columns.tolist()[3:]]\n",
    "\"\"\"\n",
    "panel_df.to_csv('../static/data/csv/Panel 4 '+year+'.csv')"
   ]
  },
  {
   "cell_type": "code",
   "execution_count": 49,
   "metadata": {
    "collapsed": false
   },
   "outputs": [
    {
     "data": {
      "text/html": [
       "<div>\n",
       "<style>\n",
       "    .dataframe thead tr:only-child th {\n",
       "        text-align: right;\n",
       "    }\n",
       "\n",
       "    .dataframe thead th {\n",
       "        text-align: left;\n",
       "    }\n",
       "\n",
       "    .dataframe tbody tr th {\n",
       "        vertical-align: top;\n",
       "    }\n",
       "</style>\n",
       "<table border=\"1\" class=\"dataframe\">\n",
       "  <thead>\n",
       "    <tr style=\"text-align: right;\">\n",
       "      <th></th>\n",
       "      <th>Job Code</th>\n",
       "      <th>Job Title</th>\n",
       "      <th>Automation Index</th>\n",
       "      <th>Race with the Machine</th>\n",
       "      <th>Communication</th>\n",
       "      <th>Managerial Task</th>\n",
       "      <th>Clerical Task</th>\n",
       "      <th>Equipment Maintenance</th>\n",
       "      <th>Race against the Machine</th>\n",
       "      <th>Information Processing</th>\n",
       "      <th>...</th>\n",
       "      <th>Race ahead of the Machine</th>\n",
       "      <th>Strategic Thinking</th>\n",
       "      <th>Running a Different Race</th>\n",
       "      <th>Dynamic Physical Task</th>\n",
       "      <th>Hazardous Task</th>\n",
       "      <th>Group Task</th>\n",
       "      <th>Conflict Resolution</th>\n",
       "      <th>Creative Thinking</th>\n",
       "      <th>Changing the Course of a Race</th>\n",
       "      <th>Routine Task</th>\n",
       "    </tr>\n",
       "  </thead>\n",
       "  <tbody>\n",
       "    <tr>\n",
       "      <th>0</th>\n",
       "      <td>00-0000</td>\n",
       "      <td>TOTAL AVERAGE</td>\n",
       "      <td>48.651489</td>\n",
       "      <td>14.962629</td>\n",
       "      <td>3.725551</td>\n",
       "      <td>2.922397</td>\n",
       "      <td>5.074581</td>\n",
       "      <td>3.240100</td>\n",
       "      <td>18.172872</td>\n",
       "      <td>4.225528</td>\n",
       "      <td>...</td>\n",
       "      <td>3.426164</td>\n",
       "      <td>3.426164</td>\n",
       "      <td>9.449470</td>\n",
       "      <td>2.677970</td>\n",
       "      <td>2.286173</td>\n",
       "      <td>1.304472</td>\n",
       "      <td>2.228859</td>\n",
       "      <td>0.951996</td>\n",
       "      <td>2.640353</td>\n",
       "      <td>2.640353</td>\n",
       "    </tr>\n",
       "    <tr>\n",
       "      <th>1</th>\n",
       "      <td>11-1011</td>\n",
       "      <td>Chief Executives</td>\n",
       "      <td>47.996252</td>\n",
       "      <td>20.714553</td>\n",
       "      <td>6.910673</td>\n",
       "      <td>7.231670</td>\n",
       "      <td>5.347944</td>\n",
       "      <td>1.224265</td>\n",
       "      <td>9.554558</td>\n",
       "      <td>3.626066</td>\n",
       "      <td>...</td>\n",
       "      <td>7.018607</td>\n",
       "      <td>7.018607</td>\n",
       "      <td>7.498673</td>\n",
       "      <td>0.000000</td>\n",
       "      <td>0.000000</td>\n",
       "      <td>2.429305</td>\n",
       "      <td>3.170441</td>\n",
       "      <td>1.898927</td>\n",
       "      <td>3.209862</td>\n",
       "      <td>3.209862</td>\n",
       "    </tr>\n",
       "    <tr>\n",
       "      <th>2</th>\n",
       "      <td>11-1021</td>\n",
       "      <td>General and Operations Managers</td>\n",
       "      <td>47.646928</td>\n",
       "      <td>22.794290</td>\n",
       "      <td>5.981021</td>\n",
       "      <td>8.625400</td>\n",
       "      <td>6.772882</td>\n",
       "      <td>1.414987</td>\n",
       "      <td>9.381170</td>\n",
       "      <td>2.819145</td>\n",
       "      <td>...</td>\n",
       "      <td>4.416452</td>\n",
       "      <td>4.416452</td>\n",
       "      <td>9.318489</td>\n",
       "      <td>0.369318</td>\n",
       "      <td>0.078084</td>\n",
       "      <td>3.460839</td>\n",
       "      <td>3.241916</td>\n",
       "      <td>2.168330</td>\n",
       "      <td>1.736527</td>\n",
       "      <td>1.736527</td>\n",
       "    </tr>\n",
       "    <tr>\n",
       "      <th>3</th>\n",
       "      <td>11-2011</td>\n",
       "      <td>Advertising and Promotions Managers</td>\n",
       "      <td>47.779080</td>\n",
       "      <td>23.045577</td>\n",
       "      <td>8.626850</td>\n",
       "      <td>6.233415</td>\n",
       "      <td>7.421979</td>\n",
       "      <td>0.763335</td>\n",
       "      <td>9.394689</td>\n",
       "      <td>4.215756</td>\n",
       "      <td>...</td>\n",
       "      <td>4.628036</td>\n",
       "      <td>4.628036</td>\n",
       "      <td>8.267511</td>\n",
       "      <td>0.548906</td>\n",
       "      <td>0.000000</td>\n",
       "      <td>2.538961</td>\n",
       "      <td>1.970084</td>\n",
       "      <td>3.209559</td>\n",
       "      <td>2.443267</td>\n",
       "      <td>2.443267</td>\n",
       "    </tr>\n",
       "    <tr>\n",
       "      <th>4</th>\n",
       "      <td>11-2021</td>\n",
       "      <td>Marketing Managers</td>\n",
       "      <td>47.888079</td>\n",
       "      <td>25.853171</td>\n",
       "      <td>6.629234</td>\n",
       "      <td>8.956961</td>\n",
       "      <td>9.184071</td>\n",
       "      <td>1.082906</td>\n",
       "      <td>6.570421</td>\n",
       "      <td>3.356403</td>\n",
       "      <td>...</td>\n",
       "      <td>5.742205</td>\n",
       "      <td>5.742205</td>\n",
       "      <td>7.223801</td>\n",
       "      <td>0.000000</td>\n",
       "      <td>0.000000</td>\n",
       "      <td>2.026415</td>\n",
       "      <td>1.078008</td>\n",
       "      <td>4.119378</td>\n",
       "      <td>2.498480</td>\n",
       "      <td>2.498480</td>\n",
       "    </tr>\n",
       "  </tbody>\n",
       "</table>\n",
       "<p>5 rows × 24 columns</p>\n",
       "</div>"
      ],
      "text/plain": [
       "  Job Code                            Job Title  Automation Index  \\\n",
       "0  00-0000                        TOTAL AVERAGE         48.651489   \n",
       "1  11-1011                     Chief Executives         47.996252   \n",
       "2  11-1021      General and Operations Managers         47.646928   \n",
       "3  11-2011  Advertising and Promotions Managers         47.779080   \n",
       "4  11-2021                   Marketing Managers         47.888079   \n",
       "\n",
       "   Race with the Machine  Communication  Managerial Task  Clerical Task  \\\n",
       "0              14.962629       3.725551         2.922397       5.074581   \n",
       "1              20.714553       6.910673         7.231670       5.347944   \n",
       "2              22.794290       5.981021         8.625400       6.772882   \n",
       "3              23.045577       8.626850         6.233415       7.421979   \n",
       "4              25.853171       6.629234         8.956961       9.184071   \n",
       "\n",
       "   Equipment Maintenance  Race against the Machine  Information Processing  \\\n",
       "0               3.240100                 18.172872                4.225528   \n",
       "1               1.224265                  9.554558                3.626066   \n",
       "2               1.414987                  9.381170                2.819145   \n",
       "3               0.763335                  9.394689                4.215756   \n",
       "4               1.082906                  6.570421                3.356403   \n",
       "\n",
       "       ...       Race ahead of the Machine  Strategic Thinking  \\\n",
       "0      ...                        3.426164            3.426164   \n",
       "1      ...                        7.018607            7.018607   \n",
       "2      ...                        4.416452            4.416452   \n",
       "3      ...                        4.628036            4.628036   \n",
       "4      ...                        5.742205            5.742205   \n",
       "\n",
       "   Running a Different Race  Dynamic Physical Task  Hazardous Task  \\\n",
       "0                  9.449470               2.677970        2.286173   \n",
       "1                  7.498673               0.000000        0.000000   \n",
       "2                  9.318489               0.369318        0.078084   \n",
       "3                  8.267511               0.548906        0.000000   \n",
       "4                  7.223801               0.000000        0.000000   \n",
       "\n",
       "   Group Task  Conflict Resolution  Creative Thinking  \\\n",
       "0    1.304472             2.228859           0.951996   \n",
       "1    2.429305             3.170441           1.898927   \n",
       "2    3.460839             3.241916           2.168330   \n",
       "3    2.538961             1.970084           3.209559   \n",
       "4    2.026415             1.078008           4.119378   \n",
       "\n",
       "   Changing the Course of a Race  Routine Task  \n",
       "0                       2.640353      2.640353  \n",
       "1                       3.209862      3.209862  \n",
       "2                       1.736527      1.736527  \n",
       "3                       2.443267      2.443267  \n",
       "4                       2.498480      2.498480  \n",
       "\n",
       "[5 rows x 24 columns]"
      ]
     },
     "execution_count": 49,
     "metadata": {},
     "output_type": "execute_result"
    }
   ],
   "source": [
    "panel_df.head()"
   ]
  },
  {
   "cell_type": "code",
   "execution_count": 50,
   "metadata": {
    "collapsed": true
   },
   "outputs": [],
   "source": [
    "table = table_generation(panel_df)"
   ]
  },
  {
   "cell_type": "code",
   "execution_count": 51,
   "metadata": {
    "collapsed": false,
    "scrolled": false
   },
   "outputs": [],
   "source": [
    "f = open( '../visualize/templates/visualize/panel4_'+year+'.html', 'w')\n",
    "f.write(table)\n",
    "f.close()"
   ]
  },
  {
   "cell_type": "code",
   "execution_count": null,
   "metadata": {
    "collapsed": true
   },
   "outputs": [],
   "source": []
  }
 ],
 "metadata": {
  "anaconda-cloud": {},
  "kernelspec": {
   "display_name": "py35",
   "language": "python",
   "name": "py35"
  },
  "language_info": {
   "codemirror_mode": {
    "name": "ipython",
    "version": 2
   },
   "file_extension": ".py",
   "mimetype": "text/x-python",
   "name": "python",
   "nbconvert_exporter": "python",
   "pygments_lexer": "ipython2",
   "version": "2.7.12"
  }
 },
 "nbformat": 4,
 "nbformat_minor": 1
}
