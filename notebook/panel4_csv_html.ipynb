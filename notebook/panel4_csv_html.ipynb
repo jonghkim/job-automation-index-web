{
 "cells": [
  {
   "cell_type": "code",
   "execution_count": 1,
   "metadata": {
    "collapsed": true
   },
   "outputs": [],
   "source": [
    "import pandas as pd"
   ]
  },
  {
   "cell_type": "code",
   "execution_count": 2,
   "metadata": {
    "collapsed": true
   },
   "outputs": [],
   "source": [
    "def table_generation(df, color_code):\n",
    "    lines = []\n",
    "    lines.append('<table class=\"table table-bordered sortable\" id=\"dataTable\" width=\"100%\" cellspacing=\"0\">\\n')\n",
    "    lines.append('<thead>')\n",
    "    lines.append('  <tr>\\n')\n",
    "\n",
    "    lines.append('    <th></th>\\n')\n",
    "    for i, (col, color) in enumerate(zip(df.columns, color_code)):\n",
    "        if i==0:\n",
    "            lines.append('    <th class=\"sorttable_sorted\" bgcolor=\"{}\">{} <span id=\"sorttable_sortfwdind\">&nbsp;▾</span> </th>\\n'.format(color, col))\n",
    "        else:\n",
    "            lines.append('    <th bgcolor=\"{}\">{}</th>\\n'.format(color, col))\n",
    "\n",
    "    lines.append('  </tr>\\n')\n",
    "    lines.append('</thead>\\n')\n",
    "\n",
    "    lines.append('<tfoot>\\n')\n",
    "    lines.append('  <tr>\\n')\n",
    "    \n",
    "    lines.append('    <th></th>\\n')\n",
    "    for i, (col, color) in enumerate(zip(df.columns, color_code)):\n",
    "        lines.append('    <th bgcolor=\"{}\">{}</th>\\n'.format(color, col))\n",
    "    \n",
    "    lines.append('  </tr>\\n')\n",
    "    lines.append('</tfoot>\\n')\n",
    "\n",
    "    lines.append('<tbody>\\n')\n",
    "\n",
    "    for i, r in df.iterrows():\n",
    "        lines.append('  <tr>\\n')\n",
    "        lines.append('    <td ></td>\\n')\n",
    "        for (col, color) in zip(df.columns, color_code):  \n",
    "            if isinstance(r[col],float):\n",
    "                lines.append('    <td bgcolor=\"{}\">{}</td>\\n'.format(color, (\"%.2f\" % (r[col]*100))))\n",
    "            else:\n",
    "                lines.append('    <td bgcolor=\"{}\">{}</td>\\n'.format(color, r[col]))\n",
    "        lines.append('  </tr>\\n')    \n",
    "    lines.append('</tbody>\\n')\n",
    "    lines.append('</table>')\n",
    "    \n",
    "    return ''.join(lines)\n"
   ]
  },
  {
   "cell_type": "code",
   "execution_count": 10,
   "metadata": {
    "collapsed": true
   },
   "outputs": [],
   "source": [
    "year = '2008~2020'\n",
    "csvpath = '../static/data/csv/Panel 4 '+year+'.csv'\n",
    "panel_df = pd.read_csv(csvpath, index_col=0)"
   ]
  },
  {
   "cell_type": "code",
   "execution_count": 11,
   "metadata": {
    "collapsed": false
   },
   "outputs": [
    {
     "data": {
      "text/plain": [
       "'\\npanel_df.columns = [\\'Job Code\\', \\'Job Title\\', \"Automation Index\",\"Race with the Machine\",\"Communication\",\"Managerial Task\",\"Clerical Task\",\\n                                                \"Equipment Maintenance\",\"Race against the Machine\",\"Information Processing\",\"Perceptual Task\",\\n                                                \"Equipment Operation\",\"Operation Monitoring\",\"Physical Task\",\"Race ahead of the Machine\",\\n                                                \"Strategic Thinking\",\"Running a Different Race\",\"Dynamic Physical Task\",\"Hazardous Task\",\\n                                                \"Group Task\",\"Conflict Resolution\",\"Creative Thinking\",\"Changing the Course of a Race\",\"Routine Task\"]\\n'"
      ]
     },
     "execution_count": 11,
     "metadata": {},
     "output_type": "execute_result"
    }
   ],
   "source": [
    "\"\"\"\n",
    "panel_df.columns = ['Job Code', 'Job Title', \"Automation Index\",\"Race with the Machine\",\"Communication\",\"Managerial Task\",\"Clerical Task\",\n",
    "                                                \"Equipment Maintenance\",\"Race against the Machine\",\"Information Processing\",\"Perceptual Task\",\n",
    "                                                \"Equipment Operation\",\"Operation Monitoring\",\"Physical Task\",\"Race ahead of the Machine\",\n",
    "                                                \"Strategic Thinking\",\"Running a Different Race\",\"Dynamic Physical Task\",\"Hazardous Task\",\n",
    "                                                \"Group Task\",\"Conflict Resolution\",\"Creative Thinking\",\"Changing the Course of a Race\",\"Routine Task\"]\n",
    "\"\"\""
   ]
  },
  {
   "cell_type": "code",
   "execution_count": 12,
   "metadata": {
    "collapsed": true
   },
   "outputs": [],
   "source": [
    "panel_df = panel_df[['Job Code', 'Job Title', \n",
    "                    'Race with the Machine', 'Interpersonal Task', 'Group Task', 'Conflict Resolution', 'Management and Supervision',\n",
    "\n",
    "                    'Race ahead of the Machine', 'Communication', 'Systems Analysis', 'Creative and Critical Thinking',\n",
    "\n",
    "                    'Changing the Course of the Race', 'Routine Problem Solving', 'Information Processing',\n",
    "\n",
    "                    'Race against the Machine', 'General Physical Task', 'Dynamic Physical Task',\n",
    "\n",
    "                    'Running a Different Race', 'Equipment Maintenance',  'Vehicle and Equipment Operation', 'Machine Control', 'Hazardous Task'\n",
    "                    ]]\n",
    "\n",
    "            \n",
    "\"\"\"\n",
    "panel_df.columns = panel_df.columns.tolist()[0:3]+[\"Automation for \"+ col for col in panel_df.columns.tolist()[3:]]\n",
    "\"\"\"\n",
    "panel_df.to_csv('../static/data/csv/Panel 4 '+year+'.csv', encoding='utf-8')"
   ]
  },
  {
   "cell_type": "code",
   "execution_count": 13,
   "metadata": {
    "collapsed": false
   },
   "outputs": [
    {
     "data": {
      "text/html": [
       "<div>\n",
       "<style>\n",
       "    .dataframe thead tr:only-child th {\n",
       "        text-align: right;\n",
       "    }\n",
       "\n",
       "    .dataframe thead th {\n",
       "        text-align: left;\n",
       "    }\n",
       "\n",
       "    .dataframe tbody tr th {\n",
       "        vertical-align: top;\n",
       "    }\n",
       "</style>\n",
       "<table border=\"1\" class=\"dataframe\">\n",
       "  <thead>\n",
       "    <tr style=\"text-align: right;\">\n",
       "      <th></th>\n",
       "      <th>Job Code</th>\n",
       "      <th>Job Title</th>\n",
       "      <th>Race with the Machine</th>\n",
       "      <th>Interpersonal Task</th>\n",
       "      <th>Group Task</th>\n",
       "      <th>Conflict Resolution</th>\n",
       "      <th>Management and Supervision</th>\n",
       "      <th>Race ahead of the Machine</th>\n",
       "      <th>Communication</th>\n",
       "      <th>Systems Analysis</th>\n",
       "      <th>...</th>\n",
       "      <th>Routine Problem Solving</th>\n",
       "      <th>Information Processing</th>\n",
       "      <th>Race against the Machine</th>\n",
       "      <th>General Physical Task</th>\n",
       "      <th>Dynamic Physical Task</th>\n",
       "      <th>Running a Different Race</th>\n",
       "      <th>Equipment Maintenance</th>\n",
       "      <th>Vehicle and Equipment Operation</th>\n",
       "      <th>Machine Control</th>\n",
       "      <th>Hazardous Task</th>\n",
       "    </tr>\n",
       "  </thead>\n",
       "  <tbody>\n",
       "    <tr>\n",
       "      <th>0</th>\n",
       "      <td>00-0000</td>\n",
       "      <td>TOTAL AVERAGE</td>\n",
       "      <td>-0.000357</td>\n",
       "      <td>-0.000954</td>\n",
       "      <td>0.000123</td>\n",
       "      <td>0.000834</td>\n",
       "      <td>-0.000360</td>\n",
       "      <td>-0.002175</td>\n",
       "      <td>0.000681</td>\n",
       "      <td>-0.002128</td>\n",
       "      <td>...</td>\n",
       "      <td>-0.001448</td>\n",
       "      <td>-0.000423</td>\n",
       "      <td>0.004132</td>\n",
       "      <td>0.001804</td>\n",
       "      <td>0.002329</td>\n",
       "      <td>0.003053</td>\n",
       "      <td>0.000457</td>\n",
       "      <td>0.001156</td>\n",
       "      <td>0.000911</td>\n",
       "      <td>0.000528</td>\n",
       "    </tr>\n",
       "    <tr>\n",
       "      <th>1</th>\n",
       "      <td>11-1011</td>\n",
       "      <td>Chief Executives</td>\n",
       "      <td>0.014879</td>\n",
       "      <td>0.005906</td>\n",
       "      <td>0.000356</td>\n",
       "      <td>-0.005416</td>\n",
       "      <td>0.014033</td>\n",
       "      <td>-0.005458</td>\n",
       "      <td>0.002248</td>\n",
       "      <td>-0.003968</td>\n",
       "      <td>...</td>\n",
       "      <td>-0.017926</td>\n",
       "      <td>0.012377</td>\n",
       "      <td>0.000000</td>\n",
       "      <td>0.000000</td>\n",
       "      <td>0.000000</td>\n",
       "      <td>-0.007428</td>\n",
       "      <td>-0.006339</td>\n",
       "      <td>-0.001515</td>\n",
       "      <td>0.002002</td>\n",
       "      <td>-0.001576</td>\n",
       "    </tr>\n",
       "    <tr>\n",
       "      <th>2</th>\n",
       "      <td>11-1021</td>\n",
       "      <td>General and Operations Managers</td>\n",
       "      <td>0.035985</td>\n",
       "      <td>0.024316</td>\n",
       "      <td>0.004055</td>\n",
       "      <td>-0.009677</td>\n",
       "      <td>0.017291</td>\n",
       "      <td>-0.017034</td>\n",
       "      <td>-0.008535</td>\n",
       "      <td>-0.005000</td>\n",
       "      <td>...</td>\n",
       "      <td>0.003974</td>\n",
       "      <td>0.010087</td>\n",
       "      <td>-0.001175</td>\n",
       "      <td>0.000000</td>\n",
       "      <td>-0.001175</td>\n",
       "      <td>-0.030722</td>\n",
       "      <td>-0.006957</td>\n",
       "      <td>-0.023804</td>\n",
       "      <td>-0.001388</td>\n",
       "      <td>0.001427</td>\n",
       "    </tr>\n",
       "    <tr>\n",
       "      <th>3</th>\n",
       "      <td>11-2011</td>\n",
       "      <td>Advertising and Promotions Managers</td>\n",
       "      <td>-0.014625</td>\n",
       "      <td>0.008913</td>\n",
       "      <td>0.002818</td>\n",
       "      <td>-0.005241</td>\n",
       "      <td>-0.021116</td>\n",
       "      <td>0.049604</td>\n",
       "      <td>0.031080</td>\n",
       "      <td>0.013190</td>\n",
       "      <td>...</td>\n",
       "      <td>-0.003161</td>\n",
       "      <td>-0.022888</td>\n",
       "      <td>-0.007108</td>\n",
       "      <td>-0.001909</td>\n",
       "      <td>-0.005200</td>\n",
       "      <td>-0.003097</td>\n",
       "      <td>0.006941</td>\n",
       "      <td>-0.005657</td>\n",
       "      <td>-0.003000</td>\n",
       "      <td>-0.001382</td>\n",
       "    </tr>\n",
       "    <tr>\n",
       "      <th>4</th>\n",
       "      <td>11-2021</td>\n",
       "      <td>Marketing Managers</td>\n",
       "      <td>0.019000</td>\n",
       "      <td>0.015375</td>\n",
       "      <td>0.005090</td>\n",
       "      <td>0.010890</td>\n",
       "      <td>-0.012355</td>\n",
       "      <td>-0.010773</td>\n",
       "      <td>-0.013698</td>\n",
       "      <td>-0.001659</td>\n",
       "      <td>...</td>\n",
       "      <td>-0.016206</td>\n",
       "      <td>-0.003059</td>\n",
       "      <td>0.000000</td>\n",
       "      <td>0.000000</td>\n",
       "      <td>0.000000</td>\n",
       "      <td>0.001785</td>\n",
       "      <td>-0.001227</td>\n",
       "      <td>-0.000072</td>\n",
       "      <td>0.003085</td>\n",
       "      <td>0.000000</td>\n",
       "    </tr>\n",
       "  </tbody>\n",
       "</table>\n",
       "<p>5 rows × 22 columns</p>\n",
       "</div>"
      ],
      "text/plain": [
       "  Job Code                            Job Title  Race with the Machine  \\\n",
       "0  00-0000                        TOTAL AVERAGE              -0.000357   \n",
       "1  11-1011                     Chief Executives               0.014879   \n",
       "2  11-1021      General and Operations Managers               0.035985   \n",
       "3  11-2011  Advertising and Promotions Managers              -0.014625   \n",
       "4  11-2021                   Marketing Managers               0.019000   \n",
       "\n",
       "   Interpersonal Task  Group Task  Conflict Resolution  \\\n",
       "0           -0.000954    0.000123             0.000834   \n",
       "1            0.005906    0.000356            -0.005416   \n",
       "2            0.024316    0.004055            -0.009677   \n",
       "3            0.008913    0.002818            -0.005241   \n",
       "4            0.015375    0.005090             0.010890   \n",
       "\n",
       "   Management and Supervision  Race ahead of the Machine  Communication  \\\n",
       "0                   -0.000360                  -0.002175       0.000681   \n",
       "1                    0.014033                  -0.005458       0.002248   \n",
       "2                    0.017291                  -0.017034      -0.008535   \n",
       "3                   -0.021116                   0.049604       0.031080   \n",
       "4                   -0.012355                  -0.010773      -0.013698   \n",
       "\n",
       "   Systems Analysis       ...        Routine Problem Solving  \\\n",
       "0         -0.002128       ...                      -0.001448   \n",
       "1         -0.003968       ...                      -0.017926   \n",
       "2         -0.005000       ...                       0.003974   \n",
       "3          0.013190       ...                      -0.003161   \n",
       "4         -0.001659       ...                      -0.016206   \n",
       "\n",
       "   Information Processing  Race against the Machine  General Physical Task  \\\n",
       "0               -0.000423                  0.004132               0.001804   \n",
       "1                0.012377                  0.000000               0.000000   \n",
       "2                0.010087                 -0.001175               0.000000   \n",
       "3               -0.022888                 -0.007108              -0.001909   \n",
       "4               -0.003059                  0.000000               0.000000   \n",
       "\n",
       "   Dynamic Physical Task  Running a Different Race  Equipment Maintenance  \\\n",
       "0               0.002329                  0.003053               0.000457   \n",
       "1               0.000000                 -0.007428              -0.006339   \n",
       "2              -0.001175                 -0.030722              -0.006957   \n",
       "3              -0.005200                 -0.003097               0.006941   \n",
       "4               0.000000                  0.001785              -0.001227   \n",
       "\n",
       "   Vehicle and Equipment Operation  Machine Control  Hazardous Task  \n",
       "0                         0.001156         0.000911        0.000528  \n",
       "1                        -0.001515         0.002002       -0.001576  \n",
       "2                        -0.023804        -0.001388        0.001427  \n",
       "3                        -0.005657        -0.003000       -0.001382  \n",
       "4                        -0.000072         0.003085        0.000000  \n",
       "\n",
       "[5 rows x 22 columns]"
      ]
     },
     "execution_count": 13,
     "metadata": {},
     "output_type": "execute_result"
    }
   ],
   "source": [
    "panel_df.head()"
   ]
  },
  {
   "cell_type": "code",
   "execution_count": 14,
   "metadata": {
    "collapsed": true
   },
   "outputs": [],
   "source": [
    "color_code = ['FFFFFF', 'FFFFFF',              \n",
    "              'bed7ed', 'ddebf6','ddebf6','ddebf6','ddebf6',\n",
    "              'fee59d', 'fff1ce', 'fff1ce', 'fff1ce',\n",
    "              'dbdbdb', 'ededed', 'ededed',\n",
    "              'f7cbaf', 'fbe4d7', 'fbe4d7',\n",
    "              'c7dfb6', 'e2efdb', 'e2efdb', 'e2efdb', 'e2efdb'\n",
    "             ]"
   ]
  },
  {
   "cell_type": "code",
   "execution_count": 15,
   "metadata": {
    "collapsed": true
   },
   "outputs": [],
   "source": [
    "table = table_generation(panel_df, color_code)"
   ]
  },
  {
   "cell_type": "code",
   "execution_count": 16,
   "metadata": {
    "collapsed": true,
    "scrolled": false
   },
   "outputs": [],
   "source": [
    "f = open( '../visualize/templates/visualize/panel4_'+year+'.html', 'w')\n",
    "f.write(table)\n",
    "f.close()"
   ]
  },
  {
   "cell_type": "code",
   "execution_count": null,
   "metadata": {
    "collapsed": true
   },
   "outputs": [],
   "source": []
  }
 ],
 "metadata": {
  "anaconda-cloud": {},
  "kernelspec": {
   "display_name": "py35",
   "language": "python",
   "name": "py35"
  },
  "language_info": {
   "codemirror_mode": {
    "name": "ipython",
    "version": 2
   },
   "file_extension": ".py",
   "mimetype": "text/x-python",
   "name": "python",
   "nbconvert_exporter": "python",
   "pygments_lexer": "ipython2",
   "version": "2.7.12"
  }
 },
 "nbformat": 4,
 "nbformat_minor": 1
}
