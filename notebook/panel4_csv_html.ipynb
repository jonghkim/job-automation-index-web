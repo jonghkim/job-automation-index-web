{
 "cells": [
  {
   "cell_type": "code",
   "execution_count": 1,
   "metadata": {
    "collapsed": true
   },
   "outputs": [],
   "source": [
    "# -*- coding: utf-8 -*-\n",
    "import pandas as pd"
   ]
  },
  {
   "cell_type": "code",
   "execution_count": 2,
   "metadata": {
    "collapsed": true
   },
   "outputs": [],
   "source": [
    "def table_generation(df, color_code):\n",
    "    lines = []\n",
    "    lines.append('<table class=\"table table-bordered sortable\" id=\"dataTable\" width=\"100%\" cellspacing=\"0\">\\n')\n",
    "    lines.append('<thead>')\n",
    "    lines.append('  <tr>\\n')\n",
    "\n",
    "    lines.append('    <th></th>\\n')\n",
    "    for i, (col, color) in enumerate(zip(df.columns, color_code)):\n",
    "        if i==0:\n",
    "            lines.append('    <th class=\"sorttable_sorted\" bgcolor=\"{}\">{} <span id=\"sorttable_sortfwdind\">&nbsp;▾</span> </th>\\n'.format(color, col))\n",
    "        else:\n",
    "            lines.append('    <th bgcolor=\"{}\">{}</th>\\n'.format(color, col))\n",
    "\n",
    "    lines.append('  </tr>\\n')\n",
    "    lines.append('</thead>\\n')\n",
    "\n",
    "    lines.append('<tfoot>\\n')\n",
    "    lines.append('  <tr>\\n')\n",
    "    \n",
    "    lines.append('    <th></th>\\n')\n",
    "    for i, (col, color) in enumerate(zip(df.columns, color_code)):\n",
    "        lines.append('    <th bgcolor=\"{}\">{}</th>\\n'.format(color, col))\n",
    "    \n",
    "    lines.append('  </tr>\\n')\n",
    "    lines.append('</tfoot>\\n')\n",
    "\n",
    "    lines.append('<tbody>\\n')\n",
    "\n",
    "    for i, r in df.iterrows():\n",
    "        lines.append('  <tr>\\n')\n",
    "        lines.append('    <td ></td>\\n')\n",
    "        for (col, color) in zip(df.columns, color_code):    \n",
    "            lines.append('    <td bgcolor=\"{}\">{}</td>\\n'.format(color, (\"%.2f\" % r[col]) if isinstance(r[col],float) else r[col]))\n",
    "        lines.append('  </tr>\\n')    \n",
    "    lines.append('</tbody>\\n')\n",
    "    lines.append('</table>')\n",
    "    \n",
    "    return ''.join(lines)\n"
   ]
  },
  {
   "cell_type": "code",
   "execution_count": 17,
   "metadata": {
    "collapsed": true
   },
   "outputs": [],
   "source": [
    "year = '2019'\n",
    "csvpath = '../static/data/csv/Panel 4 '+year+'.csv'\n",
    "panel_df = pd.read_csv(csvpath, encoding='utf-8', index_col=0)"
   ]
  },
  {
   "cell_type": "code",
   "execution_count": 18,
   "metadata": {
    "collapsed": false
   },
   "outputs": [
    {
     "data": {
      "text/plain": [
       "'\\npanel_df.columns = [\\'Job Code\\', \\'Job Title\\', \"Automation Index\",\"Race with the Machine\",\"Communication\",\"Managerial Task\",\"Clerical Task\",\\n                                                \"Equipment Maintenance\",\"Race against the Machine\",\"Information Processing\",\"Perceptual Task\",\\n                                                \"Equipment Operation\",\"Operation Monitoring\",\"Physical Task\",\"Race ahead of the Machine\",\\n                                                \"Strategic Thinking\",\"Running a Different Race\",\"Dynamic Physical Task\",\"Hazardous Task\",\\n                                                \"Group Task\",\"Conflict Resolution\",\"Creative Thinking\",\"Changing the Course of a Race\",\"Routine Task\"]\\n'"
      ]
     },
     "execution_count": 18,
     "metadata": {},
     "output_type": "execute_result"
    }
   ],
   "source": [
    "\"\"\"\n",
    "panel_df.columns = ['Job Code', 'Job Title', \"Automation Index\",\"Race with the Machine\",\"Communication\",\"Managerial Task\",\"Clerical Task\",\n",
    "                                                \"Equipment Maintenance\",\"Race against the Machine\",\"Information Processing\",\"Perceptual Task\",\n",
    "                                                \"Equipment Operation\",\"Operation Monitoring\",\"Physical Task\",\"Race ahead of the Machine\",\n",
    "                                                \"Strategic Thinking\",\"Running a Different Race\",\"Dynamic Physical Task\",\"Hazardous Task\",\n",
    "                                                \"Group Task\",\"Conflict Resolution\",\"Creative Thinking\",\"Changing the Course of a Race\",\"Routine Task\"]\n",
    "\"\"\""
   ]
  },
  {
   "cell_type": "code",
   "execution_count": 19,
   "metadata": {
    "collapsed": true
   },
   "outputs": [],
   "source": [
    "panel_df = panel_df[['Job Code', 'Job Title', 'Automation Index', 'Race with the Machine',\n",
    "                   'Interpersonal Task', 'Administrative Task', 'Race against the Machine',\n",
    "                   'Information Processing', 'Problem Solving',\n",
    "                   'Vehicle and Equipment Operation', 'Machine Control',\n",
    "                   'Equipment Maintenance', 'General Physical Task',\n",
    "                   'Race ahead of the Machine', 'Systems Thinking',\n",
    "                   'Creative and Critical Thinking', 'Running a Different Race',\n",
    "                   'Dynamic Physical Task', 'Hazardous and Group Task',\n",
    "                   'Conflict Resolution', 'Management and Supervision']]\n",
    "\"\"\"\n",
    "panel_df.columns = panel_df.columns.tolist()[0:3]+[\"Automation for \"+ col for col in panel_df.columns.tolist()[3:]]\n",
    "\"\"\"\n",
    "panel_df.to_csv('../static/data/csv/Panel 4 '+year+'.csv')"
   ]
  },
  {
   "cell_type": "code",
   "execution_count": 20,
   "metadata": {
    "collapsed": false
   },
   "outputs": [
    {
     "data": {
      "text/html": [
       "<div>\n",
       "<style>\n",
       "    .dataframe thead tr:only-child th {\n",
       "        text-align: right;\n",
       "    }\n",
       "\n",
       "    .dataframe thead th {\n",
       "        text-align: left;\n",
       "    }\n",
       "\n",
       "    .dataframe tbody tr th {\n",
       "        vertical-align: top;\n",
       "    }\n",
       "</style>\n",
       "<table border=\"1\" class=\"dataframe\">\n",
       "  <thead>\n",
       "    <tr style=\"text-align: right;\">\n",
       "      <th></th>\n",
       "      <th>Job Code</th>\n",
       "      <th>Job Title</th>\n",
       "      <th>Automation Index</th>\n",
       "      <th>Race with the Machine</th>\n",
       "      <th>Interpersonal Task</th>\n",
       "      <th>Administrative Task</th>\n",
       "      <th>Race against the Machine</th>\n",
       "      <th>Information Processing</th>\n",
       "      <th>Problem Solving</th>\n",
       "      <th>Vehicle and Equipment Operation</th>\n",
       "      <th>...</th>\n",
       "      <th>Equipment Maintenance</th>\n",
       "      <th>General Physical Task</th>\n",
       "      <th>Race ahead of the Machine</th>\n",
       "      <th>Systems Thinking</th>\n",
       "      <th>Creative and Critical Thinking</th>\n",
       "      <th>Running a Different Race</th>\n",
       "      <th>Dynamic Physical Task</th>\n",
       "      <th>Hazardous and Group Task</th>\n",
       "      <th>Conflict Resolution</th>\n",
       "      <th>Management and Supervision</th>\n",
       "    </tr>\n",
       "  </thead>\n",
       "  <tbody>\n",
       "    <tr>\n",
       "      <th>0</th>\n",
       "      <td>00-0000</td>\n",
       "      <td>TOTAL AVERAGE</td>\n",
       "      <td>0.492591</td>\n",
       "      <td>0.094672</td>\n",
       "      <td>0.039801</td>\n",
       "      <td>0.054871</td>\n",
       "      <td>0.239059</td>\n",
       "      <td>0.044887</td>\n",
       "      <td>0.042575</td>\n",
       "      <td>0.040698</td>\n",
       "      <td>...</td>\n",
       "      <td>0.043348</td>\n",
       "      <td>0.03506</td>\n",
       "      <td>0.050115</td>\n",
       "      <td>0.022905</td>\n",
       "      <td>0.027210</td>\n",
       "      <td>0.108745</td>\n",
       "      <td>0.026736</td>\n",
       "      <td>0.038368</td>\n",
       "      <td>0.023663</td>\n",
       "      <td>0.019978</td>\n",
       "    </tr>\n",
       "    <tr>\n",
       "      <th>1</th>\n",
       "      <td>11-1011</td>\n",
       "      <td>Chief Executives</td>\n",
       "      <td>0.484043</td>\n",
       "      <td>0.142740</td>\n",
       "      <td>0.083915</td>\n",
       "      <td>0.058824</td>\n",
       "      <td>0.117829</td>\n",
       "      <td>0.054756</td>\n",
       "      <td>0.047717</td>\n",
       "      <td>0.003413</td>\n",
       "      <td>...</td>\n",
       "      <td>0.009619</td>\n",
       "      <td>0.00000</td>\n",
       "      <td>0.101237</td>\n",
       "      <td>0.052227</td>\n",
       "      <td>0.049010</td>\n",
       "      <td>0.122237</td>\n",
       "      <td>0.000000</td>\n",
       "      <td>0.024092</td>\n",
       "      <td>0.027693</td>\n",
       "      <td>0.070452</td>\n",
       "    </tr>\n",
       "    <tr>\n",
       "      <th>2</th>\n",
       "      <td>11-1021</td>\n",
       "      <td>General and Operations Managers</td>\n",
       "      <td>0.486848</td>\n",
       "      <td>0.160378</td>\n",
       "      <td>0.094528</td>\n",
       "      <td>0.065849</td>\n",
       "      <td>0.092071</td>\n",
       "      <td>0.043888</td>\n",
       "      <td>0.037779</td>\n",
       "      <td>0.003388</td>\n",
       "      <td>...</td>\n",
       "      <td>0.003034</td>\n",
       "      <td>0.00000</td>\n",
       "      <td>0.072247</td>\n",
       "      <td>0.037816</td>\n",
       "      <td>0.034431</td>\n",
       "      <td>0.162152</td>\n",
       "      <td>0.002285</td>\n",
       "      <td>0.041449</td>\n",
       "      <td>0.029645</td>\n",
       "      <td>0.088774</td>\n",
       "    </tr>\n",
       "    <tr>\n",
       "      <th>3</th>\n",
       "      <td>11-2011</td>\n",
       "      <td>Advertising and Promotions Managers</td>\n",
       "      <td>0.481915</td>\n",
       "      <td>0.213790</td>\n",
       "      <td>0.101504</td>\n",
       "      <td>0.112286</td>\n",
       "      <td>0.102837</td>\n",
       "      <td>0.030700</td>\n",
       "      <td>0.050320</td>\n",
       "      <td>0.003340</td>\n",
       "      <td>...</td>\n",
       "      <td>0.018478</td>\n",
       "      <td>0.00000</td>\n",
       "      <td>0.096137</td>\n",
       "      <td>0.050050</td>\n",
       "      <td>0.046087</td>\n",
       "      <td>0.069151</td>\n",
       "      <td>0.000000</td>\n",
       "      <td>0.027214</td>\n",
       "      <td>0.010652</td>\n",
       "      <td>0.031285</td>\n",
       "    </tr>\n",
       "    <tr>\n",
       "      <th>4</th>\n",
       "      <td>11-2021</td>\n",
       "      <td>Marketing Managers</td>\n",
       "      <td>0.477103</td>\n",
       "      <td>0.176131</td>\n",
       "      <td>0.102583</td>\n",
       "      <td>0.073549</td>\n",
       "      <td>0.082785</td>\n",
       "      <td>0.042705</td>\n",
       "      <td>0.031661</td>\n",
       "      <td>0.000202</td>\n",
       "      <td>...</td>\n",
       "      <td>0.008216</td>\n",
       "      <td>0.00000</td>\n",
       "      <td>0.121733</td>\n",
       "      <td>0.059246</td>\n",
       "      <td>0.062487</td>\n",
       "      <td>0.096453</td>\n",
       "      <td>0.000000</td>\n",
       "      <td>0.025815</td>\n",
       "      <td>0.020862</td>\n",
       "      <td>0.049776</td>\n",
       "    </tr>\n",
       "  </tbody>\n",
       "</table>\n",
       "<p>5 rows × 21 columns</p>\n",
       "</div>"
      ],
      "text/plain": [
       "  Job Code                            Job Title  Automation Index  \\\n",
       "0  00-0000                        TOTAL AVERAGE          0.492591   \n",
       "1  11-1011                     Chief Executives          0.484043   \n",
       "2  11-1021      General and Operations Managers          0.486848   \n",
       "3  11-2011  Advertising and Promotions Managers          0.481915   \n",
       "4  11-2021                   Marketing Managers          0.477103   \n",
       "\n",
       "   Race with the Machine  Interpersonal Task  Administrative Task  \\\n",
       "0               0.094672            0.039801             0.054871   \n",
       "1               0.142740            0.083915             0.058824   \n",
       "2               0.160378            0.094528             0.065849   \n",
       "3               0.213790            0.101504             0.112286   \n",
       "4               0.176131            0.102583             0.073549   \n",
       "\n",
       "   Race against the Machine  Information Processing  Problem Solving  \\\n",
       "0                  0.239059                0.044887         0.042575   \n",
       "1                  0.117829                0.054756         0.047717   \n",
       "2                  0.092071                0.043888         0.037779   \n",
       "3                  0.102837                0.030700         0.050320   \n",
       "4                  0.082785                0.042705         0.031661   \n",
       "\n",
       "   Vehicle and Equipment Operation             ...              \\\n",
       "0                         0.040698             ...               \n",
       "1                         0.003413             ...               \n",
       "2                         0.003388             ...               \n",
       "3                         0.003340             ...               \n",
       "4                         0.000202             ...               \n",
       "\n",
       "   Equipment Maintenance  General Physical Task  Race ahead of the Machine  \\\n",
       "0               0.043348                0.03506                   0.050115   \n",
       "1               0.009619                0.00000                   0.101237   \n",
       "2               0.003034                0.00000                   0.072247   \n",
       "3               0.018478                0.00000                   0.096137   \n",
       "4               0.008216                0.00000                   0.121733   \n",
       "\n",
       "   Systems Thinking  Creative and Critical Thinking  Running a Different Race  \\\n",
       "0          0.022905                        0.027210                  0.108745   \n",
       "1          0.052227                        0.049010                  0.122237   \n",
       "2          0.037816                        0.034431                  0.162152   \n",
       "3          0.050050                        0.046087                  0.069151   \n",
       "4          0.059246                        0.062487                  0.096453   \n",
       "\n",
       "   Dynamic Physical Task  Hazardous and Group Task  Conflict Resolution  \\\n",
       "0               0.026736                  0.038368             0.023663   \n",
       "1               0.000000                  0.024092             0.027693   \n",
       "2               0.002285                  0.041449             0.029645   \n",
       "3               0.000000                  0.027214             0.010652   \n",
       "4               0.000000                  0.025815             0.020862   \n",
       "\n",
       "   Management and Supervision  \n",
       "0                    0.019978  \n",
       "1                    0.070452  \n",
       "2                    0.088774  \n",
       "3                    0.031285  \n",
       "4                    0.049776  \n",
       "\n",
       "[5 rows x 21 columns]"
      ]
     },
     "execution_count": 20,
     "metadata": {},
     "output_type": "execute_result"
    }
   ],
   "source": [
    "panel_df.head()"
   ]
  },
  {
   "cell_type": "code",
   "execution_count": 21,
   "metadata": {
    "collapsed": true
   },
   "outputs": [],
   "source": [
    "color_code = ['FFFFFF', 'FFFFFF',\n",
    "              'FFFFCC',\n",
    "              'BDD7EE','DDEBF7','DDEBF7',\n",
    "              'F8CBAD','FCE4D6','FCE4D6','FCE4D6','FCE4D6','FCE4D6','FCE4D6',\n",
    "              'FFE699','FFF2CC','FFF2CC',\n",
    "              'C6E0B4','E2EFDA','E2EFDA','E2EFDA','E2EFDA',\n",
    "              #'C6E0B4','E2EFDA','E2EFDA','E2EFDA','E2EFDA','E2EFDA',\n",
    "              #'DBDBDB','EDEDED'\n",
    "             ]"
   ]
  },
  {
   "cell_type": "code",
   "execution_count": 22,
   "metadata": {
    "collapsed": true
   },
   "outputs": [],
   "source": [
    "table = table_generation(panel_df, color_code)"
   ]
  },
  {
   "cell_type": "code",
   "execution_count": 23,
   "metadata": {
    "collapsed": true,
    "scrolled": false
   },
   "outputs": [],
   "source": [
    "f = open( '../visualize/templates/visualize/panel4_'+year+'.html', 'w')\n",
    "f.write(table)\n",
    "f.close()"
   ]
  },
  {
   "cell_type": "code",
   "execution_count": null,
   "metadata": {
    "collapsed": true
   },
   "outputs": [],
   "source": []
  }
 ],
 "metadata": {
  "anaconda-cloud": {},
  "kernelspec": {
   "display_name": "py35",
   "language": "python",
   "name": "py35"
  },
  "language_info": {
   "codemirror_mode": {
    "name": "ipython",
    "version": 2
   },
   "file_extension": ".py",
   "mimetype": "text/x-python",
   "name": "python",
   "nbconvert_exporter": "python",
   "pygments_lexer": "ipython2",
   "version": "2.7.12"
  }
 },
 "nbformat": 4,
 "nbformat_minor": 1
}
