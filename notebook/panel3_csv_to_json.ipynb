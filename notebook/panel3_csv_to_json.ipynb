{
 "cells": [
  {
   "cell_type": "code",
   "execution_count": 1,
   "metadata": {},
   "outputs": [],
   "source": [
    "# -*- coding: utf-8 -*-\n",
    "import pandas as pd\n",
    "import json\n",
    "\n",
    "# static/zoomable/flare.json"
   ]
  },
  {
   "cell_type": "code",
   "execution_count": 2,
   "metadata": {},
   "outputs": [],
   "source": [
    "panel3_task_year_df = pd.read_csv(\"../static/data/csv/Panel 3.csv\")\n",
    "panel3_job_skill_2008_df = pd.read_csv(\"../static/data/csv/Panel 3 Skill Importance 2008.csv\")\n",
    "panel3_job_skill_2019_df = pd.read_csv(\"../static/data/csv/Panel 3 Skill Importance 2019.csv\")"
   ]
  },
  {
   "cell_type": "code",
   "execution_count": 3,
   "metadata": {},
   "outputs": [
    {
     "data": {
      "text/html": [
       "<div>\n",
       "<style scoped>\n",
       "    .dataframe tbody tr th:only-of-type {\n",
       "        vertical-align: middle;\n",
       "    }\n",
       "\n",
       "    .dataframe tbody tr th {\n",
       "        vertical-align: top;\n",
       "    }\n",
       "\n",
       "    .dataframe thead th {\n",
       "        text-align: right;\n",
       "    }\n",
       "</style>\n",
       "<table border=\"1\" class=\"dataframe\">\n",
       "  <thead>\n",
       "    <tr style=\"text-align: right;\">\n",
       "      <th></th>\n",
       "      <th>Skill Id</th>\n",
       "      <th>Skill Name</th>\n",
       "      <th>Task</th>\n",
       "      <th>2019 Automation Level</th>\n",
       "      <th>2008 Automation Level</th>\n",
       "      <th>Change during 2008-2019</th>\n",
       "    </tr>\n",
       "  </thead>\n",
       "  <tbody>\n",
       "    <tr>\n",
       "      <th>0</th>\n",
       "      <td>4.A.3.b.1</td>\n",
       "      <td>Interacting With Computers</td>\n",
       "      <td>Administrative Task</td>\n",
       "      <td>0.608170</td>\n",
       "      <td>0.632423</td>\n",
       "      <td>-0.024253</td>\n",
       "    </tr>\n",
       "    <tr>\n",
       "      <th>1</th>\n",
       "      <td>2.B.3.e</td>\n",
       "      <td>Programming</td>\n",
       "      <td>Administrative Task</td>\n",
       "      <td>0.588503</td>\n",
       "      <td>0.560941</td>\n",
       "      <td>0.027562</td>\n",
       "    </tr>\n",
       "    <tr>\n",
       "      <th>2</th>\n",
       "      <td>4.C.2.d.1.a</td>\n",
       "      <td>Spend Time Sitting</td>\n",
       "      <td>Administrative Task</td>\n",
       "      <td>0.572816</td>\n",
       "      <td>0.588516</td>\n",
       "      <td>-0.015700</td>\n",
       "    </tr>\n",
       "    <tr>\n",
       "      <th>3</th>\n",
       "      <td>4.A.4.c.1</td>\n",
       "      <td>Performing Administrative Activities</td>\n",
       "      <td>Administrative Task</td>\n",
       "      <td>0.550240</td>\n",
       "      <td>0.536965</td>\n",
       "      <td>0.013276</td>\n",
       "    </tr>\n",
       "    <tr>\n",
       "      <th>4</th>\n",
       "      <td>4.C.1.a.2.j</td>\n",
       "      <td>Letters and Memos</td>\n",
       "      <td>Administrative Task</td>\n",
       "      <td>0.531585</td>\n",
       "      <td>0.505103</td>\n",
       "      <td>0.026482</td>\n",
       "    </tr>\n",
       "  </tbody>\n",
       "</table>\n",
       "</div>"
      ],
      "text/plain": [
       "      Skill Id                            Skill Name                 Task  \\\n",
       "0    4.A.3.b.1            Interacting With Computers  Administrative Task   \n",
       "1      2.B.3.e                           Programming  Administrative Task   \n",
       "2  4.C.2.d.1.a                    Spend Time Sitting  Administrative Task   \n",
       "3    4.A.4.c.1  Performing Administrative Activities  Administrative Task   \n",
       "4  4.C.1.a.2.j                     Letters and Memos  Administrative Task   \n",
       "\n",
       "   2019 Automation Level  2008 Automation Level  Change during 2008-2019  \n",
       "0               0.608170               0.632423                -0.024253  \n",
       "1               0.588503               0.560941                 0.027562  \n",
       "2               0.572816               0.588516                -0.015700  \n",
       "3               0.550240               0.536965                 0.013276  \n",
       "4               0.531585               0.505103                 0.026482  "
      ]
     },
     "execution_count": 3,
     "metadata": {},
     "output_type": "execute_result"
    }
   ],
   "source": [
    "panel3_task_year_df.head()"
   ]
  },
  {
   "cell_type": "code",
   "execution_count": 4,
   "metadata": {},
   "outputs": [
    {
     "data": {
      "text/html": [
       "<div>\n",
       "<style scoped>\n",
       "    .dataframe tbody tr th:only-of-type {\n",
       "        vertical-align: middle;\n",
       "    }\n",
       "\n",
       "    .dataframe tbody tr th {\n",
       "        vertical-align: top;\n",
       "    }\n",
       "\n",
       "    .dataframe thead th {\n",
       "        text-align: right;\n",
       "    }\n",
       "</style>\n",
       "<table border=\"1\" class=\"dataframe\">\n",
       "  <thead>\n",
       "    <tr style=\"text-align: right;\">\n",
       "      <th></th>\n",
       "      <th>Job Code</th>\n",
       "      <th>Job Title</th>\n",
       "      <th>Active Learning</th>\n",
       "      <th>Wrist-Finger Speed</th>\n",
       "      <th>Number Facility</th>\n",
       "      <th>Electronic Mail</th>\n",
       "      <th>In an Open Vehicle or Equipment</th>\n",
       "      <th>Guiding, Directing, and Motivating Subordinates</th>\n",
       "      <th>Exposed to High Places</th>\n",
       "      <th>Inspecting Equipment, Structures, or Material</th>\n",
       "      <th>...</th>\n",
       "      <th>Negotiation</th>\n",
       "      <th>Exposed to Whole Body Vibration</th>\n",
       "      <th>Responsibility for Outcomes and Results</th>\n",
       "      <th>Critical Thinking</th>\n",
       "      <th>Documenting/Recording Information</th>\n",
       "      <th>Pace Determined by Speed of Equipment</th>\n",
       "      <th>Impact of Decisions on Co-workers or Company Results</th>\n",
       "      <th>Sound Localization</th>\n",
       "      <th>Selling or Influencing Others</th>\n",
       "      <th>Finger Dexterity</th>\n",
       "    </tr>\n",
       "  </thead>\n",
       "  <tbody>\n",
       "    <tr>\n",
       "      <th>0</th>\n",
       "      <td>00-0000</td>\n",
       "      <td>TOTAL AVERAGE</td>\n",
       "      <td>0.005153</td>\n",
       "      <td>0.006004</td>\n",
       "      <td>0.006238</td>\n",
       "      <td>0.007199</td>\n",
       "      <td>0.004171</td>\n",
       "      <td>0.004526</td>\n",
       "      <td>0.004076</td>\n",
       "      <td>0.005198</td>\n",
       "      <td>...</td>\n",
       "      <td>0.005543</td>\n",
       "      <td>0.003324</td>\n",
       "      <td>0.004511</td>\n",
       "      <td>0.005597</td>\n",
       "      <td>0.005817</td>\n",
       "      <td>0.00592</td>\n",
       "      <td>0.004848</td>\n",
       "      <td>0.005148</td>\n",
       "      <td>0.006031</td>\n",
       "      <td>0.005871</td>\n",
       "    </tr>\n",
       "    <tr>\n",
       "      <th>1</th>\n",
       "      <td>11-1011</td>\n",
       "      <td>Chief Executives</td>\n",
       "      <td>0.011427</td>\n",
       "      <td>0.000000</td>\n",
       "      <td>0.008704</td>\n",
       "      <td>0.005994</td>\n",
       "      <td>0.000289</td>\n",
       "      <td>0.017453</td>\n",
       "      <td>0.000000</td>\n",
       "      <td>0.000000</td>\n",
       "      <td>...</td>\n",
       "      <td>0.018997</td>\n",
       "      <td>0.002607</td>\n",
       "      <td>0.012023</td>\n",
       "      <td>0.012390</td>\n",
       "      <td>0.000000</td>\n",
       "      <td>0.00000</td>\n",
       "      <td>0.013786</td>\n",
       "      <td>0.000000</td>\n",
       "      <td>0.011320</td>\n",
       "      <td>0.000000</td>\n",
       "    </tr>\n",
       "    <tr>\n",
       "      <th>2</th>\n",
       "      <td>11-1021</td>\n",
       "      <td>General and Operations Managers</td>\n",
       "      <td>0.008371</td>\n",
       "      <td>0.000000</td>\n",
       "      <td>0.004497</td>\n",
       "      <td>0.008413</td>\n",
       "      <td>0.000000</td>\n",
       "      <td>0.021092</td>\n",
       "      <td>0.002898</td>\n",
       "      <td>0.003211</td>\n",
       "      <td>...</td>\n",
       "      <td>0.020354</td>\n",
       "      <td>0.000000</td>\n",
       "      <td>0.020745</td>\n",
       "      <td>0.008813</td>\n",
       "      <td>0.001589</td>\n",
       "      <td>0.00000</td>\n",
       "      <td>0.014911</td>\n",
       "      <td>0.001704</td>\n",
       "      <td>0.016846</td>\n",
       "      <td>0.000000</td>\n",
       "    </tr>\n",
       "    <tr>\n",
       "      <th>3</th>\n",
       "      <td>11-2011</td>\n",
       "      <td>Advertising and Promotions Managers</td>\n",
       "      <td>0.005194</td>\n",
       "      <td>0.000000</td>\n",
       "      <td>0.010406</td>\n",
       "      <td>0.014330</td>\n",
       "      <td>0.000000</td>\n",
       "      <td>0.003663</td>\n",
       "      <td>0.000000</td>\n",
       "      <td>0.000000</td>\n",
       "      <td>...</td>\n",
       "      <td>0.015706</td>\n",
       "      <td>0.000000</td>\n",
       "      <td>0.013109</td>\n",
       "      <td>0.017165</td>\n",
       "      <td>0.000000</td>\n",
       "      <td>0.00000</td>\n",
       "      <td>0.006843</td>\n",
       "      <td>0.000000</td>\n",
       "      <td>0.026177</td>\n",
       "      <td>0.000000</td>\n",
       "    </tr>\n",
       "    <tr>\n",
       "      <th>4</th>\n",
       "      <td>11-2021</td>\n",
       "      <td>Marketing Managers</td>\n",
       "      <td>0.017921</td>\n",
       "      <td>0.000000</td>\n",
       "      <td>0.012927</td>\n",
       "      <td>0.010800</td>\n",
       "      <td>0.000000</td>\n",
       "      <td>0.018276</td>\n",
       "      <td>0.000000</td>\n",
       "      <td>0.000000</td>\n",
       "      <td>...</td>\n",
       "      <td>0.023033</td>\n",
       "      <td>0.000000</td>\n",
       "      <td>0.014231</td>\n",
       "      <td>0.009973</td>\n",
       "      <td>0.000000</td>\n",
       "      <td>0.00000</td>\n",
       "      <td>0.007969</td>\n",
       "      <td>0.000000</td>\n",
       "      <td>0.030220</td>\n",
       "      <td>0.000000</td>\n",
       "    </tr>\n",
       "  </tbody>\n",
       "</table>\n",
       "<p>5 rows × 184 columns</p>\n",
       "</div>"
      ],
      "text/plain": [
       "  Job Code                            Job Title  Active Learning  \\\n",
       "0  00-0000                        TOTAL AVERAGE         0.005153   \n",
       "1  11-1011                     Chief Executives         0.011427   \n",
       "2  11-1021      General and Operations Managers         0.008371   \n",
       "3  11-2011  Advertising and Promotions Managers         0.005194   \n",
       "4  11-2021                   Marketing Managers         0.017921   \n",
       "\n",
       "   Wrist-Finger Speed  Number Facility  Electronic Mail  \\\n",
       "0            0.006004         0.006238         0.007199   \n",
       "1            0.000000         0.008704         0.005994   \n",
       "2            0.000000         0.004497         0.008413   \n",
       "3            0.000000         0.010406         0.014330   \n",
       "4            0.000000         0.012927         0.010800   \n",
       "\n",
       "   In an Open Vehicle or Equipment  \\\n",
       "0                         0.004171   \n",
       "1                         0.000289   \n",
       "2                         0.000000   \n",
       "3                         0.000000   \n",
       "4                         0.000000   \n",
       "\n",
       "   Guiding, Directing, and Motivating Subordinates  Exposed to High Places  \\\n",
       "0                                         0.004526                0.004076   \n",
       "1                                         0.017453                0.000000   \n",
       "2                                         0.021092                0.002898   \n",
       "3                                         0.003663                0.000000   \n",
       "4                                         0.018276                0.000000   \n",
       "\n",
       "   Inspecting Equipment, Structures, or Material        ...         \\\n",
       "0                                       0.005198        ...          \n",
       "1                                       0.000000        ...          \n",
       "2                                       0.003211        ...          \n",
       "3                                       0.000000        ...          \n",
       "4                                       0.000000        ...          \n",
       "\n",
       "   Negotiation  Exposed to Whole Body Vibration  \\\n",
       "0     0.005543                         0.003324   \n",
       "1     0.018997                         0.002607   \n",
       "2     0.020354                         0.000000   \n",
       "3     0.015706                         0.000000   \n",
       "4     0.023033                         0.000000   \n",
       "\n",
       "   Responsibility for Outcomes and Results  Critical Thinking  \\\n",
       "0                                 0.004511           0.005597   \n",
       "1                                 0.012023           0.012390   \n",
       "2                                 0.020745           0.008813   \n",
       "3                                 0.013109           0.017165   \n",
       "4                                 0.014231           0.009973   \n",
       "\n",
       "   Documenting/Recording Information  Pace Determined by Speed of Equipment  \\\n",
       "0                           0.005817                                0.00592   \n",
       "1                           0.000000                                0.00000   \n",
       "2                           0.001589                                0.00000   \n",
       "3                           0.000000                                0.00000   \n",
       "4                           0.000000                                0.00000   \n",
       "\n",
       "   Impact of Decisions on Co-workers or Company Results  Sound Localization  \\\n",
       "0                                           0.004848               0.005148   \n",
       "1                                           0.013786               0.000000   \n",
       "2                                           0.014911               0.001704   \n",
       "3                                           0.006843               0.000000   \n",
       "4                                           0.007969               0.000000   \n",
       "\n",
       "   Selling or Influencing Others  Finger Dexterity  \n",
       "0                       0.006031          0.005871  \n",
       "1                       0.011320          0.000000  \n",
       "2                       0.016846          0.000000  \n",
       "3                       0.026177          0.000000  \n",
       "4                       0.030220          0.000000  \n",
       "\n",
       "[5 rows x 184 columns]"
      ]
     },
     "execution_count": 4,
     "metadata": {},
     "output_type": "execute_result"
    }
   ],
   "source": [
    "panel3_job_skill_2019_df.head()"
   ]
  },
  {
   "cell_type": "code",
   "execution_count": 5,
   "metadata": {},
   "outputs": [],
   "source": [
    "def standardizer(df, col):\n",
    "    df[col] -= df[col].min()\n",
    "    df[col] /= df[col].max()\n",
    "    \n",
    "    df[col] = (30**df[col]-1)/30\n",
    "    \n",
    "    df[col] = [0.5 if value > 0.5 else value for value in df[col]]\n",
    "    \n",
    "    #df[col] = df[col]*200\n",
    "    #df[col] = df[col]+10\n",
    "    return df"
   ]
  },
  {
   "cell_type": "code",
   "execution_count": 6,
   "metadata": {},
   "outputs": [],
   "source": [
    "def standardizer_diff(df, col):\n",
    "    df[col] -= df[col].min()\n",
    "    df[col] /= df[col].max()\n",
    "    \n",
    "    df[col] = (30**df[col]-1)/30\n",
    "    \n",
    "    df[col] = [0.6 if value > 0.6 else value for value in df[col]]\n",
    "    \n",
    "    #df[col] = df[col]*200\n",
    "    #df[col] = df[col]+10\n",
    "    return df"
   ]
  },
  {
   "cell_type": "code",
   "execution_count": 7,
   "metadata": {},
   "outputs": [],
   "source": [
    "panel3_task_year_df = standardizer(panel3_task_year_df, \"2008 Automation Level\")\n",
    "panel3_task_year_df = standardizer(panel3_task_year_df, \"2019 Automation Level\")\n",
    "panel3_task_year_df = standardizer_diff(panel3_task_year_df, \"Change during 2008-2019\")"
   ]
  },
  {
   "cell_type": "code",
   "execution_count": 8,
   "metadata": {},
   "outputs": [
    {
     "data": {
      "text/plain": [
       "<matplotlib.axes._subplots.AxesSubplot at 0x7f61037b3208>"
      ]
     },
     "execution_count": 8,
     "metadata": {},
     "output_type": "execute_result"
    },
    {
     "data": {
      "image/png": "[encoded data removed]",
      "text/plain": [
       "<matplotlib.figure.Figure at 0x7f610436c630>"
      ]
     },
     "metadata": {},
     "output_type": "display_data"
    }
   ],
   "source": [
    "%matplotlib inline\n",
    "panel3_task_year_df[\"2008 Automation Level\"].hist()"
   ]
  },
  {
   "cell_type": "code",
   "execution_count": 9,
   "metadata": {},
   "outputs": [
    {
     "data": {
      "text/plain": [
       "<matplotlib.axes._subplots.AxesSubplot at 0x7f610436c320>"
      ]
     },
     "execution_count": 9,
     "metadata": {},
     "output_type": "execute_result"
    },
    {
     "data": {
      "image/png": "[encoded data removed]",
      "text/plain": [
       "<matplotlib.figure.Figure at 0x7f61037cfba8>"
      ]
     },
     "metadata": {},
     "output_type": "display_data"
    }
   ],
   "source": [
    "panel3_task_year_df[\"2019 Automation Level\"].hist()"
   ]
  },
  {
   "cell_type": "code",
   "execution_count": 10,
   "metadata": {},
   "outputs": [
    {
     "data": {
      "text/plain": [
       "<matplotlib.axes._subplots.AxesSubplot at 0x7f60feebd390>"
      ]
     },
     "execution_count": 10,
     "metadata": {},
     "output_type": "execute_result"
    },
    {
     "data": {
      "image/png": "[encoded data removed]",
      "text/plain": [
       "<matplotlib.figure.Figure at 0x7f60f760bb00>"
      ]
     },
     "metadata": {},
     "output_type": "display_data"
    }
   ],
   "source": [
    "panel3_task_year_df[\"Change during 2008-2019\"].hist()"
   ]
  },
  {
   "cell_type": "code",
   "execution_count": 11,
   "metadata": {},
   "outputs": [],
   "source": [
    "cols = panel3_job_skill_2019_df.columns[3:]\n",
    "\n",
    "for col in cols:\n",
    "    panel3_job_skill_2019_df = standardizer(panel3_job_skill_2019_df, col)"
   ]
  },
  {
   "cell_type": "code",
   "execution_count": 12,
   "metadata": {},
   "outputs": [],
   "source": [
    "cols = panel3_job_skill_2008_df.columns[3:]\n",
    "\n",
    "for col in cols:\n",
    "    panel3_job_skill_2008_df = standardizer(panel3_job_skill_2008_df, col)"
   ]
  },
  {
   "cell_type": "code",
   "execution_count": 13,
   "metadata": {},
   "outputs": [],
   "source": [
    "panel3_task_year_df_gp = panel3_task_year_df.groupby('Task')"
   ]
  },
  {
   "cell_type": "markdown",
   "metadata": {},
   "source": [
    "#grey 220,220,220\n",
    "#crimson 220,20,60"
   ]
  },
  {
   "cell_type": "code",
   "execution_count": 14,
   "metadata": {},
   "outputs": [],
   "source": [
    "color1 = [255,255,255]\n",
    "color2 = [220,20,60]"
   ]
  },
  {
   "cell_type": "code",
   "execution_count": 15,
   "metadata": {},
   "outputs": [],
   "source": [
    "for i in range(panel3_job_skill_2019_df.shape[0]):\n",
    "    #print(panel3_job_skill_2019_df.iloc[i]['Job Code'], panel3_job_skill_2008_df.iloc[i]['Job Code'])\n",
    "    \n",
    "    skillmap = {}\n",
    "    skillmap[\"name\"] = panel3_job_skill_2019_df.iloc[i]['Job Title']\n",
    "    skillmap[\"code\"] = panel3_job_skill_2019_df.iloc[i]['Job Code']  \n",
    "    child_collection = []\n",
    "    \n",
    "    for nm, gp in panel3_task_year_df_gp:\n",
    "        child = {}\n",
    "        child[\"name\"] = nm\n",
    "        child[\"children\"] = []\n",
    "        \n",
    "        for j, r2 in gp.iterrows():\n",
    "            child[\"children\"].append({\"name\": r2[\"Skill Name\"],\n",
    "                                     \"importance_2019\": panel3_job_skill_2019_df.iloc[i][r2[\"Skill Name\"]],\n",
    "                                      \"importance_2008\":panel3_job_skill_2008_df.iloc[i][r2[\"Skill Name\"]], \n",
    "                                      \"importance_2008_2019\": panel3_job_skill_2019_df.iloc[i][r2[\"Skill Name\"]],\n",
    "                                      \n",
    "                                      \"r_2019\":(color2[0]*(r2[\"2019 Automation Level\"]-panel3_task_year_df[\"2019 Automation Level\"].min())+\n",
    "                                                    color1[0]*(panel3_task_year_df[\"2019 Automation Level\"].max()-r2[\"2019 Automation Level\"]))/\n",
    "                                                (panel3_task_year_df[\"2019 Automation Level\"].max()-panel3_task_year_df[\"2019 Automation Level\"].min()),\n",
    "                                      \"g_2019\":(color2[1]*(r2[\"2019 Automation Level\"]-panel3_task_year_df[\"2019 Automation Level\"].min())+\n",
    "                                                    color1[1]*(panel3_task_year_df[\"2019 Automation Level\"].max()-r2[\"2019 Automation Level\"]))/\n",
    "                                                (panel3_task_year_df[\"2019 Automation Level\"].max()-panel3_task_year_df[\"2019 Automation Level\"].min()),\n",
    "                                      \"b_2019\":(color2[2]*(r2[\"2019 Automation Level\"]-panel3_task_year_df[\"2019 Automation Level\"].min())+\n",
    "                                                    color1[2]*(panel3_task_year_df[\"2019 Automation Level\"].max()-r2[\"2019 Automation Level\"]))/\n",
    "                                                (panel3_task_year_df[\"2019 Automation Level\"].max()-panel3_task_year_df[\"2019 Automation Level\"].min()),                                      \n",
    "                                      \"r_2008\":(color2[0]*(r2[\"2008 Automation Level\"]-panel3_task_year_df[\"2008 Automation Level\"].min())+\n",
    "                                                    color1[0]*(panel3_task_year_df[\"2008 Automation Level\"].max()-r2[\"2008 Automation Level\"]))/\n",
    "                                                (panel3_task_year_df[\"2008 Automation Level\"].max()-panel3_task_year_df[\"2008 Automation Level\"].min()),\n",
    "                                      \"g_2008\":(color2[1]*(r2[\"2008 Automation Level\"]-panel3_task_year_df[\"2008 Automation Level\"].min())+\n",
    "                                                    color1[1]*(panel3_task_year_df[\"2008 Automation Level\"].max()-r2[\"2008 Automation Level\"]))/\n",
    "                                                (panel3_task_year_df[\"2008 Automation Level\"].max()-panel3_task_year_df[\"2008 Automation Level\"].min()),\n",
    "                                      \"b_2008\":(color2[2]*(r2[\"2008 Automation Level\"]-panel3_task_year_df[\"2008 Automation Level\"].min())+\n",
    "                                                    color1[2]*(panel3_task_year_df[\"2008 Automation Level\"].max()-r2[\"2008 Automation Level\"]))/\n",
    "                                                (panel3_task_year_df[\"2008 Automation Level\"].max()-panel3_task_year_df[\"2008 Automation Level\"].min()),\n",
    "                                      \"r_2008_2019\":(color2[0]*(r2[\"Change during 2008-2019\"]-panel3_task_year_df[\"Change during 2008-2019\"].min())+\n",
    "                                                    color1[0]*(panel3_task_year_df[\"Change during 2008-2019\"].max()-r2[\"Change during 2008-2019\"]))/\n",
    "                                                (panel3_task_year_df[\"Change during 2008-2019\"].max()-panel3_task_year_df[\"Change during 2008-2019\"].min()),\n",
    "                                      \"g_2008_2019\":(color2[1]*(r2[\"Change during 2008-2019\"]-panel3_task_year_df[\"Change during 2008-2019\"].min())+\n",
    "                                                    color1[1]*(panel3_task_year_df[\"Change during 2008-2019\"].max()-r2[\"Change during 2008-2019\"]))/\n",
    "                                                (panel3_task_year_df[\"Change during 2008-2019\"].max()-panel3_task_year_df[\"Change during 2008-2019\"].min()),\n",
    "                                      \"b_2008_2019\":(color2[2]*(r2[\"Change during 2008-2019\"]-panel3_task_year_df[\"Change during 2008-2019\"].min())+\n",
    "                                                    color1[2]*(panel3_task_year_df[\"Change during 2008-2019\"].max()-r2[\"Change during 2008-2019\"]))/\n",
    "                                                (panel3_task_year_df[\"Change during 2008-2019\"].max()-panel3_task_year_df[\"Change during 2008-2019\"].min()),\n",
    "                                     })\n",
    "            \n",
    "        child_collection.append(child)  \n",
    "        \n",
    "    skillmap[\"children\"] = child_collection\n",
    "        \n",
    "    #with open('../static/data/network/'+r1['Job Code']+'-2019'+'.json', 'w') as outfile:\n",
    "    with open('../static/data/network/'+panel3_job_skill_2019_df.iloc[i]['Job Code']+'.json', 'w') as outfile:    \n",
    "        json.dump(skillmap, outfile)"
   ]
  },
  {
   "cell_type": "code",
   "execution_count": null,
   "metadata": {},
   "outputs": [],
   "source": []
  },
  {
   "cell_type": "code",
   "execution_count": 16,
   "metadata": {},
   "outputs": [
    {
     "data": {
      "text/plain": [
       "'\\nfor i, r1 in zip(panel3_job_skill_2019_df.iterrows(), panel3_job_skill_2008_df.iterrows):\\n    skillmap = {}\\n    skillmap[\"name\"] = r1[\\'Job Title\\']\\n    skillmap[\"code\"] = r1[\\'Job Code\\']\\n    child_collection = []\\n    \\n    for nm, gp in panel3_task_year_df_gp:\\n        child = {}\\n        child[\"name\"] = nm\\n        child[\"children\"] = []\\n        \\n        for i, r2 in gp.iterrows():\\n            child[\"children\"].append({\"name\": r2[\"Skill Name\"],\\n                                     \"importance\": r1[r2[\"Skill Name\"]],\\n                                      \"r_2019\":220,\\n                                      \"g_2019\":(20*(r2[\"2019 Automation Level\"]-panel3_task_year_df[\"2019 Automation Level\"].min())+\\n                                                    220*(panel3_task_year_df[\"2019 Automation Level\"].max()-r2[\"2019 Automation Level\"]))/\\n                                                (panel3_task_year_df[\"2019 Automation Level\"].max()-panel3_task_year_df[\"2019 Automation Level\"].min()),\\n                                      \"b_2019\":(60*(r2[\"2019 Automation Level\"]-panel3_task_year_df[\"2019 Automation Level\"].min())+\\n                                                    220*(panel3_task_year_df[\"2019 Automation Level\"].max()-r2[\"2019 Automation Level\"]))/\\n                                                (panel3_task_year_df[\"2019 Automation Level\"].max()-panel3_task_year_df[\"2019 Automation Level\"].min()),                                      \\n                                      \"r_2008\":220,\\n                                      \"g_2008\":(20*(r2[\"2008 Automation Level\"]-panel3_task_year_df[\"2008 Automation Level\"].min())+\\n                                                    220*(panel3_task_year_df[\"2008 Automation Level\"].max()-r2[\"2008 Automation Level\"]))/\\n                                                (panel3_task_year_df[\"2008 Automation Level\"].max()-panel3_task_year_df[\"2008 Automation Level\"].min()),\\n                                      \"b_2008\":(60*(r2[\"2008 Automation Level\"]-panel3_task_year_df[\"2008 Automation Level\"].min())+\\n                                                    220*(panel3_task_year_df[\"2008 Automation Level\"].max()-r2[\"2008 Automation Level\"]))/\\n                                                (panel3_task_year_df[\"2008 Automation Level\"].max()-panel3_task_year_df[\"2008 Automation Level\"].min()),\\n                                      \"r_2008_2019\":220,\\n                                      \"g_2008_2019\":(20*(r2[\"Change during 2008-2019\"]-panel3_task_year_df[\"Change during 2008-2019\"].min())+\\n                                                    220*(panel3_task_year_df[\"Change during 2008-2019\"].max()-r2[\"Change during 2008-2019\"]))/\\n                                                (panel3_task_year_df[\"Change during 2008-2019\"].max()-panel3_task_year_df[\"Change during 2008-2019\"].min()),\\n                                      \"b_2008_2019\":(60*(r2[\"Change during 2008-2019\"]-panel3_task_year_df[\"Change during 2008-2019\"].min())+\\n                                                    220*(panel3_task_year_df[\"Change during 2008-2019\"].max()-r2[\"Change during 2008-2019\"]))/\\n                                                (panel3_task_year_df[\"Change during 2008-2019\"].max()-panel3_task_year_df[\"Change during 2008-2019\"].min()),\\n                                     \"skill_id\": r2[\"Skill Id\"], \"task\": r2[\"Task\"], \"desc\":r2[\"Description\"]})\\n            \\n        child_collection.append(child)  \\n        \\n    skillmap[\"children\"] = child_collection\\n        \\n    #with open(\\'../static/data/network/\\'+r1[\\'Job Code\\']+\\'-2019\\'+\\'.json\\', \\'w\\') as outfile:\\n    with open(\\'../static/data/network/\\'+r1[\\'Job Code\\']+\\'.json\\', \\'w\\') as outfile:    \\n        json.dump(skillmap, outfile)\\n'"
      ]
     },
     "execution_count": 16,
     "metadata": {},
     "output_type": "execute_result"
    }
   ],
   "source": [
    "\"\"\"\n",
    "for i, r1 in zip(panel3_job_skill_2019_df.iterrows(), panel3_job_skill_2008_df.iterrows):\n",
    "    skillmap = {}\n",
    "    skillmap[\"name\"] = r1['Job Title']\n",
    "    skillmap[\"code\"] = r1['Job Code']\n",
    "    child_collection = []\n",
    "    \n",
    "    for nm, gp in panel3_task_year_df_gp:\n",
    "        child = {}\n",
    "        child[\"name\"] = nm\n",
    "        child[\"children\"] = []\n",
    "        \n",
    "        for i, r2 in gp.iterrows():\n",
    "            child[\"children\"].append({\"name\": r2[\"Skill Name\"],\n",
    "                                     \"importance\": r1[r2[\"Skill Name\"]],\n",
    "                                      \"r_2019\":220,\n",
    "                                      \"g_2019\":(20*(r2[\"2019 Automation Level\"]-panel3_task_year_df[\"2019 Automation Level\"].min())+\n",
    "                                                    220*(panel3_task_year_df[\"2019 Automation Level\"].max()-r2[\"2019 Automation Level\"]))/\n",
    "                                                (panel3_task_year_df[\"2019 Automation Level\"].max()-panel3_task_year_df[\"2019 Automation Level\"].min()),\n",
    "                                      \"b_2019\":(60*(r2[\"2019 Automation Level\"]-panel3_task_year_df[\"2019 Automation Level\"].min())+\n",
    "                                                    220*(panel3_task_year_df[\"2019 Automation Level\"].max()-r2[\"2019 Automation Level\"]))/\n",
    "                                                (panel3_task_year_df[\"2019 Automation Level\"].max()-panel3_task_year_df[\"2019 Automation Level\"].min()),                                      \n",
    "                                      \"r_2008\":220,\n",
    "                                      \"g_2008\":(20*(r2[\"2008 Automation Level\"]-panel3_task_year_df[\"2008 Automation Level\"].min())+\n",
    "                                                    220*(panel3_task_year_df[\"2008 Automation Level\"].max()-r2[\"2008 Automation Level\"]))/\n",
    "                                                (panel3_task_year_df[\"2008 Automation Level\"].max()-panel3_task_year_df[\"2008 Automation Level\"].min()),\n",
    "                                      \"b_2008\":(60*(r2[\"2008 Automation Level\"]-panel3_task_year_df[\"2008 Automation Level\"].min())+\n",
    "                                                    220*(panel3_task_year_df[\"2008 Automation Level\"].max()-r2[\"2008 Automation Level\"]))/\n",
    "                                                (panel3_task_year_df[\"2008 Automation Level\"].max()-panel3_task_year_df[\"2008 Automation Level\"].min()),\n",
    "                                      \"r_2008_2019\":220,\n",
    "                                      \"g_2008_2019\":(20*(r2[\"Change during 2008-2019\"]-panel3_task_year_df[\"Change during 2008-2019\"].min())+\n",
    "                                                    220*(panel3_task_year_df[\"Change during 2008-2019\"].max()-r2[\"Change during 2008-2019\"]))/\n",
    "                                                (panel3_task_year_df[\"Change during 2008-2019\"].max()-panel3_task_year_df[\"Change during 2008-2019\"].min()),\n",
    "                                      \"b_2008_2019\":(60*(r2[\"Change during 2008-2019\"]-panel3_task_year_df[\"Change during 2008-2019\"].min())+\n",
    "                                                    220*(panel3_task_year_df[\"Change during 2008-2019\"].max()-r2[\"Change during 2008-2019\"]))/\n",
    "                                                (panel3_task_year_df[\"Change during 2008-2019\"].max()-panel3_task_year_df[\"Change during 2008-2019\"].min()),\n",
    "                                     \"skill_id\": r2[\"Skill Id\"], \"task\": r2[\"Task\"], \"desc\":r2[\"Description\"]})\n",
    "            \n",
    "        child_collection.append(child)  \n",
    "        \n",
    "    skillmap[\"children\"] = child_collection\n",
    "        \n",
    "    #with open('../static/data/network/'+r1['Job Code']+'-2019'+'.json', 'w') as outfile:\n",
    "    with open('../static/data/network/'+r1['Job Code']+'.json', 'w') as outfile:    \n",
    "        json.dump(skillmap, outfile)\n",
    "\"\"\"        "
   ]
  },
  {
   "cell_type": "code",
   "execution_count": 17,
   "metadata": {},
   "outputs": [
    {
     "data": {
      "text/plain": [
       "'\\nfor i, r1 in panel3_job_skill_df.iterrows():\\n    skillmap = {}\\n    skillmap[\"name\"] = r1[\\'Job Title\\']\\n    skillmap[\"code\"] = r1[\\'Job Code\\']\\n    child_collection = []\\n    \\n    for nm, gp in panel3_task_year_df_gp:\\n        child = {}\\n        child[\"name\"] = nm\\n        child[\"children\"] = []\\n        \\n        for i, r2 in gp.iterrows():\\n            child[\"children\"].append({\"name\": r2[\"Skill Name\"], \"importance\": r1[r2[\"Skill Name\"]],\\n                                     \"automation_2019\": r2[\"2019 Automation Level\"],\\n                                      \"r_2019\":220,\\n                                      \"g_2019\":(20*(r2[\"2019 Automation Level\"]-panel3_task_year_df[\"2019 Automation Level\"].min())+\\n                                                    220*(panel3_task_year_df[\"2019 Automation Level\"].max()-r2[\"2019 Automation Level\"]))/\\n                                                (panel3_task_year_df[\"2019 Automation Level\"].max()-panel3_task_year_df[\"2019 Automation Level\"].min()),\\n                                                \\n                                      \"b_2019\":(60*(r2[\"2019 Automation Level\"]-panel3_task_year_df[\"2019 Automation Level\"].min())+\\n                                                    220*(panel3_task_year_df[\"2019 Automation Level\"].max()-r2[\"2019 Automation Level\"]))/\\n                                                (panel3_task_year_df[\"2019 Automation Level\"].max()-panel3_task_year_df[\"2019 Automation Level\"].min()),                                      \\n                                     \"automation_2008\": r2[\"Change during 2008-2019\"],   \\n                                      \"r_2008\":220,\\n                                      \"g_2008\":(20*(r2[\"2008 Automation Level\"]-panel3_task_year_df[\"2008 Automation Level\"].min())+\\n                                                    220*(panel3_task_year_df[\"2008 Automation Level\"].max()-r2[\"2008 Automation Level\"]))/\\n                                                (panel3_task_year_df[\"2008 Automation Level\"].max()-panel3_task_year_df[\"2008 Automation Level\"].min()),\\n                                      \"b_2008\":(60*(r2[\"2008 Automation Level\"]-panel3_task_year_df[\"2008 Automation Level\"].min())+\\n                                                    220*(panel3_task_year_df[\"2008 Automation Level\"].max()-r2[\"2008 Automation Level\"]))/\\n                                                (panel3_task_year_df[\"2008 Automation Level\"].max()-panel3_task_year_df[\"2008 Automation Level\"].min()),\\n                                     \"automation_2008~2019\": r2[\"Change during 2008-2019\"],   \\n                                      \"r_2008_2019\":220,\\n                                      \"g_2008_2019\":(20*(r2[\"Change during 2008-2019\"]-panel3_task_year_df[\"Change during 2008-2019\"].min())+\\n                                                    220*(panel3_task_year_df[\"Change during 2008-2019\"].max()-r2[\"Change during 2008-2019\"]))/\\n                                                (panel3_task_year_df[\"Change during 2008-2019\"].max()-panel3_task_year_df[\"Change during 2008-2019\"].min()),\\n                                      \"b_2008_2019\":(60*(r2[\"Change during 2008-2019\"]-panel3_task_year_df[\"Change during 2008-2019\"].min())+\\n                                                    220*(panel3_task_year_df[\"Change during 2008-2019\"].max()-r2[\"Change during 2008-2019\"]))/\\n                                                (panel3_task_year_df[\"Change during 2008-2019\"].max()-panel3_task_year_df[\"Change during 2008-2019\"].min()),\\n                                     \"skill_id\": r2[\"Skill Id\"], \"task\": r2[\"Task\"], \"desc\":r2[\"Description\"]})\\n            \\n        child_collection.append(child)  \\n        \\n    skillmap[\"children\"] = child_collection\\n        \\n    #with open(\\'../static/data/network/\\'+r1[\\'Job Code\\']+\\'-2019\\'+\\'.json\\', \\'w\\') as outfile:\\n    with open(\\'../static/data/network/\\'+r1[\\'Job Code\\']+\\'.json\\', \\'w\\') as outfile:    \\n        json.dump(skillmap, outfile)\\n'"
      ]
     },
     "execution_count": 17,
     "metadata": {},
     "output_type": "execute_result"
    }
   ],
   "source": [
    "\"\"\"\n",
    "for i, r1 in panel3_job_skill_df.iterrows():\n",
    "    skillmap = {}\n",
    "    skillmap[\"name\"] = r1['Job Title']\n",
    "    skillmap[\"code\"] = r1['Job Code']\n",
    "    child_collection = []\n",
    "    \n",
    "    for nm, gp in panel3_task_year_df_gp:\n",
    "        child = {}\n",
    "        child[\"name\"] = nm\n",
    "        child[\"children\"] = []\n",
    "        \n",
    "        for i, r2 in gp.iterrows():\n",
    "            child[\"children\"].append({\"name\": r2[\"Skill Name\"], \"importance\": r1[r2[\"Skill Name\"]],\n",
    "                                     \"automation_2019\": r2[\"2019 Automation Level\"],\n",
    "                                      \"r_2019\":220,\n",
    "                                      \"g_2019\":(20*(r2[\"2019 Automation Level\"]-panel3_task_year_df[\"2019 Automation Level\"].min())+\n",
    "                                                    220*(panel3_task_year_df[\"2019 Automation Level\"].max()-r2[\"2019 Automation Level\"]))/\n",
    "                                                (panel3_task_year_df[\"2019 Automation Level\"].max()-panel3_task_year_df[\"2019 Automation Level\"].min()),\n",
    "                                                \n",
    "                                      \"b_2019\":(60*(r2[\"2019 Automation Level\"]-panel3_task_year_df[\"2019 Automation Level\"].min())+\n",
    "                                                    220*(panel3_task_year_df[\"2019 Automation Level\"].max()-r2[\"2019 Automation Level\"]))/\n",
    "                                                (panel3_task_year_df[\"2019 Automation Level\"].max()-panel3_task_year_df[\"2019 Automation Level\"].min()),                                      \n",
    "                                     \"automation_2008\": r2[\"Change during 2008-2019\"],   \n",
    "                                      \"r_2008\":220,\n",
    "                                      \"g_2008\":(20*(r2[\"2008 Automation Level\"]-panel3_task_year_df[\"2008 Automation Level\"].min())+\n",
    "                                                    220*(panel3_task_year_df[\"2008 Automation Level\"].max()-r2[\"2008 Automation Level\"]))/\n",
    "                                                (panel3_task_year_df[\"2008 Automation Level\"].max()-panel3_task_year_df[\"2008 Automation Level\"].min()),\n",
    "                                      \"b_2008\":(60*(r2[\"2008 Automation Level\"]-panel3_task_year_df[\"2008 Automation Level\"].min())+\n",
    "                                                    220*(panel3_task_year_df[\"2008 Automation Level\"].max()-r2[\"2008 Automation Level\"]))/\n",
    "                                                (panel3_task_year_df[\"2008 Automation Level\"].max()-panel3_task_year_df[\"2008 Automation Level\"].min()),\n",
    "                                     \"automation_2008~2019\": r2[\"Change during 2008-2019\"],   \n",
    "                                      \"r_2008_2019\":220,\n",
    "                                      \"g_2008_2019\":(20*(r2[\"Change during 2008-2019\"]-panel3_task_year_df[\"Change during 2008-2019\"].min())+\n",
    "                                                    220*(panel3_task_year_df[\"Change during 2008-2019\"].max()-r2[\"Change during 2008-2019\"]))/\n",
    "                                                (panel3_task_year_df[\"Change during 2008-2019\"].max()-panel3_task_year_df[\"Change during 2008-2019\"].min()),\n",
    "                                      \"b_2008_2019\":(60*(r2[\"Change during 2008-2019\"]-panel3_task_year_df[\"Change during 2008-2019\"].min())+\n",
    "                                                    220*(panel3_task_year_df[\"Change during 2008-2019\"].max()-r2[\"Change during 2008-2019\"]))/\n",
    "                                                (panel3_task_year_df[\"Change during 2008-2019\"].max()-panel3_task_year_df[\"Change during 2008-2019\"].min()),\n",
    "                                     \"skill_id\": r2[\"Skill Id\"], \"task\": r2[\"Task\"], \"desc\":r2[\"Description\"]})\n",
    "            \n",
    "        child_collection.append(child)  \n",
    "        \n",
    "    skillmap[\"children\"] = child_collection\n",
    "        \n",
    "    #with open('../static/data/network/'+r1['Job Code']+'-2019'+'.json', 'w') as outfile:\n",
    "    with open('../static/data/network/'+r1['Job Code']+'.json', 'w') as outfile:    \n",
    "        json.dump(skillmap, outfile)\n",
    "\"\"\""
   ]
  },
  {
   "cell_type": "code",
   "execution_count": null,
   "metadata": {},
   "outputs": [],
   "source": []
  }
 ],
 "metadata": {
  "anaconda-cloud": {},
  "kernelspec": {
   "display_name": "racial35",
   "language": "python",
   "name": "racial35"
  },
  "language_info": {
   "codemirror_mode": {
    "name": "ipython",
    "version": 3
   },
   "file_extension": ".py",
   "mimetype": "text/x-python",
   "name": "python",
   "nbconvert_exporter": "python",
   "pygments_lexer": "ipython3",
   "version": "3.5.4"
  }
 },
 "nbformat": 4,
 "nbformat_minor": 2
}
