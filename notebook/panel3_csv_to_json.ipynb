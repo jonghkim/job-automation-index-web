{
 "cells": [
  {
   "cell_type": "code",
   "execution_count": 1,
   "metadata": {
    "collapsed": true
   },
   "outputs": [],
   "source": [
    "# -*- coding: utf-8 -*-\n",
    "import pandas as pd\n",
    "import json\n",
    "\n",
    "# static/zoomable/flare.json"
   ]
  },
  {
   "cell_type": "code",
   "execution_count": 2,
   "metadata": {
    "collapsed": true
   },
   "outputs": [],
   "source": [
    "panel3_task_year_df = pd.read_csv(\"../static/data/csv/Panel 3.csv\")\n",
    "panel3_job_skill_2008_df = pd.read_csv(\"../static/data/csv/Panel 3 Skill Importance 2008.csv\")\n",
    "panel3_job_skill_2020_df = pd.read_csv(\"../static/data/csv/Panel 3 Skill Importance 2020.csv\")"
   ]
  },
  {
   "cell_type": "code",
   "execution_count": 3,
   "metadata": {
    "collapsed": false
   },
   "outputs": [
    {
     "data": {
      "text/html": [
       "<div>\n",
       "<style>\n",
       "    .dataframe thead tr:only-child th {\n",
       "        text-align: right;\n",
       "    }\n",
       "\n",
       "    .dataframe thead th {\n",
       "        text-align: left;\n",
       "    }\n",
       "\n",
       "    .dataframe tbody tr th {\n",
       "        vertical-align: top;\n",
       "    }\n",
       "</style>\n",
       "<table border=\"1\" class=\"dataframe\">\n",
       "  <thead>\n",
       "    <tr style=\"text-align: right;\">\n",
       "      <th></th>\n",
       "      <th>Skill Id</th>\n",
       "      <th>Skill Name</th>\n",
       "      <th>Task</th>\n",
       "      <th>2020 Automation Level</th>\n",
       "      <th>2008 Automation Level</th>\n",
       "      <th>Change from 2008 to 2020</th>\n",
       "    </tr>\n",
       "  </thead>\n",
       "  <tbody>\n",
       "    <tr>\n",
       "      <th>0</th>\n",
       "      <td>2.A.2.b</td>\n",
       "      <td>Active Learning</td>\n",
       "      <td>Creative and Critical Thinking</td>\n",
       "      <td>0.410292</td>\n",
       "      <td>0.426175</td>\n",
       "      <td>-0.015883</td>\n",
       "    </tr>\n",
       "    <tr>\n",
       "      <th>1</th>\n",
       "      <td>1.A.2.c.2</td>\n",
       "      <td>Wrist-Finger Speed</td>\n",
       "      <td>Machine Control</td>\n",
       "      <td>0.546390</td>\n",
       "      <td>0.548566</td>\n",
       "      <td>-0.002176</td>\n",
       "    </tr>\n",
       "    <tr>\n",
       "      <th>2</th>\n",
       "      <td>1.A.1.c.2</td>\n",
       "      <td>Number Facility</td>\n",
       "      <td>Information Processing</td>\n",
       "      <td>0.586415</td>\n",
       "      <td>0.576460</td>\n",
       "      <td>0.009955</td>\n",
       "    </tr>\n",
       "    <tr>\n",
       "      <th>3</th>\n",
       "      <td>4.C.1.a.2.h</td>\n",
       "      <td>Electronic Mail</td>\n",
       "      <td>Communication</td>\n",
       "      <td>0.487914</td>\n",
       "      <td>0.521616</td>\n",
       "      <td>-0.033703</td>\n",
       "    </tr>\n",
       "    <tr>\n",
       "      <th>4</th>\n",
       "      <td>4.C.2.a.1.e</td>\n",
       "      <td>In an Open Vehicle or Equipment</td>\n",
       "      <td>Vehicle and Equipment Operation</td>\n",
       "      <td>0.490551</td>\n",
       "      <td>0.483999</td>\n",
       "      <td>0.006552</td>\n",
       "    </tr>\n",
       "  </tbody>\n",
       "</table>\n",
       "</div>"
      ],
      "text/plain": [
       "      Skill Id                       Skill Name  \\\n",
       "0      2.A.2.b                  Active Learning   \n",
       "1    1.A.2.c.2               Wrist-Finger Speed   \n",
       "2    1.A.1.c.2                  Number Facility   \n",
       "3  4.C.1.a.2.h                  Electronic Mail   \n",
       "4  4.C.2.a.1.e  In an Open Vehicle or Equipment   \n",
       "\n",
       "                              Task  2020 Automation Level  \\\n",
       "0   Creative and Critical Thinking               0.410292   \n",
       "1                  Machine Control               0.546390   \n",
       "2           Information Processing               0.586415   \n",
       "3                    Communication               0.487914   \n",
       "4  Vehicle and Equipment Operation               0.490551   \n",
       "\n",
       "   2008 Automation Level  Change from 2008 to 2020  \n",
       "0               0.426175                 -0.015883  \n",
       "1               0.548566                 -0.002176  \n",
       "2               0.576460                  0.009955  \n",
       "3               0.521616                 -0.033703  \n",
       "4               0.483999                  0.006552  "
      ]
     },
     "execution_count": 3,
     "metadata": {},
     "output_type": "execute_result"
    }
   ],
   "source": [
    "panel3_task_year_df.head()"
   ]
  },
  {
   "cell_type": "code",
   "execution_count": 4,
   "metadata": {
    "collapsed": false
   },
   "outputs": [
    {
     "data": {
      "text/html": [
       "<div>\n",
       "<style>\n",
       "    .dataframe thead tr:only-child th {\n",
       "        text-align: right;\n",
       "    }\n",
       "\n",
       "    .dataframe thead th {\n",
       "        text-align: left;\n",
       "    }\n",
       "\n",
       "    .dataframe tbody tr th {\n",
       "        vertical-align: top;\n",
       "    }\n",
       "</style>\n",
       "<table border=\"1\" class=\"dataframe\">\n",
       "  <thead>\n",
       "    <tr style=\"text-align: right;\">\n",
       "      <th></th>\n",
       "      <th>Job Code</th>\n",
       "      <th>Job Title</th>\n",
       "      <th>Active Learning</th>\n",
       "      <th>Wrist-Finger Speed</th>\n",
       "      <th>Number Facility</th>\n",
       "      <th>Electronic Mail</th>\n",
       "      <th>In an Open Vehicle or Equipment</th>\n",
       "      <th>Guiding, Directing, and Motivating Subordinates</th>\n",
       "      <th>Exposed to High Places</th>\n",
       "      <th>Inspecting Equipment, Structures, or Material</th>\n",
       "      <th>...</th>\n",
       "      <th>Negotiation</th>\n",
       "      <th>Exposed to Whole Body Vibration</th>\n",
       "      <th>Responsibility for Outcomes and Results</th>\n",
       "      <th>Critical Thinking</th>\n",
       "      <th>Documenting/Recording Information</th>\n",
       "      <th>Pace Determined by Speed of Equipment</th>\n",
       "      <th>Impact of Decisions on Co-workers or Company Results</th>\n",
       "      <th>Sound Localization</th>\n",
       "      <th>Selling or Influencing Others</th>\n",
       "      <th>Finger Dexterity</th>\n",
       "    </tr>\n",
       "  </thead>\n",
       "  <tbody>\n",
       "    <tr>\n",
       "      <th>0</th>\n",
       "      <td>00-0000</td>\n",
       "      <td>Total Average</td>\n",
       "      <td>0.005112</td>\n",
       "      <td>0.006074</td>\n",
       "      <td>0.006224</td>\n",
       "      <td>0.007082</td>\n",
       "      <td>0.004277</td>\n",
       "      <td>0.004526</td>\n",
       "      <td>0.004132</td>\n",
       "      <td>0.005236</td>\n",
       "      <td>...</td>\n",
       "      <td>0.005547</td>\n",
       "      <td>0.003351</td>\n",
       "      <td>0.004557</td>\n",
       "      <td>0.005545</td>\n",
       "      <td>0.005684</td>\n",
       "      <td>0.006107</td>\n",
       "      <td>0.004776</td>\n",
       "      <td>0.005265</td>\n",
       "      <td>0.006075</td>\n",
       "      <td>0.006131</td>\n",
       "    </tr>\n",
       "    <tr>\n",
       "      <th>1</th>\n",
       "      <td>11-1011</td>\n",
       "      <td>Chief Executives</td>\n",
       "      <td>0.011143</td>\n",
       "      <td>0.000000</td>\n",
       "      <td>0.008541</td>\n",
       "      <td>0.005866</td>\n",
       "      <td>0.000193</td>\n",
       "      <td>0.017029</td>\n",
       "      <td>0.000000</td>\n",
       "      <td>0.000000</td>\n",
       "      <td>...</td>\n",
       "      <td>0.018686</td>\n",
       "      <td>0.002548</td>\n",
       "      <td>0.011634</td>\n",
       "      <td>0.012309</td>\n",
       "      <td>0.000000</td>\n",
       "      <td>0.000000</td>\n",
       "      <td>0.013549</td>\n",
       "      <td>0.000000</td>\n",
       "      <td>0.011251</td>\n",
       "      <td>0.000000</td>\n",
       "    </tr>\n",
       "    <tr>\n",
       "      <th>2</th>\n",
       "      <td>11-1021</td>\n",
       "      <td>General and Operations Managers</td>\n",
       "      <td>0.008178</td>\n",
       "      <td>0.000000</td>\n",
       "      <td>0.004377</td>\n",
       "      <td>0.008209</td>\n",
       "      <td>0.000000</td>\n",
       "      <td>0.020564</td>\n",
       "      <td>0.002806</td>\n",
       "      <td>0.002850</td>\n",
       "      <td>...</td>\n",
       "      <td>0.020039</td>\n",
       "      <td>0.000000</td>\n",
       "      <td>0.020103</td>\n",
       "      <td>0.008804</td>\n",
       "      <td>0.001413</td>\n",
       "      <td>0.000000</td>\n",
       "      <td>0.014679</td>\n",
       "      <td>0.001602</td>\n",
       "      <td>0.016750</td>\n",
       "      <td>0.000000</td>\n",
       "    </tr>\n",
       "    <tr>\n",
       "      <th>3</th>\n",
       "      <td>11-2011</td>\n",
       "      <td>Advertising and Promotions Managers</td>\n",
       "      <td>0.005113</td>\n",
       "      <td>0.000000</td>\n",
       "      <td>0.010214</td>\n",
       "      <td>0.014087</td>\n",
       "      <td>0.000000</td>\n",
       "      <td>0.003433</td>\n",
       "      <td>0.000000</td>\n",
       "      <td>0.000000</td>\n",
       "      <td>...</td>\n",
       "      <td>0.015540</td>\n",
       "      <td>0.000000</td>\n",
       "      <td>0.012568</td>\n",
       "      <td>0.017180</td>\n",
       "      <td>0.000000</td>\n",
       "      <td>0.000000</td>\n",
       "      <td>0.006821</td>\n",
       "      <td>0.000000</td>\n",
       "      <td>0.026132</td>\n",
       "      <td>0.000000</td>\n",
       "    </tr>\n",
       "    <tr>\n",
       "      <th>4</th>\n",
       "      <td>11-2021</td>\n",
       "      <td>Marketing Managers</td>\n",
       "      <td>0.017440</td>\n",
       "      <td>0.000000</td>\n",
       "      <td>0.012647</td>\n",
       "      <td>0.010547</td>\n",
       "      <td>0.000000</td>\n",
       "      <td>0.017740</td>\n",
       "      <td>0.000000</td>\n",
       "      <td>0.000000</td>\n",
       "      <td>...</td>\n",
       "      <td>0.022615</td>\n",
       "      <td>0.000000</td>\n",
       "      <td>0.013659</td>\n",
       "      <td>0.009936</td>\n",
       "      <td>0.000000</td>\n",
       "      <td>0.000000</td>\n",
       "      <td>0.007857</td>\n",
       "      <td>0.000000</td>\n",
       "      <td>0.029988</td>\n",
       "      <td>0.000000</td>\n",
       "    </tr>\n",
       "  </tbody>\n",
       "</table>\n",
       "<p>5 rows × 184 columns</p>\n",
       "</div>"
      ],
      "text/plain": [
       "  Job Code                            Job Title  Active Learning  \\\n",
       "0  00-0000                        Total Average         0.005112   \n",
       "1  11-1011                     Chief Executives         0.011143   \n",
       "2  11-1021      General and Operations Managers         0.008178   \n",
       "3  11-2011  Advertising and Promotions Managers         0.005113   \n",
       "4  11-2021                   Marketing Managers         0.017440   \n",
       "\n",
       "   Wrist-Finger Speed  Number Facility  Electronic Mail  \\\n",
       "0            0.006074         0.006224         0.007082   \n",
       "1            0.000000         0.008541         0.005866   \n",
       "2            0.000000         0.004377         0.008209   \n",
       "3            0.000000         0.010214         0.014087   \n",
       "4            0.000000         0.012647         0.010547   \n",
       "\n",
       "   In an Open Vehicle or Equipment  \\\n",
       "0                         0.004277   \n",
       "1                         0.000193   \n",
       "2                         0.000000   \n",
       "3                         0.000000   \n",
       "4                         0.000000   \n",
       "\n",
       "   Guiding, Directing, and Motivating Subordinates  Exposed to High Places  \\\n",
       "0                                         0.004526                0.004132   \n",
       "1                                         0.017029                0.000000   \n",
       "2                                         0.020564                0.002806   \n",
       "3                                         0.003433                0.000000   \n",
       "4                                         0.017740                0.000000   \n",
       "\n",
       "   Inspecting Equipment, Structures, or Material        ...         \\\n",
       "0                                       0.005236        ...          \n",
       "1                                       0.000000        ...          \n",
       "2                                       0.002850        ...          \n",
       "3                                       0.000000        ...          \n",
       "4                                       0.000000        ...          \n",
       "\n",
       "   Negotiation  Exposed to Whole Body Vibration  \\\n",
       "0     0.005547                         0.003351   \n",
       "1     0.018686                         0.002548   \n",
       "2     0.020039                         0.000000   \n",
       "3     0.015540                         0.000000   \n",
       "4     0.022615                         0.000000   \n",
       "\n",
       "   Responsibility for Outcomes and Results  Critical Thinking  \\\n",
       "0                                 0.004557           0.005545   \n",
       "1                                 0.011634           0.012309   \n",
       "2                                 0.020103           0.008804   \n",
       "3                                 0.012568           0.017180   \n",
       "4                                 0.013659           0.009936   \n",
       "\n",
       "   Documenting/Recording Information  Pace Determined by Speed of Equipment  \\\n",
       "0                           0.005684                               0.006107   \n",
       "1                           0.000000                               0.000000   \n",
       "2                           0.001413                               0.000000   \n",
       "3                           0.000000                               0.000000   \n",
       "4                           0.000000                               0.000000   \n",
       "\n",
       "   Impact of Decisions on Co-workers or Company Results  Sound Localization  \\\n",
       "0                                           0.004776               0.005265   \n",
       "1                                           0.013549               0.000000   \n",
       "2                                           0.014679               0.001602   \n",
       "3                                           0.006821               0.000000   \n",
       "4                                           0.007857               0.000000   \n",
       "\n",
       "   Selling or Influencing Others  Finger Dexterity  \n",
       "0                       0.006075          0.006131  \n",
       "1                       0.011251          0.000000  \n",
       "2                       0.016750          0.000000  \n",
       "3                       0.026132          0.000000  \n",
       "4                       0.029988          0.000000  \n",
       "\n",
       "[5 rows x 184 columns]"
      ]
     },
     "execution_count": 4,
     "metadata": {},
     "output_type": "execute_result"
    }
   ],
   "source": [
    "panel3_job_skill_2020_df.head()"
   ]
  },
  {
   "cell_type": "code",
   "execution_count": 5,
   "metadata": {
    "collapsed": true
   },
   "outputs": [],
   "source": [
    "def standardizer(df, col):\n",
    "    df[col] -= df[col].min()\n",
    "    df[col] /= df[col].max()\n",
    "    \n",
    "    df[col] = (30**df[col]-1)/30\n",
    "    \n",
    "    df[col] = [0.5 if value > 0.5 else value for value in df[col]]\n",
    "    \n",
    "    #df[col] = df[col]*200\n",
    "    #df[col] = df[col]+10\n",
    "    return df"
   ]
  },
  {
   "cell_type": "code",
   "execution_count": 6,
   "metadata": {
    "collapsed": true
   },
   "outputs": [],
   "source": [
    "def standardizer_diff(df, col):\n",
    "    df[col] -= df[col].min()\n",
    "    df[col] /= df[col].max()\n",
    "    \n",
    "    df[col] = (30**df[col]-1)/30\n",
    "    \n",
    "    df[col] = [0.6 if value > 0.6 else value for value in df[col]]\n",
    "    \n",
    "    #df[col] = df[col]*200\n",
    "    #df[col] = df[col]+10\n",
    "    return df"
   ]
  },
  {
   "cell_type": "code",
   "execution_count": 7,
   "metadata": {
    "collapsed": true
   },
   "outputs": [],
   "source": [
    "panel3_task_year_df = standardizer(panel3_task_year_df, \"2008 Automation Level\")\n",
    "panel3_task_year_df = standardizer(panel3_task_year_df, \"2020 Automation Level\")\n",
    "panel3_task_year_df = standardizer_diff(panel3_task_year_df, \"Change from 2008 to 2020\")"
   ]
  },
  {
   "cell_type": "code",
   "execution_count": 8,
   "metadata": {
    "collapsed": false
   },
   "outputs": [
    {
     "data": {
      "text/plain": [
       "<matplotlib.axes._subplots.AxesSubplot at 0x10aed7390>"
      ]
     },
     "execution_count": 8,
     "metadata": {},
     "output_type": "execute_result"
    },
    {
     "data": {
      "image/png": "[encoded data removed]",
      "text/plain": [
       "<matplotlib.figure.Figure at 0x109dfddd0>"
      ]
     },
     "metadata": {},
     "output_type": "display_data"
    }
   ],
   "source": [
    "%matplotlib inline\n",
    "panel3_task_year_df[\"2008 Automation Level\"].hist()"
   ]
  },
  {
   "cell_type": "code",
   "execution_count": 9,
   "metadata": {
    "collapsed": false
   },
   "outputs": [
    {
     "data": {
      "text/plain": [
       "<matplotlib.axes._subplots.AxesSubplot at 0x10aefca50>"
      ]
     },
     "execution_count": 9,
     "metadata": {},
     "output_type": "execute_result"
    },
    {
     "data": {
      "image/png": "[encoded data removed]",
      "text/plain": [
       "<matplotlib.figure.Figure at 0x109dfde10>"
      ]
     },
     "metadata": {},
     "output_type": "display_data"
    }
   ],
   "source": [
    "panel3_task_year_df[\"2020 Automation Level\"].hist()"
   ]
  },
  {
   "cell_type": "code",
   "execution_count": 10,
   "metadata": {
    "collapsed": false
   },
   "outputs": [
    {
     "data": {
      "text/plain": [
       "<matplotlib.axes._subplots.AxesSubplot at 0x109ddc610>"
      ]
     },
     "execution_count": 10,
     "metadata": {},
     "output_type": "execute_result"
    },
    {
     "data": {
      "image/png": "[encoded data removed]",
      "text/plain": [
       "<matplotlib.figure.Figure at 0x10af29390>"
      ]
     },
     "metadata": {},
     "output_type": "display_data"
    }
   ],
   "source": [
    "panel3_task_year_df[\"Change from 2008 to 2020\"].hist()"
   ]
  },
  {
   "cell_type": "code",
   "execution_count": 11,
   "metadata": {
    "collapsed": true
   },
   "outputs": [],
   "source": [
    "cols = panel3_job_skill_2020_df.columns[3:]\n",
    "\n",
    "for col in cols:\n",
    "    panel3_job_skill_2020_df = standardizer(panel3_job_skill_2020_df, col)"
   ]
  },
  {
   "cell_type": "code",
   "execution_count": 12,
   "metadata": {
    "collapsed": true
   },
   "outputs": [],
   "source": [
    "cols = panel3_job_skill_2008_df.columns[3:]\n",
    "\n",
    "for col in cols:\n",
    "    panel3_job_skill_2008_df = standardizer(panel3_job_skill_2008_df, col)"
   ]
  },
  {
   "cell_type": "code",
   "execution_count": 13,
   "metadata": {
    "collapsed": true
   },
   "outputs": [],
   "source": [
    "panel3_task_year_df_gp = panel3_task_year_df.groupby('Task')"
   ]
  },
  {
   "cell_type": "markdown",
   "metadata": {},
   "source": [
    "#grey 220,220,220\n",
    "#crimson 220,20,60"
   ]
  },
  {
   "cell_type": "code",
   "execution_count": 14,
   "metadata": {
    "collapsed": true
   },
   "outputs": [],
   "source": [
    "color1 = [255,255,255]\n",
    "color2 = [220,20,60]"
   ]
  },
  {
   "cell_type": "code",
   "execution_count": 15,
   "metadata": {
    "collapsed": false
   },
   "outputs": [],
   "source": [
    "for i in range(panel3_job_skill_2020_df.shape[0]):\n",
    "    #print(panel3_job_skill_2020_df.iloc[i]['Job Code'], panel3_job_skill_2008_df.iloc[i]['Job Code'])\n",
    "    \n",
    "    skillmap = {}\n",
    "    skillmap[\"name\"] = panel3_job_skill_2020_df.iloc[i]['Job Title']\n",
    "    skillmap[\"code\"] = panel3_job_skill_2020_df.iloc[i]['Job Code']  \n",
    "    child_collection = []\n",
    "    \n",
    "    for nm, gp in panel3_task_year_df_gp:\n",
    "        child = {}\n",
    "        child[\"name\"] = nm\n",
    "        child[\"children\"] = []\n",
    "        \n",
    "        for j, r2 in gp.iterrows():\n",
    "            child[\"children\"].append({\"name\": r2[\"Skill Name\"],\n",
    "                                     \"importance_2020\": panel3_job_skill_2020_df.iloc[i][r2[\"Skill Name\"]],\n",
    "                                      \"importance_2008\":panel3_job_skill_2008_df.iloc[i][r2[\"Skill Name\"]], \n",
    "                                      \"importance_2008_2020\": panel3_job_skill_2020_df.iloc[i][r2[\"Skill Name\"]],\n",
    "                                      \n",
    "                                      \"r_2020\":(color2[0]*(r2[\"2020 Automation Level\"]-panel3_task_year_df[\"2020 Automation Level\"].min())+\n",
    "                                                    color1[0]*(panel3_task_year_df[\"2020 Automation Level\"].max()-r2[\"2020 Automation Level\"]))/\n",
    "                                                (panel3_task_year_df[\"2020 Automation Level\"].max()-panel3_task_year_df[\"2020 Automation Level\"].min()),\n",
    "                                      \"g_2020\":(color2[1]*(r2[\"2020 Automation Level\"]-panel3_task_year_df[\"2020 Automation Level\"].min())+\n",
    "                                                    color1[1]*(panel3_task_year_df[\"2020 Automation Level\"].max()-r2[\"2020 Automation Level\"]))/\n",
    "                                                (panel3_task_year_df[\"2020 Automation Level\"].max()-panel3_task_year_df[\"2020 Automation Level\"].min()),\n",
    "                                      \"b_2020\":(color2[2]*(r2[\"2020 Automation Level\"]-panel3_task_year_df[\"2020 Automation Level\"].min())+\n",
    "                                                    color1[2]*(panel3_task_year_df[\"2020 Automation Level\"].max()-r2[\"2020 Automation Level\"]))/\n",
    "                                                (panel3_task_year_df[\"2020 Automation Level\"].max()-panel3_task_year_df[\"2020 Automation Level\"].min()),                                      \n",
    "                                      \"r_2008\":(color2[0]*(r2[\"2008 Automation Level\"]-panel3_task_year_df[\"2008 Automation Level\"].min())+\n",
    "                                                    color1[0]*(panel3_task_year_df[\"2008 Automation Level\"].max()-r2[\"2008 Automation Level\"]))/\n",
    "                                                (panel3_task_year_df[\"2008 Automation Level\"].max()-panel3_task_year_df[\"2008 Automation Level\"].min()),\n",
    "                                      \"g_2008\":(color2[1]*(r2[\"2008 Automation Level\"]-panel3_task_year_df[\"2008 Automation Level\"].min())+\n",
    "                                                    color1[1]*(panel3_task_year_df[\"2008 Automation Level\"].max()-r2[\"2008 Automation Level\"]))/\n",
    "                                                (panel3_task_year_df[\"2008 Automation Level\"].max()-panel3_task_year_df[\"2008 Automation Level\"].min()),\n",
    "                                      \"b_2008\":(color2[2]*(r2[\"2008 Automation Level\"]-panel3_task_year_df[\"2008 Automation Level\"].min())+\n",
    "                                                    color1[2]*(panel3_task_year_df[\"2008 Automation Level\"].max()-r2[\"2008 Automation Level\"]))/\n",
    "                                                (panel3_task_year_df[\"2008 Automation Level\"].max()-panel3_task_year_df[\"2008 Automation Level\"].min()),\n",
    "                                      \"r_2008_2020\":(color2[0]*(r2[\"Change from 2008 to 2020\"]-panel3_task_year_df[\"Change from 2008 to 2020\"].min())+\n",
    "                                                    color1[0]*(panel3_task_year_df[\"Change from 2008 to 2020\"].max()-r2[\"Change from 2008 to 2020\"]))/\n",
    "                                                (panel3_task_year_df[\"Change from 2008 to 2020\"].max()-panel3_task_year_df[\"Change from 2008 to 2020\"].min()),\n",
    "                                      \"g_2008_2020\":(color2[1]*(r2[\"Change from 2008 to 2020\"]-panel3_task_year_df[\"Change from 2008 to 2020\"].min())+\n",
    "                                                    color1[1]*(panel3_task_year_df[\"Change from 2008 to 2020\"].max()-r2[\"Change from 2008 to 2020\"]))/\n",
    "                                                (panel3_task_year_df[\"Change from 2008 to 2020\"].max()-panel3_task_year_df[\"Change from 2008 to 2020\"].min()),\n",
    "                                      \"b_2008_2020\":(color2[2]*(r2[\"Change from 2008 to 2020\"]-panel3_task_year_df[\"Change from 2008 to 2020\"].min())+\n",
    "                                                    color1[2]*(panel3_task_year_df[\"Change from 2008 to 2020\"].max()-r2[\"Change from 2008 to 2020\"]))/\n",
    "                                                (panel3_task_year_df[\"Change from 2008 to 2020\"].max()-panel3_task_year_df[\"Change from 2008 to 2020\"].min()),\n",
    "                                     })\n",
    "            \n",
    "        child_collection.append(child)  \n",
    "        \n",
    "    skillmap[\"children\"] = child_collection\n",
    "        \n",
    "    #with open('../static/data/network/'+r1['Job Code']+'-2020'+'.json', 'w') as outfile:\n",
    "    with open('../static/data/network/'+panel3_job_skill_2020_df.iloc[i]['Job Code']+'.json', 'w') as outfile:    \n",
    "        json.dump(skillmap, outfile)"
   ]
  },
  {
   "cell_type": "code",
   "execution_count": null,
   "metadata": {
    "collapsed": true
   },
   "outputs": [],
   "source": []
  },
  {
   "cell_type": "code",
   "execution_count": null,
   "metadata": {
    "collapsed": false
   },
   "outputs": [],
   "source": [
    "\"\"\"\n",
    "for i, r1 in zip(panel3_job_skill_2020_df.iterrows(), panel3_job_skill_2008_df.iterrows):\n",
    "    skillmap = {}\n",
    "    skillmap[\"name\"] = r1['Job Title']\n",
    "    skillmap[\"code\"] = r1['Job Code']\n",
    "    child_collection = []\n",
    "    \n",
    "    for nm, gp in panel3_task_year_df_gp:\n",
    "        child = {}\n",
    "        child[\"name\"] = nm\n",
    "        child[\"children\"] = []\n",
    "        \n",
    "        for i, r2 in gp.iterrows():\n",
    "            child[\"children\"].append({\"name\": r2[\"Skill Name\"],\n",
    "                                     \"importance\": r1[r2[\"Skill Name\"]],\n",
    "                                      \"r_2020\":220,\n",
    "                                      \"g_2020\":(20*(r2[\"2020 Automation Level\"]-panel3_task_year_df[\"2020 Automation Level\"].min())+\n",
    "                                                    220*(panel3_task_year_df[\"2020 Automation Level\"].max()-r2[\"2020 Automation Level\"]))/\n",
    "                                                (panel3_task_year_df[\"2020 Automation Level\"].max()-panel3_task_year_df[\"2020 Automation Level\"].min()),\n",
    "                                      \"b_2020\":(60*(r2[\"2020 Automation Level\"]-panel3_task_year_df[\"2020 Automation Level\"].min())+\n",
    "                                                    220*(panel3_task_year_df[\"2020 Automation Level\"].max()-r2[\"2020 Automation Level\"]))/\n",
    "                                                (panel3_task_year_df[\"2020 Automation Level\"].max()-panel3_task_year_df[\"2020 Automation Level\"].min()),                                      \n",
    "                                      \"r_2008\":220,\n",
    "                                      \"g_2008\":(20*(r2[\"2008 Automation Level\"]-panel3_task_year_df[\"2008 Automation Level\"].min())+\n",
    "                                                    220*(panel3_task_year_df[\"2008 Automation Level\"].max()-r2[\"2008 Automation Level\"]))/\n",
    "                                                (panel3_task_year_df[\"2008 Automation Level\"].max()-panel3_task_year_df[\"2008 Automation Level\"].min()),\n",
    "                                      \"b_2008\":(60*(r2[\"2008 Automation Level\"]-panel3_task_year_df[\"2008 Automation Level\"].min())+\n",
    "                                                    220*(panel3_task_year_df[\"2008 Automation Level\"].max()-r2[\"2008 Automation Level\"]))/\n",
    "                                                (panel3_task_year_df[\"2008 Automation Level\"].max()-panel3_task_year_df[\"2008 Automation Level\"].min()),\n",
    "                                      \"r_2008_2020\":220,\n",
    "                                      \"g_2008_2020\":(20*(r2[\"Change from 2008 to 2020\"]-panel3_task_year_df[\"Change from 2008 to 2020\"].min())+\n",
    "                                                    220*(panel3_task_year_df[\"Change from 2008 to 2020\"].max()-r2[\"Change from 2008 to 2020\"]))/\n",
    "                                                (panel3_task_year_df[\"Change from 2008 to 2020\"].max()-panel3_task_year_df[\"Change from 2008 to 2020\"].min()),\n",
    "                                      \"b_2008_2020\":(60*(r2[\"Change from 2008 to 2020\"]-panel3_task_year_df[\"Change from 2008 to 2020\"].min())+\n",
    "                                                    220*(panel3_task_year_df[\"Change from 2008 to 2020\"].max()-r2[\"Change from 2008 to 2020\"]))/\n",
    "                                                (panel3_task_year_df[\"Change from 2008 to 2020\"].max()-panel3_task_year_df[\"Change from 2008 to 2020\"].min()),\n",
    "                                     \"skill_id\": r2[\"Skill Id\"], \"task\": r2[\"Task\"], \"desc\":r2[\"Description\"]})\n",
    "            \n",
    "        child_collection.append(child)  \n",
    "        \n",
    "    skillmap[\"children\"] = child_collection\n",
    "        \n",
    "    #with open('../static/data/network/'+r1['Job Code']+'-2020'+'.json', 'w') as outfile:\n",
    "    with open('../static/data/network/'+r1['Job Code']+'.json', 'w') as outfile:    \n",
    "        json.dump(skillmap, outfile)\n",
    "\"\"\"        "
   ]
  },
  {
   "cell_type": "code",
   "execution_count": null,
   "metadata": {
    "collapsed": false
   },
   "outputs": [],
   "source": [
    "\"\"\"\n",
    "for i, r1 in panel3_job_skill_df.iterrows():\n",
    "    skillmap = {}\n",
    "    skillmap[\"name\"] = r1['Job Title']\n",
    "    skillmap[\"code\"] = r1['Job Code']\n",
    "    child_collection = []\n",
    "    \n",
    "    for nm, gp in panel3_task_year_df_gp:\n",
    "        child = {}\n",
    "        child[\"name\"] = nm\n",
    "        child[\"children\"] = []\n",
    "        \n",
    "        for i, r2 in gp.iterrows():\n",
    "            child[\"children\"].append({\"name\": r2[\"Skill Name\"], \"importance\": r1[r2[\"Skill Name\"]],\n",
    "                                     \"automation_2020\": r2[\"2020 Automation Level\"],\n",
    "                                      \"r_2020\":220,\n",
    "                                      \"g_2020\":(20*(r2[\"2020 Automation Level\"]-panel3_task_year_df[\"2020 Automation Level\"].min())+\n",
    "                                                    220*(panel3_task_year_df[\"2020 Automation Level\"].max()-r2[\"2020 Automation Level\"]))/\n",
    "                                                (panel3_task_year_df[\"2020 Automation Level\"].max()-panel3_task_year_df[\"2020 Automation Level\"].min()),\n",
    "                                                \n",
    "                                      \"b_2020\":(60*(r2[\"2020 Automation Level\"]-panel3_task_year_df[\"2020 Automation Level\"].min())+\n",
    "                                                    220*(panel3_task_year_df[\"2020 Automation Level\"].max()-r2[\"2020 Automation Level\"]))/\n",
    "                                                (panel3_task_year_df[\"2020 Automation Level\"].max()-panel3_task_year_df[\"2020 Automation Level\"].min()),                                      \n",
    "                                     \"automation_2008\": r2[\"Change from 2008 to 2020\"],   \n",
    "                                      \"r_2008\":220,\n",
    "                                      \"g_2008\":(20*(r2[\"2008 Automation Level\"]-panel3_task_year_df[\"2008 Automation Level\"].min())+\n",
    "                                                    220*(panel3_task_year_df[\"2008 Automation Level\"].max()-r2[\"2008 Automation Level\"]))/\n",
    "                                                (panel3_task_year_df[\"2008 Automation Level\"].max()-panel3_task_year_df[\"2008 Automation Level\"].min()),\n",
    "                                      \"b_2008\":(60*(r2[\"2008 Automation Level\"]-panel3_task_year_df[\"2008 Automation Level\"].min())+\n",
    "                                                    220*(panel3_task_year_df[\"2008 Automation Level\"].max()-r2[\"2008 Automation Level\"]))/\n",
    "                                                (panel3_task_year_df[\"2008 Automation Level\"].max()-panel3_task_year_df[\"2008 Automation Level\"].min()),\n",
    "                                     \"automation_2008~2020\": r2[\"Change from 2008 to 2020\"],   \n",
    "                                      \"r_2008_2020\":220,\n",
    "                                      \"g_2008_2020\":(20*(r2[\"Change from 2008 to 2020\"]-panel3_task_year_df[\"Change from 2008 to 2020\"].min())+\n",
    "                                                    220*(panel3_task_year_df[\"Change from 2008 to 2020\"].max()-r2[\"Change from 2008 to 2020\"]))/\n",
    "                                                (panel3_task_year_df[\"Change from 2008 to 2020\"].max()-panel3_task_year_df[\"Change from 2008 to 2020\"].min()),\n",
    "                                      \"b_2008_2020\":(60*(r2[\"Change from 2008 to 2020\"]-panel3_task_year_df[\"Change from 2008 to 2020\"].min())+\n",
    "                                                    220*(panel3_task_year_df[\"Change from 2008 to 2020\"].max()-r2[\"Change from 2008 to 2020\"]))/\n",
    "                                                (panel3_task_year_df[\"Change from 2008 to 2020\"].max()-panel3_task_year_df[\"Change from 2008 to 2020\"].min()),\n",
    "                                     \"skill_id\": r2[\"Skill Id\"], \"task\": r2[\"Task\"], \"desc\":r2[\"Description\"]})\n",
    "            \n",
    "        child_collection.append(child)  \n",
    "        \n",
    "    skillmap[\"children\"] = child_collection\n",
    "        \n",
    "    #with open('../static/data/network/'+r1['Job Code']+'-2020'+'.json', 'w') as outfile:\n",
    "    with open('../static/data/network/'+r1['Job Code']+'.json', 'w') as outfile:    \n",
    "        json.dump(skillmap, outfile)\n",
    "\"\"\""
   ]
  }
 ],
 "metadata": {
  "anaconda-cloud": {},
  "kernelspec": {
   "display_name": "py35",
   "language": "python",
   "name": "py35"
  },
  "language_info": {
   "codemirror_mode": {
    "name": "ipython",
    "version": 2
   },
   "file_extension": ".py",
   "mimetype": "text/x-python",
   "name": "python",
   "nbconvert_exporter": "python",
   "pygments_lexer": "ipython2",
   "version": "2.7.12"
  }
 },
 "nbformat": 4,
 "nbformat_minor": 2
}
