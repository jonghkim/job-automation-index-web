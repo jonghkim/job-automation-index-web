{
 "cells": [
  {
   "cell_type": "code",
   "execution_count": 1,
   "metadata": {
    "collapsed": true
   },
   "outputs": [],
   "source": [
    "# -*- coding: utf-8 -*-\n",
    "import pandas as pd"
   ]
  },
  {
   "cell_type": "code",
   "execution_count": 2,
   "metadata": {
    "collapsed": true
   },
   "outputs": [],
   "source": [
    "def table_generation(df):\n",
    "    lines = []\n",
    "    lines.append('<table class=\"table table-bordered sortable\" id=\"dataTable\" width=\"100%\" cellspacing=\"0\">\\n')\n",
    "    lines.append('<thead>')\n",
    "    lines.append('  <tr>\\n')\n",
    "    lines.append('    <th></th>\\n')\n",
    "    for i, col in enumerate(df.columns):\n",
    "        if i==0:\n",
    "            lines.append('    <th class=\"sorttable_sorted\">{} <span id=\"sorttable_sortfwdind\">&nbsp;▾</span> </th>\\n'.format(col))\n",
    "        else:\n",
    "            lines.append('    <th>{}</th>\\n'.format(col))\n",
    "\n",
    "    lines.append('  </tr>\\n')\n",
    "    lines.append('</thead>\\n')\n",
    "\n",
    "    lines.append('<tfoot>\\n')\n",
    "    lines.append('  <tr>\\n')\n",
    "    for col in df.columns:\n",
    "        lines.append('    <th>{}</th>\\n'.format(col))\n",
    "    \n",
    "    lines.append('  </tr>\\n')\n",
    "    lines.append('</tfoot>\\n')\n",
    "\n",
    "    lines.append('<tbody>\\n')\n",
    "\n",
    "    for i, r in df.iterrows():\n",
    "        lines.append('  <tr>\\n')\n",
    "        lines.append('  <td class=\"index\"></td>\\n')        \n",
    "        for col in df.columns:\n",
    "            if isinstance(r[col],float):\n",
    "                lines.append('    <td>{}</td>\\n'.format((\"%.2f\" % (r[col]*100))))\n",
    "            else:\n",
    "                lines.append('    <td>{}</td>\\n'.format(r[col]))\n",
    "        lines.append('  </tr>\\n')    \n",
    "    lines.append('</tbody>\\n')\n",
    "    lines.append('</table>')\n",
    "    \n",
    "    return ''.join(lines)\n"
   ]
  },
  {
   "cell_type": "code",
   "execution_count": 18,
   "metadata": {
    "collapsed": false
   },
   "outputs": [],
   "source": [
    "year = '2020'\n",
    "csvpath = '../static/data/csv/Panel 5 '+year+'.csv'\n",
    "panel_df = pd.read_csv(csvpath)"
   ]
  },
  {
   "cell_type": "code",
   "execution_count": 19,
   "metadata": {
    "collapsed": false
   },
   "outputs": [
    {
     "data": {
      "text/plain": [
       "Index([u'Unnamed: 0', u'Job Code', u'Job Title', u'Race with the Machine',\n",
       "       u'Race against the Machine', u'Race ahead of the Machine',\n",
       "       u'Running a Different Race'],\n",
       "      dtype='object')"
      ]
     },
     "execution_count": 19,
     "metadata": {},
     "output_type": "execute_result"
    }
   ],
   "source": [
    "panel_df.columns"
   ]
  },
  {
   "cell_type": "code",
   "execution_count": 20,
   "metadata": {
    "collapsed": false
   },
   "outputs": [],
   "source": [
    "\"\"\"\n",
    "panel_df = panel_df[['Job Code', 'Job Title', 'Automation Index','Automation for Information Processing','Automation for Clerical Task',\n",
    "   'Automation for Managerial Task','Automation for Communication',\n",
    "   'Automation for Conflict Resolution','Automation for Strategic Thinking','Automation for System Analysis',\n",
    "   'Automation for Operation Monitoring','Automation for Equipment Maintenance','Automation for Equipment Operation', \n",
    "   'Automation for Physical Task', 'Automation for Dynamic Physical Task', 'Automation for Outdoor Labor', 'Automation for Hazardous and Group Task']]\n",
    "\"\"\"\n",
    "\n",
    "panel_df = panel_df[['Job Code', 'Job Title', # 'Automation Index',\n",
    "                                             'Race with the Machine',\n",
    "                                             'Race against the Machine',\n",
    "                                             'Race ahead of the Machine',\n",
    "                                             'Running a Different Race',\n",
    "                                             ]] # 'Changing the Course of a Race'"
   ]
  },
  {
   "cell_type": "code",
   "execution_count": 21,
   "metadata": {
    "collapsed": true
   },
   "outputs": [],
   "source": [
    "#panel_df.to_csv('../static/data/csv/Panel 4 '+year+'.csv')"
   ]
  },
  {
   "cell_type": "code",
   "execution_count": 22,
   "metadata": {
    "collapsed": false
   },
   "outputs": [
    {
     "data": {
      "text/html": [
       "<div>\n",
       "<style>\n",
       "    .dataframe thead tr:only-child th {\n",
       "        text-align: right;\n",
       "    }\n",
       "\n",
       "    .dataframe thead th {\n",
       "        text-align: left;\n",
       "    }\n",
       "\n",
       "    .dataframe tbody tr th {\n",
       "        vertical-align: top;\n",
       "    }\n",
       "</style>\n",
       "<table border=\"1\" class=\"dataframe\">\n",
       "  <thead>\n",
       "    <tr style=\"text-align: right;\">\n",
       "      <th></th>\n",
       "      <th>Job Code</th>\n",
       "      <th>Job Title</th>\n",
       "      <th>Race with the Machine</th>\n",
       "      <th>Race against the Machine</th>\n",
       "      <th>Race ahead of the Machine</th>\n",
       "      <th>Running a Different Race</th>\n",
       "    </tr>\n",
       "  </thead>\n",
       "  <tbody>\n",
       "    <tr>\n",
       "      <th>0</th>\n",
       "      <td>00-0000</td>\n",
       "      <td>TOTAL AVERAGE</td>\n",
       "      <td>0.096970</td>\n",
       "      <td>0.156303</td>\n",
       "      <td>0.105179</td>\n",
       "      <td>0.131073</td>\n",
       "    </tr>\n",
       "    <tr>\n",
       "      <th>1</th>\n",
       "      <td>11-1011</td>\n",
       "      <td>Chief Executives</td>\n",
       "      <td>0.204364</td>\n",
       "      <td>0.090782</td>\n",
       "      <td>0.162766</td>\n",
       "      <td>0.014858</td>\n",
       "    </tr>\n",
       "    <tr>\n",
       "      <th>2</th>\n",
       "      <td>11-1021</td>\n",
       "      <td>General and Operations Managers</td>\n",
       "      <td>0.245016</td>\n",
       "      <td>0.062901</td>\n",
       "      <td>0.139381</td>\n",
       "      <td>0.028201</td>\n",
       "    </tr>\n",
       "    <tr>\n",
       "      <th>3</th>\n",
       "      <td>11-2011</td>\n",
       "      <td>Advertising and Promotions Managers</td>\n",
       "      <td>0.174833</td>\n",
       "      <td>0.070423</td>\n",
       "      <td>0.212268</td>\n",
       "      <td>0.014778</td>\n",
       "    </tr>\n",
       "    <tr>\n",
       "      <th>4</th>\n",
       "      <td>11-2021</td>\n",
       "      <td>Marketing Managers</td>\n",
       "      <td>0.198035</td>\n",
       "      <td>0.060215</td>\n",
       "      <td>0.194693</td>\n",
       "      <td>0.012793</td>\n",
       "    </tr>\n",
       "  </tbody>\n",
       "</table>\n",
       "</div>"
      ],
      "text/plain": [
       "  Job Code                            Job Title  Race with the Machine  \\\n",
       "0  00-0000                        TOTAL AVERAGE               0.096970   \n",
       "1  11-1011                     Chief Executives               0.204364   \n",
       "2  11-1021      General and Operations Managers               0.245016   \n",
       "3  11-2011  Advertising and Promotions Managers               0.174833   \n",
       "4  11-2021                   Marketing Managers               0.198035   \n",
       "\n",
       "   Race against the Machine  Race ahead of the Machine  \\\n",
       "0                  0.156303                   0.105179   \n",
       "1                  0.090782                   0.162766   \n",
       "2                  0.062901                   0.139381   \n",
       "3                  0.070423                   0.212268   \n",
       "4                  0.060215                   0.194693   \n",
       "\n",
       "   Running a Different Race  \n",
       "0                  0.131073  \n",
       "1                  0.014858  \n",
       "2                  0.028201  \n",
       "3                  0.014778  \n",
       "4                  0.012793  "
      ]
     },
     "execution_count": 22,
     "metadata": {},
     "output_type": "execute_result"
    }
   ],
   "source": [
    "panel_df.head()"
   ]
  },
  {
   "cell_type": "code",
   "execution_count": 23,
   "metadata": {
    "collapsed": true
   },
   "outputs": [],
   "source": [
    "table = table_generation(panel_df)"
   ]
  },
  {
   "cell_type": "code",
   "execution_count": 24,
   "metadata": {
    "collapsed": true,
    "scrolled": false
   },
   "outputs": [],
   "source": [
    "#f = open( '../visualize/templates/visualize/panel4_'+year+'.html', 'w' , encoding='utf8')\n",
    "#f = open( '../visualize/templates/visualize/panel5_'+year+'.html', 'w' , encoding='utf8')\n",
    "f = open( '../visualize/templates/visualize/panel5_'+year+'.html', 'w', -1)\n",
    "f.write(table)\n",
    "f.close()"
   ]
  },
  {
   "cell_type": "code",
   "execution_count": null,
   "metadata": {
    "collapsed": true
   },
   "outputs": [],
   "source": []
  },
  {
   "cell_type": "code",
   "execution_count": null,
   "metadata": {
    "collapsed": true
   },
   "outputs": [],
   "source": []
  }
 ],
 "metadata": {
  "anaconda-cloud": {},
  "kernelspec": {
   "display_name": "py35",
   "language": "python",
   "name": "py35"
  },
  "language_info": {
   "codemirror_mode": {
    "name": "ipython",
    "version": 2
   },
   "file_extension": ".py",
   "mimetype": "text/x-python",
   "name": "python",
   "nbconvert_exporter": "python",
   "pygments_lexer": "ipython2",
   "version": "2.7.12"
  }
 },
 "nbformat": 4,
 "nbformat_minor": 1
}
