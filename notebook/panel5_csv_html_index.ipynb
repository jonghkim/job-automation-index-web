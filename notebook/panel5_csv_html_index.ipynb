{
 "cells": [
  {
   "cell_type": "code",
   "execution_count": 1,
   "metadata": {
    "collapsed": true
   },
   "outputs": [],
   "source": [
    "# -*- coding: utf-8 -*-\n",
    "import pandas as pd"
   ]
  },
  {
   "cell_type": "code",
   "execution_count": 2,
   "metadata": {
    "collapsed": true
   },
   "outputs": [],
   "source": [
    "def table_generation(df):\n",
    "    lines = []\n",
    "    lines.append('<table class=\"table table-bordered sortable\" id=\"dataTable\" width=\"100%\" cellspacing=\"0\">\\n')\n",
    "    lines.append('<thead>')\n",
    "    lines.append('  <tr>\\n')\n",
    "    lines.append('    <th></th>\\n')\n",
    "    for i, col in enumerate(df.columns):\n",
    "        if i==0:\n",
    "            lines.append('    <th class=\"sorttable_sorted\">{} <span id=\"sorttable_sortfwdind\">&nbsp;▾</span> </th>\\n'.format(col))\n",
    "        else:\n",
    "            lines.append('    <th>{}</th>\\n'.format(col))\n",
    "\n",
    "    lines.append('  </tr>\\n')\n",
    "    lines.append('</thead>\\n')\n",
    "\n",
    "    lines.append('<tfoot>\\n')\n",
    "    lines.append('  <tr>\\n')\n",
    "    for col in df.columns:\n",
    "        lines.append('    <th>{}</th>\\n'.format(col))\n",
    "    \n",
    "    lines.append('  </tr>\\n')\n",
    "    lines.append('</tfoot>\\n')\n",
    "\n",
    "    lines.append('<tbody>\\n')\n",
    "\n",
    "    for i, r in df.iterrows():\n",
    "        lines.append('  <tr>\\n')\n",
    "        lines.append('  <td class=\"index\"></td>\\n')        \n",
    "        for col in df.columns:    \n",
    "            lines.append('    <td>{}</td>\\n'.format((\"%.2f\" % r[col]) if isinstance(r[col],float) else r[col]))\n",
    "        lines.append('  </tr>\\n')    \n",
    "    lines.append('</tbody>\\n')\n",
    "    lines.append('</table>')\n",
    "    \n",
    "    return ''.join(lines)\n"
   ]
  },
  {
   "cell_type": "code",
   "execution_count": 17,
   "metadata": {
    "collapsed": true
   },
   "outputs": [],
   "source": [
    "year = '2008~2018'\n",
    "csvpath = '../static/data/csv/Panel 5 '+year+'.csv'\n",
    "panel_df = pd.read_csv(csvpath, encoding='utf-8')"
   ]
  },
  {
   "cell_type": "code",
   "execution_count": 18,
   "metadata": {
    "collapsed": false
   },
   "outputs": [
    {
     "data": {
      "text/plain": [
       "Index([u'Job Code', u'Job Title', u'Job Family', u'Automation Index',\n",
       "       u'Race with the Machine', u'Race against the Machine',\n",
       "       u'Race ahead of the Machine', u'Running a Different Race',\n",
       "       u'Changing the Course of a Race'],\n",
       "      dtype='object')"
      ]
     },
     "execution_count": 18,
     "metadata": {},
     "output_type": "execute_result"
    }
   ],
   "source": [
    "panel_df.columns"
   ]
  },
  {
   "cell_type": "code",
   "execution_count": 19,
   "metadata": {
    "collapsed": false
   },
   "outputs": [],
   "source": [
    "\"\"\"\n",
    "panel_df = panel_df[['Job Code', 'Job Title', 'Automation Index','Automation for Information Processing','Automation for Clerical Task',\n",
    "   'Automation for Managerial Task','Automation for Communication',\n",
    "   'Automation for Conflict Resolution','Automation for Strategic Thinking','Automation for System Analysis',\n",
    "   'Automation for Operation Monitoring','Automation for Equipment Maintenance','Automation for Equipment Operation', \n",
    "   'Automation for Physical Task', 'Automation for Dynamic Physical Task', 'Automation for Outdoor Labor', 'Automation for Hazardous and Group Task']]\n",
    "\"\"\"\n",
    "\n",
    "panel_df = panel_df[['Job Code', 'Job Title', 'Automation Index',\n",
    "                                             'Race with the Machine',\n",
    "                                             'Race against the Machine',\n",
    "                                             'Race ahead of the Machine',\n",
    "                                             'Running a Different Race',\n",
    "                                             'Changing the Course of a Race']]"
   ]
  },
  {
   "cell_type": "code",
   "execution_count": 20,
   "metadata": {
    "collapsed": true
   },
   "outputs": [],
   "source": [
    "#panel_df.to_csv('../static/data/csv/Panel 4 '+year+'.csv')"
   ]
  },
  {
   "cell_type": "code",
   "execution_count": 21,
   "metadata": {
    "collapsed": false
   },
   "outputs": [
    {
     "data": {
      "text/html": [
       "<div>\n",
       "<style>\n",
       "    .dataframe thead tr:only-child th {\n",
       "        text-align: right;\n",
       "    }\n",
       "\n",
       "    .dataframe thead th {\n",
       "        text-align: left;\n",
       "    }\n",
       "\n",
       "    .dataframe tbody tr th {\n",
       "        vertical-align: top;\n",
       "    }\n",
       "</style>\n",
       "<table border=\"1\" class=\"dataframe\">\n",
       "  <thead>\n",
       "    <tr style=\"text-align: right;\">\n",
       "      <th></th>\n",
       "      <th>Job Code</th>\n",
       "      <th>Job Title</th>\n",
       "      <th>Automation Index</th>\n",
       "      <th>Race with the Machine</th>\n",
       "      <th>Race against the Machine</th>\n",
       "      <th>Race ahead of the Machine</th>\n",
       "      <th>Running a Different Race</th>\n",
       "      <th>Changing the Course of a Race</th>\n",
       "    </tr>\n",
       "  </thead>\n",
       "  <tbody>\n",
       "    <tr>\n",
       "      <th>0</th>\n",
       "      <td>00-0000</td>\n",
       "      <td>TOTAL AVERAGE</td>\n",
       "      <td>0.394429</td>\n",
       "      <td>0.187703</td>\n",
       "      <td>0.189701</td>\n",
       "      <td>-0.117891</td>\n",
       "      <td>0.225372</td>\n",
       "      <td>-0.090457</td>\n",
       "    </tr>\n",
       "    <tr>\n",
       "      <th>1</th>\n",
       "      <td>11-1011</td>\n",
       "      <td>Chief Executives</td>\n",
       "      <td>0.468638</td>\n",
       "      <td>1.916115</td>\n",
       "      <td>0.571893</td>\n",
       "      <td>-0.190320</td>\n",
       "      <td>-0.751071</td>\n",
       "      <td>-1.077978</td>\n",
       "    </tr>\n",
       "    <tr>\n",
       "      <th>2</th>\n",
       "      <td>11-1021</td>\n",
       "      <td>General and Operations Managers</td>\n",
       "      <td>0.992754</td>\n",
       "      <td>3.953235</td>\n",
       "      <td>-1.831798</td>\n",
       "      <td>0.626567</td>\n",
       "      <td>-1.428767</td>\n",
       "      <td>-0.326482</td>\n",
       "    </tr>\n",
       "    <tr>\n",
       "      <th>3</th>\n",
       "      <td>11-2011</td>\n",
       "      <td>Advertising and Promotions Managers</td>\n",
       "      <td>0.553128</td>\n",
       "      <td>2.619541</td>\n",
       "      <td>-2.610392</td>\n",
       "      <td>1.529522</td>\n",
       "      <td>-1.567716</td>\n",
       "      <td>0.582172</td>\n",
       "    </tr>\n",
       "    <tr>\n",
       "      <th>4</th>\n",
       "      <td>11-2021</td>\n",
       "      <td>Marketing Managers</td>\n",
       "      <td>-0.048585</td>\n",
       "      <td>-0.877134</td>\n",
       "      <td>-0.293301</td>\n",
       "      <td>2.058128</td>\n",
       "      <td>0.200480</td>\n",
       "      <td>-1.136758</td>\n",
       "    </tr>\n",
       "  </tbody>\n",
       "</table>\n",
       "</div>"
      ],
      "text/plain": [
       "  Job Code                            Job Title  Automation Index  \\\n",
       "0  00-0000                        TOTAL AVERAGE          0.394429   \n",
       "1  11-1011                     Chief Executives          0.468638   \n",
       "2  11-1021      General and Operations Managers          0.992754   \n",
       "3  11-2011  Advertising and Promotions Managers          0.553128   \n",
       "4  11-2021                   Marketing Managers         -0.048585   \n",
       "\n",
       "   Race with the Machine  Race against the Machine  Race ahead of the Machine  \\\n",
       "0               0.187703                  0.189701                  -0.117891   \n",
       "1               1.916115                  0.571893                  -0.190320   \n",
       "2               3.953235                 -1.831798                   0.626567   \n",
       "3               2.619541                 -2.610392                   1.529522   \n",
       "4              -0.877134                 -0.293301                   2.058128   \n",
       "\n",
       "   Running a Different Race  Changing the Course of a Race  \n",
       "0                  0.225372                      -0.090457  \n",
       "1                 -0.751071                      -1.077978  \n",
       "2                 -1.428767                      -0.326482  \n",
       "3                 -1.567716                       0.582172  \n",
       "4                  0.200480                      -1.136758  "
      ]
     },
     "execution_count": 21,
     "metadata": {},
     "output_type": "execute_result"
    }
   ],
   "source": [
    "panel_df.head()"
   ]
  },
  {
   "cell_type": "code",
   "execution_count": 22,
   "metadata": {
    "collapsed": true
   },
   "outputs": [],
   "source": [
    "table = table_generation(panel_df)"
   ]
  },
  {
   "cell_type": "code",
   "execution_count": 23,
   "metadata": {
    "collapsed": false,
    "scrolled": false
   },
   "outputs": [],
   "source": [
    "#f = open( '../visualize/templates/visualize/panel4_'+year+'.html', 'w' , encoding='utf8')\n",
    "#f = open( '../visualize/templates/visualize/panel5_'+year+'.html', 'w' , encoding='utf8')\n",
    "f = open( '../visualize/templates/visualize/panel5_'+year+'.html', 'w', -1)\n",
    "f.write(table)\n",
    "f.close()"
   ]
  },
  {
   "cell_type": "code",
   "execution_count": null,
   "metadata": {
    "collapsed": true
   },
   "outputs": [],
   "source": []
  },
  {
   "cell_type": "code",
   "execution_count": null,
   "metadata": {
    "collapsed": true
   },
   "outputs": [],
   "source": []
  }
 ],
 "metadata": {
  "anaconda-cloud": {},
  "kernelspec": {
   "display_name": "py35",
   "language": "python",
   "name": "py35"
  },
  "language_info": {
   "codemirror_mode": {
    "name": "ipython",
    "version": 2
   },
   "file_extension": ".py",
   "mimetype": "text/x-python",
   "name": "python",
   "nbconvert_exporter": "python",
   "pygments_lexer": "ipython2",
   "version": "2.7.12"
  }
 },
 "nbformat": 4,
 "nbformat_minor": 1
}
