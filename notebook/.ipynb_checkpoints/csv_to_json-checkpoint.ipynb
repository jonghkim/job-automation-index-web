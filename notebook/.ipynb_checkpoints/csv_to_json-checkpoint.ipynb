{
 "cells": [
  {
   "cell_type": "code",
   "execution_count": 198,
   "metadata": {
    "collapsed": true
   },
   "outputs": [],
   "source": [
    "# -*- coding: utf-8 -*-\n",
    "import pandas as pd\n",
    "import json\n",
    "\n",
    "# static/zoomable/flare.json"
   ]
  },
  {
   "cell_type": "code",
   "execution_count": 199,
   "metadata": {
    "collapsed": true
   },
   "outputs": [],
   "source": [
    "panel3_task_year_df = pd.read_csv(\"../static/data/csv/Panel 3.csv\")\n",
    "panel3_job_skill_2008_df = pd.read_csv(\"../static/data/csv/Panel 3 Skill Importance 2008.csv\")\n",
    "panel3_job_skill_2018_df = pd.read_csv(\"../static/data/csv/Panel 3 Skill Importance 2018.csv\")"
   ]
  },
  {
   "cell_type": "code",
   "execution_count": 200,
   "metadata": {
    "collapsed": false
   },
   "outputs": [
    {
     "data": {
      "text/html": [
       "<div>\n",
       "<style scoped>\n",
       "    .dataframe tbody tr th:only-of-type {\n",
       "        vertical-align: middle;\n",
       "    }\n",
       "\n",
       "    .dataframe tbody tr th {\n",
       "        vertical-align: top;\n",
       "    }\n",
       "\n",
       "    .dataframe thead th {\n",
       "        text-align: right;\n",
       "    }\n",
       "</style>\n",
       "<table border=\"1\" class=\"dataframe\">\n",
       "  <thead>\n",
       "    <tr style=\"text-align: right;\">\n",
       "      <th></th>\n",
       "      <th>Skill Id</th>\n",
       "      <th>Skill Name</th>\n",
       "      <th>Description</th>\n",
       "      <th>Task</th>\n",
       "      <th>2008 Automation Level</th>\n",
       "      <th>2018 Automation Level</th>\n",
       "      <th>Change between 2008-2018</th>\n",
       "    </tr>\n",
       "  </thead>\n",
       "  <tbody>\n",
       "    <tr>\n",
       "      <th>0</th>\n",
       "      <td>1.A.1.a.1</td>\n",
       "      <td>Oral Comprehension</td>\n",
       "      <td>The ability to listen to and understand inform...</td>\n",
       "      <td>Clerical Task</td>\n",
       "      <td>50.168444</td>\n",
       "      <td>49.588959</td>\n",
       "      <td>-0.579484</td>\n",
       "    </tr>\n",
       "    <tr>\n",
       "      <th>1</th>\n",
       "      <td>1.A.1.a.2</td>\n",
       "      <td>Written Comprehension</td>\n",
       "      <td>The ability to read and understand information...</td>\n",
       "      <td>Clerical Task</td>\n",
       "      <td>54.392630</td>\n",
       "      <td>52.165415</td>\n",
       "      <td>-2.227215</td>\n",
       "    </tr>\n",
       "    <tr>\n",
       "      <th>2</th>\n",
       "      <td>1.A.1.a.3</td>\n",
       "      <td>Oral Expression</td>\n",
       "      <td>The ability to communicate information and ide...</td>\n",
       "      <td>Clerical Task</td>\n",
       "      <td>47.009005</td>\n",
       "      <td>46.407230</td>\n",
       "      <td>-0.601775</td>\n",
       "    </tr>\n",
       "    <tr>\n",
       "      <th>3</th>\n",
       "      <td>1.A.1.a.4</td>\n",
       "      <td>Written Expression</td>\n",
       "      <td>The ability to communicate information and ide...</td>\n",
       "      <td>Clerical Task</td>\n",
       "      <td>51.888488</td>\n",
       "      <td>49.189672</td>\n",
       "      <td>-2.698817</td>\n",
       "    </tr>\n",
       "    <tr>\n",
       "      <th>4</th>\n",
       "      <td>1.A.1.b.1</td>\n",
       "      <td>Fluency of Ideas</td>\n",
       "      <td>The ability to come up with a number of ideas ...</td>\n",
       "      <td>System Analysis</td>\n",
       "      <td>42.603277</td>\n",
       "      <td>40.549949</td>\n",
       "      <td>-2.053328</td>\n",
       "    </tr>\n",
       "  </tbody>\n",
       "</table>\n",
       "</div>"
      ],
      "text/plain": [
       "    Skill Id             Skill Name  \\\n",
       "0  1.A.1.a.1     Oral Comprehension   \n",
       "1  1.A.1.a.2  Written Comprehension   \n",
       "2  1.A.1.a.3        Oral Expression   \n",
       "3  1.A.1.a.4     Written Expression   \n",
       "4  1.A.1.b.1       Fluency of Ideas   \n",
       "\n",
       "                                         Description             Task  \\\n",
       "0  The ability to listen to and understand inform...    Clerical Task   \n",
       "1  The ability to read and understand information...    Clerical Task   \n",
       "2  The ability to communicate information and ide...    Clerical Task   \n",
       "3  The ability to communicate information and ide...    Clerical Task   \n",
       "4  The ability to come up with a number of ideas ...  System Analysis   \n",
       "\n",
       "   2008 Automation Level  2018 Automation Level  Change between 2008-2018  \n",
       "0              50.168444              49.588959                 -0.579484  \n",
       "1              54.392630              52.165415                 -2.227215  \n",
       "2              47.009005              46.407230                 -0.601775  \n",
       "3              51.888488              49.189672                 -2.698817  \n",
       "4              42.603277              40.549949                 -2.053328  "
      ]
     },
     "execution_count": 200,
     "metadata": {},
     "output_type": "execute_result"
    }
   ],
   "source": [
    "panel3_task_year_df.head()"
   ]
  },
  {
   "cell_type": "code",
   "execution_count": 201,
   "metadata": {
    "collapsed": false
   },
   "outputs": [
    {
     "data": {
      "text/html": [
       "<div>\n",
       "<style scoped>\n",
       "    .dataframe tbody tr th:only-of-type {\n",
       "        vertical-align: middle;\n",
       "    }\n",
       "\n",
       "    .dataframe tbody tr th {\n",
       "        vertical-align: top;\n",
       "    }\n",
       "\n",
       "    .dataframe thead th {\n",
       "        text-align: right;\n",
       "    }\n",
       "</style>\n",
       "<table border=\"1\" class=\"dataframe\">\n",
       "  <thead>\n",
       "    <tr style=\"text-align: right;\">\n",
       "      <th></th>\n",
       "      <th>Job Code</th>\n",
       "      <th>Job Title</th>\n",
       "      <th>Job Family</th>\n",
       "      <th>Oral Comprehension</th>\n",
       "      <th>Written Comprehension</th>\n",
       "      <th>Oral Expression</th>\n",
       "      <th>Written Expression</th>\n",
       "      <th>Fluency of Ideas</th>\n",
       "      <th>Originality</th>\n",
       "      <th>Problem Sensitivity</th>\n",
       "      <th>...</th>\n",
       "      <th>Consequence of Error</th>\n",
       "      <th>Impact of Decisions on Co-workers or Company Results</th>\n",
       "      <th>Frequency of Decision Making</th>\n",
       "      <th>Freedom to Make Decisions</th>\n",
       "      <th>Importance of Being Exact or Accurate</th>\n",
       "      <th>Importance of Repeating Same Tasks</th>\n",
       "      <th>Structured versus Unstructured Work</th>\n",
       "      <th>Level of Competition</th>\n",
       "      <th>Time Pressure</th>\n",
       "      <th>Pace Determined by Speed of Equipment</th>\n",
       "    </tr>\n",
       "  </thead>\n",
       "  <tbody>\n",
       "    <tr>\n",
       "      <th>0</th>\n",
       "      <td>00-0000</td>\n",
       "      <td>TOTAL AVERAGE</td>\n",
       "      <td>TOTAL AVERAGE</td>\n",
       "      <td>-4.426570e-15</td>\n",
       "      <td>9.284690e-15</td>\n",
       "      <td>5.951510e-15</td>\n",
       "      <td>4.753190e-15</td>\n",
       "      <td>3.475710e-15</td>\n",
       "      <td>-7.596070e-16</td>\n",
       "      <td>7.438850e-15</td>\n",
       "      <td>...</td>\n",
       "      <td>-4.293160e-15</td>\n",
       "      <td>3.000110e-15</td>\n",
       "      <td>-1.009940e-15</td>\n",
       "      <td>-7.834240e-15</td>\n",
       "      <td>-2.530060e-15</td>\n",
       "      <td>-2.336840e-15</td>\n",
       "      <td>2.963580e-15</td>\n",
       "      <td>9.845170e-16</td>\n",
       "      <td>-1.002190e-14</td>\n",
       "      <td>1.292510e-15</td>\n",
       "    </tr>\n",
       "    <tr>\n",
       "      <th>1</th>\n",
       "      <td>11-1011</td>\n",
       "      <td>Chief Executives</td>\n",
       "      <td>Management Occupations</td>\n",
       "      <td>1.851282e+00</td>\n",
       "      <td>1.330436e+00</td>\n",
       "      <td>1.406368e+00</td>\n",
       "      <td>1.384890e+00</td>\n",
       "      <td>1.981513e+00</td>\n",
       "      <td>2.035220e+00</td>\n",
       "      <td>1.070821e+00</td>\n",
       "      <td>...</td>\n",
       "      <td>6.657280e-01</td>\n",
       "      <td>2.261792e+00</td>\n",
       "      <td>1.961981e+00</td>\n",
       "      <td>1.683699e+00</td>\n",
       "      <td>-7.421788e-02</td>\n",
       "      <td>-4.702803e-02</td>\n",
       "      <td>-2.039406e+00</td>\n",
       "      <td>1.940645e+00</td>\n",
       "      <td>6.754331e-01</td>\n",
       "      <td>-2.976255e-01</td>\n",
       "    </tr>\n",
       "    <tr>\n",
       "      <th>2</th>\n",
       "      <td>11-1021</td>\n",
       "      <td>General and Operations Managers</td>\n",
       "      <td>Management Occupations</td>\n",
       "      <td>6.690507e-01</td>\n",
       "      <td>8.929188e-01</td>\n",
       "      <td>6.290354e-01</td>\n",
       "      <td>1.191306e+00</td>\n",
       "      <td>3.129906e-01</td>\n",
       "      <td>4.230300e-01</td>\n",
       "      <td>1.070821e+00</td>\n",
       "      <td>...</td>\n",
       "      <td>4.195293e-01</td>\n",
       "      <td>1.524550e+00</td>\n",
       "      <td>1.277041e+00</td>\n",
       "      <td>1.412007e+00</td>\n",
       "      <td>-4.905627e-01</td>\n",
       "      <td>5.216704e-01</td>\n",
       "      <td>-1.659254e+00</td>\n",
       "      <td>6.338627e-01</td>\n",
       "      <td>7.159869e-01</td>\n",
       "      <td>-3.612924e-01</td>\n",
       "    </tr>\n",
       "    <tr>\n",
       "      <th>3</th>\n",
       "      <td>11-2011</td>\n",
       "      <td>Advertising and Promotions Managers</td>\n",
       "      <td>Management Occupations</td>\n",
       "      <td>6.690507e-01</td>\n",
       "      <td>8.929188e-01</td>\n",
       "      <td>1.140438e+00</td>\n",
       "      <td>9.977221e-01</td>\n",
       "      <td>1.735027e+00</td>\n",
       "      <td>1.797056e+00</td>\n",
       "      <td>1.230482e-01</td>\n",
       "      <td>...</td>\n",
       "      <td>-1.159039e+00</td>\n",
       "      <td>4.403695e-01</td>\n",
       "      <td>8.512672e-01</td>\n",
       "      <td>-1.345434e-01</td>\n",
       "      <td>2.686543e-01</td>\n",
       "      <td>-8.842785e-01</td>\n",
       "      <td>-4.554383e-01</td>\n",
       "      <td>4.572705e-01</td>\n",
       "      <td>1.080971e+00</td>\n",
       "      <td>-9.979622e-01</td>\n",
       "    </tr>\n",
       "    <tr>\n",
       "      <th>4</th>\n",
       "      <td>11-2021</td>\n",
       "      <td>Marketing Managers</td>\n",
       "      <td>Management Occupations</td>\n",
       "      <td>6.690507e-01</td>\n",
       "      <td>8.929188e-01</td>\n",
       "      <td>6.290354e-01</td>\n",
       "      <td>9.977221e-01</td>\n",
       "      <td>1.735027e+00</td>\n",
       "      <td>1.558891e+00</td>\n",
       "      <td>1.230482e-01</td>\n",
       "      <td>...</td>\n",
       "      <td>-3.335490e-01</td>\n",
       "      <td>7.005728e-01</td>\n",
       "      <td>4.625176e-01</td>\n",
       "      <td>6.596313e-01</td>\n",
       "      <td>-9.313985e-01</td>\n",
       "      <td>-7.579011e-01</td>\n",
       "      <td>-1.300221e+00</td>\n",
       "      <td>1.534483e+00</td>\n",
       "      <td>6.957100e-01</td>\n",
       "      <td>-9.767399e-01</td>\n",
       "    </tr>\n",
       "  </tbody>\n",
       "</table>\n",
       "<p>5 rows × 185 columns</p>\n",
       "</div>"
      ],
      "text/plain": [
       "  Job Code                            Job Title              Job Family  \\\n",
       "0  00-0000                        TOTAL AVERAGE           TOTAL AVERAGE   \n",
       "1  11-1011                     Chief Executives  Management Occupations   \n",
       "2  11-1021      General and Operations Managers  Management Occupations   \n",
       "3  11-2011  Advertising and Promotions Managers  Management Occupations   \n",
       "4  11-2021                   Marketing Managers  Management Occupations   \n",
       "\n",
       "   Oral Comprehension  Written Comprehension  Oral Expression  \\\n",
       "0       -4.426570e-15           9.284690e-15     5.951510e-15   \n",
       "1        1.851282e+00           1.330436e+00     1.406368e+00   \n",
       "2        6.690507e-01           8.929188e-01     6.290354e-01   \n",
       "3        6.690507e-01           8.929188e-01     1.140438e+00   \n",
       "4        6.690507e-01           8.929188e-01     6.290354e-01   \n",
       "\n",
       "   Written Expression  Fluency of Ideas   Originality  Problem Sensitivity  \\\n",
       "0        4.753190e-15      3.475710e-15 -7.596070e-16         7.438850e-15   \n",
       "1        1.384890e+00      1.981513e+00  2.035220e+00         1.070821e+00   \n",
       "2        1.191306e+00      3.129906e-01  4.230300e-01         1.070821e+00   \n",
       "3        9.977221e-01      1.735027e+00  1.797056e+00         1.230482e-01   \n",
       "4        9.977221e-01      1.735027e+00  1.558891e+00         1.230482e-01   \n",
       "\n",
       "   ...  Consequence of Error  \\\n",
       "0  ...         -4.293160e-15   \n",
       "1  ...          6.657280e-01   \n",
       "2  ...          4.195293e-01   \n",
       "3  ...         -1.159039e+00   \n",
       "4  ...         -3.335490e-01   \n",
       "\n",
       "   Impact of Decisions on Co-workers or Company Results  \\\n",
       "0                                       3.000110e-15      \n",
       "1                                       2.261792e+00      \n",
       "2                                       1.524550e+00      \n",
       "3                                       4.403695e-01      \n",
       "4                                       7.005728e-01      \n",
       "\n",
       "   Frequency of Decision Making  Freedom to Make Decisions  \\\n",
       "0                 -1.009940e-15              -7.834240e-15   \n",
       "1                  1.961981e+00               1.683699e+00   \n",
       "2                  1.277041e+00               1.412007e+00   \n",
       "3                  8.512672e-01              -1.345434e-01   \n",
       "4                  4.625176e-01               6.596313e-01   \n",
       "\n",
       "   Importance of Being Exact or Accurate  Importance of Repeating Same Tasks  \\\n",
       "0                          -2.530060e-15                       -2.336840e-15   \n",
       "1                          -7.421788e-02                       -4.702803e-02   \n",
       "2                          -4.905627e-01                        5.216704e-01   \n",
       "3                           2.686543e-01                       -8.842785e-01   \n",
       "4                          -9.313985e-01                       -7.579011e-01   \n",
       "\n",
       "   Structured versus Unstructured Work  Level of Competition  Time Pressure  \\\n",
       "0                         2.963580e-15          9.845170e-16  -1.002190e-14   \n",
       "1                        -2.039406e+00          1.940645e+00   6.754331e-01   \n",
       "2                        -1.659254e+00          6.338627e-01   7.159869e-01   \n",
       "3                        -4.554383e-01          4.572705e-01   1.080971e+00   \n",
       "4                        -1.300221e+00          1.534483e+00   6.957100e-01   \n",
       "\n",
       "   Pace Determined by Speed of Equipment  \n",
       "0                           1.292510e-15  \n",
       "1                          -2.976255e-01  \n",
       "2                          -3.612924e-01  \n",
       "3                          -9.979622e-01  \n",
       "4                          -9.767399e-01  \n",
       "\n",
       "[5 rows x 185 columns]"
      ]
     },
     "execution_count": 201,
     "metadata": {},
     "output_type": "execute_result"
    }
   ],
   "source": [
    "panel3_job_skill_2018_df.head()"
   ]
  },
  {
   "cell_type": "code",
   "execution_count": 202,
   "metadata": {
    "collapsed": true
   },
   "outputs": [],
   "source": [
    "def standardizer(df, col):\n",
    "    df[col] -= df[col].min()\n",
    "    df[col] /= df[col].max()\n",
    "    \n",
    "    df[col] = (30**df[col]-1)/30\n",
    "    \n",
    "    df[col] = [0.5 if value > 0.5 else value for value in df[col]]\n",
    "    \n",
    "    #df[col] = df[col]*200\n",
    "    #df[col] = df[col]+10\n",
    "    return df"
   ]
  },
  {
   "cell_type": "code",
   "execution_count": 203,
   "metadata": {
    "collapsed": true
   },
   "outputs": [],
   "source": [
    "def standardizer_diff(df, col):\n",
    "    df[col] -= df[col].min()\n",
    "    df[col] /= df[col].max()\n",
    "    \n",
    "    df[col] = (30**df[col]-1)/30\n",
    "    \n",
    "    df[col] = [0.6 if value > 0.6 else value for value in df[col]]\n",
    "    \n",
    "    #df[col] = df[col]*200\n",
    "    #df[col] = df[col]+10\n",
    "    return df"
   ]
  },
  {
   "cell_type": "code",
   "execution_count": 204,
   "metadata": {
    "collapsed": true
   },
   "outputs": [],
   "source": [
    "panel3_task_year_df = standardizer(panel3_task_year_df, \"2008 Automation Level\")\n",
    "panel3_task_year_df = standardizer(panel3_task_year_df, \"2018 Automation Level\")\n",
    "panel3_task_year_df = standardizer_diff(panel3_task_year_df, \"Change between 2008-2018\")"
   ]
  },
  {
   "cell_type": "code",
   "execution_count": 205,
   "metadata": {
    "collapsed": false
   },
   "outputs": [
    {
     "data": {
      "text/plain": [
       "<matplotlib.axes._subplots.AxesSubplot at 0x14a38bea048>"
      ]
     },
     "execution_count": 205,
     "metadata": {},
     "output_type": "execute_result"
    },
    {
     "data": {
      "image/png": "[encoded data removed]",
      "text/plain": [
       "<Figure size 432x288 with 1 Axes>"
      ]
     },
     "metadata": {
      "needs_background": "light"
     },
     "output_type": "display_data"
    }
   ],
   "source": [
    "%matplotlib inline\n",
    "panel3_task_year_df[\"2008 Automation Level\"].hist()"
   ]
  },
  {
   "cell_type": "code",
   "execution_count": 206,
   "metadata": {
    "collapsed": false
   },
   "outputs": [
    {
     "data": {
      "text/plain": [
       "<matplotlib.axes._subplots.AxesSubplot at 0x14a38c4aba8>"
      ]
     },
     "execution_count": 206,
     "metadata": {},
     "output_type": "execute_result"
    },
    {
     "data": {
      "image/png": "[encoded data removed]",
      "text/plain": [
       "<Figure size 432x288 with 1 Axes>"
      ]
     },
     "metadata": {
      "needs_background": "light"
     },
     "output_type": "display_data"
    }
   ],
   "source": [
    "panel3_task_year_df[\"2018 Automation Level\"].hist()"
   ]
  },
  {
   "cell_type": "code",
   "execution_count": 207,
   "metadata": {
    "collapsed": false
   },
   "outputs": [
    {
     "data": {
      "text/plain": [
       "<matplotlib.axes._subplots.AxesSubplot at 0x14a38cc4d68>"
      ]
     },
     "execution_count": 207,
     "metadata": {},
     "output_type": "execute_result"
    },
    {
     "data": {
      "image/png": "[encoded data removed]",
      "text/plain": [
       "<Figure size 432x288 with 1 Axes>"
      ]
     },
     "metadata": {
      "needs_background": "light"
     },
     "output_type": "display_data"
    }
   ],
   "source": [
    "panel3_task_year_df[\"Change between 2008-2018\"].hist()"
   ]
  },
  {
   "cell_type": "code",
   "execution_count": 208,
   "metadata": {
    "collapsed": true
   },
   "outputs": [],
   "source": [
    "cols = panel3_job_skill_2018_df.columns[3:]\n",
    "\n",
    "for col in cols:\n",
    "    panel3_job_skill_2018_df = standardizer(panel3_job_skill_2018_df, col)"
   ]
  },
  {
   "cell_type": "code",
   "execution_count": 209,
   "metadata": {
    "collapsed": true
   },
   "outputs": [],
   "source": [
    "cols = panel3_job_skill_2008_df.columns[3:]\n",
    "\n",
    "for col in cols:\n",
    "    panel3_job_skill_2008_df = standardizer(panel3_job_skill_2008_df, col)"
   ]
  },
  {
   "cell_type": "code",
   "execution_count": 210,
   "metadata": {
    "collapsed": true
   },
   "outputs": [],
   "source": [
    "panel3_task_year_df_gp = panel3_task_year_df.groupby('Task')"
   ]
  },
  {
   "cell_type": "markdown",
   "metadata": {},
   "source": [
    "#grey 220,220,220\n",
    "#crimson 220,20,60"
   ]
  },
  {
   "cell_type": "code",
   "execution_count": 211,
   "metadata": {
    "collapsed": true
   },
   "outputs": [],
   "source": [
    "color1 = [255,255,255]\n",
    "color2 = [220,20,60]"
   ]
  },
  {
   "cell_type": "code",
   "execution_count": 212,
   "metadata": {
    "collapsed": false
   },
   "outputs": [],
   "source": [
    "for i in range(panel3_job_skill_2018_df.shape[0]):\n",
    "    #print(panel3_job_skill_2018_df.iloc[i]['Job Code'], panel3_job_skill_2008_df.iloc[i]['Job Code'])\n",
    "    \n",
    "    skillmap = {}\n",
    "    skillmap[\"name\"] = panel3_job_skill_2018_df.iloc[i]['Job Title']\n",
    "    skillmap[\"code\"] = panel3_job_skill_2018_df.iloc[i]['Job Code']  \n",
    "    child_collection = []\n",
    "    \n",
    "    for nm, gp in panel3_task_year_df_gp:\n",
    "        child = {}\n",
    "        child[\"name\"] = nm\n",
    "        child[\"children\"] = []\n",
    "        \n",
    "        for j, r2 in gp.iterrows():\n",
    "            child[\"children\"].append({\"name\": r2[\"Skill Name\"],\n",
    "                                     \"importance_2018\": panel3_job_skill_2018_df.iloc[i][r2[\"Skill Name\"]],\n",
    "                                      \"importance_2008\":panel3_job_skill_2008_df.iloc[i][r2[\"Skill Name\"]], \n",
    "                                      \"importance_2008_2018\": panel3_job_skill_2018_df.iloc[i][r2[\"Skill Name\"]],\n",
    "                                      \n",
    "                                      \"r_2018\":(color2[0]*(r2[\"2018 Automation Level\"]-panel3_task_year_df[\"2018 Automation Level\"].min())+\n",
    "                                                    color1[0]*(panel3_task_year_df[\"2018 Automation Level\"].max()-r2[\"2018 Automation Level\"]))/\n",
    "                                                (panel3_task_year_df[\"2018 Automation Level\"].max()-panel3_task_year_df[\"2018 Automation Level\"].min()),\n",
    "                                      \"g_2018\":(color2[1]*(r2[\"2018 Automation Level\"]-panel3_task_year_df[\"2018 Automation Level\"].min())+\n",
    "                                                    color1[1]*(panel3_task_year_df[\"2018 Automation Level\"].max()-r2[\"2018 Automation Level\"]))/\n",
    "                                                (panel3_task_year_df[\"2018 Automation Level\"].max()-panel3_task_year_df[\"2018 Automation Level\"].min()),\n",
    "                                      \"b_2018\":(color2[2]*(r2[\"2018 Automation Level\"]-panel3_task_year_df[\"2018 Automation Level\"].min())+\n",
    "                                                    color1[2]*(panel3_task_year_df[\"2018 Automation Level\"].max()-r2[\"2018 Automation Level\"]))/\n",
    "                                                (panel3_task_year_df[\"2018 Automation Level\"].max()-panel3_task_year_df[\"2018 Automation Level\"].min()),                                      \n",
    "                                      \"r_2008\":(color2[0]*(r2[\"2008 Automation Level\"]-panel3_task_year_df[\"2008 Automation Level\"].min())+\n",
    "                                                    color1[0]*(panel3_task_year_df[\"2008 Automation Level\"].max()-r2[\"2008 Automation Level\"]))/\n",
    "                                                (panel3_task_year_df[\"2008 Automation Level\"].max()-panel3_task_year_df[\"2008 Automation Level\"].min()),\n",
    "                                      \"g_2008\":(color2[1]*(r2[\"2008 Automation Level\"]-panel3_task_year_df[\"2008 Automation Level\"].min())+\n",
    "                                                    color1[1]*(panel3_task_year_df[\"2008 Automation Level\"].max()-r2[\"2008 Automation Level\"]))/\n",
    "                                                (panel3_task_year_df[\"2008 Automation Level\"].max()-panel3_task_year_df[\"2008 Automation Level\"].min()),\n",
    "                                      \"b_2008\":(color2[2]*(r2[\"2008 Automation Level\"]-panel3_task_year_df[\"2008 Automation Level\"].min())+\n",
    "                                                    color1[2]*(panel3_task_year_df[\"2008 Automation Level\"].max()-r2[\"2008 Automation Level\"]))/\n",
    "                                                (panel3_task_year_df[\"2008 Automation Level\"].max()-panel3_task_year_df[\"2008 Automation Level\"].min()),\n",
    "                                      \"r_2008_2018\":(color2[0]*(r2[\"Change between 2008-2018\"]-panel3_task_year_df[\"Change between 2008-2018\"].min())+\n",
    "                                                    color1[0]*(panel3_task_year_df[\"Change between 2008-2018\"].max()-r2[\"Change between 2008-2018\"]))/\n",
    "                                                (panel3_task_year_df[\"Change between 2008-2018\"].max()-panel3_task_year_df[\"Change between 2008-2018\"].min()),\n",
    "                                      \"g_2008_2018\":(color2[1]*(r2[\"Change between 2008-2018\"]-panel3_task_year_df[\"Change between 2008-2018\"].min())+\n",
    "                                                    color1[1]*(panel3_task_year_df[\"Change between 2008-2018\"].max()-r2[\"Change between 2008-2018\"]))/\n",
    "                                                (panel3_task_year_df[\"Change between 2008-2018\"].max()-panel3_task_year_df[\"Change between 2008-2018\"].min()),\n",
    "                                      \"b_2008_2018\":(color2[2]*(r2[\"Change between 2008-2018\"]-panel3_task_year_df[\"Change between 2008-2018\"].min())+\n",
    "                                                    color1[2]*(panel3_task_year_df[\"Change between 2008-2018\"].max()-r2[\"Change between 2008-2018\"]))/\n",
    "                                                (panel3_task_year_df[\"Change between 2008-2018\"].max()-panel3_task_year_df[\"Change between 2008-2018\"].min()),\n",
    "                                     })\n",
    "            \n",
    "        child_collection.append(child)  \n",
    "        \n",
    "    skillmap[\"children\"] = child_collection\n",
    "        \n",
    "    #with open('../static/data/network/'+r1['Job Code']+'-2018'+'.json', 'w') as outfile:\n",
    "    with open('../static/data/network/'+panel3_job_skill_2018_df.iloc[i]['Job Code']+'.json', 'w') as outfile:    \n",
    "        json.dump(skillmap, outfile)"
   ]
  },
  {
   "cell_type": "code",
   "execution_count": 130,
   "metadata": {
    "collapsed": false
   },
   "outputs": [
    {
     "data": {
      "text/plain": [
       "'\\nfor i, r1 in zip(panel3_job_skill_2018_df.iterrows(), panel3_job_skill_2008_df.iterrows):\\n    skillmap = {}\\n    skillmap[\"name\"] = r1[\\'Job Title\\']\\n    skillmap[\"code\"] = r1[\\'Job Code\\']\\n    child_collection = []\\n    \\n    for nm, gp in panel3_task_year_df_gp:\\n        child = {}\\n        child[\"name\"] = nm\\n        child[\"children\"] = []\\n        \\n        for i, r2 in gp.iterrows():\\n            child[\"children\"].append({\"name\": r2[\"Skill Name\"],\\n                                     \"importance\": r1[r2[\"Skill Name\"]],\\n                                      \"r_2018\":220,\\n                                      \"g_2018\":(20*(r2[\"2018 Automation Level\"]-panel3_task_year_df[\"2018 Automation Level\"].min())+\\n                                                    220*(panel3_task_year_df[\"2018 Automation Level\"].max()-r2[\"2018 Automation Level\"]))/\\n                                                (panel3_task_year_df[\"2018 Automation Level\"].max()-panel3_task_year_df[\"2018 Automation Level\"].min()),\\n                                      \"b_2018\":(60*(r2[\"2018 Automation Level\"]-panel3_task_year_df[\"2018 Automation Level\"].min())+\\n                                                    220*(panel3_task_year_df[\"2018 Automation Level\"].max()-r2[\"2018 Automation Level\"]))/\\n                                                (panel3_task_year_df[\"2018 Automation Level\"].max()-panel3_task_year_df[\"2018 Automation Level\"].min()),                                      \\n                                      \"r_2008\":220,\\n                                      \"g_2008\":(20*(r2[\"2008 Automation Level\"]-panel3_task_year_df[\"2008 Automation Level\"].min())+\\n                                                    220*(panel3_task_year_df[\"2008 Automation Level\"].max()-r2[\"2008 Automation Level\"]))/\\n                                                (panel3_task_year_df[\"2008 Automation Level\"].max()-panel3_task_year_df[\"2008 Automation Level\"].min()),\\n                                      \"b_2008\":(60*(r2[\"2008 Automation Level\"]-panel3_task_year_df[\"2008 Automation Level\"].min())+\\n                                                    220*(panel3_task_year_df[\"2008 Automation Level\"].max()-r2[\"2008 Automation Level\"]))/\\n                                                (panel3_task_year_df[\"2008 Automation Level\"].max()-panel3_task_year_df[\"2008 Automation Level\"].min()),\\n                                      \"r_2008_2018\":220,\\n                                      \"g_2008_2018\":(20*(r2[\"Change between 2008-2018\"]-panel3_task_year_df[\"Change between 2008-2018\"].min())+\\n                                                    220*(panel3_task_year_df[\"Change between 2008-2018\"].max()-r2[\"Change between 2008-2018\"]))/\\n                                                (panel3_task_year_df[\"Change between 2008-2018\"].max()-panel3_task_year_df[\"Change between 2008-2018\"].min()),\\n                                      \"b_2008_2018\":(60*(r2[\"Change between 2008-2018\"]-panel3_task_year_df[\"Change between 2008-2018\"].min())+\\n                                                    220*(panel3_task_year_df[\"Change between 2008-2018\"].max()-r2[\"Change between 2008-2018\"]))/\\n                                                (panel3_task_year_df[\"Change between 2008-2018\"].max()-panel3_task_year_df[\"Change between 2008-2018\"].min()),\\n                                     \"skill_id\": r2[\"Skill Id\"], \"task\": r2[\"Task\"], \"desc\":r2[\"Description\"]})\\n            \\n        child_collection.append(child)  \\n        \\n    skillmap[\"children\"] = child_collection\\n        \\n    #with open(\\'../static/data/network/\\'+r1[\\'Job Code\\']+\\'-2018\\'+\\'.json\\', \\'w\\') as outfile:\\n    with open(\\'../static/data/network/\\'+r1[\\'Job Code\\']+\\'.json\\', \\'w\\') as outfile:    \\n        json.dump(skillmap, outfile)\\n'"
      ]
     },
     "execution_count": 130,
     "metadata": {},
     "output_type": "execute_result"
    }
   ],
   "source": [
    "\"\"\"\n",
    "for i, r1 in zip(panel3_job_skill_2018_df.iterrows(), panel3_job_skill_2008_df.iterrows):\n",
    "    skillmap = {}\n",
    "    skillmap[\"name\"] = r1['Job Title']\n",
    "    skillmap[\"code\"] = r1['Job Code']\n",
    "    child_collection = []\n",
    "    \n",
    "    for nm, gp in panel3_task_year_df_gp:\n",
    "        child = {}\n",
    "        child[\"name\"] = nm\n",
    "        child[\"children\"] = []\n",
    "        \n",
    "        for i, r2 in gp.iterrows():\n",
    "            child[\"children\"].append({\"name\": r2[\"Skill Name\"],\n",
    "                                     \"importance\": r1[r2[\"Skill Name\"]],\n",
    "                                      \"r_2018\":220,\n",
    "                                      \"g_2018\":(20*(r2[\"2018 Automation Level\"]-panel3_task_year_df[\"2018 Automation Level\"].min())+\n",
    "                                                    220*(panel3_task_year_df[\"2018 Automation Level\"].max()-r2[\"2018 Automation Level\"]))/\n",
    "                                                (panel3_task_year_df[\"2018 Automation Level\"].max()-panel3_task_year_df[\"2018 Automation Level\"].min()),\n",
    "                                      \"b_2018\":(60*(r2[\"2018 Automation Level\"]-panel3_task_year_df[\"2018 Automation Level\"].min())+\n",
    "                                                    220*(panel3_task_year_df[\"2018 Automation Level\"].max()-r2[\"2018 Automation Level\"]))/\n",
    "                                                (panel3_task_year_df[\"2018 Automation Level\"].max()-panel3_task_year_df[\"2018 Automation Level\"].min()),                                      \n",
    "                                      \"r_2008\":220,\n",
    "                                      \"g_2008\":(20*(r2[\"2008 Automation Level\"]-panel3_task_year_df[\"2008 Automation Level\"].min())+\n",
    "                                                    220*(panel3_task_year_df[\"2008 Automation Level\"].max()-r2[\"2008 Automation Level\"]))/\n",
    "                                                (panel3_task_year_df[\"2008 Automation Level\"].max()-panel3_task_year_df[\"2008 Automation Level\"].min()),\n",
    "                                      \"b_2008\":(60*(r2[\"2008 Automation Level\"]-panel3_task_year_df[\"2008 Automation Level\"].min())+\n",
    "                                                    220*(panel3_task_year_df[\"2008 Automation Level\"].max()-r2[\"2008 Automation Level\"]))/\n",
    "                                                (panel3_task_year_df[\"2008 Automation Level\"].max()-panel3_task_year_df[\"2008 Automation Level\"].min()),\n",
    "                                      \"r_2008_2018\":220,\n",
    "                                      \"g_2008_2018\":(20*(r2[\"Change between 2008-2018\"]-panel3_task_year_df[\"Change between 2008-2018\"].min())+\n",
    "                                                    220*(panel3_task_year_df[\"Change between 2008-2018\"].max()-r2[\"Change between 2008-2018\"]))/\n",
    "                                                (panel3_task_year_df[\"Change between 2008-2018\"].max()-panel3_task_year_df[\"Change between 2008-2018\"].min()),\n",
    "                                      \"b_2008_2018\":(60*(r2[\"Change between 2008-2018\"]-panel3_task_year_df[\"Change between 2008-2018\"].min())+\n",
    "                                                    220*(panel3_task_year_df[\"Change between 2008-2018\"].max()-r2[\"Change between 2008-2018\"]))/\n",
    "                                                (panel3_task_year_df[\"Change between 2008-2018\"].max()-panel3_task_year_df[\"Change between 2008-2018\"].min()),\n",
    "                                     \"skill_id\": r2[\"Skill Id\"], \"task\": r2[\"Task\"], \"desc\":r2[\"Description\"]})\n",
    "            \n",
    "        child_collection.append(child)  \n",
    "        \n",
    "    skillmap[\"children\"] = child_collection\n",
    "        \n",
    "    #with open('../static/data/network/'+r1['Job Code']+'-2018'+'.json', 'w') as outfile:\n",
    "    with open('../static/data/network/'+r1['Job Code']+'.json', 'w') as outfile:    \n",
    "        json.dump(skillmap, outfile)\n",
    "\"\"\"        "
   ]
  },
  {
   "cell_type": "code",
   "execution_count": 13,
   "metadata": {
    "collapsed": false
   },
   "outputs": [
    {
     "data": {
      "text/plain": [
       "'\\nfor i, r1 in panel3_job_skill_df.iterrows():\\n    skillmap = {}\\n    skillmap[\"name\"] = r1[\\'Job Title\\']\\n    skillmap[\"code\"] = r1[\\'Job Code\\']\\n    child_collection = []\\n    \\n    for nm, gp in panel3_task_year_df_gp:\\n        child = {}\\n        child[\"name\"] = nm\\n        child[\"children\"] = []\\n        \\n        for i, r2 in gp.iterrows():\\n            child[\"children\"].append({\"name\": r2[\"Skill Name\"], \"importance\": r1[r2[\"Skill Name\"]],\\n                                     \"automation_2018\": r2[\"2018 Automation Level\"],\\n                                      \"r_2018\":220,\\n                                      \"g_2018\":(20*(r2[\"2018 Automation Level\"]-panel3_task_year_df[\"2018 Automation Level\"].min())+\\n                                                    220*(panel3_task_year_df[\"2018 Automation Level\"].max()-r2[\"2018 Automation Level\"]))/\\n                                                (panel3_task_year_df[\"2018 Automation Level\"].max()-panel3_task_year_df[\"2018 Automation Level\"].min()),\\n                                                \\n                                      \"b_2018\":(60*(r2[\"2018 Automation Level\"]-panel3_task_year_df[\"2018 Automation Level\"].min())+\\n                                                    220*(panel3_task_year_df[\"2018 Automation Level\"].max()-r2[\"2018 Automation Level\"]))/\\n                                                (panel3_task_year_df[\"2018 Automation Level\"].max()-panel3_task_year_df[\"2018 Automation Level\"].min()),                                      \\n                                     \"automation_2008\": r2[\"Change between 2008-2018\"],   \\n                                      \"r_2008\":220,\\n                                      \"g_2008\":(20*(r2[\"2008 Automation Level\"]-panel3_task_year_df[\"2008 Automation Level\"].min())+\\n                                                    220*(panel3_task_year_df[\"2008 Automation Level\"].max()-r2[\"2008 Automation Level\"]))/\\n                                                (panel3_task_year_df[\"2008 Automation Level\"].max()-panel3_task_year_df[\"2008 Automation Level\"].min()),\\n                                      \"b_2008\":(60*(r2[\"2008 Automation Level\"]-panel3_task_year_df[\"2008 Automation Level\"].min())+\\n                                                    220*(panel3_task_year_df[\"2008 Automation Level\"].max()-r2[\"2008 Automation Level\"]))/\\n                                                (panel3_task_year_df[\"2008 Automation Level\"].max()-panel3_task_year_df[\"2008 Automation Level\"].min()),\\n                                     \"automation_2008~2018\": r2[\"Change between 2008-2018\"],   \\n                                      \"r_2008_2018\":220,\\n                                      \"g_2008_2018\":(20*(r2[\"Change between 2008-2018\"]-panel3_task_year_df[\"Change between 2008-2018\"].min())+\\n                                                    220*(panel3_task_year_df[\"Change between 2008-2018\"].max()-r2[\"Change between 2008-2018\"]))/\\n                                                (panel3_task_year_df[\"Change between 2008-2018\"].max()-panel3_task_year_df[\"Change between 2008-2018\"].min()),\\n                                      \"b_2008_2018\":(60*(r2[\"Change between 2008-2018\"]-panel3_task_year_df[\"Change between 2008-2018\"].min())+\\n                                                    220*(panel3_task_year_df[\"Change between 2008-2018\"].max()-r2[\"Change between 2008-2018\"]))/\\n                                                (panel3_task_year_df[\"Change between 2008-2018\"].max()-panel3_task_year_df[\"Change between 2008-2018\"].min()),\\n                                     \"skill_id\": r2[\"Skill Id\"], \"task\": r2[\"Task\"], \"desc\":r2[\"Description\"]})\\n            \\n        child_collection.append(child)  \\n        \\n    skillmap[\"children\"] = child_collection\\n        \\n    #with open(\\'../static/data/network/\\'+r1[\\'Job Code\\']+\\'-2018\\'+\\'.json\\', \\'w\\') as outfile:\\n    with open(\\'../static/data/network/\\'+r1[\\'Job Code\\']+\\'.json\\', \\'w\\') as outfile:    \\n        json.dump(skillmap, outfile)\\n'"
      ]
     },
     "execution_count": 13,
     "metadata": {},
     "output_type": "execute_result"
    }
   ],
   "source": [
    "\"\"\"\n",
    "for i, r1 in panel3_job_skill_df.iterrows():\n",
    "    skillmap = {}\n",
    "    skillmap[\"name\"] = r1['Job Title']\n",
    "    skillmap[\"code\"] = r1['Job Code']\n",
    "    child_collection = []\n",
    "    \n",
    "    for nm, gp in panel3_task_year_df_gp:\n",
    "        child = {}\n",
    "        child[\"name\"] = nm\n",
    "        child[\"children\"] = []\n",
    "        \n",
    "        for i, r2 in gp.iterrows():\n",
    "            child[\"children\"].append({\"name\": r2[\"Skill Name\"], \"importance\": r1[r2[\"Skill Name\"]],\n",
    "                                     \"automation_2018\": r2[\"2018 Automation Level\"],\n",
    "                                      \"r_2018\":220,\n",
    "                                      \"g_2018\":(20*(r2[\"2018 Automation Level\"]-panel3_task_year_df[\"2018 Automation Level\"].min())+\n",
    "                                                    220*(panel3_task_year_df[\"2018 Automation Level\"].max()-r2[\"2018 Automation Level\"]))/\n",
    "                                                (panel3_task_year_df[\"2018 Automation Level\"].max()-panel3_task_year_df[\"2018 Automation Level\"].min()),\n",
    "                                                \n",
    "                                      \"b_2018\":(60*(r2[\"2018 Automation Level\"]-panel3_task_year_df[\"2018 Automation Level\"].min())+\n",
    "                                                    220*(panel3_task_year_df[\"2018 Automation Level\"].max()-r2[\"2018 Automation Level\"]))/\n",
    "                                                (panel3_task_year_df[\"2018 Automation Level\"].max()-panel3_task_year_df[\"2018 Automation Level\"].min()),                                      \n",
    "                                     \"automation_2008\": r2[\"Change between 2008-2018\"],   \n",
    "                                      \"r_2008\":220,\n",
    "                                      \"g_2008\":(20*(r2[\"2008 Automation Level\"]-panel3_task_year_df[\"2008 Automation Level\"].min())+\n",
    "                                                    220*(panel3_task_year_df[\"2008 Automation Level\"].max()-r2[\"2008 Automation Level\"]))/\n",
    "                                                (panel3_task_year_df[\"2008 Automation Level\"].max()-panel3_task_year_df[\"2008 Automation Level\"].min()),\n",
    "                                      \"b_2008\":(60*(r2[\"2008 Automation Level\"]-panel3_task_year_df[\"2008 Automation Level\"].min())+\n",
    "                                                    220*(panel3_task_year_df[\"2008 Automation Level\"].max()-r2[\"2008 Automation Level\"]))/\n",
    "                                                (panel3_task_year_df[\"2008 Automation Level\"].max()-panel3_task_year_df[\"2008 Automation Level\"].min()),\n",
    "                                     \"automation_2008~2018\": r2[\"Change between 2008-2018\"],   \n",
    "                                      \"r_2008_2018\":220,\n",
    "                                      \"g_2008_2018\":(20*(r2[\"Change between 2008-2018\"]-panel3_task_year_df[\"Change between 2008-2018\"].min())+\n",
    "                                                    220*(panel3_task_year_df[\"Change between 2008-2018\"].max()-r2[\"Change between 2008-2018\"]))/\n",
    "                                                (panel3_task_year_df[\"Change between 2008-2018\"].max()-panel3_task_year_df[\"Change between 2008-2018\"].min()),\n",
    "                                      \"b_2008_2018\":(60*(r2[\"Change between 2008-2018\"]-panel3_task_year_df[\"Change between 2008-2018\"].min())+\n",
    "                                                    220*(panel3_task_year_df[\"Change between 2008-2018\"].max()-r2[\"Change between 2008-2018\"]))/\n",
    "                                                (panel3_task_year_df[\"Change between 2008-2018\"].max()-panel3_task_year_df[\"Change between 2008-2018\"].min()),\n",
    "                                     \"skill_id\": r2[\"Skill Id\"], \"task\": r2[\"Task\"], \"desc\":r2[\"Description\"]})\n",
    "            \n",
    "        child_collection.append(child)  \n",
    "        \n",
    "    skillmap[\"children\"] = child_collection\n",
    "        \n",
    "    #with open('../static/data/network/'+r1['Job Code']+'-2018'+'.json', 'w') as outfile:\n",
    "    with open('../static/data/network/'+r1['Job Code']+'.json', 'w') as outfile:    \n",
    "        json.dump(skillmap, outfile)\n",
    "\"\"\""
   ]
  },
  {
   "cell_type": "code",
   "execution_count": null,
   "metadata": {
    "collapsed": true
   },
   "outputs": [],
   "source": []
  }
 ],
 "metadata": {
  "anaconda-cloud": {},
  "kernelspec": {
   "display_name": "jauto",
   "language": "python",
   "name": "jauto"
  },
  "language_info": {
   "codemirror_mode": {
    "name": "ipython",
    "version": 3
   },
   "file_extension": ".py",
   "mimetype": "text/x-python",
   "name": "python",
   "nbconvert_exporter": "python",
   "pygments_lexer": "ipython3",
   "version": "3.6.8"
  }
 },
 "nbformat": 4,
 "nbformat_minor": 2
}
