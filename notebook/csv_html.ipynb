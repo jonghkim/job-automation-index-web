{
 "cells": [
  {
   "cell_type": "code",
   "execution_count": 1,
   "metadata": {
    "collapsed": true
   },
   "outputs": [],
   "source": [
    "# -*- coding: utf-8 -*-\n",
    "import pandas as pd"
   ]
  },
  {
   "cell_type": "code",
   "execution_count": 2,
   "metadata": {
    "collapsed": true
   },
   "outputs": [],
   "source": [
    "def table_generation(df):\n",
    "    lines = []\n",
    "    lines.append('<table class=\"table table-bordered sortable\" id=\"dataTable\" width=\"100%\" cellspacing=\"0\">\\n')\n",
    "    lines.append('<thead>')\n",
    "    lines.append('  <tr>\\n')\n",
    "\n",
    "    for i, col in enumerate(df.columns):\n",
    "        if i==0:\n",
    "            lines.append('    <th class=\"sorttable_sorted\">{} <span id=\"sorttable_sortfwdind\">&nbsp;▾</span> </th>\\n'.format(col))\n",
    "        else:\n",
    "            lines.append('    <th>{}</th>\\n'.format(col))\n",
    "\n",
    "    lines.append('  </tr>\\n')\n",
    "    lines.append('</thead>\\n')\n",
    "\n",
    "    lines.append('<tfoot>\\n')\n",
    "    lines.append('  <tr>\\n')\n",
    "    for col in df.columns:\n",
    "        lines.append('    <th>{}</th>\\n'.format(col))\n",
    "    \n",
    "    lines.append('  </tr>\\n')\n",
    "    lines.append('</tfoot>\\n')\n",
    "\n",
    "    lines.append('<tbody>\\n')\n",
    "\n",
    "    for i, r in df.iterrows():\n",
    "        lines.append('  <tr>\\n')\n",
    "        for col in df.columns:    \n",
    "            lines.append('    <td>{}</td>\\n'.format((\"%.2f\" % r[col]) if isinstance(r[col],float) else r[col]))\n",
    "        lines.append('  </tr>\\n')    \n",
    "    lines.append('</tbody>\\n')\n",
    "    lines.append('</table>')\n",
    "    \n",
    "    return ''.join(lines)\n"
   ]
  },
  {
   "cell_type": "code",
   "execution_count": 22,
   "metadata": {
    "collapsed": true
   },
   "outputs": [],
   "source": [
    "year = '2008~2018'\n",
    "csvpath = '../static/data/csv/Panel 4 '+year+'.csv'\n",
    "panel_df = pd.read_csv(csvpath, encoding='utf-8', index_col=0)"
   ]
  },
  {
   "cell_type": "code",
   "execution_count": 23,
   "metadata": {
    "collapsed": false
   },
   "outputs": [
    {
     "data": {
      "text/plain": [
       "Index([u'Job Code', u'Job Title', u'Automation Index',\n",
       "       u'Automation for Information Processing',\n",
       "       u'Automation for Clerical Task', u'Automation for Managerial Task',\n",
       "       u'Automation for Communication', u'Automation for Conflict Resolution',\n",
       "       u'Automation for Strategic Thinking', u'Automation for System Analysis',\n",
       "       u'Automation for Operation Monitoring',\n",
       "       u'Automation for Equipment Maintenance',\n",
       "       u'Automation for Equipment Operation', u'Automation for Physical Task',\n",
       "       u'Automation for Dynamic Physical Task',\n",
       "       u'Automation for Perceptual Task',\n",
       "       u'Automation for Hazardous and Group Task'],\n",
       "      dtype='object')"
      ]
     },
     "execution_count": 23,
     "metadata": {},
     "output_type": "execute_result"
    }
   ],
   "source": [
    "panel_df.columns"
   ]
  },
  {
   "cell_type": "code",
   "execution_count": 24,
   "metadata": {
    "collapsed": true
   },
   "outputs": [],
   "source": [
    "panel_df = panel_df[['Job Code', 'Job Title', 'Automation Index','Automation for Information Processing','Automation for Clerical Task',\n",
    "   'Automation for Managerial Task','Automation for Communication',\n",
    "   'Automation for Conflict Resolution','Automation for Strategic Thinking','Automation for System Analysis',\n",
    "   'Automation for Operation Monitoring','Automation for Equipment Maintenance','Automation for Equipment Operation', \n",
    "   'Automation for Physical Task', 'Automation for Dynamic Physical Task', 'Automation for Perceptual Task', 'Automation for Hazardous and Group Task']]\n"
   ]
  },
  {
   "cell_type": "code",
   "execution_count": 25,
   "metadata": {
    "collapsed": true
   },
   "outputs": [],
   "source": [
    "panel_df.to_csv('../static/data/csv/Panel 4 '+year+'.csv')"
   ]
  },
  {
   "cell_type": "code",
   "execution_count": 26,
   "metadata": {
    "collapsed": false
   },
   "outputs": [
    {
     "data": {
      "text/html": [
       "<div>\n",
       "<style>\n",
       "    .dataframe thead tr:only-child th {\n",
       "        text-align: right;\n",
       "    }\n",
       "\n",
       "    .dataframe thead th {\n",
       "        text-align: left;\n",
       "    }\n",
       "\n",
       "    .dataframe tbody tr th {\n",
       "        vertical-align: top;\n",
       "    }\n",
       "</style>\n",
       "<table border=\"1\" class=\"dataframe\">\n",
       "  <thead>\n",
       "    <tr style=\"text-align: right;\">\n",
       "      <th></th>\n",
       "      <th>Job Code</th>\n",
       "      <th>Job Title</th>\n",
       "      <th>Automation Index</th>\n",
       "      <th>Automation for Information Processing</th>\n",
       "      <th>Automation for Clerical Task</th>\n",
       "      <th>Automation for Managerial Task</th>\n",
       "      <th>Automation for Communication</th>\n",
       "      <th>Automation for Conflict Resolution</th>\n",
       "      <th>Automation for Strategic Thinking</th>\n",
       "      <th>Automation for System Analysis</th>\n",
       "      <th>Automation for Operation Monitoring</th>\n",
       "      <th>Automation for Equipment Maintenance</th>\n",
       "      <th>Automation for Equipment Operation</th>\n",
       "      <th>Automation for Physical Task</th>\n",
       "      <th>Automation for Dynamic Physical Task</th>\n",
       "      <th>Automation for Perceptual Task</th>\n",
       "      <th>Automation for Hazardous and Group Task</th>\n",
       "    </tr>\n",
       "  </thead>\n",
       "  <tbody>\n",
       "    <tr>\n",
       "      <th>0</th>\n",
       "      <td>00-0000</td>\n",
       "      <td>TOTAL AVERAGE</td>\n",
       "      <td>0.394429</td>\n",
       "      <td>0.072402</td>\n",
       "      <td>0.152203</td>\n",
       "      <td>0.050856</td>\n",
       "      <td>0.008500</td>\n",
       "      <td>0.115223</td>\n",
       "      <td>-0.117891</td>\n",
       "      <td>-0.128162</td>\n",
       "      <td>-0.075586</td>\n",
       "      <td>-0.023856</td>\n",
       "      <td>0.034329</td>\n",
       "      <td>0.101897</td>\n",
       "      <td>0.163938</td>\n",
       "      <td>0.056659</td>\n",
       "      <td>-0.016084</td>\n",
       "    </tr>\n",
       "    <tr>\n",
       "      <th>1</th>\n",
       "      <td>11-1011</td>\n",
       "      <td>Chief Executives</td>\n",
       "      <td>0.468638</td>\n",
       "      <td>1.598417</td>\n",
       "      <td>0.180358</td>\n",
       "      <td>1.710932</td>\n",
       "      <td>0.641849</td>\n",
       "      <td>-0.418416</td>\n",
       "      <td>-0.190320</td>\n",
       "      <td>-1.274219</td>\n",
       "      <td>-0.650832</td>\n",
       "      <td>-0.617024</td>\n",
       "      <td>-0.324697</td>\n",
       "      <td>0.000000</td>\n",
       "      <td>0.000000</td>\n",
       "      <td>-0.050995</td>\n",
       "      <td>-0.136414</td>\n",
       "    </tr>\n",
       "    <tr>\n",
       "      <th>2</th>\n",
       "      <td>11-1021</td>\n",
       "      <td>General and Operations Managers</td>\n",
       "      <td>0.992754</td>\n",
       "      <td>1.115686</td>\n",
       "      <td>-0.594079</td>\n",
       "      <td>2.037823</td>\n",
       "      <td>2.951565</td>\n",
       "      <td>-0.291974</td>\n",
       "      <td>0.626567</td>\n",
       "      <td>-1.916646</td>\n",
       "      <td>-0.513158</td>\n",
       "      <td>-0.442074</td>\n",
       "      <td>-0.275045</td>\n",
       "      <td>-0.015829</td>\n",
       "      <td>-0.102173</td>\n",
       "      <td>-2.143453</td>\n",
       "      <td>0.555544</td>\n",
       "    </tr>\n",
       "    <tr>\n",
       "      <th>3</th>\n",
       "      <td>11-2011</td>\n",
       "      <td>Advertising and Promotions Managers</td>\n",
       "      <td>0.553128</td>\n",
       "      <td>-1.123356</td>\n",
       "      <td>3.541339</td>\n",
       "      <td>-2.278535</td>\n",
       "      <td>0.864771</td>\n",
       "      <td>-0.913282</td>\n",
       "      <td>1.529522</td>\n",
       "      <td>0.299917</td>\n",
       "      <td>-0.707874</td>\n",
       "      <td>0.491966</td>\n",
       "      <td>-0.000349</td>\n",
       "      <td>-0.209815</td>\n",
       "      <td>-0.548906</td>\n",
       "      <td>-0.568998</td>\n",
       "      <td>0.176729</td>\n",
       "    </tr>\n",
       "    <tr>\n",
       "      <th>4</th>\n",
       "      <td>11-2021</td>\n",
       "      <td>Marketing Managers</td>\n",
       "      <td>-0.048585</td>\n",
       "      <td>0.334720</td>\n",
       "      <td>-2.222159</td>\n",
       "      <td>-1.001505</td>\n",
       "      <td>2.055507</td>\n",
       "      <td>1.008072</td>\n",
       "      <td>2.058128</td>\n",
       "      <td>-2.468408</td>\n",
       "      <td>-0.616969</td>\n",
       "      <td>0.291024</td>\n",
       "      <td>-0.033533</td>\n",
       "      <td>0.000000</td>\n",
       "      <td>0.000000</td>\n",
       "      <td>0.022482</td>\n",
       "      <td>0.524058</td>\n",
       "    </tr>\n",
       "  </tbody>\n",
       "</table>\n",
       "</div>"
      ],
      "text/plain": [
       "  Job Code                            Job Title  Automation Index  \\\n",
       "0  00-0000                        TOTAL AVERAGE          0.394429   \n",
       "1  11-1011                     Chief Executives          0.468638   \n",
       "2  11-1021      General and Operations Managers          0.992754   \n",
       "3  11-2011  Advertising and Promotions Managers          0.553128   \n",
       "4  11-2021                   Marketing Managers         -0.048585   \n",
       "\n",
       "   Automation for Information Processing  Automation for Clerical Task  \\\n",
       "0                               0.072402                      0.152203   \n",
       "1                               1.598417                      0.180358   \n",
       "2                               1.115686                     -0.594079   \n",
       "3                              -1.123356                      3.541339   \n",
       "4                               0.334720                     -2.222159   \n",
       "\n",
       "   Automation for Managerial Task  Automation for Communication  \\\n",
       "0                        0.050856                      0.008500   \n",
       "1                        1.710932                      0.641849   \n",
       "2                        2.037823                      2.951565   \n",
       "3                       -2.278535                      0.864771   \n",
       "4                       -1.001505                      2.055507   \n",
       "\n",
       "   Automation for Conflict Resolution  Automation for Strategic Thinking  \\\n",
       "0                            0.115223                          -0.117891   \n",
       "1                           -0.418416                          -0.190320   \n",
       "2                           -0.291974                           0.626567   \n",
       "3                           -0.913282                           1.529522   \n",
       "4                            1.008072                           2.058128   \n",
       "\n",
       "   Automation for System Analysis  Automation for Operation Monitoring  \\\n",
       "0                       -0.128162                            -0.075586   \n",
       "1                       -1.274219                            -0.650832   \n",
       "2                       -1.916646                            -0.513158   \n",
       "3                        0.299917                            -0.707874   \n",
       "4                       -2.468408                            -0.616969   \n",
       "\n",
       "   Automation for Equipment Maintenance  Automation for Equipment Operation  \\\n",
       "0                             -0.023856                            0.034329   \n",
       "1                             -0.617024                           -0.324697   \n",
       "2                             -0.442074                           -0.275045   \n",
       "3                              0.491966                           -0.000349   \n",
       "4                              0.291024                           -0.033533   \n",
       "\n",
       "   Automation for Physical Task  Automation for Dynamic Physical Task  \\\n",
       "0                      0.101897                              0.163938   \n",
       "1                      0.000000                              0.000000   \n",
       "2                     -0.015829                             -0.102173   \n",
       "3                     -0.209815                             -0.548906   \n",
       "4                      0.000000                              0.000000   \n",
       "\n",
       "   Automation for Perceptual Task  Automation for Hazardous and Group Task  \n",
       "0                        0.056659                                -0.016084  \n",
       "1                       -0.050995                                -0.136414  \n",
       "2                       -2.143453                                 0.555544  \n",
       "3                       -0.568998                                 0.176729  \n",
       "4                        0.022482                                 0.524058  "
      ]
     },
     "execution_count": 26,
     "metadata": {},
     "output_type": "execute_result"
    }
   ],
   "source": [
    "panel_df.head()"
   ]
  },
  {
   "cell_type": "code",
   "execution_count": 27,
   "metadata": {
    "collapsed": true
   },
   "outputs": [],
   "source": [
    "table = table_generation(panel_df)"
   ]
  },
  {
   "cell_type": "code",
   "execution_count": 28,
   "metadata": {
    "collapsed": false,
    "scrolled": false
   },
   "outputs": [],
   "source": [
    "f = open( '../visualize/templates/visualize/panel4_'+year+'.html', 'w')\n",
    "f.write(table)\n",
    "f.close()"
   ]
  },
  {
   "cell_type": "code",
   "execution_count": null,
   "metadata": {
    "collapsed": true
   },
   "outputs": [],
   "source": []
  }
 ],
 "metadata": {
  "anaconda-cloud": {},
  "kernelspec": {
   "display_name": "py35",
   "language": "python",
   "name": "py35"
  },
  "language_info": {
   "codemirror_mode": {
    "name": "ipython",
    "version": 2
   },
   "file_extension": ".py",
   "mimetype": "text/x-python",
   "name": "python",
   "nbconvert_exporter": "python",
   "pygments_lexer": "ipython2",
   "version": "2.7.12"
  }
 },
 "nbformat": 4,
 "nbformat_minor": 1
}
