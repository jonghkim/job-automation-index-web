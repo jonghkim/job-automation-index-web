{
 "cells": [
  {
   "cell_type": "code",
   "execution_count": 1,
   "metadata": {
    "collapsed": true
   },
   "outputs": [],
   "source": [
    "# -*- coding: utf-8 -*-\n",
    "import pandas as pd"
   ]
  },
  {
   "cell_type": "code",
   "execution_count": 2,
   "metadata": {
    "collapsed": true
   },
   "outputs": [],
   "source": [
    "def table_generation(df):\n",
    "    lines = []\n",
    "    lines.append('<table class=\"table table-bordered sortable\" id=\"dataTable\" width=\"100%\" cellspacing=\"0\">\\n')\n",
    "    lines.append('<thead>')\n",
    "    lines.append('  <tr>\\n')\n",
    "\n",
    "    for i, col in enumerate(df.columns):\n",
    "        if i==0:\n",
    "            lines.append('    <th class=\"sorttable_sorted\">{} <span id=\"sorttable_sortfwdind\">&nbsp;▾</span> </th>\\n'.format(col))\n",
    "        else:\n",
    "            lines.append('    <th>{}</th>\\n'.format(col))\n",
    "\n",
    "    lines.append('  </tr>\\n')\n",
    "    lines.append('</thead>\\n')\n",
    "\n",
    "    lines.append('<tfoot>\\n')\n",
    "    lines.append('  <tr>\\n')\n",
    "    for col in df.columns:\n",
    "        lines.append('    <th>{}</th>\\n'.format(col))\n",
    "    \n",
    "    lines.append('  </tr>\\n')\n",
    "    lines.append('</tfoot>\\n')\n",
    "\n",
    "    lines.append('<tbody>\\n')\n",
    "\n",
    "    for i, r in df.iterrows():\n",
    "        lines.append('  <tr>\\n')\n",
    "        for col in df.columns:    \n",
    "            lines.append('    <td>{}</td>\\n'.format((\"%.2f\" % r[col]) if isinstance(r[col],float) else r[col]))\n",
    "        lines.append('  </tr>\\n')    \n",
    "    lines.append('</tbody>\\n')\n",
    "    lines.append('</table>')\n",
    "    \n",
    "    return ''.join(lines)\n"
   ]
  },
  {
   "cell_type": "code",
   "execution_count": 3,
   "metadata": {
    "collapsed": true
   },
   "outputs": [],
   "source": [
    "year = '2018'\n",
    "csvpath = '../static/data/csv/Panel 4 '+year+'.csv'\n",
    "panel_df = pd.read_csv(csvpath, encoding='utf-8')"
   ]
  },
  {
   "cell_type": "code",
   "execution_count": 4,
   "metadata": {
    "collapsed": false
   },
   "outputs": [
    {
     "data": {
      "text/plain": [
       "Index(['﻿', 'Job Code', 'Job Title', 'Automation Index',\n",
       "       'Automation for Clerical Task', 'Automation for Information Processing',\n",
       "       'Automation for Managerial Task', 'Automation for Communication',\n",
       "       'Automation for Conflict Resolution',\n",
       "       'Automation for Strategic Thinking', 'Automation for System Analysis',\n",
       "       'Automation for Operation Monitoring',\n",
       "       'Automation for Equipment Maintenance',\n",
       "       'Automation for Equipment Operation', 'Automation for Physical Task',\n",
       "       'Automation for Dynamic Physical Task', 'Automation for Outdoor Labor',\n",
       "       'Automation for Hazardous and Group Task'],\n",
       "      dtype='object')"
      ]
     },
     "execution_count": 4,
     "metadata": {},
     "output_type": "execute_result"
    }
   ],
   "source": [
    "panel_df.columns"
   ]
  },
  {
   "cell_type": "code",
   "execution_count": 5,
   "metadata": {
    "collapsed": true
   },
   "outputs": [],
   "source": [
    "panel_df = panel_df[['Job Code', 'Job Title', 'Automation Index','Automation for Information Processing','Automation for Clerical Task',\n",
    "   'Automation for Managerial Task','Automation for Communication',\n",
    "   'Automation for Conflict Resolution','Automation for Strategic Thinking','Automation for System Analysis',\n",
    "   'Automation for Operation Monitoring','Automation for Equipment Maintenance','Automation for Equipment Operation', \n",
    "   'Automation for Physical Task', 'Automation for Dynamic Physical Task', 'Automation for Outdoor Labor', 'Automation for Hazardous and Group Task']]\n"
   ]
  },
  {
   "cell_type": "code",
   "execution_count": 6,
   "metadata": {
    "collapsed": true
   },
   "outputs": [],
   "source": [
    "panel_df.to_csv('../static/data/csv/Panel 4 '+year+'.csv')"
   ]
  },
  {
   "cell_type": "code",
   "execution_count": 7,
   "metadata": {
    "collapsed": false
   },
   "outputs": [
    {
     "data": {
      "text/html": [
       "<div>\n",
       "<table border=\"1\" class=\"dataframe\">\n",
       "  <thead>\n",
       "    <tr style=\"text-align: right;\">\n",
       "      <th></th>\n",
       "      <th>Job Code</th>\n",
       "      <th>Job Title</th>\n",
       "      <th>Automation Index</th>\n",
       "      <th>Automation for Information Processing</th>\n",
       "      <th>Automation for Clerical Task</th>\n",
       "      <th>Automation for Managerial Task</th>\n",
       "      <th>Automation for Communication</th>\n",
       "      <th>Automation for Conflict Resolution</th>\n",
       "      <th>Automation for Strategic Thinking</th>\n",
       "      <th>Automation for System Analysis</th>\n",
       "      <th>Automation for Operation Monitoring</th>\n",
       "      <th>Automation for Equipment Maintenance</th>\n",
       "      <th>Automation for Equipment Operation</th>\n",
       "      <th>Automation for Physical Task</th>\n",
       "      <th>Automation for Dynamic Physical Task</th>\n",
       "      <th>Automation for Outdoor Labor</th>\n",
       "      <th>Automation for Hazardous and Group Task</th>\n",
       "    </tr>\n",
       "  </thead>\n",
       "  <tbody>\n",
       "    <tr>\n",
       "      <th>0</th>\n",
       "      <td>00-0000</td>\n",
       "      <td>TOTAL AVERAGE</td>\n",
       "      <td>42.541344</td>\n",
       "      <td>43.896290</td>\n",
       "      <td>39.795151</td>\n",
       "      <td>38.031517</td>\n",
       "      <td>39.038133</td>\n",
       "      <td>45.557279</td>\n",
       "      <td>37.791993</td>\n",
       "      <td>40.641304</td>\n",
       "      <td>44.474758</td>\n",
       "      <td>46.118548</td>\n",
       "      <td>47.133217</td>\n",
       "      <td>38.918942</td>\n",
       "      <td>39.511347</td>\n",
       "      <td>50.476422</td>\n",
       "      <td>44.193913</td>\n",
       "    </tr>\n",
       "    <tr>\n",
       "      <th>1</th>\n",
       "      <td>11-1011</td>\n",
       "      <td>Chief Executives</td>\n",
       "      <td>42.077037</td>\n",
       "      <td>59.891360</td>\n",
       "      <td>59.149267</td>\n",
       "      <td>110.400096</td>\n",
       "      <td>86.579051</td>\n",
       "      <td>49.074814</td>\n",
       "      <td>78.276720</td>\n",
       "      <td>55.946499</td>\n",
       "      <td>48.403587</td>\n",
       "      <td>7.496645</td>\n",
       "      <td>4.047727</td>\n",
       "      <td>0.000000</td>\n",
       "      <td>0.000000</td>\n",
       "      <td>3.527982</td>\n",
       "      <td>26.284771</td>\n",
       "    </tr>\n",
       "    <tr>\n",
       "      <th>2</th>\n",
       "      <td>11-1021</td>\n",
       "      <td>General and Operations Managers</td>\n",
       "      <td>26.404945</td>\n",
       "      <td>28.320039</td>\n",
       "      <td>41.505814</td>\n",
       "      <td>82.649651</td>\n",
       "      <td>64.290235</td>\n",
       "      <td>33.026834</td>\n",
       "      <td>36.295974</td>\n",
       "      <td>18.212336</td>\n",
       "      <td>20.391603</td>\n",
       "      <td>7.540962</td>\n",
       "      <td>3.196643</td>\n",
       "      <td>0.000000</td>\n",
       "      <td>2.447097</td>\n",
       "      <td>2.323051</td>\n",
       "      <td>29.468993</td>\n",
       "    </tr>\n",
       "    <tr>\n",
       "      <th>3</th>\n",
       "      <td>11-2011</td>\n",
       "      <td>Advertising and Promotions Managers</td>\n",
       "      <td>17.028342</td>\n",
       "      <td>14.694333</td>\n",
       "      <td>48.622009</td>\n",
       "      <td>20.238208</td>\n",
       "      <td>45.101868</td>\n",
       "      <td>7.811481</td>\n",
       "      <td>29.259218</td>\n",
       "      <td>36.000337</td>\n",
       "      <td>15.830666</td>\n",
       "      <td>6.423721</td>\n",
       "      <td>0.065994</td>\n",
       "      <td>0.000000</td>\n",
       "      <td>0.000000</td>\n",
       "      <td>1.444663</td>\n",
       "      <td>12.904296</td>\n",
       "    </tr>\n",
       "    <tr>\n",
       "      <th>4</th>\n",
       "      <td>11-2021</td>\n",
       "      <td>Marketing Managers</td>\n",
       "      <td>22.772154</td>\n",
       "      <td>23.357319</td>\n",
       "      <td>41.117795</td>\n",
       "      <td>54.214349</td>\n",
       "      <td>54.956790</td>\n",
       "      <td>20.534346</td>\n",
       "      <td>49.360286</td>\n",
       "      <td>33.418775</td>\n",
       "      <td>16.197656</td>\n",
       "      <td>9.362972</td>\n",
       "      <td>0.026062</td>\n",
       "      <td>0.000000</td>\n",
       "      <td>0.000000</td>\n",
       "      <td>0.124480</td>\n",
       "      <td>16.139321</td>\n",
       "    </tr>\n",
       "  </tbody>\n",
       "</table>\n",
       "</div>"
      ],
      "text/plain": [
       "  Job Code                            Job Title  Automation Index  \\\n",
       "0  00-0000                        TOTAL AVERAGE         42.541344   \n",
       "1  11-1011                     Chief Executives         42.077037   \n",
       "2  11-1021      General and Operations Managers         26.404945   \n",
       "3  11-2011  Advertising and Promotions Managers         17.028342   \n",
       "4  11-2021                   Marketing Managers         22.772154   \n",
       "\n",
       "   Automation for Information Processing  Automation for Clerical Task  \\\n",
       "0                              43.896290                     39.795151   \n",
       "1                              59.891360                     59.149267   \n",
       "2                              28.320039                     41.505814   \n",
       "3                              14.694333                     48.622009   \n",
       "4                              23.357319                     41.117795   \n",
       "\n",
       "   Automation for Managerial Task  Automation for Communication  \\\n",
       "0                       38.031517                     39.038133   \n",
       "1                      110.400096                     86.579051   \n",
       "2                       82.649651                     64.290235   \n",
       "3                       20.238208                     45.101868   \n",
       "4                       54.214349                     54.956790   \n",
       "\n",
       "   Automation for Conflict Resolution  Automation for Strategic Thinking  \\\n",
       "0                           45.557279                          37.791993   \n",
       "1                           49.074814                          78.276720   \n",
       "2                           33.026834                          36.295974   \n",
       "3                            7.811481                          29.259218   \n",
       "4                           20.534346                          49.360286   \n",
       "\n",
       "   Automation for System Analysis  Automation for Operation Monitoring  \\\n",
       "0                       40.641304                            44.474758   \n",
       "1                       55.946499                            48.403587   \n",
       "2                       18.212336                            20.391603   \n",
       "3                       36.000337                            15.830666   \n",
       "4                       33.418775                            16.197656   \n",
       "\n",
       "   Automation for Equipment Maintenance  Automation for Equipment Operation  \\\n",
       "0                             46.118548                           47.133217   \n",
       "1                              7.496645                            4.047727   \n",
       "2                              7.540962                            3.196643   \n",
       "3                              6.423721                            0.065994   \n",
       "4                              9.362972                            0.026062   \n",
       "\n",
       "   Automation for Physical Task  Automation for Dynamic Physical Task  \\\n",
       "0                     38.918942                             39.511347   \n",
       "1                      0.000000                              0.000000   \n",
       "2                      0.000000                              2.447097   \n",
       "3                      0.000000                              0.000000   \n",
       "4                      0.000000                              0.000000   \n",
       "\n",
       "   Automation for Outdoor Labor  Automation for Hazardous and Group Task  \n",
       "0                     50.476422                                44.193913  \n",
       "1                      3.527982                                26.284771  \n",
       "2                      2.323051                                29.468993  \n",
       "3                      1.444663                                12.904296  \n",
       "4                      0.124480                                16.139321  "
      ]
     },
     "execution_count": 7,
     "metadata": {},
     "output_type": "execute_result"
    }
   ],
   "source": [
    "panel_df.head()"
   ]
  },
  {
   "cell_type": "code",
   "execution_count": 8,
   "metadata": {
    "collapsed": true
   },
   "outputs": [],
   "source": [
    "table = table_generation(panel_df)"
   ]
  },
  {
   "cell_type": "code",
   "execution_count": 9,
   "metadata": {
    "collapsed": true,
    "scrolled": false
   },
   "outputs": [],
   "source": [
    "f = open( '../visualize/templates/visualize/panel4_'+year+'.html', 'w' , encoding='utf8')\n",
    "f.write(table)\n",
    "f.close()"
   ]
  },
  {
   "cell_type": "code",
   "execution_count": null,
   "metadata": {
    "collapsed": true
   },
   "outputs": [],
   "source": []
  }
 ],
 "metadata": {
  "anaconda-cloud": {},
  "kernelspec": {
   "display_name": "py35",
   "language": "python",
   "name": "py35"
  },
  "language_info": {
   "codemirror_mode": {
    "name": "ipython",
    "version": 2
   },
   "file_extension": ".py",
   "mimetype": "text/x-python",
   "name": "python",
   "nbconvert_exporter": "python",
   "pygments_lexer": "ipython2",
   "version": "2.7.12"
  }
 },
 "nbformat": 4,
 "nbformat_minor": 1
}
