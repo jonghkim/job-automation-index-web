{
 "cells": [
  {
   "cell_type": "code",
   "execution_count": 1,
   "metadata": {
    "collapsed": true
   },
   "outputs": [],
   "source": [
    "# -*- coding: utf-8 -*-\n",
    "import pandas as pd"
   ]
  },
  {
   "cell_type": "code",
   "execution_count": 2,
   "metadata": {
    "collapsed": true
   },
   "outputs": [],
   "source": [
    "def table_generation(df,grouping, grouping_text):\n",
    "    lines = []\n",
    "    lines.append('<table class=\"table table-bordered sortable\" id=\"dataTable\" width=\"100%\" cellspacing=\"0\">\\n')\n",
    "    lines.append('<thead>\\n')\n",
    "    #lines.append('<col>\\n')    \n",
    "    \n",
    "    #for group in grouping:\n",
    "    #    lines.append('<colgroup span=\"{}\"</colgroup>\\n'.format(group))    \n",
    "        \n",
    "    lines.append('  <tr>\\n')\n",
    "    #lines.append('  <th rowspan=\"2\"></th>\\n') \n",
    "    \n",
    "    for group, txt in zip(grouping, grouping_text):    \n",
    "        lines.append('  <th colspan=\"{}\" scope=\"colgroup\">{}</th>\\n'.format(group, txt)) \n",
    "    \n",
    "    lines.append('  </tr>\\n')    \n",
    "    \n",
    "    lines.append('  <tr>\\n')\n",
    "    lines.append('    <th scope=\"col\"></th>\\n')\n",
    "    for i, col in enumerate(df.columns):\n",
    "        if i==0:\n",
    "            lines.append('    <th scope=\"col\" class=\"sorttable_sorted\">{} <span id=\"sorttable_sortfwdind\">&nbsp;▾</span> </th>\\n'.format(col))\n",
    "        else:\n",
    "            lines.append('    <th scope=\"col\">{}</th>\\n'.format(col))\n",
    "\n",
    "    lines.append('  </tr>\\n')\n",
    "    lines.append('</thead>\\n')\n",
    "\n",
    "    lines.append('<tfoot>\\n')\n",
    "    lines.append('  <tr>\\n')\n",
    "    for col in df.columns:\n",
    "        lines.append('    <th>{}</th>\\n'.format(col))\n",
    "    \n",
    "    lines.append('  </tr>\\n')\n",
    "    lines.append('</tfoot>\\n')\n",
    "\n",
    "    lines.append('<tbody>\\n')\n",
    "\n",
    "    for i, r in df.iterrows():\n",
    "        lines.append('  <tr>\\n')\n",
    "        lines.append('  <td class=\"index\"></td>\\n')        \n",
    "        for col in df.columns:    \n",
    "            lines.append('    <td>{}</td>\\n'.format((\"%.2f\" % r[col]) if isinstance(r[col],float) else r[col]))\n",
    "        lines.append('  </tr>\\n')    \n",
    "    lines.append('</tbody>\\n')\n",
    "    lines.append('</table>')\n",
    "    \n",
    "    return ''.join(lines)\n"
   ]
  },
  {
   "cell_type": "code",
   "execution_count": 46,
   "metadata": {},
   "outputs": [],
   "source": [
    "year = '2008~2018'\n",
    "csvpath = '../static/data/csv/Panel 7 '+year+'.csv'\n",
    "panel_df = pd.read_csv(csvpath, encoding='utf-8')"
   ]
  },
  {
   "cell_type": "code",
   "execution_count": 47,
   "metadata": {},
   "outputs": [
    {
     "data": {
      "text/plain": [
       "Index(['Unnamed: 0', 'State', 'Metropolitan Areas', 'Automation Index',\n",
       "       'Automation for Strategic Thinking', 'Automation for System Analysis',\n",
       "       'Automation for Managerial Task',\n",
       "       'Automation for Dynamic Physical Task',\n",
       "       'Automation for Hazardous and Group Task',\n",
       "       'Automation for Information Processing',\n",
       "       'Automation for Conflict Resolution',\n",
       "       'Automation for Equipment Operation', 'Automation for Perceptual Task',\n",
       "       'Automation for Clerical Task', 'Automation for Communication',\n",
       "       'Automation for Operation Monitoring',\n",
       "       'Automation for Equipment Maintenance', 'Automation for Physical Task'],\n",
       "      dtype='object')"
      ]
     },
     "execution_count": 47,
     "metadata": {},
     "output_type": "execute_result"
    }
   ],
   "source": [
    "panel_df.columns"
   ]
  },
  {
   "cell_type": "code",
   "execution_count": 48,
   "metadata": {},
   "outputs": [],
   "source": [
    "panel_df = panel_df[['State', 'Metropolitan Areas', 'Automation Index','Automation for Strategic Thinking', 'Automation for System Analysis',\n",
    "                      'Automation for Managerial Task','Automation for Dynamic Physical Task',\n",
    "                     'Automation for Hazardous and Group Task','Automation for Information Processing',\n",
    "                     'Automation for Conflict Resolution','Automation for Equipment Operation',\n",
    "                     'Automation for Perceptual Task', 'Automation for Clerical Task',\n",
    "                     'Automation for Communication',\n",
    "                      'Automation for Operation Monitoring',\n",
    "                     'Automation for Equipment Maintenance','Automation for Physical Task']]"
   ]
  },
  {
   "cell_type": "code",
   "execution_count": 49,
   "metadata": {},
   "outputs": [
    {
     "data": {
      "text/plain": [
       "\"\\npanel_df = panel_df[['Job Code', 'Job Title', 'Race ahead of the Machine',\\n       'Race with the Machine', 'Race against the Machine',\\n       'Running a Different Race']]\\n\""
      ]
     },
     "execution_count": 49,
     "metadata": {},
     "output_type": "execute_result"
    }
   ],
   "source": [
    "grouping = [1, 1, 1, 1, 2, 3, 4, 5]\n",
    "grouping_text = [\"\",\"\",\"\",\"\",\"Race ahead of the Machine\",\"Race with the Machine\",\"Race against the Machine\",\"Running a Different Race\"]\n",
    "\n",
    "\n",
    "\"\"\"\n",
    "panel_df = panel_df[['Job Code', 'Job Title', 'Race ahead of the Machine',\n",
    "       'Race with the Machine', 'Race against the Machine',\n",
    "       'Running a Different Race']]\n",
    "\"\"\""
   ]
  },
  {
   "cell_type": "code",
   "execution_count": 50,
   "metadata": {
    "collapsed": true
   },
   "outputs": [],
   "source": [
    "panel_df.to_csv('../static/data/csv/Panel 7 '+year+'.csv')"
   ]
  },
  {
   "cell_type": "code",
   "execution_count": 51,
   "metadata": {},
   "outputs": [
    {
     "data": {
      "text/html": [
       "<div>\n",
       "<style>\n",
       "    .dataframe thead tr:only-child th {\n",
       "        text-align: right;\n",
       "    }\n",
       "\n",
       "    .dataframe thead th {\n",
       "        text-align: left;\n",
       "    }\n",
       "\n",
       "    .dataframe tbody tr th {\n",
       "        vertical-align: top;\n",
       "    }\n",
       "</style>\n",
       "<table border=\"1\" class=\"dataframe\">\n",
       "  <thead>\n",
       "    <tr style=\"text-align: right;\">\n",
       "      <th></th>\n",
       "      <th>State</th>\n",
       "      <th>Metropolitan Areas</th>\n",
       "      <th>Automation Index</th>\n",
       "      <th>Automation for Strategic Thinking</th>\n",
       "      <th>Automation for System Analysis</th>\n",
       "      <th>Automation for Managerial Task</th>\n",
       "      <th>Automation for Dynamic Physical Task</th>\n",
       "      <th>Automation for Hazardous and Group Task</th>\n",
       "      <th>Automation for Information Processing</th>\n",
       "      <th>Automation for Conflict Resolution</th>\n",
       "      <th>Automation for Equipment Operation</th>\n",
       "      <th>Automation for Perceptual Task</th>\n",
       "      <th>Automation for Clerical Task</th>\n",
       "      <th>Automation for Communication</th>\n",
       "      <th>Automation for Operation Monitoring</th>\n",
       "      <th>Automation for Equipment Maintenance</th>\n",
       "      <th>Automation for Physical Task</th>\n",
       "    </tr>\n",
       "  </thead>\n",
       "  <tbody>\n",
       "    <tr>\n",
       "      <th>0</th>\n",
       "      <td>AK</td>\n",
       "      <td>Anchorage</td>\n",
       "      <td>0.37</td>\n",
       "      <td>0.14</td>\n",
       "      <td>-0.26</td>\n",
       "      <td>0.61</td>\n",
       "      <td>-0.40</td>\n",
       "      <td>-0.02</td>\n",
       "      <td>-0.31</td>\n",
       "      <td>0.75</td>\n",
       "      <td>-0.28</td>\n",
       "      <td>-0.62</td>\n",
       "      <td>0.53</td>\n",
       "      <td>0.95</td>\n",
       "      <td>-0.42</td>\n",
       "      <td>-0.06</td>\n",
       "      <td>-0.24</td>\n",
       "    </tr>\n",
       "    <tr>\n",
       "      <th>1</th>\n",
       "      <td>AK</td>\n",
       "      <td>Fairbanks</td>\n",
       "      <td>0.11</td>\n",
       "      <td>0.26</td>\n",
       "      <td>-0.51</td>\n",
       "      <td>0.83</td>\n",
       "      <td>-0.62</td>\n",
       "      <td>-0.04</td>\n",
       "      <td>-0.71</td>\n",
       "      <td>0.82</td>\n",
       "      <td>-0.27</td>\n",
       "      <td>-0.50</td>\n",
       "      <td>0.52</td>\n",
       "      <td>1.23</td>\n",
       "      <td>-0.65</td>\n",
       "      <td>-0.03</td>\n",
       "      <td>-0.22</td>\n",
       "    </tr>\n",
       "    <tr>\n",
       "      <th>2</th>\n",
       "      <td>AL</td>\n",
       "      <td>Anniston-Oxford-Jacksonville</td>\n",
       "      <td>0.52</td>\n",
       "      <td>-0.03</td>\n",
       "      <td>-0.28</td>\n",
       "      <td>0.68</td>\n",
       "      <td>-0.11</td>\n",
       "      <td>0.22</td>\n",
       "      <td>-0.41</td>\n",
       "      <td>0.55</td>\n",
       "      <td>0.04</td>\n",
       "      <td>-0.68</td>\n",
       "      <td>0.40</td>\n",
       "      <td>1.44</td>\n",
       "      <td>-0.47</td>\n",
       "      <td>-0.29</td>\n",
       "      <td>-0.54</td>\n",
       "    </tr>\n",
       "    <tr>\n",
       "      <th>3</th>\n",
       "      <td>AL</td>\n",
       "      <td>Auburn-Opelika</td>\n",
       "      <td>0.32</td>\n",
       "      <td>0.01</td>\n",
       "      <td>-0.42</td>\n",
       "      <td>0.54</td>\n",
       "      <td>-0.41</td>\n",
       "      <td>0.32</td>\n",
       "      <td>-0.83</td>\n",
       "      <td>0.55</td>\n",
       "      <td>0.23</td>\n",
       "      <td>0.13</td>\n",
       "      <td>0.15</td>\n",
       "      <td>1.08</td>\n",
       "      <td>-0.70</td>\n",
       "      <td>0.09</td>\n",
       "      <td>-0.42</td>\n",
       "    </tr>\n",
       "    <tr>\n",
       "      <th>4</th>\n",
       "      <td>AL</td>\n",
       "      <td>Birmingham-Hoover</td>\n",
       "      <td>0.37</td>\n",
       "      <td>0.07</td>\n",
       "      <td>-0.35</td>\n",
       "      <td>0.56</td>\n",
       "      <td>-0.37</td>\n",
       "      <td>0.07</td>\n",
       "      <td>-0.35</td>\n",
       "      <td>0.51</td>\n",
       "      <td>-0.05</td>\n",
       "      <td>-0.34</td>\n",
       "      <td>0.57</td>\n",
       "      <td>1.06</td>\n",
       "      <td>-0.58</td>\n",
       "      <td>0.07</td>\n",
       "      <td>-0.49</td>\n",
       "    </tr>\n",
       "  </tbody>\n",
       "</table>\n",
       "</div>"
      ],
      "text/plain": [
       "  State            Metropolitan Areas  Automation Index  \\\n",
       "0    AK                     Anchorage              0.37   \n",
       "1    AK                     Fairbanks              0.11   \n",
       "2    AL  Anniston-Oxford-Jacksonville              0.52   \n",
       "3    AL                Auburn-Opelika              0.32   \n",
       "4    AL             Birmingham-Hoover              0.37   \n",
       "\n",
       "   Automation for Strategic Thinking  Automation for System Analysis  \\\n",
       "0                               0.14                           -0.26   \n",
       "1                               0.26                           -0.51   \n",
       "2                              -0.03                           -0.28   \n",
       "3                               0.01                           -0.42   \n",
       "4                               0.07                           -0.35   \n",
       "\n",
       "   Automation for Managerial Task  Automation for Dynamic Physical Task  \\\n",
       "0                            0.61                                 -0.40   \n",
       "1                            0.83                                 -0.62   \n",
       "2                            0.68                                 -0.11   \n",
       "3                            0.54                                 -0.41   \n",
       "4                            0.56                                 -0.37   \n",
       "\n",
       "   Automation for Hazardous and Group Task  \\\n",
       "0                                    -0.02   \n",
       "1                                    -0.04   \n",
       "2                                     0.22   \n",
       "3                                     0.32   \n",
       "4                                     0.07   \n",
       "\n",
       "   Automation for Information Processing  Automation for Conflict Resolution  \\\n",
       "0                                  -0.31                                0.75   \n",
       "1                                  -0.71                                0.82   \n",
       "2                                  -0.41                                0.55   \n",
       "3                                  -0.83                                0.55   \n",
       "4                                  -0.35                                0.51   \n",
       "\n",
       "   Automation for Equipment Operation  Automation for Perceptual Task  \\\n",
       "0                               -0.28                           -0.62   \n",
       "1                               -0.27                           -0.50   \n",
       "2                                0.04                           -0.68   \n",
       "3                                0.23                            0.13   \n",
       "4                               -0.05                           -0.34   \n",
       "\n",
       "   Automation for Clerical Task  Automation for Communication  \\\n",
       "0                          0.53                          0.95   \n",
       "1                          0.52                          1.23   \n",
       "2                          0.40                          1.44   \n",
       "3                          0.15                          1.08   \n",
       "4                          0.57                          1.06   \n",
       "\n",
       "   Automation for Operation Monitoring  Automation for Equipment Maintenance  \\\n",
       "0                                -0.42                                 -0.06   \n",
       "1                                -0.65                                 -0.03   \n",
       "2                                -0.47                                 -0.29   \n",
       "3                                -0.70                                  0.09   \n",
       "4                                -0.58                                  0.07   \n",
       "\n",
       "   Automation for Physical Task  \n",
       "0                         -0.24  \n",
       "1                         -0.22  \n",
       "2                         -0.54  \n",
       "3                         -0.42  \n",
       "4                         -0.49  "
      ]
     },
     "execution_count": 51,
     "metadata": {},
     "output_type": "execute_result"
    }
   ],
   "source": [
    "panel_df.head()"
   ]
  },
  {
   "cell_type": "code",
   "execution_count": 52,
   "metadata": {
    "collapsed": true
   },
   "outputs": [],
   "source": [
    "table = table_generation(panel_df,grouping, grouping_text)"
   ]
  },
  {
   "cell_type": "code",
   "execution_count": 53,
   "metadata": {
    "scrolled": false
   },
   "outputs": [],
   "source": [
    "#f = open( '../visualize/templates/visualize/panel4_'+year+'.html', 'w' , encoding='utf8')\n",
    "#f = open( '../visualize/templates/visualize/panel5_'+year+'.html', 'w' , encoding='utf8')\n",
    "#f = open( '../visualize/templates/visualize/panel4_'+year+'.html', 'w')\n",
    "#f.write(table)\n",
    "#f.close()"
   ]
  },
  {
   "cell_type": "code",
   "execution_count": 54,
   "metadata": {
    "collapsed": true
   },
   "outputs": [],
   "source": [
    "f = open( '../visualize/templates/visualize/panel7_'+year+'.html', 'w')\n",
    "f.write(table)\n",
    "f.close()"
   ]
  },
  {
   "cell_type": "code",
   "execution_count": null,
   "metadata": {
    "collapsed": true
   },
   "outputs": [],
   "source": []
  }
 ],
 "metadata": {
  "anaconda-cloud": {},
  "kernelspec": {
   "display_name": "Python 3",
   "language": "python",
   "name": "python3"
  },
  "language_info": {
   "codemirror_mode": {
    "name": "ipython",
    "version": 3
   },
   "file_extension": ".py",
   "mimetype": "text/x-python",
   "name": "python",
   "nbconvert_exporter": "python",
   "pygments_lexer": "ipython3",
   "version": "3.5.6"
  }
 },
 "nbformat": 4,
 "nbformat_minor": 1
}
