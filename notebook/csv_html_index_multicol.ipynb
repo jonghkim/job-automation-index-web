{
 "cells": [
  {
   "cell_type": "code",
   "execution_count": 276,
   "metadata": {
    "collapsed": true
   },
   "outputs": [],
   "source": [
    "# -*- coding: utf-8 -*-\n",
    "import pandas as pd"
   ]
  },
  {
   "cell_type": "code",
   "execution_count": 459,
   "metadata": {
    "collapsed": true
   },
   "outputs": [],
   "source": [
    "def table_generation(df,grouping, grouping_text):\n",
    "    lines = []\n",
    "    lines.append('<table class=\"table table-bordered sortable\" id=\"dataTable\" width=\"100%\" cellspacing=\"0\">\\n')\n",
    "    lines.append('<thead>\\n')\n",
    "    #lines.append('<col>\\n')    \n",
    "    \n",
    "    #for group in grouping:\n",
    "    #    lines.append('<colgroup span=\"{}\"</colgroup>\\n'.format(group))    \n",
    "        \n",
    "    lines.append('  <tr>\\n')\n",
    "    lines.append('  <th rowspan=\"2\"></th>\\n') \n",
    "    \n",
    "    for group, txt in zip(grouping, grouping_text):    \n",
    "        lines.append('  <th colspan=\"{}\" scope=\"colgroup\">{}</th>\\n'.format(group, txt)) \n",
    "    \n",
    "    lines.append('  </tr>\\n')    \n",
    "    \n",
    "    lines.append('  <tr>\\n')\n",
    "    #lines.append('    <th scope=\"col\"></th>\\n')\n",
    "    for i, col in enumerate(df.columns):\n",
    "        if i==0:\n",
    "            lines.append('    <th scope=\"col\" class=\"sorttable_sorted\">{} <span id=\"sorttable_sortfwdind\">&nbsp;▾</span> </th>\\n'.format(col))\n",
    "        else:\n",
    "            lines.append('    <th scope=\"col\">{}</th>\\n'.format(col))\n",
    "\n",
    "    lines.append('  </tr>\\n')\n",
    "    lines.append('</thead>\\n')\n",
    "\n",
    "    lines.append('<tfoot>\\n')\n",
    "    lines.append('  <tr>\\n')\n",
    "    for col in df.columns:\n",
    "        lines.append('    <th>{}</th>\\n'.format(col))\n",
    "    \n",
    "    lines.append('  </tr>\\n')\n",
    "    lines.append('</tfoot>\\n')\n",
    "\n",
    "    lines.append('<tbody>\\n')\n",
    "\n",
    "    for i, r in df.iterrows():\n",
    "        lines.append('  <tr>\\n')\n",
    "        lines.append('  <td class=\"index\"></td>\\n')        \n",
    "        for col in df.columns:    \n",
    "            lines.append('    <td>{}</td>\\n'.format((\"%.2f\" % r[col]) if isinstance(r[col],float) else r[col]))\n",
    "        lines.append('  </tr>\\n')    \n",
    "    lines.append('</tbody>\\n')\n",
    "    lines.append('</table>')\n",
    "    \n",
    "    return ''.join(lines)\n"
   ]
  },
  {
   "cell_type": "code",
   "execution_count": 474,
   "metadata": {
    "collapsed": true
   },
   "outputs": [],
   "source": [
    "year = '2008~2018'\n",
    "csvpath = '../static/data/csv/Panel 4 '+year+'.csv'\n",
    "panel_df = pd.read_csv(csvpath, encoding='utf-8')"
   ]
  },
  {
   "cell_type": "code",
   "execution_count": 475,
   "metadata": {
    "collapsed": false
   },
   "outputs": [
    {
     "data": {
      "text/plain": [
       "Index([                             u'Unnamed: 0',\n",
       "                                      u'Job Code',\n",
       "                                     u'Job Title',\n",
       "                              u'Automation Index',\n",
       "         u'Automation for Information Processing',\n",
       "                  u'Automation for Clerical Task',\n",
       "                u'Automation for Managerial Task',\n",
       "                  u'Automation for Communication',\n",
       "            u'Automation for Conflict Resolution',\n",
       "             u'Automation for Strategic Thinking',\n",
       "                u'Automation for System Analysis',\n",
       "           u'Automation for Operation Monitoring',\n",
       "          u'Automation for Equipment Maintenance',\n",
       "            u'Automation for Equipment Operation',\n",
       "                  u'Automation for Physical Task',\n",
       "          u'Automation for Dynamic Physical Task',\n",
       "                  u'Automation for Outdoor Labor',\n",
       "       u'Automation for Hazardous and Group Task'],\n",
       "      dtype='object')"
      ]
     },
     "execution_count": 475,
     "metadata": {},
     "output_type": "execute_result"
    }
   ],
   "source": [
    "panel_df.columns"
   ]
  },
  {
   "cell_type": "code",
   "execution_count": 476,
   "metadata": {
    "collapsed": false
   },
   "outputs": [
    {
     "data": {
      "text/plain": [
       "\"\\npanel_df = panel_df[['Job Code', 'Job Title', 'Race ahead of the Machine',\\n       'Race with the Machine', 'Race against the Machine',\\n       'Running a Different Race']]\\n\""
      ]
     },
     "execution_count": 476,
     "metadata": {},
     "output_type": "execute_result"
    }
   ],
   "source": [
    "panel_df = panel_df[['Job Code', 'Job Title', 'Automation Index',\n",
    "                     'Automation for Strategic Thinking', 'Automation for System Analysis',\n",
    "                      'Automation for Dynamic Physical Task','Automation for Managerial Task',\n",
    "                     'Automation for Clerical Task','Automation for Information Processing',\n",
    "                     'Automation for Communication','Automation for Conflict Resolution',\n",
    "                     'Automation for Equipment Operation', 'Automation for Operation Monitoring',\n",
    "                     'Automation for Equipment Maintenance','Automation for Physical Task',\n",
    "                     'Automation for Hazardous and Group Task','Automation for Outdoor Labor']]\n",
    "\n",
    "grouping = [1, 1, 1, 2, 2, 4, 6]\n",
    "grouping_text = [\"\",\"\",\"\",\"Race ahead of the Machine\",\"Race with the Machine\",\"Race against the Machine\",\"Running a Different Race\"]\n",
    "\n",
    "\n",
    "\"\"\"\n",
    "panel_df = panel_df[['Job Code', 'Job Title', 'Race ahead of the Machine',\n",
    "       'Race with the Machine', 'Race against the Machine',\n",
    "       'Running a Different Race']]\n",
    "\"\"\""
   ]
  },
  {
   "cell_type": "code",
   "execution_count": 477,
   "metadata": {
    "collapsed": true
   },
   "outputs": [],
   "source": [
    "#panel_df.to_csv('../static/data/csv/Panel 4 '+year+'.csv')"
   ]
  },
  {
   "cell_type": "code",
   "execution_count": 478,
   "metadata": {
    "collapsed": false
   },
   "outputs": [
    {
     "data": {
      "text/html": [
       "<div>\n",
       "<style>\n",
       "    .dataframe thead tr:only-child th {\n",
       "        text-align: right;\n",
       "    }\n",
       "\n",
       "    .dataframe thead th {\n",
       "        text-align: left;\n",
       "    }\n",
       "\n",
       "    .dataframe tbody tr th {\n",
       "        vertical-align: top;\n",
       "    }\n",
       "</style>\n",
       "<table border=\"1\" class=\"dataframe\">\n",
       "  <thead>\n",
       "    <tr style=\"text-align: right;\">\n",
       "      <th></th>\n",
       "      <th>Job Code</th>\n",
       "      <th>Job Title</th>\n",
       "      <th>Automation Index</th>\n",
       "      <th>Automation for Strategic Thinking</th>\n",
       "      <th>Automation for System Analysis</th>\n",
       "      <th>Automation for Dynamic Physical Task</th>\n",
       "      <th>Automation for Managerial Task</th>\n",
       "      <th>Automation for Clerical Task</th>\n",
       "      <th>Automation for Information Processing</th>\n",
       "      <th>Automation for Communication</th>\n",
       "      <th>Automation for Conflict Resolution</th>\n",
       "      <th>Automation for Equipment Operation</th>\n",
       "      <th>Automation for Operation Monitoring</th>\n",
       "      <th>Automation for Equipment Maintenance</th>\n",
       "      <th>Automation for Physical Task</th>\n",
       "      <th>Automation for Hazardous and Group Task</th>\n",
       "      <th>Automation for Outdoor Labor</th>\n",
       "    </tr>\n",
       "  </thead>\n",
       "  <tbody>\n",
       "    <tr>\n",
       "      <th>0</th>\n",
       "      <td>00-0000</td>\n",
       "      <td>TOTAL AVERAGE</td>\n",
       "      <td>0.959692</td>\n",
       "      <td>1.719992</td>\n",
       "      <td>-2.896315</td>\n",
       "      <td>1.264730</td>\n",
       "      <td>0.281871</td>\n",
       "      <td>-1.126894</td>\n",
       "      <td>2.588958</td>\n",
       "      <td>2.523797</td>\n",
       "      <td>2.612164</td>\n",
       "      <td>-0.081554</td>\n",
       "      <td>3.737310</td>\n",
       "      <td>3.255824</td>\n",
       "      <td>0.117816</td>\n",
       "      <td>0.315406</td>\n",
       "      <td>-0.877414</td>\n",
       "    </tr>\n",
       "    <tr>\n",
       "      <th>1</th>\n",
       "      <td>11-1011</td>\n",
       "      <td>Chief Executives</td>\n",
       "      <td>4.376244</td>\n",
       "      <td>6.267383</td>\n",
       "      <td>-10.763542</td>\n",
       "      <td>0.000000</td>\n",
       "      <td>30.497444</td>\n",
       "      <td>7.938471</td>\n",
       "      <td>22.688731</td>\n",
       "      <td>15.677097</td>\n",
       "      <td>-1.524319</td>\n",
       "      <td>-3.162508</td>\n",
       "      <td>-1.594418</td>\n",
       "      <td>-6.030250</td>\n",
       "      <td>0.000000</td>\n",
       "      <td>1.360646</td>\n",
       "      <td>-0.087317</td>\n",
       "    </tr>\n",
       "    <tr>\n",
       "      <th>2</th>\n",
       "      <td>11-1021</td>\n",
       "      <td>General and Operations Managers</td>\n",
       "      <td>8.516133</td>\n",
       "      <td>14.470352</td>\n",
       "      <td>-6.347962</td>\n",
       "      <td>0.124203</td>\n",
       "      <td>36.744963</td>\n",
       "      <td>10.266365</td>\n",
       "      <td>14.388136</td>\n",
       "      <td>34.732688</td>\n",
       "      <td>8.104975</td>\n",
       "      <td>-0.462080</td>\n",
       "      <td>3.854068</td>\n",
       "      <td>0.010348</td>\n",
       "      <td>-0.099557</td>\n",
       "      <td>11.980021</td>\n",
       "      <td>-8.540655</td>\n",
       "    </tr>\n",
       "    <tr>\n",
       "      <th>3</th>\n",
       "      <td>11-2011</td>\n",
       "      <td>Advertising and Promotions Managers</td>\n",
       "      <td>-6.513699</td>\n",
       "      <td>-0.914593</td>\n",
       "      <td>-10.906304</td>\n",
       "      <td>-4.554774</td>\n",
       "      <td>-23.528520</td>\n",
       "      <td>3.458273</td>\n",
       "      <td>-12.791500</td>\n",
       "      <td>-11.143352</td>\n",
       "      <td>-12.168900</td>\n",
       "      <td>-0.027004</td>\n",
       "      <td>-10.505452</td>\n",
       "      <td>1.064113</td>\n",
       "      <td>-1.741027</td>\n",
       "      <td>-3.649189</td>\n",
       "      <td>-3.783559</td>\n",
       "    </tr>\n",
       "    <tr>\n",
       "      <th>4</th>\n",
       "      <td>11-2021</td>\n",
       "      <td>Marketing Managers</td>\n",
       "      <td>5.750056</td>\n",
       "      <td>22.238528</td>\n",
       "      <td>-6.363715</td>\n",
       "      <td>0.000000</td>\n",
       "      <td>8.654270</td>\n",
       "      <td>0.631212</td>\n",
       "      <td>7.504257</td>\n",
       "      <td>23.645394</td>\n",
       "      <td>12.613956</td>\n",
       "      <td>-0.163960</td>\n",
       "      <td>1.193555</td>\n",
       "      <td>3.854713</td>\n",
       "      <td>0.000000</td>\n",
       "      <td>6.568097</td>\n",
       "      <td>0.124480</td>\n",
       "    </tr>\n",
       "  </tbody>\n",
       "</table>\n",
       "</div>"
      ],
      "text/plain": [
       "  Job Code                            Job Title  Automation Index  \\\n",
       "0  00-0000                        TOTAL AVERAGE          0.959692   \n",
       "1  11-1011                     Chief Executives          4.376244   \n",
       "2  11-1021      General and Operations Managers          8.516133   \n",
       "3  11-2011  Advertising and Promotions Managers         -6.513699   \n",
       "4  11-2021                   Marketing Managers          5.750056   \n",
       "\n",
       "   Automation for Strategic Thinking  Automation for System Analysis  \\\n",
       "0                           1.719992                       -2.896315   \n",
       "1                           6.267383                      -10.763542   \n",
       "2                          14.470352                       -6.347962   \n",
       "3                          -0.914593                      -10.906304   \n",
       "4                          22.238528                       -6.363715   \n",
       "\n",
       "   Automation for Dynamic Physical Task  Automation for Managerial Task  \\\n",
       "0                              1.264730                        0.281871   \n",
       "1                              0.000000                       30.497444   \n",
       "2                              0.124203                       36.744963   \n",
       "3                             -4.554774                      -23.528520   \n",
       "4                              0.000000                        8.654270   \n",
       "\n",
       "   Automation for Clerical Task  Automation for Information Processing  \\\n",
       "0                     -1.126894                               2.588958   \n",
       "1                      7.938471                              22.688731   \n",
       "2                     10.266365                              14.388136   \n",
       "3                      3.458273                             -12.791500   \n",
       "4                      0.631212                               7.504257   \n",
       "\n",
       "   Automation for Communication  Automation for Conflict Resolution  \\\n",
       "0                      2.523797                            2.612164   \n",
       "1                     15.677097                           -1.524319   \n",
       "2                     34.732688                            8.104975   \n",
       "3                    -11.143352                          -12.168900   \n",
       "4                     23.645394                           12.613956   \n",
       "\n",
       "   Automation for Equipment Operation  Automation for Operation Monitoring  \\\n",
       "0                           -0.081554                             3.737310   \n",
       "1                           -3.162508                            -1.594418   \n",
       "2                           -0.462080                             3.854068   \n",
       "3                           -0.027004                           -10.505452   \n",
       "4                           -0.163960                             1.193555   \n",
       "\n",
       "   Automation for Equipment Maintenance  Automation for Physical Task  \\\n",
       "0                              3.255824                      0.117816   \n",
       "1                             -6.030250                      0.000000   \n",
       "2                              0.010348                     -0.099557   \n",
       "3                              1.064113                     -1.741027   \n",
       "4                              3.854713                      0.000000   \n",
       "\n",
       "   Automation for Hazardous and Group Task  Automation for Outdoor Labor  \n",
       "0                                 0.315406                     -0.877414  \n",
       "1                                 1.360646                     -0.087317  \n",
       "2                                11.980021                     -8.540655  \n",
       "3                                -3.649189                     -3.783559  \n",
       "4                                 6.568097                      0.124480  "
      ]
     },
     "execution_count": 478,
     "metadata": {},
     "output_type": "execute_result"
    }
   ],
   "source": [
    "panel_df.head()"
   ]
  },
  {
   "cell_type": "code",
   "execution_count": 479,
   "metadata": {
    "collapsed": true
   },
   "outputs": [],
   "source": [
    "table = table_generation(panel_df,grouping, grouping_text)"
   ]
  },
  {
   "cell_type": "code",
   "execution_count": 480,
   "metadata": {
    "collapsed": false,
    "scrolled": false
   },
   "outputs": [],
   "source": [
    "#f = open( '../visualize/templates/visualize/panel4_'+year+'.html', 'w' , encoding='utf8')\n",
    "#f = open( '../visualize/templates/visualize/panel5_'+year+'.html', 'w' , encoding='utf8')\n",
    "f = open( '../visualize/templates/visualize/panel4_'+year+'.html', 'w')\n",
    "f.write(table)\n",
    "f.close()"
   ]
  },
  {
   "cell_type": "code",
   "execution_count": null,
   "metadata": {
    "collapsed": true
   },
   "outputs": [],
   "source": []
  },
  {
   "cell_type": "code",
   "execution_count": null,
   "metadata": {
    "collapsed": true
   },
   "outputs": [],
   "source": []
  }
 ],
 "metadata": {
  "anaconda-cloud": {},
  "kernelspec": {
   "display_name": "py3k",
   "language": "python",
   "name": "py3k"
  },
  "language_info": {
   "codemirror_mode": {
    "name": "ipython",
    "version": 2
   },
   "file_extension": ".py",
   "mimetype": "text/x-python",
   "name": "python",
   "nbconvert_exporter": "python",
   "pygments_lexer": "ipython2",
   "version": "2.7.12"
  }
 },
 "nbformat": 4,
 "nbformat_minor": 1
}
