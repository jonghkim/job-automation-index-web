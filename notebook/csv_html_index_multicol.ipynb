{
 "cells": [
  {
   "cell_type": "code",
   "execution_count": 1,
   "metadata": {
    "collapsed": true
   },
   "outputs": [],
   "source": [
    "# -*- coding: utf-8 -*-\n",
    "import pandas as pd"
   ]
  },
  {
   "cell_type": "code",
   "execution_count": 2,
   "metadata": {
    "collapsed": true
   },
   "outputs": [],
   "source": [
    "def table_generation(df,grouping, grouping_text):\n",
    "    lines = []\n",
    "    lines.append('<table class=\"table table-bordered sortable\" id=\"dataTable\" width=\"100%\" cellspacing=\"0\">\\n')\n",
    "    lines.append('<thead>\\n')\n",
    "    #lines.append('<col>\\n')    \n",
    "    \n",
    "    #for group in grouping:\n",
    "    #    lines.append('<colgroup span=\"{}\"</colgroup>\\n'.format(group))    \n",
    "        \n",
    "    lines.append('  <tr>\\n')\n",
    "    #lines.append('  <th rowspan=\"2\"></th>\\n') \n",
    "    \n",
    "    for group, txt in zip(grouping, grouping_text):    \n",
    "        lines.append('  <th colspan=\"{}\" scope=\"colgroup\">{}</th>\\n'.format(group, txt)) \n",
    "    \n",
    "    lines.append('  </tr>\\n')    \n",
    "    \n",
    "    lines.append('  <tr>\\n')\n",
    "    lines.append('    <th scope=\"col\"></th>\\n')\n",
    "    for i, col in enumerate(df.columns):\n",
    "        if i==0:\n",
    "            lines.append('    <th scope=\"col\" class=\"sorttable_sorted\">{} <span id=\"sorttable_sortfwdind\">&nbsp;▾</span> </th>\\n'.format(col))\n",
    "        else:\n",
    "            lines.append('    <th scope=\"col\">{}</th>\\n'.format(col))\n",
    "\n",
    "    lines.append('  </tr>\\n')\n",
    "    lines.append('</thead>\\n')\n",
    "\n",
    "    lines.append('<tfoot>\\n')\n",
    "    lines.append('  <tr>\\n')\n",
    "    for col in df.columns:\n",
    "        lines.append('    <th>{}</th>\\n'.format(col))\n",
    "    \n",
    "    lines.append('  </tr>\\n')\n",
    "    lines.append('</tfoot>\\n')\n",
    "\n",
    "    lines.append('<tbody>\\n')\n",
    "\n",
    "    for i, r in df.iterrows():\n",
    "        lines.append('  <tr>\\n')\n",
    "        lines.append('  <td class=\"index\"></td>\\n')        \n",
    "        for col in df.columns:    \n",
    "            lines.append('    <td>{}</td>\\n'.format((\"%.2f\" % r[col]) if isinstance(r[col],float) else r[col]))\n",
    "        lines.append('  </tr>\\n')    \n",
    "    lines.append('</tbody>\\n')\n",
    "    lines.append('</table>')\n",
    "    \n",
    "    return ''.join(lines)\n"
   ]
  },
  {
   "cell_type": "code",
   "execution_count": 23,
   "metadata": {
    "collapsed": false
   },
   "outputs": [],
   "source": [
    "year = '2008~2018'\n",
    "csvpath = '../static/data/csv/Panel 4 '+year+'.csv'\n",
    "panel_df = pd.read_csv(csvpath, encoding='utf-8', index_col=0)"
   ]
  },
  {
   "cell_type": "code",
   "execution_count": 24,
   "metadata": {
    "collapsed": false
   },
   "outputs": [
    {
     "data": {
      "text/plain": [
       "Index(['Job Code', 'Job Title', 'Automation Index',\n",
       "       'Automation for Information Processing', 'Automation for Clerical Task',\n",
       "       'Automation for Managerial Task', 'Automation for Communication',\n",
       "       'Automation for Conflict Resolution',\n",
       "       'Automation for Strategic Thinking', 'Automation for System Analysis',\n",
       "       'Automation for Operation Monitoring',\n",
       "       'Automation for Equipment Maintenance',\n",
       "       'Automation for Equipment Operation', 'Automation for Physical Task',\n",
       "       'Automation for Dynamic Physical Task',\n",
       "       'Automation for Perceptual Task',\n",
       "       'Automation for Hazardous and Group Task'],\n",
       "      dtype='object')"
      ]
     },
     "execution_count": 24,
     "metadata": {},
     "output_type": "execute_result"
    }
   ],
   "source": [
    "panel_df.columns"
   ]
  },
  {
   "cell_type": "code",
   "execution_count": 25,
   "metadata": {
    "collapsed": false
   },
   "outputs": [
    {
     "data": {
      "text/plain": [
       "\"\\npanel_df = panel_df[['Job Code', 'Job Title', 'Race ahead of the Machine',\\n       'Race with the Machine', 'Race against the Machine',\\n       'Running a Different Race']]\\n\""
      ]
     },
     "execution_count": 25,
     "metadata": {},
     "output_type": "execute_result"
    }
   ],
   "source": [
    "panel_df = panel_df[['Job Code', 'Job Title', 'Automation Index',\n",
    "                     'Automation for Strategic Thinking', 'Automation for System Analysis',\n",
    "                      'Automation for Managerial Task','Automation for Dynamic Physical Task',\n",
    "                     'Automation for Hazardous and Group Task','Automation for Information Processing',\n",
    "                     'Automation for Conflict Resolution','Automation for Equipment Operation',\n",
    "                     'Automation for Perceptual Task', 'Automation for Clerical Task',\n",
    "                     'Automation for Communication',\n",
    "                      'Automation for Operation Monitoring',\n",
    "                     'Automation for Equipment Maintenance','Automation for Physical Task',\n",
    "                     ]]\n",
    "\n",
    "grouping = [1, 1, 1, 1, 2, 3, 4, 5]\n",
    "grouping_text = [\"\",\"\",\"\",\"\",\"Race ahead of the Machine\",\"Race with the Machine\",\"Race against the Machine\",\"Running a Different Race\"]\n",
    "\n",
    "\n",
    "\"\"\"\n",
    "panel_df = panel_df[['Job Code', 'Job Title', 'Race ahead of the Machine',\n",
    "       'Race with the Machine', 'Race against the Machine',\n",
    "       'Running a Different Race']]\n",
    "\"\"\""
   ]
  },
  {
   "cell_type": "code",
   "execution_count": 26,
   "metadata": {
    "collapsed": true
   },
   "outputs": [],
   "source": [
    "#panel_df.to_csv('../static/data/csv/Panel 4 '+year+'.csv')"
   ]
  },
  {
   "cell_type": "code",
   "execution_count": 27,
   "metadata": {
    "collapsed": false
   },
   "outputs": [
    {
     "data": {
      "text/html": [
       "<div>\n",
       "<table border=\"1\" class=\"dataframe\">\n",
       "  <thead>\n",
       "    <tr style=\"text-align: right;\">\n",
       "      <th></th>\n",
       "      <th>Job Code</th>\n",
       "      <th>Job Title</th>\n",
       "      <th>Automation Index</th>\n",
       "      <th>Automation for Strategic Thinking</th>\n",
       "      <th>Automation for System Analysis</th>\n",
       "      <th>Automation for Managerial Task</th>\n",
       "      <th>Automation for Dynamic Physical Task</th>\n",
       "      <th>Automation for Hazardous and Group Task</th>\n",
       "      <th>Automation for Information Processing</th>\n",
       "      <th>Automation for Conflict Resolution</th>\n",
       "      <th>Automation for Equipment Operation</th>\n",
       "      <th>Automation for Perceptual Task</th>\n",
       "      <th>Automation for Clerical Task</th>\n",
       "      <th>Automation for Communication</th>\n",
       "      <th>Automation for Operation Monitoring</th>\n",
       "      <th>Automation for Equipment Maintenance</th>\n",
       "      <th>Automation for Physical Task</th>\n",
       "    </tr>\n",
       "  </thead>\n",
       "  <tbody>\n",
       "    <tr>\n",
       "      <th>0</th>\n",
       "      <td>00-0000</td>\n",
       "      <td>TOTAL AVERAGE</td>\n",
       "      <td>0.394429</td>\n",
       "      <td>-0.117891</td>\n",
       "      <td>-0.128162</td>\n",
       "      <td>0.050856</td>\n",
       "      <td>0.163938</td>\n",
       "      <td>-0.016084</td>\n",
       "      <td>0.072402</td>\n",
       "      <td>0.115223</td>\n",
       "      <td>0.034329</td>\n",
       "      <td>0.056659</td>\n",
       "      <td>0.152203</td>\n",
       "      <td>0.008500</td>\n",
       "      <td>-0.075586</td>\n",
       "      <td>-0.023856</td>\n",
       "      <td>0.101897</td>\n",
       "    </tr>\n",
       "    <tr>\n",
       "      <th>1</th>\n",
       "      <td>11-1011</td>\n",
       "      <td>Chief Executives</td>\n",
       "      <td>0.468638</td>\n",
       "      <td>-0.190320</td>\n",
       "      <td>-1.274219</td>\n",
       "      <td>1.710932</td>\n",
       "      <td>0.000000</td>\n",
       "      <td>-0.136414</td>\n",
       "      <td>1.598417</td>\n",
       "      <td>-0.418416</td>\n",
       "      <td>-0.324697</td>\n",
       "      <td>-0.050995</td>\n",
       "      <td>0.180358</td>\n",
       "      <td>0.641849</td>\n",
       "      <td>-0.650832</td>\n",
       "      <td>-0.617024</td>\n",
       "      <td>0.000000</td>\n",
       "    </tr>\n",
       "    <tr>\n",
       "      <th>2</th>\n",
       "      <td>11-1021</td>\n",
       "      <td>General and Operations Managers</td>\n",
       "      <td>0.992754</td>\n",
       "      <td>0.626567</td>\n",
       "      <td>-1.916646</td>\n",
       "      <td>2.037823</td>\n",
       "      <td>-0.102173</td>\n",
       "      <td>0.555544</td>\n",
       "      <td>1.115686</td>\n",
       "      <td>-0.291974</td>\n",
       "      <td>-0.275045</td>\n",
       "      <td>-2.143453</td>\n",
       "      <td>-0.594079</td>\n",
       "      <td>2.951565</td>\n",
       "      <td>-0.513158</td>\n",
       "      <td>-0.442074</td>\n",
       "      <td>-0.015829</td>\n",
       "    </tr>\n",
       "    <tr>\n",
       "      <th>3</th>\n",
       "      <td>11-2011</td>\n",
       "      <td>Advertising and Promotions Managers</td>\n",
       "      <td>0.553128</td>\n",
       "      <td>1.529522</td>\n",
       "      <td>0.299917</td>\n",
       "      <td>-2.278535</td>\n",
       "      <td>-0.548906</td>\n",
       "      <td>0.176729</td>\n",
       "      <td>-1.123356</td>\n",
       "      <td>-0.913282</td>\n",
       "      <td>-0.000349</td>\n",
       "      <td>-0.568998</td>\n",
       "      <td>3.541339</td>\n",
       "      <td>0.864771</td>\n",
       "      <td>-0.707874</td>\n",
       "      <td>0.491966</td>\n",
       "      <td>-0.209815</td>\n",
       "    </tr>\n",
       "    <tr>\n",
       "      <th>4</th>\n",
       "      <td>11-2021</td>\n",
       "      <td>Marketing Managers</td>\n",
       "      <td>-0.048585</td>\n",
       "      <td>2.058128</td>\n",
       "      <td>-2.468408</td>\n",
       "      <td>-1.001505</td>\n",
       "      <td>0.000000</td>\n",
       "      <td>0.524058</td>\n",
       "      <td>0.334720</td>\n",
       "      <td>1.008072</td>\n",
       "      <td>-0.033533</td>\n",
       "      <td>0.022482</td>\n",
       "      <td>-2.222159</td>\n",
       "      <td>2.055507</td>\n",
       "      <td>-0.616969</td>\n",
       "      <td>0.291024</td>\n",
       "      <td>0.000000</td>\n",
       "    </tr>\n",
       "  </tbody>\n",
       "</table>\n",
       "</div>"
      ],
      "text/plain": [
       "  Job Code                            Job Title  Automation Index  \\\n",
       "0  00-0000                        TOTAL AVERAGE          0.394429   \n",
       "1  11-1011                     Chief Executives          0.468638   \n",
       "2  11-1021      General and Operations Managers          0.992754   \n",
       "3  11-2011  Advertising and Promotions Managers          0.553128   \n",
       "4  11-2021                   Marketing Managers         -0.048585   \n",
       "\n",
       "   Automation for Strategic Thinking  Automation for System Analysis  \\\n",
       "0                          -0.117891                       -0.128162   \n",
       "1                          -0.190320                       -1.274219   \n",
       "2                           0.626567                       -1.916646   \n",
       "3                           1.529522                        0.299917   \n",
       "4                           2.058128                       -2.468408   \n",
       "\n",
       "   Automation for Managerial Task  Automation for Dynamic Physical Task  \\\n",
       "0                        0.050856                              0.163938   \n",
       "1                        1.710932                              0.000000   \n",
       "2                        2.037823                             -0.102173   \n",
       "3                       -2.278535                             -0.548906   \n",
       "4                       -1.001505                              0.000000   \n",
       "\n",
       "   Automation for Hazardous and Group Task  \\\n",
       "0                                -0.016084   \n",
       "1                                -0.136414   \n",
       "2                                 0.555544   \n",
       "3                                 0.176729   \n",
       "4                                 0.524058   \n",
       "\n",
       "   Automation for Information Processing  Automation for Conflict Resolution  \\\n",
       "0                               0.072402                            0.115223   \n",
       "1                               1.598417                           -0.418416   \n",
       "2                               1.115686                           -0.291974   \n",
       "3                              -1.123356                           -0.913282   \n",
       "4                               0.334720                            1.008072   \n",
       "\n",
       "   Automation for Equipment Operation  Automation for Perceptual Task  \\\n",
       "0                            0.034329                        0.056659   \n",
       "1                           -0.324697                       -0.050995   \n",
       "2                           -0.275045                       -2.143453   \n",
       "3                           -0.000349                       -0.568998   \n",
       "4                           -0.033533                        0.022482   \n",
       "\n",
       "   Automation for Clerical Task  Automation for Communication  \\\n",
       "0                      0.152203                      0.008500   \n",
       "1                      0.180358                      0.641849   \n",
       "2                     -0.594079                      2.951565   \n",
       "3                      3.541339                      0.864771   \n",
       "4                     -2.222159                      2.055507   \n",
       "\n",
       "   Automation for Operation Monitoring  Automation for Equipment Maintenance  \\\n",
       "0                            -0.075586                             -0.023856   \n",
       "1                            -0.650832                             -0.617024   \n",
       "2                            -0.513158                             -0.442074   \n",
       "3                            -0.707874                              0.491966   \n",
       "4                            -0.616969                              0.291024   \n",
       "\n",
       "   Automation for Physical Task  \n",
       "0                      0.101897  \n",
       "1                      0.000000  \n",
       "2                     -0.015829  \n",
       "3                     -0.209815  \n",
       "4                      0.000000  "
      ]
     },
     "execution_count": 27,
     "metadata": {},
     "output_type": "execute_result"
    }
   ],
   "source": [
    "panel_df.head()"
   ]
  },
  {
   "cell_type": "code",
   "execution_count": 28,
   "metadata": {
    "collapsed": true
   },
   "outputs": [],
   "source": [
    "table = table_generation(panel_df,grouping, grouping_text)"
   ]
  },
  {
   "cell_type": "code",
   "execution_count": 29,
   "metadata": {
    "collapsed": false,
    "scrolled": false
   },
   "outputs": [],
   "source": [
    "f = open( '../visualize/templates/visualize/panel4_'+year+'.html', 'w' , encoding='utf8')\n",
    "#f = open( '../visualize/templates/visualize/panel5_'+year+'.html', 'w' , encoding='utf8')\n",
    "#f = open( '../visualize/templates/visualize/panel4_'+year+'.html', 'w')\n",
    "f.write(table)\n",
    "f.close()"
   ]
  },
  {
   "cell_type": "code",
   "execution_count": null,
   "metadata": {
    "collapsed": true
   },
   "outputs": [],
   "source": []
  },
  {
   "cell_type": "code",
   "execution_count": null,
   "metadata": {
    "collapsed": true
   },
   "outputs": [],
   "source": []
  }
 ],
 "metadata": {
  "anaconda-cloud": {},
  "kernelspec": {
   "display_name": "Python [default]",
   "language": "python",
   "name": "python3"
  },
  "language_info": {
   "codemirror_mode": {
    "name": "ipython",
    "version": 3
   },
   "file_extension": ".py",
   "mimetype": "text/x-python",
   "name": "python",
   "nbconvert_exporter": "python",
   "pygments_lexer": "ipython3",
   "version": "3.5.2"
  }
 },
 "nbformat": 4,
 "nbformat_minor": 1
}
