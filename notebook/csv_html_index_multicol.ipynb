{
 "cells": [
  {
   "cell_type": "code",
   "execution_count": 1,
   "metadata": {
    "collapsed": true
   },
   "outputs": [],
   "source": [
    "# -*- coding: utf-8 -*-\n",
    "import pandas as pd"
   ]
  },
  {
   "cell_type": "code",
   "execution_count": 2,
   "metadata": {
    "collapsed": true
   },
   "outputs": [],
   "source": [
    "def table_generation(df,grouping, grouping_text):\n",
    "    lines = []\n",
    "    lines.append('<table class=\"table table-bordered sortable\" id=\"dataTable\" width=\"100%\" cellspacing=\"0\">\\n')\n",
    "    lines.append('<thead>\\n')\n",
    "    #lines.append('<col>\\n')    \n",
    "    \n",
    "    #for group in grouping:\n",
    "    #    lines.append('<colgroup span=\"{}\"</colgroup>\\n'.format(group))    \n",
    "        \n",
    "    lines.append('  <tr>\\n')\n",
    "    #lines.append('  <th rowspan=\"2\"></th>\\n') \n",
    "    \n",
    "    for group, txt in zip(grouping, grouping_text):    \n",
    "        lines.append('  <th colspan=\"{}\" scope=\"colgroup\">{}</th>\\n'.format(group, txt)) \n",
    "    \n",
    "    lines.append('  </tr>\\n')    \n",
    "    \n",
    "    lines.append('  <tr>\\n')\n",
    "    lines.append('    <th scope=\"col\"></th>\\n')\n",
    "    for i, col in enumerate(df.columns):\n",
    "        if i==0:\n",
    "            lines.append('    <th scope=\"col\" class=\"sorttable_sorted\">{} <span id=\"sorttable_sortfwdind\">&nbsp;▾</span> </th>\\n'.format(col))\n",
    "        else:\n",
    "            lines.append('    <th scope=\"col\">{}</th>\\n'.format(col))\n",
    "\n",
    "    lines.append('  </tr>\\n')\n",
    "    lines.append('</thead>\\n')\n",
    "\n",
    "    lines.append('<tfoot>\\n')\n",
    "    lines.append('  <tr>\\n')\n",
    "    for col in df.columns:\n",
    "        lines.append('    <th>{}</th>\\n'.format(col))\n",
    "    \n",
    "    lines.append('  </tr>\\n')\n",
    "    lines.append('</tfoot>\\n')\n",
    "\n",
    "    lines.append('<tbody>\\n')\n",
    "\n",
    "    for i, r in df.iterrows():\n",
    "        lines.append('  <tr>\\n')\n",
    "        lines.append('  <td class=\"index\"></td>\\n')        \n",
    "        for col in df.columns:    \n",
    "            lines.append('    <td>{}</td>\\n'.format((\"%.2f\" % r[col]) if isinstance(r[col],float) else r[col]))\n",
    "        lines.append('  </tr>\\n')    \n",
    "    lines.append('</tbody>\\n')\n",
    "    lines.append('</table>')\n",
    "    \n",
    "    return ''.join(lines)\n"
   ]
  },
  {
   "cell_type": "code",
   "execution_count": 18,
   "metadata": {
    "collapsed": false
   },
   "outputs": [],
   "source": [
    "year = '2008'\n",
    "csvpath = '../static/data/csv/Panel 4 '+year+'.csv'\n",
    "panel_df = pd.read_csv(csvpath, encoding='utf-8', index_col=0)"
   ]
  },
  {
   "cell_type": "code",
   "execution_count": 19,
   "metadata": {
    "collapsed": false
   },
   "outputs": [
    {
     "data": {
      "text/plain": [
       "Index([u'Job Code', u'Job Title', u'Automation Index',\n",
       "       u'Automation for Information Processing',\n",
       "       u'Automation for Clerical Task', u'Automation for Managerial Task',\n",
       "       u'Automation for Communication', u'Automation for Conflict Resolution',\n",
       "       u'Automation for Strategic Thinking',\n",
       "       u'Automation for Systems Thinking',\n",
       "       u'Automation for Operation Monitoring',\n",
       "       u'Automation for Equipment Maintenance',\n",
       "       u'Automation for Equipment Operation', u'Automation for Physical Task',\n",
       "       u'Automation for Dynamic Physical Task',\n",
       "       u'Automation for Perceptual Task',\n",
       "       u'Automation for Hazardous and Group Task'],\n",
       "      dtype='object')"
      ]
     },
     "execution_count": 19,
     "metadata": {},
     "output_type": "execute_result"
    }
   ],
   "source": [
    "panel_df.columns"
   ]
  },
  {
   "cell_type": "code",
   "execution_count": 20,
   "metadata": {
    "collapsed": false
   },
   "outputs": [
    {
     "data": {
      "text/plain": [
       "\"\\npanel_df = panel_df[['Job Code', 'Job Title', 'Race ahead of the Machine',\\n       'Race with the Machine', 'Race against the Machine',\\n       'Running a Different Race']]\\n\""
      ]
     },
     "execution_count": 20,
     "metadata": {},
     "output_type": "execute_result"
    }
   ],
   "source": [
    "panel_df = panel_df[['Job Code', 'Job Title', 'Automation Index',\n",
    "                     'Automation for Strategic Thinking', 'Automation for Systems Thinking',\n",
    "                      'Automation for Managerial Task','Automation for Dynamic Physical Task',\n",
    "                     'Automation for Hazardous and Group Task','Automation for Information Processing',\n",
    "                     'Automation for Conflict Resolution','Automation for Equipment Operation',\n",
    "                     'Automation for Perceptual Task', 'Automation for Clerical Task',\n",
    "                     'Automation for Communication',\n",
    "                      'Automation for Operation Monitoring',\n",
    "                     'Automation for Equipment Maintenance','Automation for Physical Task',\n",
    "                     ]]\n",
    "\n",
    "grouping = [1, 1, 1, 1, 2, 3, 4, 5]\n",
    "grouping_text = [\"\",\"\",\"\",\"\",\"Race ahead of the Machine\",\"Race with the Machine\",\"Race against the Machine\",\"Running a Different Race\"]\n",
    "\n",
    "\n",
    "\"\"\"\n",
    "panel_df = panel_df[['Job Code', 'Job Title', 'Race ahead of the Machine',\n",
    "       'Race with the Machine', 'Race against the Machine',\n",
    "       'Running a Different Race']]\n",
    "\"\"\""
   ]
  },
  {
   "cell_type": "code",
   "execution_count": 21,
   "metadata": {
    "collapsed": true
   },
   "outputs": [],
   "source": [
    "#panel_df.to_csv('../static/data/csv/Panel 4 '+year+'.csv')"
   ]
  },
  {
   "cell_type": "code",
   "execution_count": 22,
   "metadata": {
    "collapsed": false
   },
   "outputs": [
    {
     "data": {
      "text/html": [
       "<div>\n",
       "<style>\n",
       "    .dataframe thead tr:only-child th {\n",
       "        text-align: right;\n",
       "    }\n",
       "\n",
       "    .dataframe thead th {\n",
       "        text-align: left;\n",
       "    }\n",
       "\n",
       "    .dataframe tbody tr th {\n",
       "        vertical-align: top;\n",
       "    }\n",
       "</style>\n",
       "<table border=\"1\" class=\"dataframe\">\n",
       "  <thead>\n",
       "    <tr style=\"text-align: right;\">\n",
       "      <th></th>\n",
       "      <th>Job Code</th>\n",
       "      <th>Job Title</th>\n",
       "      <th>Automation Index</th>\n",
       "      <th>Automation for Strategic Thinking</th>\n",
       "      <th>Automation for Systems Thinking</th>\n",
       "      <th>Automation for Managerial Task</th>\n",
       "      <th>Automation for Dynamic Physical Task</th>\n",
       "      <th>Automation for Hazardous and Group Task</th>\n",
       "      <th>Automation for Information Processing</th>\n",
       "      <th>Automation for Conflict Resolution</th>\n",
       "      <th>Automation for Equipment Operation</th>\n",
       "      <th>Automation for Perceptual Task</th>\n",
       "      <th>Automation for Clerical Task</th>\n",
       "      <th>Automation for Communication</th>\n",
       "      <th>Automation for Operation Monitoring</th>\n",
       "      <th>Automation for Equipment Maintenance</th>\n",
       "      <th>Automation for Physical Task</th>\n",
       "    </tr>\n",
       "  </thead>\n",
       "  <tbody>\n",
       "    <tr>\n",
       "      <th>0</th>\n",
       "      <td>00-0000</td>\n",
       "      <td>TOTAL AVERAGE</td>\n",
       "      <td>48.651489</td>\n",
       "      <td>3.426164</td>\n",
       "      <td>3.592349</td>\n",
       "      <td>2.922397</td>\n",
       "      <td>2.677970</td>\n",
       "      <td>3.590645</td>\n",
       "      <td>4.225528</td>\n",
       "      <td>2.228859</td>\n",
       "      <td>3.770364</td>\n",
       "      <td>3.439182</td>\n",
       "      <td>5.074581</td>\n",
       "      <td>3.725551</td>\n",
       "      <td>3.611598</td>\n",
       "      <td>3.240100</td>\n",
       "      <td>3.126200</td>\n",
       "    </tr>\n",
       "    <tr>\n",
       "      <th>1</th>\n",
       "      <td>11-1011</td>\n",
       "      <td>Chief Executives</td>\n",
       "      <td>47.996252</td>\n",
       "      <td>7.018607</td>\n",
       "      <td>5.108789</td>\n",
       "      <td>7.231670</td>\n",
       "      <td>0.000000</td>\n",
       "      <td>2.429305</td>\n",
       "      <td>3.626066</td>\n",
       "      <td>3.170441</td>\n",
       "      <td>0.652570</td>\n",
       "      <td>0.402715</td>\n",
       "      <td>5.347944</td>\n",
       "      <td>6.910673</td>\n",
       "      <td>4.873206</td>\n",
       "      <td>1.224265</td>\n",
       "      <td>0.000000</td>\n",
       "    </tr>\n",
       "    <tr>\n",
       "      <th>2</th>\n",
       "      <td>11-1021</td>\n",
       "      <td>General and Operations Managers</td>\n",
       "      <td>47.646928</td>\n",
       "      <td>4.416452</td>\n",
       "      <td>3.904857</td>\n",
       "      <td>8.625400</td>\n",
       "      <td>0.369318</td>\n",
       "      <td>3.538924</td>\n",
       "      <td>2.819145</td>\n",
       "      <td>3.241916</td>\n",
       "      <td>0.687467</td>\n",
       "      <td>2.512331</td>\n",
       "      <td>6.772882</td>\n",
       "      <td>5.981021</td>\n",
       "      <td>3.346399</td>\n",
       "      <td>1.414987</td>\n",
       "      <td>0.015829</td>\n",
       "    </tr>\n",
       "    <tr>\n",
       "      <th>3</th>\n",
       "      <td>11-2011</td>\n",
       "      <td>Advertising and Promotions Managers</td>\n",
       "      <td>47.779080</td>\n",
       "      <td>4.628036</td>\n",
       "      <td>5.652826</td>\n",
       "      <td>6.233415</td>\n",
       "      <td>0.548906</td>\n",
       "      <td>2.538961</td>\n",
       "      <td>4.215756</td>\n",
       "      <td>1.970084</td>\n",
       "      <td>0.013245</td>\n",
       "      <td>0.916458</td>\n",
       "      <td>7.421979</td>\n",
       "      <td>8.626850</td>\n",
       "      <td>4.039414</td>\n",
       "      <td>0.763335</td>\n",
       "      <td>0.209815</td>\n",
       "    </tr>\n",
       "    <tr>\n",
       "      <th>4</th>\n",
       "      <td>11-2021</td>\n",
       "      <td>Marketing Managers</td>\n",
       "      <td>47.888079</td>\n",
       "      <td>5.742205</td>\n",
       "      <td>6.617859</td>\n",
       "      <td>8.956961</td>\n",
       "      <td>0.000000</td>\n",
       "      <td>2.026415</td>\n",
       "      <td>3.356403</td>\n",
       "      <td>1.078008</td>\n",
       "      <td>0.037358</td>\n",
       "      <td>0.000000</td>\n",
       "      <td>9.184071</td>\n",
       "      <td>6.629234</td>\n",
       "      <td>3.176661</td>\n",
       "      <td>1.082906</td>\n",
       "      <td>0.000000</td>\n",
       "    </tr>\n",
       "  </tbody>\n",
       "</table>\n",
       "</div>"
      ],
      "text/plain": [
       "  Job Code                            Job Title  Automation Index  \\\n",
       "0  00-0000                        TOTAL AVERAGE         48.651489   \n",
       "1  11-1011                     Chief Executives         47.996252   \n",
       "2  11-1021      General and Operations Managers         47.646928   \n",
       "3  11-2011  Advertising and Promotions Managers         47.779080   \n",
       "4  11-2021                   Marketing Managers         47.888079   \n",
       "\n",
       "   Automation for Strategic Thinking  Automation for Systems Thinking  \\\n",
       "0                           3.426164                         3.592349   \n",
       "1                           7.018607                         5.108789   \n",
       "2                           4.416452                         3.904857   \n",
       "3                           4.628036                         5.652826   \n",
       "4                           5.742205                         6.617859   \n",
       "\n",
       "   Automation for Managerial Task  Automation for Dynamic Physical Task  \\\n",
       "0                        2.922397                              2.677970   \n",
       "1                        7.231670                              0.000000   \n",
       "2                        8.625400                              0.369318   \n",
       "3                        6.233415                              0.548906   \n",
       "4                        8.956961                              0.000000   \n",
       "\n",
       "   Automation for Hazardous and Group Task  \\\n",
       "0                                 3.590645   \n",
       "1                                 2.429305   \n",
       "2                                 3.538924   \n",
       "3                                 2.538961   \n",
       "4                                 2.026415   \n",
       "\n",
       "   Automation for Information Processing  Automation for Conflict Resolution  \\\n",
       "0                               4.225528                            2.228859   \n",
       "1                               3.626066                            3.170441   \n",
       "2                               2.819145                            3.241916   \n",
       "3                               4.215756                            1.970084   \n",
       "4                               3.356403                            1.078008   \n",
       "\n",
       "   Automation for Equipment Operation  Automation for Perceptual Task  \\\n",
       "0                            3.770364                        3.439182   \n",
       "1                            0.652570                        0.402715   \n",
       "2                            0.687467                        2.512331   \n",
       "3                            0.013245                        0.916458   \n",
       "4                            0.037358                        0.000000   \n",
       "\n",
       "   Automation for Clerical Task  Automation for Communication  \\\n",
       "0                      5.074581                      3.725551   \n",
       "1                      5.347944                      6.910673   \n",
       "2                      6.772882                      5.981021   \n",
       "3                      7.421979                      8.626850   \n",
       "4                      9.184071                      6.629234   \n",
       "\n",
       "   Automation for Operation Monitoring  Automation for Equipment Maintenance  \\\n",
       "0                             3.611598                              3.240100   \n",
       "1                             4.873206                              1.224265   \n",
       "2                             3.346399                              1.414987   \n",
       "3                             4.039414                              0.763335   \n",
       "4                             3.176661                              1.082906   \n",
       "\n",
       "   Automation for Physical Task  \n",
       "0                      3.126200  \n",
       "1                      0.000000  \n",
       "2                      0.015829  \n",
       "3                      0.209815  \n",
       "4                      0.000000  "
      ]
     },
     "execution_count": 22,
     "metadata": {},
     "output_type": "execute_result"
    }
   ],
   "source": [
    "panel_df.head()"
   ]
  },
  {
   "cell_type": "code",
   "execution_count": 23,
   "metadata": {
    "collapsed": true
   },
   "outputs": [],
   "source": [
    "table = table_generation(panel_df,grouping, grouping_text)"
   ]
  },
  {
   "cell_type": "code",
   "execution_count": 24,
   "metadata": {
    "collapsed": false,
    "scrolled": false
   },
   "outputs": [],
   "source": [
    "#f = open( '../visualize/templates/visualize/panel4_'+year+'.html', 'w' , encoding='utf8')\n",
    "#f = open( '../visualize/templates/visualize/panel5_'+year+'.html', 'w' , encoding='utf8')\n",
    "f = open( '../visualize/templates/visualize/panel4_'+year+'.html', 'w')\n",
    "f.write(table)\n",
    "f.close()"
   ]
  },
  {
   "cell_type": "code",
   "execution_count": null,
   "metadata": {
    "collapsed": true
   },
   "outputs": [],
   "source": []
  },
  {
   "cell_type": "code",
   "execution_count": null,
   "metadata": {
    "collapsed": true
   },
   "outputs": [],
   "source": []
  }
 ],
 "metadata": {
  "anaconda-cloud": {},
  "kernelspec": {
   "display_name": "py35",
   "language": "python",
   "name": "py35"
  },
  "language_info": {
   "codemirror_mode": {
    "name": "ipython",
    "version": 2
   },
   "file_extension": ".py",
   "mimetype": "text/x-python",
   "name": "python",
   "nbconvert_exporter": "python",
   "pygments_lexer": "ipython2",
   "version": "2.7.12"
  }
 },
 "nbformat": 4,
 "nbformat_minor": 1
}
