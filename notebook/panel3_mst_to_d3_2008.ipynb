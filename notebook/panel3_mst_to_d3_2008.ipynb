{
 "cells": [
  {
   "cell_type": "code",
   "execution_count": 5,
   "metadata": {
    "collapsed": true
   },
   "outputs": [],
   "source": [
    "# -*- coding: utf-8 -*-\n",
    "import pandas as pd\n",
    "import json"
   ]
  },
  {
   "cell_type": "code",
   "execution_count": 6,
   "metadata": {
    "collapsed": false
   },
   "outputs": [],
   "source": [
    "mst_edges = pd.read_excel(\"../static/data/xlsx/2008 MST Edges.xlsx\")"
   ]
  },
  {
   "cell_type": "code",
   "execution_count": 7,
   "metadata": {
    "collapsed": false
   },
   "outputs": [],
   "source": [
    "skill_dna_2008_df = pd.read_excel(\"../static/data/xlsx/Skill DNA v2.xlsx\", sheetname='2008')\n",
    "skill_dna_2020_df = pd.read_excel(\"../static/data/xlsx/Skill DNA v2.xlsx\", sheetname='2020')\n",
    "skill_dna_2008_2020_df = pd.read_excel(\"../static/data/xlsx/Skill DNA v2.xlsx\", sheetname='2008-2020')"
   ]
  },
  {
   "cell_type": "code",
   "execution_count": 8,
   "metadata": {
    "collapsed": false
   },
   "outputs": [],
   "source": [
    "skill_dna_name_refer = pd.read_excel(\"../static/data/xlsx/2008_cluster.xlsx\")"
   ]
  },
  {
   "cell_type": "code",
   "execution_count": 9,
   "metadata": {
    "collapsed": true
   },
   "outputs": [],
   "source": [
    "skill_code_to_name = {r['ElementID']:r['node'] for i,r in skill_dna_name_refer.iterrows()}\n",
    "skill_code_to_task = {r['ElementID']:r['Task'] for i,r in skill_dna_name_refer.iterrows()}"
   ]
  },
  {
   "cell_type": "code",
   "execution_count": 10,
   "metadata": {
    "collapsed": false
   },
   "outputs": [
    {
     "data": {
      "text/html": [
       "<div>\n",
       "<style>\n",
       "    .dataframe thead tr:only-child th {\n",
       "        text-align: right;\n",
       "    }\n",
       "\n",
       "    .dataframe thead th {\n",
       "        text-align: left;\n",
       "    }\n",
       "\n",
       "    .dataframe tbody tr th {\n",
       "        vertical-align: top;\n",
       "    }\n",
       "</style>\n",
       "<table border=\"1\" class=\"dataframe\">\n",
       "  <thead>\n",
       "    <tr style=\"text-align: right;\">\n",
       "      <th></th>\n",
       "      <th>SOC Code</th>\n",
       "      <th>Job Title</th>\n",
       "      <th>2.A.2.b</th>\n",
       "      <th>1.A.2.c.2</th>\n",
       "      <th>1.A.1.c.2</th>\n",
       "      <th>4.C.1.a.2.h</th>\n",
       "      <th>4.C.2.a.1.e</th>\n",
       "      <th>4.A.4.b.4</th>\n",
       "      <th>4.C.2.c.1.c</th>\n",
       "      <th>4.A.1.b.2</th>\n",
       "      <th>...</th>\n",
       "      <th>2.B.1.d</th>\n",
       "      <th>4.C.2.b.1.f</th>\n",
       "      <th>4.C.1.c.2</th>\n",
       "      <th>2.A.2.a</th>\n",
       "      <th>4.A.3.b.6</th>\n",
       "      <th>4.C.3.d.3</th>\n",
       "      <th>4.C.3.a.2.a</th>\n",
       "      <th>1.A.4.b.3</th>\n",
       "      <th>4.A.4.a.6</th>\n",
       "      <th>1.A.2.a.3</th>\n",
       "    </tr>\n",
       "  </thead>\n",
       "  <tbody>\n",
       "    <tr>\n",
       "      <th>0</th>\n",
       "      <td>00-0000</td>\n",
       "      <td>Total Average</td>\n",
       "      <td>-0.000133</td>\n",
       "      <td>-0.000392</td>\n",
       "      <td>0.000193</td>\n",
       "      <td>0.000049</td>\n",
       "      <td>-6.753497e-08</td>\n",
       "      <td>-0.000170</td>\n",
       "      <td>-0.000057</td>\n",
       "      <td>-0.000040</td>\n",
       "      <td>...</td>\n",
       "      <td>0.000373</td>\n",
       "      <td>-0.000236</td>\n",
       "      <td>-0.000152</td>\n",
       "      <td>0.000488</td>\n",
       "      <td>-0.000151</td>\n",
       "      <td>-0.000043</td>\n",
       "      <td>-0.000231</td>\n",
       "      <td>0.000368</td>\n",
       "      <td>0.000007</td>\n",
       "      <td>0.000566</td>\n",
       "    </tr>\n",
       "    <tr>\n",
       "      <th>1</th>\n",
       "      <td>11-1011</td>\n",
       "      <td>Chief Executives</td>\n",
       "      <td>0.005412</td>\n",
       "      <td>0.000000</td>\n",
       "      <td>0.000172</td>\n",
       "      <td>-0.002910</td>\n",
       "      <td>1.041907e-04</td>\n",
       "      <td>0.002757</td>\n",
       "      <td>0.000000</td>\n",
       "      <td>0.000000</td>\n",
       "      <td>...</td>\n",
       "      <td>-0.003488</td>\n",
       "      <td>0.001398</td>\n",
       "      <td>-0.004684</td>\n",
       "      <td>0.000913</td>\n",
       "      <td>0.000000</td>\n",
       "      <td>0.000000</td>\n",
       "      <td>-0.001909</td>\n",
       "      <td>0.000000</td>\n",
       "      <td>-0.007704</td>\n",
       "      <td>0.000000</td>\n",
       "    </tr>\n",
       "    <tr>\n",
       "      <th>2</th>\n",
       "      <td>11-1021</td>\n",
       "      <td>General and Operations Managers</td>\n",
       "      <td>0.008178</td>\n",
       "      <td>0.000000</td>\n",
       "      <td>0.002584</td>\n",
       "      <td>-0.002268</td>\n",
       "      <td>0.000000e+00</td>\n",
       "      <td>0.003263</td>\n",
       "      <td>0.000158</td>\n",
       "      <td>-0.001778</td>\n",
       "      <td>...</td>\n",
       "      <td>0.002533</td>\n",
       "      <td>0.000000</td>\n",
       "      <td>-0.005459</td>\n",
       "      <td>0.004913</td>\n",
       "      <td>0.001413</td>\n",
       "      <td>0.000000</td>\n",
       "      <td>-0.009182</td>\n",
       "      <td>-0.012011</td>\n",
       "      <td>-0.012674</td>\n",
       "      <td>0.000000</td>\n",
       "    </tr>\n",
       "    <tr>\n",
       "      <th>3</th>\n",
       "      <td>11-2011</td>\n",
       "      <td>Advertising and Promotions Managers</td>\n",
       "      <td>0.003992</td>\n",
       "      <td>0.000000</td>\n",
       "      <td>-0.002907</td>\n",
       "      <td>0.014087</td>\n",
       "      <td>0.000000e+00</td>\n",
       "      <td>-0.011660</td>\n",
       "      <td>0.000000</td>\n",
       "      <td>0.000000</td>\n",
       "      <td>...</td>\n",
       "      <td>0.001970</td>\n",
       "      <td>0.000000</td>\n",
       "      <td>-0.000934</td>\n",
       "      <td>0.015322</td>\n",
       "      <td>0.000000</td>\n",
       "      <td>0.000000</td>\n",
       "      <td>-0.006465</td>\n",
       "      <td>0.000000</td>\n",
       "      <td>0.003005</td>\n",
       "      <td>0.000000</td>\n",
       "    </tr>\n",
       "    <tr>\n",
       "      <th>4</th>\n",
       "      <td>11-2021</td>\n",
       "      <td>Marketing Managers</td>\n",
       "      <td>0.017440</td>\n",
       "      <td>0.000000</td>\n",
       "      <td>0.000978</td>\n",
       "      <td>-0.008439</td>\n",
       "      <td>0.000000e+00</td>\n",
       "      <td>-0.003316</td>\n",
       "      <td>0.000000</td>\n",
       "      <td>0.000000</td>\n",
       "      <td>...</td>\n",
       "      <td>0.010507</td>\n",
       "      <td>0.000000</td>\n",
       "      <td>0.004989</td>\n",
       "      <td>0.005832</td>\n",
       "      <td>0.000000</td>\n",
       "      <td>0.000000</td>\n",
       "      <td>-0.003344</td>\n",
       "      <td>0.000000</td>\n",
       "      <td>-0.001917</td>\n",
       "      <td>0.000000</td>\n",
       "    </tr>\n",
       "  </tbody>\n",
       "</table>\n",
       "<p>5 rows × 184 columns</p>\n",
       "</div>"
      ],
      "text/plain": [
       "  SOC Code                            Job Title   2.A.2.b  1.A.2.c.2  \\\n",
       "0  00-0000                        Total Average -0.000133  -0.000392   \n",
       "1  11-1011                     Chief Executives  0.005412   0.000000   \n",
       "2  11-1021      General and Operations Managers  0.008178   0.000000   \n",
       "3  11-2011  Advertising and Promotions Managers  0.003992   0.000000   \n",
       "4  11-2021                   Marketing Managers  0.017440   0.000000   \n",
       "\n",
       "   1.A.1.c.2  4.C.1.a.2.h   4.C.2.a.1.e  4.A.4.b.4  4.C.2.c.1.c  4.A.1.b.2  \\\n",
       "0   0.000193     0.000049 -6.753497e-08  -0.000170    -0.000057  -0.000040   \n",
       "1   0.000172    -0.002910  1.041907e-04   0.002757     0.000000   0.000000   \n",
       "2   0.002584    -0.002268  0.000000e+00   0.003263     0.000158  -0.001778   \n",
       "3  -0.002907     0.014087  0.000000e+00  -0.011660     0.000000   0.000000   \n",
       "4   0.000978    -0.008439  0.000000e+00  -0.003316     0.000000   0.000000   \n",
       "\n",
       "     ...       2.B.1.d  4.C.2.b.1.f  4.C.1.c.2   2.A.2.a  4.A.3.b.6  \\\n",
       "0    ...      0.000373    -0.000236  -0.000152  0.000488  -0.000151   \n",
       "1    ...     -0.003488     0.001398  -0.004684  0.000913   0.000000   \n",
       "2    ...      0.002533     0.000000  -0.005459  0.004913   0.001413   \n",
       "3    ...      0.001970     0.000000  -0.000934  0.015322   0.000000   \n",
       "4    ...      0.010507     0.000000   0.004989  0.005832   0.000000   \n",
       "\n",
       "   4.C.3.d.3  4.C.3.a.2.a  1.A.4.b.3  4.A.4.a.6  1.A.2.a.3  \n",
       "0  -0.000043    -0.000231   0.000368   0.000007   0.000566  \n",
       "1   0.000000    -0.001909   0.000000  -0.007704   0.000000  \n",
       "2   0.000000    -0.009182  -0.012011  -0.012674   0.000000  \n",
       "3   0.000000    -0.006465   0.000000   0.003005   0.000000  \n",
       "4   0.000000    -0.003344   0.000000  -0.001917   0.000000  \n",
       "\n",
       "[5 rows x 184 columns]"
      ]
     },
     "execution_count": 10,
     "metadata": {},
     "output_type": "execute_result"
    }
   ],
   "source": [
    "skill_dna_2008_2020_df.head()"
   ]
  },
  {
   "cell_type": "code",
   "execution_count": 11,
   "metadata": {
    "collapsed": true
   },
   "outputs": [],
   "source": [
    "def standardizer(df, col):\n",
    "    df[col] -= df[col].min()\n",
    "    df[col] /= df[col].max()\n",
    "    \n",
    "    #df[col] = (30**df[col]-1)/30\n",
    "    \n",
    "    #df[col] = [0.5 if value > 0.5 else value for value in df[col]]\n",
    "    \n",
    "    #df[col] = df[col]*200\n",
    "    #df[col] = df[col]+10\n",
    "    return df"
   ]
  },
  {
   "cell_type": "code",
   "execution_count": 12,
   "metadata": {
    "collapsed": true
   },
   "outputs": [],
   "source": [
    "def standardizer_diff(df, col):\n",
    "    df[col] -= df[col].min()\n",
    "    df[col] /= df[col].max()\n",
    "    \n",
    "    df[col] = (50**df[col]-1)/50\n",
    "    \n",
    "    #df[col] = [0.6 if value > 0.6 else value for value in df[col]]\n",
    "    \n",
    "    #df[col] = df[col]*200\n",
    "    #df[col] = df[col]+10\n",
    "    return df"
   ]
  },
  {
   "cell_type": "code",
   "execution_count": 13,
   "metadata": {
    "collapsed": false
   },
   "outputs": [],
   "source": [
    "for col in skill_dna_2008_df.columns.tolist()[2:]:\n",
    "    skill_dna_2008_df = standardizer(skill_dna_2008_df, col)\n",
    "    skill_dna_2020_df = standardizer(skill_dna_2020_df, col)\n",
    "    skill_dna_2008_2020_df = standardizer_diff(skill_dna_2008_2020_df, col)    \n"
   ]
  },
  {
   "cell_type": "code",
   "execution_count": 14,
   "metadata": {
    "collapsed": false
   },
   "outputs": [
    {
     "data": {
      "text/html": [
       "<div>\n",
       "<style>\n",
       "    .dataframe thead tr:only-child th {\n",
       "        text-align: right;\n",
       "    }\n",
       "\n",
       "    .dataframe thead th {\n",
       "        text-align: left;\n",
       "    }\n",
       "\n",
       "    .dataframe tbody tr th {\n",
       "        vertical-align: top;\n",
       "    }\n",
       "</style>\n",
       "<table border=\"1\" class=\"dataframe\">\n",
       "  <thead>\n",
       "    <tr style=\"text-align: right;\">\n",
       "      <th></th>\n",
       "      <th>SOC Code</th>\n",
       "      <th>Job Title</th>\n",
       "      <th>2.A.2.b</th>\n",
       "      <th>1.A.2.c.2</th>\n",
       "      <th>1.A.1.c.2</th>\n",
       "      <th>4.C.1.a.2.h</th>\n",
       "      <th>4.C.2.a.1.e</th>\n",
       "      <th>4.A.4.b.4</th>\n",
       "      <th>4.C.2.c.1.c</th>\n",
       "      <th>4.A.1.b.2</th>\n",
       "      <th>...</th>\n",
       "      <th>2.B.1.d</th>\n",
       "      <th>4.C.2.b.1.f</th>\n",
       "      <th>4.C.1.c.2</th>\n",
       "      <th>2.A.2.a</th>\n",
       "      <th>4.A.3.b.6</th>\n",
       "      <th>4.C.3.d.3</th>\n",
       "      <th>4.C.3.a.2.a</th>\n",
       "      <th>1.A.4.b.3</th>\n",
       "      <th>4.A.4.a.6</th>\n",
       "      <th>1.A.2.a.3</th>\n",
       "    </tr>\n",
       "  </thead>\n",
       "  <tbody>\n",
       "    <tr>\n",
       "      <th>0</th>\n",
       "      <td>00-0000</td>\n",
       "      <td>Total Average</td>\n",
       "      <td>0.182134</td>\n",
       "      <td>0.294097</td>\n",
       "      <td>0.310537</td>\n",
       "      <td>0.110194</td>\n",
       "      <td>0.101783</td>\n",
       "      <td>0.105480</td>\n",
       "      <td>0.215812</td>\n",
       "      <td>0.212749</td>\n",
       "      <td>...</td>\n",
       "      <td>0.087899</td>\n",
       "      <td>0.133618</td>\n",
       "      <td>0.141486</td>\n",
       "      <td>0.230953</td>\n",
       "      <td>0.096831</td>\n",
       "      <td>0.080478</td>\n",
       "      <td>0.125833</td>\n",
       "      <td>0.101979</td>\n",
       "      <td>0.066281</td>\n",
       "      <td>0.081757</td>\n",
       "    </tr>\n",
       "    <tr>\n",
       "      <th>1</th>\n",
       "      <td>11-1011</td>\n",
       "      <td>Chief Executives</td>\n",
       "      <td>0.249847</td>\n",
       "      <td>0.299282</td>\n",
       "      <td>0.310250</td>\n",
       "      <td>0.086027</td>\n",
       "      <td>0.102379</td>\n",
       "      <td>0.134599</td>\n",
       "      <td>0.216714</td>\n",
       "      <td>0.213196</td>\n",
       "      <td>...</td>\n",
       "      <td>0.071319</td>\n",
       "      <td>0.149564</td>\n",
       "      <td>0.105337</td>\n",
       "      <td>0.236225</td>\n",
       "      <td>0.097778</td>\n",
       "      <td>0.080655</td>\n",
       "      <td>0.115064</td>\n",
       "      <td>0.098548</td>\n",
       "      <td>0.045431</td>\n",
       "      <td>0.077860</td>\n",
       "    </tr>\n",
       "    <tr>\n",
       "      <th>2</th>\n",
       "      <td>11-1021</td>\n",
       "      <td>General and Operations Managers</td>\n",
       "      <td>0.291689</td>\n",
       "      <td>0.299282</td>\n",
       "      <td>0.345261</td>\n",
       "      <td>0.090858</td>\n",
       "      <td>0.101784</td>\n",
       "      <td>0.140278</td>\n",
       "      <td>0.219236</td>\n",
       "      <td>0.194098</td>\n",
       "      <td>...</td>\n",
       "      <td>0.098457</td>\n",
       "      <td>0.135828</td>\n",
       "      <td>0.100025</td>\n",
       "      <td>0.291686</td>\n",
       "      <td>0.107019</td>\n",
       "      <td>0.080655</td>\n",
       "      <td>0.076839</td>\n",
       "      <td>0.026682</td>\n",
       "      <td>0.034746</td>\n",
       "      <td>0.077860</td>\n",
       "    </tr>\n",
       "    <tr>\n",
       "      <th>3</th>\n",
       "      <td>11-2011</td>\n",
       "      <td>Advertising and Promotions Managers</td>\n",
       "      <td>0.230600</td>\n",
       "      <td>0.299282</td>\n",
       "      <td>0.270371</td>\n",
       "      <td>0.324818</td>\n",
       "      <td>0.101784</td>\n",
       "      <td>0.035304</td>\n",
       "      <td>0.216714</td>\n",
       "      <td>0.213196</td>\n",
       "      <td>...</td>\n",
       "      <td>0.095610</td>\n",
       "      <td>0.135828</td>\n",
       "      <td>0.134576</td>\n",
       "      <td>0.498953</td>\n",
       "      <td>0.097778</td>\n",
       "      <td>0.080655</td>\n",
       "      <td>0.089657</td>\n",
       "      <td>0.098548</td>\n",
       "      <td>0.076078</td>\n",
       "      <td>0.077860</td>\n",
       "    </tr>\n",
       "    <tr>\n",
       "      <th>4</th>\n",
       "      <td>11-2021</td>\n",
       "      <td>Marketing Managers</td>\n",
       "      <td>0.485009</td>\n",
       "      <td>0.299282</td>\n",
       "      <td>0.321551</td>\n",
       "      <td>0.052249</td>\n",
       "      <td>0.101784</td>\n",
       "      <td>0.080267</td>\n",
       "      <td>0.216714</td>\n",
       "      <td>0.213196</td>\n",
       "      <td>...</td>\n",
       "      <td>0.147190</td>\n",
       "      <td>0.135828</td>\n",
       "      <td>0.195265</td>\n",
       "      <td>0.306027</td>\n",
       "      <td>0.097778</td>\n",
       "      <td>0.080655</td>\n",
       "      <td>0.106480</td>\n",
       "      <td>0.098548</td>\n",
       "      <td>0.060527</td>\n",
       "      <td>0.077860</td>\n",
       "    </tr>\n",
       "  </tbody>\n",
       "</table>\n",
       "<p>5 rows × 184 columns</p>\n",
       "</div>"
      ],
      "text/plain": [
       "  SOC Code                            Job Title   2.A.2.b  1.A.2.c.2  \\\n",
       "0  00-0000                        Total Average  0.182134   0.294097   \n",
       "1  11-1011                     Chief Executives  0.249847   0.299282   \n",
       "2  11-1021      General and Operations Managers  0.291689   0.299282   \n",
       "3  11-2011  Advertising and Promotions Managers  0.230600   0.299282   \n",
       "4  11-2021                   Marketing Managers  0.485009   0.299282   \n",
       "\n",
       "   1.A.1.c.2  4.C.1.a.2.h  4.C.2.a.1.e  4.A.4.b.4  4.C.2.c.1.c  4.A.1.b.2  \\\n",
       "0   0.310537     0.110194     0.101783   0.105480     0.215812   0.212749   \n",
       "1   0.310250     0.086027     0.102379   0.134599     0.216714   0.213196   \n",
       "2   0.345261     0.090858     0.101784   0.140278     0.219236   0.194098   \n",
       "3   0.270371     0.324818     0.101784   0.035304     0.216714   0.213196   \n",
       "4   0.321551     0.052249     0.101784   0.080267     0.216714   0.213196   \n",
       "\n",
       "     ...       2.B.1.d  4.C.2.b.1.f  4.C.1.c.2   2.A.2.a  4.A.3.b.6  \\\n",
       "0    ...      0.087899     0.133618   0.141486  0.230953   0.096831   \n",
       "1    ...      0.071319     0.149564   0.105337  0.236225   0.097778   \n",
       "2    ...      0.098457     0.135828   0.100025  0.291686   0.107019   \n",
       "3    ...      0.095610     0.135828   0.134576  0.498953   0.097778   \n",
       "4    ...      0.147190     0.135828   0.195265  0.306027   0.097778   \n",
       "\n",
       "   4.C.3.d.3  4.C.3.a.2.a  1.A.4.b.3  4.A.4.a.6  1.A.2.a.3  \n",
       "0   0.080478     0.125833   0.101979   0.066281   0.081757  \n",
       "1   0.080655     0.115064   0.098548   0.045431   0.077860  \n",
       "2   0.080655     0.076839   0.026682   0.034746   0.077860  \n",
       "3   0.080655     0.089657   0.098548   0.076078   0.077860  \n",
       "4   0.080655     0.106480   0.098548   0.060527   0.077860  \n",
       "\n",
       "[5 rows x 184 columns]"
      ]
     },
     "execution_count": 14,
     "metadata": {},
     "output_type": "execute_result"
    }
   ],
   "source": [
    "skill_dna_2008_2020_df.head()"
   ]
  },
  {
   "cell_type": "markdown",
   "metadata": {},
   "source": [
    "# Skill Network Edges"
   ]
  },
  {
   "cell_type": "code",
   "execution_count": 15,
   "metadata": {
    "collapsed": false
   },
   "outputs": [],
   "source": [
    "mst_edges.to_csv(\"../static/data/network_csv/skill_edges_2008.csv\", index=None)"
   ]
  },
  {
   "cell_type": "markdown",
   "metadata": {},
   "source": [
    "# Skill Network Nodes"
   ]
  },
  {
   "cell_type": "code",
   "execution_count": 16,
   "metadata": {
    "collapsed": true
   },
   "outputs": [],
   "source": [
    "cols = skill_dna_2008_df.columns.tolist()[2:]"
   ]
  },
  {
   "cell_type": "code",
   "execution_count": 17,
   "metadata": {
    "collapsed": false
   },
   "outputs": [],
   "source": [
    "for i, r in skill_dna_2008_df.iterrows():\n",
    "    skillmap = {}\n",
    "    skillmap[\"job_title\"] = r['Job Title']\n",
    "    skillmap[\"job_code\"] = r['SOC Code']  \n",
    "    \n",
    "    skill_list = []\n",
    "    \n",
    "    for col in cols:\n",
    "        skill_dict = {\"skill_name\": skill_code_to_name[col],\n",
    "                      \"skill_code\":col,\n",
    "                      \"task_name\": skill_code_to_task[col],\n",
    "                      \"automation_2020\":skill_dna_2020_df.iloc[i][col],\n",
    "                      \"automation_2008\":skill_dna_2008_df.iloc[i][col],                                     \n",
    "                      \"automation_2008_2020\":skill_dna_2008_2020_df.iloc[i][col],\n",
    "                     }\n",
    "        skill_list.append(skill_dict)  \n",
    "\n",
    "    skillmap[\"skill_list\"] = skill_list\n",
    "        \n",
    "    #with open('../static/data/network/'+r1['Job Code']+'-2020'+'.json', 'w') as outfile:\n",
    "    with open('../static/data/network_2008/'+skill_dna_2008_df.iloc[i]['SOC Code']+'.json', 'w') as outfile:\n",
    "        json.dump(skillmap, outfile)        "
   ]
  },
  {
   "cell_type": "markdown",
   "metadata": {},
   "source": [
    "# Task Clusters"
   ]
  },
  {
   "cell_type": "code",
   "execution_count": 1,
   "metadata": {
    "collapsed": true
   },
   "outputs": [],
   "source": [
    "import pandas as pd"
   ]
  },
  {
   "cell_type": "code",
   "execution_count": 33,
   "metadata": {
    "collapsed": true
   },
   "outputs": [],
   "source": [
    "task_cluster = {}\n",
    "\n",
    "task_cluster['Race with the Machine'] = ['Interpersonal Task','Group Task','Conflict Resolution','Management and Supervision']\n",
    "\n",
    "task_cluster['Race against the Machine'] = ['Routine Problem Solving','Information Processing','General Physical Task','Dynamic Physical Task']\n",
    "\n",
    "task_cluster['Race ahead of the Machine'] = ['Communication','Systems Analysis','Creative and Critical Thinking']\n",
    "\n",
    "task_cluster['Running a Different Race'] = ['Equipment Maintenance','Vehicle and Equipment Operation','Machine Control','Hazardous Task']"
   ]
  },
  {
   "cell_type": "code",
   "execution_count": 34,
   "metadata": {
    "collapsed": false
   },
   "outputs": [],
   "source": [
    "flatten_task_cluster = []\n",
    "\n",
    "for task_cluster_nm, tasks in task_cluster.items():\n",
    "    for task in tasks:\n",
    "        flatten_task_cluster_dict = {}\n",
    "        flatten_task_cluster_dict['task_name'] = task\n",
    "        flatten_task_cluster_dict['task_cluster'] = task_cluster_nm\n",
    "        flatten_task_cluster.append(flatten_task_cluster_dict)"
   ]
  },
  {
   "cell_type": "code",
   "execution_count": 35,
   "metadata": {
    "collapsed": false
   },
   "outputs": [],
   "source": [
    "task_cluster_df = pd.DataFrame(flatten_task_cluster)"
   ]
  },
  {
   "cell_type": "code",
   "execution_count": 36,
   "metadata": {
    "collapsed": true
   },
   "outputs": [],
   "source": [
    "task_cluster_df.to_csv(\"../static/data/network_csv/task_cluster.csv\", index=None)"
   ]
  },
  {
   "cell_type": "markdown",
   "metadata": {
    "collapsed": true
   },
   "source": [
    "# 2008 Cluster"
   ]
  },
  {
   "cell_type": "code",
   "execution_count": null,
   "metadata": {
    "collapsed": true
   },
   "outputs": [],
   "source": []
  }
 ],
 "metadata": {
  "anaconda-cloud": {},
  "kernelspec": {
   "display_name": "py35",
   "language": "python",
   "name": "py35"
  },
  "language_info": {
   "codemirror_mode": {
    "name": "ipython",
    "version": 2
   },
   "file_extension": ".py",
   "mimetype": "text/x-python",
   "name": "python",
   "nbconvert_exporter": "python",
   "pygments_lexer": "ipython2",
   "version": "2.7.12"
  }
 },
 "nbformat": 4,
 "nbformat_minor": 0
}
