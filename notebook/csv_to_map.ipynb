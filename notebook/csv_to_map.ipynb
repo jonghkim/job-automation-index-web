{
 "cells": [
  {
   "cell_type": "code",
   "execution_count": 121,
   "metadata": {
    "collapsed": true
   },
   "outputs": [],
   "source": [
    "# -*- coding: utf-8 -*-\n",
    "import pandas as pd\n",
    "import json"
   ]
  },
  {
   "cell_type": "code",
   "execution_count": 132,
   "metadata": {
    "collapsed": true
   },
   "outputs": [],
   "source": [
    "year='2008~2018'\n",
    "panel6_df = pd.read_csv(\"../static/data/csv/Panel 6 {}.csv\".format(year))\n"
   ]
  },
  {
   "cell_type": "code",
   "execution_count": 133,
   "metadata": {},
   "outputs": [
    {
     "data": {
      "text/html": [
       "<div>\n",
       "<style>\n",
       "    .dataframe thead tr:only-child th {\n",
       "        text-align: right;\n",
       "    }\n",
       "\n",
       "    .dataframe thead th {\n",
       "        text-align: left;\n",
       "    }\n",
       "\n",
       "    .dataframe tbody tr th {\n",
       "        vertical-align: top;\n",
       "    }\n",
       "</style>\n",
       "<table border=\"1\" class=\"dataframe\">\n",
       "  <thead>\n",
       "    <tr style=\"text-align: right;\">\n",
       "      <th></th>\n",
       "      <th>AREA</th>\n",
       "      <th>AREA_NAME</th>\n",
       "      <th>Employment</th>\n",
       "      <th>Automation Index</th>\n",
       "      <th>Race ahead of the Machine</th>\n",
       "      <th>Race with the Machine</th>\n",
       "      <th>Race against the Machine</th>\n",
       "      <th>Running a Different Race</th>\n",
       "      <th>Lat</th>\n",
       "      <th>Long</th>\n",
       "    </tr>\n",
       "  </thead>\n",
       "  <tbody>\n",
       "    <tr>\n",
       "      <th>0</th>\n",
       "      <td>11260</td>\n",
       "      <td>Anchorage, AK</td>\n",
       "      <td>139410</td>\n",
       "      <td>0.372350</td>\n",
       "      <td>-0.118899</td>\n",
       "      <td>0.192476</td>\n",
       "      <td>-0.456596</td>\n",
       "      <td>0.755369</td>\n",
       "      <td>62.212784</td>\n",
       "      <td>-149.678222</td>\n",
       "    </tr>\n",
       "    <tr>\n",
       "      <th>1</th>\n",
       "      <td>21820</td>\n",
       "      <td>Fairbanks, AK</td>\n",
       "      <td>25010</td>\n",
       "      <td>0.108546</td>\n",
       "      <td>-0.255622</td>\n",
       "      <td>0.178492</td>\n",
       "      <td>-0.659977</td>\n",
       "      <td>0.845652</td>\n",
       "      <td>64.676044</td>\n",
       "      <td>-146.548159</td>\n",
       "    </tr>\n",
       "    <tr>\n",
       "      <th>2</th>\n",
       "      <td>11500</td>\n",
       "      <td>Anniston-Oxford-Jacksonville, AL</td>\n",
       "      <td>30560</td>\n",
       "      <td>0.524117</td>\n",
       "      <td>-0.311157</td>\n",
       "      <td>0.793020</td>\n",
       "      <td>-0.498259</td>\n",
       "      <td>0.540513</td>\n",
       "      <td>33.771706</td>\n",
       "      <td>-85.822513</td>\n",
       "    </tr>\n",
       "    <tr>\n",
       "      <th>3</th>\n",
       "      <td>12220</td>\n",
       "      <td>Auburn-Opelika, AL</td>\n",
       "      <td>43360</td>\n",
       "      <td>0.321540</td>\n",
       "      <td>-0.404067</td>\n",
       "      <td>0.449072</td>\n",
       "      <td>0.082904</td>\n",
       "      <td>0.193631</td>\n",
       "      <td>32.604064</td>\n",
       "      <td>-85.353048</td>\n",
       "    </tr>\n",
       "    <tr>\n",
       "      <th>4</th>\n",
       "      <td>13820</td>\n",
       "      <td>Birmingham-Hoover, AL</td>\n",
       "      <td>433010</td>\n",
       "      <td>0.372670</td>\n",
       "      <td>-0.284961</td>\n",
       "      <td>0.261527</td>\n",
       "      <td>-0.237218</td>\n",
       "      <td>0.633322</td>\n",
       "      <td>33.462372</td>\n",
       "      <td>-86.814338</td>\n",
       "    </tr>\n",
       "  </tbody>\n",
       "</table>\n",
       "</div>"
      ],
      "text/plain": [
       "    AREA                         AREA_NAME  Employment  Automation Index  \\\n",
       "0  11260                     Anchorage, AK      139410          0.372350   \n",
       "1  21820                     Fairbanks, AK       25010          0.108546   \n",
       "2  11500  Anniston-Oxford-Jacksonville, AL       30560          0.524117   \n",
       "3  12220                Auburn-Opelika, AL       43360          0.321540   \n",
       "4  13820             Birmingham-Hoover, AL      433010          0.372670   \n",
       "\n",
       "   Race ahead of the Machine  Race with the Machine  Race against the Machine  \\\n",
       "0                  -0.118899               0.192476                 -0.456596   \n",
       "1                  -0.255622               0.178492                 -0.659977   \n",
       "2                  -0.311157               0.793020                 -0.498259   \n",
       "3                  -0.404067               0.449072                  0.082904   \n",
       "4                  -0.284961               0.261527                 -0.237218   \n",
       "\n",
       "   Running a Different Race        Lat        Long  \n",
       "0                  0.755369  62.212784 -149.678222  \n",
       "1                  0.845652  64.676044 -146.548159  \n",
       "2                  0.540513  33.771706  -85.822513  \n",
       "3                  0.193631  32.604064  -85.353048  \n",
       "4                  0.633322  33.462372  -86.814338  "
      ]
     },
     "execution_count": 133,
     "metadata": {},
     "output_type": "execute_result"
    }
   ],
   "source": [
    "panel6_df.head()"
   ]
  },
  {
   "cell_type": "code",
   "execution_count": 134,
   "metadata": {},
   "outputs": [
    {
     "data": {
      "text/plain": [
       "Index([u'AREA', u'AREA_NAME', u'Employment', u'Automation Index',\n",
       "       u'Race ahead of the Machine', u'Race with the Machine',\n",
       "       u'Race against the Machine', u'Running a Different Race', u'Lat',\n",
       "       u'Long'],\n",
       "      dtype='object')"
      ]
     },
     "execution_count": 134,
     "metadata": {},
     "output_type": "execute_result"
    }
   ],
   "source": [
    "panel6_df.columns"
   ]
  },
  {
   "cell_type": "code",
   "execution_count": 135,
   "metadata": {
    "collapsed": true
   },
   "outputs": [],
   "source": [
    "task_types = ['Race ahead of the Machine', 'Race with the Machine',\n",
    "              'Race against the Machine', 'Running a Different Race']"
   ]
  },
  {
   "cell_type": "code",
   "execution_count": 136,
   "metadata": {},
   "outputs": [],
   "source": [
    "import json\n",
    "\n",
    "for task_type in task_types:\n",
    "    map_list = []\n",
    "    for i, r in panel6_df.iterrows():\n",
    "        map_dict = {}\n",
    "        map_dict['Location'] = r['AREA_NAME']\n",
    "        map_dict['year'] = year\n",
    "        map_dict['area'] = r['AREA']        \n",
    "        map_dict['Lat'] = r['Lat']    \n",
    "        map_dict['Lng'] = r['Long']        \n",
    "        map_dict['ai'] = r['Automation Index']                \n",
    "        map_dict['task_type'] = task_type\n",
    "        map_dict['e'] = r[task_type]\n",
    "        map_dict['employment'] = r['Employment']        \n",
    "        map_dict['ai_task_type'] = r[task_type]\n",
    "        map_list.append(map_dict)\n",
    "        \n",
    "    with open('../static/data/map/'+str(year)+'_'+task_type+'.js', 'w') as outfile:    \n",
    "        outfile.write('tilde.cities = ' + json.dumps(map_list))\n",
    "        outfile.close()"
   ]
  },
  {
   "cell_type": "code",
   "execution_count": null,
   "metadata": {
    "collapsed": true
   },
   "outputs": [],
   "source": []
  },
  {
   "cell_type": "code",
   "execution_count": null,
   "metadata": {
    "collapsed": true
   },
   "outputs": [],
   "source": []
  },
  {
   "cell_type": "code",
   "execution_count": null,
   "metadata": {
    "collapsed": true
   },
   "outputs": [],
   "source": []
  }
 ],
 "metadata": {
  "kernelspec": {
   "display_name": "py35",
   "language": "python",
   "name": "py35"
  },
  "language_info": {
   "codemirror_mode": {
    "name": "ipython",
    "version": 2
   },
   "file_extension": ".py",
   "mimetype": "text/x-python",
   "name": "python",
   "nbconvert_exporter": "python",
   "pygments_lexer": "ipython2",
   "version": "2.7.12"
  }
 },
 "nbformat": 4,
 "nbformat_minor": 2
}
