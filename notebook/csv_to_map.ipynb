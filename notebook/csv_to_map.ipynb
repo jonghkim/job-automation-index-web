{
 "cells": [
  {
   "cell_type": "code",
   "execution_count": 1,
   "metadata": {
    "collapsed": true
   },
   "outputs": [],
   "source": [
    "# -*- coding: utf-8 -*-\n",
    "import pandas as pd\n",
    "import json"
   ]
  },
  {
   "cell_type": "code",
   "execution_count": 12,
   "metadata": {
    "collapsed": true
   },
   "outputs": [],
   "source": [
    "year='2008'\n",
    "panel6_df = pd.read_csv(\"../static/data/csv/Panel 6 {}.csv\".format(year))\n"
   ]
  },
  {
   "cell_type": "code",
   "execution_count": 13,
   "metadata": {
    "collapsed": false
   },
   "outputs": [
    {
     "data": {
      "text/html": [
       "<div>\n",
       "<style>\n",
       "    .dataframe thead tr:only-child th {\n",
       "        text-align: right;\n",
       "    }\n",
       "\n",
       "    .dataframe thead th {\n",
       "        text-align: left;\n",
       "    }\n",
       "\n",
       "    .dataframe tbody tr th {\n",
       "        vertical-align: top;\n",
       "    }\n",
       "</style>\n",
       "<table border=\"1\" class=\"dataframe\">\n",
       "  <thead>\n",
       "    <tr style=\"text-align: right;\">\n",
       "      <th></th>\n",
       "      <th>AREA</th>\n",
       "      <th>AREA_NAME</th>\n",
       "      <th>Employment</th>\n",
       "      <th>Automation Index</th>\n",
       "      <th>Race ahead of the Machine</th>\n",
       "      <th>Race with the Machine</th>\n",
       "      <th>Race against the Machine</th>\n",
       "      <th>Running a Different Race</th>\n",
       "      <th>Lat</th>\n",
       "      <th>Long</th>\n",
       "    </tr>\n",
       "  </thead>\n",
       "  <tbody>\n",
       "    <tr>\n",
       "      <th>0</th>\n",
       "      <td>11260</td>\n",
       "      <td>Anchorage, AK</td>\n",
       "      <td>131540</td>\n",
       "      <td>48.741746</td>\n",
       "      <td>5.904934</td>\n",
       "      <td>10.107714</td>\n",
       "      <td>13.453128</td>\n",
       "      <td>19.275970</td>\n",
       "      <td>62.212784</td>\n",
       "      <td>-149.678222</td>\n",
       "    </tr>\n",
       "    <tr>\n",
       "      <th>1</th>\n",
       "      <td>21820</td>\n",
       "      <td>Fairbanks, AK</td>\n",
       "      <td>24140</td>\n",
       "      <td>48.922053</td>\n",
       "      <td>5.787231</td>\n",
       "      <td>10.585076</td>\n",
       "      <td>13.383320</td>\n",
       "      <td>19.166426</td>\n",
       "      <td>64.676044</td>\n",
       "      <td>-146.548159</td>\n",
       "    </tr>\n",
       "    <tr>\n",
       "      <th>2</th>\n",
       "      <td>11500</td>\n",
       "      <td>Anniston-Oxford-Jacksonville, AL</td>\n",
       "      <td>34870</td>\n",
       "      <td>48.605076</td>\n",
       "      <td>4.946296</td>\n",
       "      <td>10.906007</td>\n",
       "      <td>14.211671</td>\n",
       "      <td>18.541102</td>\n",
       "      <td>33.771706</td>\n",
       "      <td>-85.822513</td>\n",
       "    </tr>\n",
       "    <tr>\n",
       "      <th>3</th>\n",
       "      <td>12220</td>\n",
       "      <td>Auburn-Opelika, AL</td>\n",
       "      <td>34810</td>\n",
       "      <td>48.613007</td>\n",
       "      <td>5.220525</td>\n",
       "      <td>11.184156</td>\n",
       "      <td>13.248870</td>\n",
       "      <td>18.959457</td>\n",
       "      <td>32.604064</td>\n",
       "      <td>-85.353048</td>\n",
       "    </tr>\n",
       "    <tr>\n",
       "      <th>4</th>\n",
       "      <td>13820</td>\n",
       "      <td>Birmingham-Hoover, AL</td>\n",
       "      <td>449200</td>\n",
       "      <td>48.916497</td>\n",
       "      <td>5.974561</td>\n",
       "      <td>9.926551</td>\n",
       "      <td>13.731180</td>\n",
       "      <td>19.284204</td>\n",
       "      <td>33.462372</td>\n",
       "      <td>-86.814338</td>\n",
       "    </tr>\n",
       "  </tbody>\n",
       "</table>\n",
       "</div>"
      ],
      "text/plain": [
       "    AREA                         AREA_NAME  Employment  Automation Index  \\\n",
       "0  11260                     Anchorage, AK      131540         48.741746   \n",
       "1  21820                     Fairbanks, AK       24140         48.922053   \n",
       "2  11500  Anniston-Oxford-Jacksonville, AL       34870         48.605076   \n",
       "3  12220                Auburn-Opelika, AL       34810         48.613007   \n",
       "4  13820             Birmingham-Hoover, AL      449200         48.916497   \n",
       "\n",
       "   Race ahead of the Machine  Race with the Machine  Race against the Machine  \\\n",
       "0                   5.904934              10.107714                 13.453128   \n",
       "1                   5.787231              10.585076                 13.383320   \n",
       "2                   4.946296              10.906007                 14.211671   \n",
       "3                   5.220525              11.184156                 13.248870   \n",
       "4                   5.974561               9.926551                 13.731180   \n",
       "\n",
       "   Running a Different Race        Lat        Long  \n",
       "0                 19.275970  62.212784 -149.678222  \n",
       "1                 19.166426  64.676044 -146.548159  \n",
       "2                 18.541102  33.771706  -85.822513  \n",
       "3                 18.959457  32.604064  -85.353048  \n",
       "4                 19.284204  33.462372  -86.814338  "
      ]
     },
     "execution_count": 13,
     "metadata": {},
     "output_type": "execute_result"
    }
   ],
   "source": [
    "panel6_df.head()"
   ]
  },
  {
   "cell_type": "code",
   "execution_count": 14,
   "metadata": {
    "collapsed": false
   },
   "outputs": [
    {
     "data": {
      "text/plain": [
       "Index([u'AREA', u'AREA_NAME', u'Employment', u'Automation Index',\n",
       "       u'Race ahead of the Machine', u'Race with the Machine',\n",
       "       u'Race against the Machine', u'Running a Different Race', u'Lat',\n",
       "       u'Long'],\n",
       "      dtype='object')"
      ]
     },
     "execution_count": 14,
     "metadata": {},
     "output_type": "execute_result"
    }
   ],
   "source": [
    "panel6_df.columns"
   ]
  },
  {
   "cell_type": "code",
   "execution_count": 15,
   "metadata": {
    "collapsed": true
   },
   "outputs": [],
   "source": [
    "task_types = ['Race ahead of the Machine', 'Race with the Machine',\n",
    "              'Race against the Machine', 'Running a Different Race']"
   ]
  },
  {
   "cell_type": "code",
   "execution_count": 16,
   "metadata": {
    "collapsed": true
   },
   "outputs": [],
   "source": [
    "import json\n",
    "\n",
    "for task_type in task_types:\n",
    "    map_list = []\n",
    "    for i, r in panel6_df.iterrows():\n",
    "        map_dict = {}\n",
    "        map_dict['Location'] = r['AREA_NAME']\n",
    "        map_dict['year'] = year\n",
    "        map_dict['area'] = r['AREA']        \n",
    "        map_dict['Lat'] = r['Lat']    \n",
    "        map_dict['Lng'] = r['Long']        \n",
    "        map_dict['ai'] = r['Automation Index']                \n",
    "        map_dict['task_type'] = task_type\n",
    "        map_dict['e'] = r['Automation Index']                \n",
    "        map_dict['employment'] = r['Employment']        \n",
    "        map_dict['ai_task_type'] = r[task_type]\n",
    "        map_list.append(map_dict)\n",
    "        \n",
    "    with open('../static/data/map/'+str(year)+'_'+task_type+'.js', 'w') as outfile:    \n",
    "        outfile.write('tilde.cities = ' + json.dumps(map_list))\n",
    "        outfile.close()"
   ]
  },
  {
   "cell_type": "code",
   "execution_count": null,
   "metadata": {
    "collapsed": true
   },
   "outputs": [],
   "source": []
  },
  {
   "cell_type": "code",
   "execution_count": null,
   "metadata": {
    "collapsed": true
   },
   "outputs": [],
   "source": []
  },
  {
   "cell_type": "code",
   "execution_count": null,
   "metadata": {
    "collapsed": true
   },
   "outputs": [],
   "source": []
  }
 ],
 "metadata": {
  "kernelspec": {
   "display_name": "py35",
   "language": "python",
   "name": "py35"
  },
  "language_info": {
   "codemirror_mode": {
    "name": "ipython",
    "version": 2
   },
   "file_extension": ".py",
   "mimetype": "text/x-python",
   "name": "python",
   "nbconvert_exporter": "python",
   "pygments_lexer": "ipython2",
   "version": "2.7.12"
  }
 },
 "nbformat": 4,
 "nbformat_minor": 2
}
