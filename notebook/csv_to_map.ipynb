{
 "cells": [
  {
   "cell_type": "code",
   "execution_count": 105,
   "metadata": {
    "collapsed": true
   },
   "outputs": [],
   "source": [
    "# -*- coding: utf-8 -*-\n",
    "import pandas as pd\n",
    "import json"
   ]
  },
  {
   "cell_type": "code",
   "execution_count": 116,
   "metadata": {
    "collapsed": true
   },
   "outputs": [],
   "source": [
    "year='2018'\n",
    "panel6_df = pd.read_csv(\"../static/data/csv/Panel 6 {}.csv\".format(year))\n"
   ]
  },
  {
   "cell_type": "code",
   "execution_count": 117,
   "metadata": {},
   "outputs": [
    {
     "data": {
      "text/html": [
       "<div>\n",
       "<style>\n",
       "    .dataframe thead tr:only-child th {\n",
       "        text-align: right;\n",
       "    }\n",
       "\n",
       "    .dataframe thead th {\n",
       "        text-align: left;\n",
       "    }\n",
       "\n",
       "    .dataframe tbody tr th {\n",
       "        vertical-align: top;\n",
       "    }\n",
       "</style>\n",
       "<table border=\"1\" class=\"dataframe\">\n",
       "  <thead>\n",
       "    <tr style=\"text-align: right;\">\n",
       "      <th></th>\n",
       "      <th>AREA</th>\n",
       "      <th>AREA_NAME</th>\n",
       "      <th>Employment</th>\n",
       "      <th>Automation Index</th>\n",
       "      <th>Race ahead of the Machine</th>\n",
       "      <th>Race with the Machine</th>\n",
       "      <th>Race against the Machine</th>\n",
       "      <th>Running a Different Race</th>\n",
       "      <th>Lat</th>\n",
       "      <th>Long</th>\n",
       "    </tr>\n",
       "  </thead>\n",
       "  <tbody>\n",
       "    <tr>\n",
       "      <th>0</th>\n",
       "      <td>11260</td>\n",
       "      <td>Anchorage, AK</td>\n",
       "      <td>139410</td>\n",
       "      <td>49.114096</td>\n",
       "      <td>5.786035</td>\n",
       "      <td>10.300190</td>\n",
       "      <td>12.996532</td>\n",
       "      <td>20.031339</td>\n",
       "      <td>62.212784</td>\n",
       "      <td>-149.678222</td>\n",
       "    </tr>\n",
       "    <tr>\n",
       "      <th>1</th>\n",
       "      <td>21820</td>\n",
       "      <td>Fairbanks, AK</td>\n",
       "      <td>25010</td>\n",
       "      <td>49.030598</td>\n",
       "      <td>5.531609</td>\n",
       "      <td>10.763568</td>\n",
       "      <td>12.723343</td>\n",
       "      <td>20.012077</td>\n",
       "      <td>64.676044</td>\n",
       "      <td>-146.548159</td>\n",
       "    </tr>\n",
       "    <tr>\n",
       "      <th>2</th>\n",
       "      <td>11500</td>\n",
       "      <td>Anniston-Oxford-Jacksonville, AL</td>\n",
       "      <td>30560</td>\n",
       "      <td>49.129193</td>\n",
       "      <td>4.635139</td>\n",
       "      <td>11.699027</td>\n",
       "      <td>13.713412</td>\n",
       "      <td>19.081614</td>\n",
       "      <td>33.771706</td>\n",
       "      <td>-85.822513</td>\n",
       "    </tr>\n",
       "    <tr>\n",
       "      <th>3</th>\n",
       "      <td>12220</td>\n",
       "      <td>Auburn-Opelika, AL</td>\n",
       "      <td>43360</td>\n",
       "      <td>48.934548</td>\n",
       "      <td>4.816458</td>\n",
       "      <td>11.633228</td>\n",
       "      <td>13.331774</td>\n",
       "      <td>19.153088</td>\n",
       "      <td>32.604064</td>\n",
       "      <td>-85.353048</td>\n",
       "    </tr>\n",
       "    <tr>\n",
       "      <th>4</th>\n",
       "      <td>13820</td>\n",
       "      <td>Birmingham-Hoover, AL</td>\n",
       "      <td>433010</td>\n",
       "      <td>49.289167</td>\n",
       "      <td>5.689601</td>\n",
       "      <td>10.188078</td>\n",
       "      <td>13.493962</td>\n",
       "      <td>19.917526</td>\n",
       "      <td>33.462372</td>\n",
       "      <td>-86.814338</td>\n",
       "    </tr>\n",
       "  </tbody>\n",
       "</table>\n",
       "</div>"
      ],
      "text/plain": [
       "    AREA                         AREA_NAME  Employment  Automation Index  \\\n",
       "0  11260                     Anchorage, AK      139410         49.114096   \n",
       "1  21820                     Fairbanks, AK       25010         49.030598   \n",
       "2  11500  Anniston-Oxford-Jacksonville, AL       30560         49.129193   \n",
       "3  12220                Auburn-Opelika, AL       43360         48.934548   \n",
       "4  13820             Birmingham-Hoover, AL      433010         49.289167   \n",
       "\n",
       "   Race ahead of the Machine  Race with the Machine  Race against the Machine  \\\n",
       "0                   5.786035              10.300190                 12.996532   \n",
       "1                   5.531609              10.763568                 12.723343   \n",
       "2                   4.635139              11.699027                 13.713412   \n",
       "3                   4.816458              11.633228                 13.331774   \n",
       "4                   5.689601              10.188078                 13.493962   \n",
       "\n",
       "   Running a Different Race        Lat        Long  \n",
       "0                 20.031339  62.212784 -149.678222  \n",
       "1                 20.012077  64.676044 -146.548159  \n",
       "2                 19.081614  33.771706  -85.822513  \n",
       "3                 19.153088  32.604064  -85.353048  \n",
       "4                 19.917526  33.462372  -86.814338  "
      ]
     },
     "execution_count": 117,
     "metadata": {},
     "output_type": "execute_result"
    }
   ],
   "source": [
    "panel6_df.head()"
   ]
  },
  {
   "cell_type": "code",
   "execution_count": 118,
   "metadata": {},
   "outputs": [
    {
     "data": {
      "text/plain": [
       "Index([u'AREA', u'AREA_NAME', u'Employment', u'Automation Index',\n",
       "       u'Race ahead of the Machine', u'Race with the Machine',\n",
       "       u'Race against the Machine', u'Running a Different Race', u'Lat',\n",
       "       u'Long'],\n",
       "      dtype='object')"
      ]
     },
     "execution_count": 118,
     "metadata": {},
     "output_type": "execute_result"
    }
   ],
   "source": [
    "panel6_df.columns"
   ]
  },
  {
   "cell_type": "code",
   "execution_count": 119,
   "metadata": {
    "collapsed": true
   },
   "outputs": [],
   "source": [
    "task_types = ['Race ahead of the Machine', 'Race with the Machine',\n",
    "              'Race against the Machine', 'Running a Different Race']"
   ]
  },
  {
   "cell_type": "code",
   "execution_count": 120,
   "metadata": {},
   "outputs": [],
   "source": [
    "import json\n",
    "\n",
    "for task_type in task_types:\n",
    "    map_list = []\n",
    "    for i, r in panel6_df.iterrows():\n",
    "        map_dict = {}\n",
    "        map_dict['Location'] = r['AREA_NAME']\n",
    "        map_dict['year'] = year\n",
    "        map_dict['area'] = r['AREA']        \n",
    "        map_dict['Lat'] = r['Lat']    \n",
    "        map_dict['Lng'] = r['Long']        \n",
    "        map_dict['ai'] = r['Automation Index']                \n",
    "        map_dict['task_type'] = task_type\n",
    "        map_dict['e'] = r['Employment']        \n",
    "        map_dict['ai_task_type'] = r[task_type]\n",
    "        map_list.append(map_dict)\n",
    "        \n",
    "    with open('../static/data/map/'+str(year)+'_'+task_type+'.js', 'w') as outfile:    \n",
    "        outfile.write('tilde.cities = ' + json.dumps(map_list))\n",
    "        outfile.close()"
   ]
  },
  {
   "cell_type": "code",
   "execution_count": null,
   "metadata": {
    "collapsed": true
   },
   "outputs": [],
   "source": []
  },
  {
   "cell_type": "code",
   "execution_count": null,
   "metadata": {
    "collapsed": true
   },
   "outputs": [],
   "source": []
  },
  {
   "cell_type": "code",
   "execution_count": null,
   "metadata": {
    "collapsed": true
   },
   "outputs": [],
   "source": []
  }
 ],
 "metadata": {
  "kernelspec": {
   "display_name": "py35",
   "language": "python",
   "name": "py35"
  },
  "language_info": {
   "codemirror_mode": {
    "name": "ipython",
    "version": 2
   },
   "file_extension": ".py",
   "mimetype": "text/x-python",
   "name": "python",
   "nbconvert_exporter": "python",
   "pygments_lexer": "ipython2",
   "version": "2.7.12"
  }
 },
 "nbformat": 4,
 "nbformat_minor": 2
}
