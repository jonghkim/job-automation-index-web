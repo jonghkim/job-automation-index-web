{
 "cells": [
  {
   "cell_type": "code",
   "execution_count": 25,
   "metadata": {
    "collapsed": true
   },
   "outputs": [],
   "source": [
    "# -*- coding: utf-8 -*-\n",
    "import pandas as pd\n",
    "import json"
   ]
  },
  {
   "cell_type": "code",
   "execution_count": 26,
   "metadata": {
    "collapsed": false
   },
   "outputs": [],
   "source": [
    "mst_edges = pd.read_excel(\"../static/data/xlsx/MST Edges.xlsx\")"
   ]
  },
  {
   "cell_type": "code",
   "execution_count": 27,
   "metadata": {
    "collapsed": false
   },
   "outputs": [],
   "source": [
    "skill_dna_2008_df = pd.read_excel(\"../static/data/xlsx/Skill DNA v2.xlsx\", sheetname='2008')\n",
    "skill_dna_2019_df = pd.read_excel(\"../static/data/xlsx/Skill DNA v2.xlsx\", sheetname='2019')\n",
    "skill_dna_2008_2019_df = pd.read_excel(\"../static/data/xlsx/Skill DNA v2.xlsx\", sheetname='2008-2019')"
   ]
  },
  {
   "cell_type": "code",
   "execution_count": 28,
   "metadata": {
    "collapsed": false
   },
   "outputs": [],
   "source": [
    "skill_dna_name_refer = pd.read_excel(\"../static/data/xlsx/Skill DNA.xlsx\", sheetname='Automation Level')"
   ]
  },
  {
   "cell_type": "code",
   "execution_count": 29,
   "metadata": {
    "collapsed": true
   },
   "outputs": [],
   "source": [
    "skill_code_to_name = {r['ElementID']:r['node'] for i,r in skill_dna_name_refer.iterrows()}\n",
    "skill_code_to_task = {r['ElementID']:r['Task'] for i,r in skill_dna_name_refer.iterrows()}"
   ]
  },
  {
   "cell_type": "code",
   "execution_count": 30,
   "metadata": {
    "collapsed": false
   },
   "outputs": [
    {
     "data": {
      "text/html": [
       "<div>\n",
       "<style>\n",
       "    .dataframe thead tr:only-child th {\n",
       "        text-align: right;\n",
       "    }\n",
       "\n",
       "    .dataframe thead th {\n",
       "        text-align: left;\n",
       "    }\n",
       "\n",
       "    .dataframe tbody tr th {\n",
       "        vertical-align: top;\n",
       "    }\n",
       "</style>\n",
       "<table border=\"1\" class=\"dataframe\">\n",
       "  <thead>\n",
       "    <tr style=\"text-align: right;\">\n",
       "      <th></th>\n",
       "      <th>SOC Code</th>\n",
       "      <th>Job Title</th>\n",
       "      <th>2.A.2.b</th>\n",
       "      <th>1.A.2.c.2</th>\n",
       "      <th>1.A.1.c.2</th>\n",
       "      <th>4.C.1.a.2.h</th>\n",
       "      <th>4.C.2.a.1.e</th>\n",
       "      <th>4.A.4.b.4</th>\n",
       "      <th>4.C.2.c.1.c</th>\n",
       "      <th>4.A.1.b.2</th>\n",
       "      <th>...</th>\n",
       "      <th>2.B.1.d</th>\n",
       "      <th>4.C.2.b.1.f</th>\n",
       "      <th>4.C.1.c.2</th>\n",
       "      <th>2.A.2.a</th>\n",
       "      <th>4.A.3.b.6</th>\n",
       "      <th>4.C.3.d.3</th>\n",
       "      <th>4.C.3.a.2.a</th>\n",
       "      <th>1.A.4.b.3</th>\n",
       "      <th>4.A.4.a.6</th>\n",
       "      <th>1.A.2.a.3</th>\n",
       "    </tr>\n",
       "  </thead>\n",
       "  <tbody>\n",
       "    <tr>\n",
       "      <th>0</th>\n",
       "      <td>00-0000</td>\n",
       "      <td>Total Average</td>\n",
       "      <td>-0.000125</td>\n",
       "      <td>-0.000275</td>\n",
       "      <td>0.000148</td>\n",
       "      <td>-0.000192</td>\n",
       "      <td>-0.000011</td>\n",
       "      <td>0.000022</td>\n",
       "      <td>0.000023</td>\n",
       "      <td>0.00026</td>\n",
       "      <td>...</td>\n",
       "      <td>0.000313</td>\n",
       "      <td>-0.000026</td>\n",
       "      <td>-0.000185</td>\n",
       "      <td>0.000405</td>\n",
       "      <td>-0.000009</td>\n",
       "      <td>-0.000078</td>\n",
       "      <td>0.000131</td>\n",
       "      <td>0.000266</td>\n",
       "      <td>0.000174</td>\n",
       "      <td>0.000194</td>\n",
       "    </tr>\n",
       "    <tr>\n",
       "      <th>1</th>\n",
       "      <td>11-1011</td>\n",
       "      <td>Chief Executives</td>\n",
       "      <td>0.002307</td>\n",
       "      <td>0.000000</td>\n",
       "      <td>0.000204</td>\n",
       "      <td>-0.001708</td>\n",
       "      <td>0.000096</td>\n",
       "      <td>0.001723</td>\n",
       "      <td>0.000000</td>\n",
       "      <td>0.00000</td>\n",
       "      <td>...</td>\n",
       "      <td>-0.001028</td>\n",
       "      <td>0.000726</td>\n",
       "      <td>-0.002655</td>\n",
       "      <td>0.000846</td>\n",
       "      <td>0.000000</td>\n",
       "      <td>0.000000</td>\n",
       "      <td>-0.000375</td>\n",
       "      <td>0.000000</td>\n",
       "      <td>-0.003008</td>\n",
       "      <td>0.000000</td>\n",
       "    </tr>\n",
       "    <tr>\n",
       "      <th>2</th>\n",
       "      <td>11-1021</td>\n",
       "      <td>General and Operations Managers</td>\n",
       "      <td>0.003511</td>\n",
       "      <td>0.000000</td>\n",
       "      <td>0.001622</td>\n",
       "      <td>-0.001470</td>\n",
       "      <td>0.000000</td>\n",
       "      <td>0.001967</td>\n",
       "      <td>0.000116</td>\n",
       "      <td>-0.00062</td>\n",
       "      <td>...</td>\n",
       "      <td>0.001629</td>\n",
       "      <td>0.000000</td>\n",
       "      <td>-0.003292</td>\n",
       "      <td>0.002429</td>\n",
       "      <td>0.000869</td>\n",
       "      <td>0.000000</td>\n",
       "      <td>-0.004166</td>\n",
       "      <td>-0.005658</td>\n",
       "      <td>-0.005135</td>\n",
       "      <td>0.000000</td>\n",
       "    </tr>\n",
       "    <tr>\n",
       "      <th>3</th>\n",
       "      <td>11-2011</td>\n",
       "      <td>Advertising and Promotions Managers</td>\n",
       "      <td>0.001678</td>\n",
       "      <td>0.000000</td>\n",
       "      <td>-0.001619</td>\n",
       "      <td>0.007048</td>\n",
       "      <td>0.000000</td>\n",
       "      <td>-0.005032</td>\n",
       "      <td>0.000000</td>\n",
       "      <td>0.00000</td>\n",
       "      <td>...</td>\n",
       "      <td>0.001285</td>\n",
       "      <td>0.000000</td>\n",
       "      <td>-0.000521</td>\n",
       "      <td>0.007258</td>\n",
       "      <td>0.000000</td>\n",
       "      <td>0.000000</td>\n",
       "      <td>-0.003053</td>\n",
       "      <td>0.000000</td>\n",
       "      <td>0.001899</td>\n",
       "      <td>0.000000</td>\n",
       "    </tr>\n",
       "    <tr>\n",
       "      <th>4</th>\n",
       "      <td>11-2021</td>\n",
       "      <td>Marketing Managers</td>\n",
       "      <td>0.007517</td>\n",
       "      <td>0.000000</td>\n",
       "      <td>0.000776</td>\n",
       "      <td>-0.004744</td>\n",
       "      <td>0.000000</td>\n",
       "      <td>-0.000903</td>\n",
       "      <td>0.000000</td>\n",
       "      <td>0.00000</td>\n",
       "      <td>...</td>\n",
       "      <td>0.005449</td>\n",
       "      <td>0.000000</td>\n",
       "      <td>0.002794</td>\n",
       "      <td>0.002902</td>\n",
       "      <td>0.000000</td>\n",
       "      <td>0.000000</td>\n",
       "      <td>-0.001368</td>\n",
       "      <td>0.000000</td>\n",
       "      <td>0.000003</td>\n",
       "      <td>0.000000</td>\n",
       "    </tr>\n",
       "  </tbody>\n",
       "</table>\n",
       "<p>5 rows × 184 columns</p>\n",
       "</div>"
      ],
      "text/plain": [
       "  SOC Code                            Job Title   2.A.2.b  1.A.2.c.2  \\\n",
       "0  00-0000                        Total Average -0.000125  -0.000275   \n",
       "1  11-1011                     Chief Executives  0.002307   0.000000   \n",
       "2  11-1021      General and Operations Managers  0.003511   0.000000   \n",
       "3  11-2011  Advertising and Promotions Managers  0.001678   0.000000   \n",
       "4  11-2021                   Marketing Managers  0.007517   0.000000   \n",
       "\n",
       "   1.A.1.c.2  4.C.1.a.2.h  4.C.2.a.1.e  4.A.4.b.4  4.C.2.c.1.c  4.A.1.b.2  \\\n",
       "0   0.000148    -0.000192    -0.000011   0.000022     0.000023    0.00026   \n",
       "1   0.000204    -0.001708     0.000096   0.001723     0.000000    0.00000   \n",
       "2   0.001622    -0.001470     0.000000   0.001967     0.000116   -0.00062   \n",
       "3  -0.001619     0.007048     0.000000  -0.005032     0.000000    0.00000   \n",
       "4   0.000776    -0.004744     0.000000  -0.000903     0.000000    0.00000   \n",
       "\n",
       "     ...       2.B.1.d  4.C.2.b.1.f  4.C.1.c.2   2.A.2.a  4.A.3.b.6  \\\n",
       "0    ...      0.000313    -0.000026  -0.000185  0.000405  -0.000009   \n",
       "1    ...     -0.001028     0.000726  -0.002655  0.000846   0.000000   \n",
       "2    ...      0.001629     0.000000  -0.003292  0.002429   0.000869   \n",
       "3    ...      0.001285     0.000000  -0.000521  0.007258   0.000000   \n",
       "4    ...      0.005449     0.000000   0.002794  0.002902   0.000000   \n",
       "\n",
       "   4.C.3.d.3  4.C.3.a.2.a  1.A.4.b.3  4.A.4.a.6  1.A.2.a.3  \n",
       "0  -0.000078     0.000131   0.000266   0.000174   0.000194  \n",
       "1   0.000000    -0.000375   0.000000  -0.003008   0.000000  \n",
       "2   0.000000    -0.004166  -0.005658  -0.005135   0.000000  \n",
       "3   0.000000    -0.003053   0.000000   0.001899   0.000000  \n",
       "4   0.000000    -0.001368   0.000000   0.000003   0.000000  \n",
       "\n",
       "[5 rows x 184 columns]"
      ]
     },
     "execution_count": 30,
     "metadata": {},
     "output_type": "execute_result"
    }
   ],
   "source": [
    "skill_dna_2008_2019_df.head()"
   ]
  },
  {
   "cell_type": "code",
   "execution_count": 31,
   "metadata": {
    "collapsed": true
   },
   "outputs": [],
   "source": [
    "def standardizer(df, col):\n",
    "    df[col] -= df[col].min()\n",
    "    df[col] /= df[col].max()\n",
    "    \n",
    "    #df[col] = (30**df[col]-1)/30\n",
    "    \n",
    "    #df[col] = [0.5 if value > 0.5 else value for value in df[col]]\n",
    "    \n",
    "    #df[col] = df[col]*200\n",
    "    #df[col] = df[col]+10\n",
    "    return df"
   ]
  },
  {
   "cell_type": "code",
   "execution_count": 32,
   "metadata": {
    "collapsed": true
   },
   "outputs": [],
   "source": [
    "def standardizer_diff(df, col):\n",
    "    df[col] -= df[col].min()\n",
    "    df[col] /= df[col].max()\n",
    "    \n",
    "    df[col] = (50**df[col]-1)/50\n",
    "    \n",
    "    #df[col] = [0.6 if value > 0.6 else value for value in df[col]]\n",
    "    \n",
    "    #df[col] = df[col]*200\n",
    "    #df[col] = df[col]+10\n",
    "    return df"
   ]
  },
  {
   "cell_type": "code",
   "execution_count": 33,
   "metadata": {
    "collapsed": false
   },
   "outputs": [],
   "source": [
    "for col in skill_dna_2008_df.columns.tolist()[2:]:\n",
    "    skill_dna_2008_df = standardizer(skill_dna_2008_df, col)\n",
    "    skill_dna_2019_df = standardizer(skill_dna_2019_df, col)\n",
    "    skill_dna_2008_2019_df = standardizer_diff(skill_dna_2008_2019_df, col)    \n"
   ]
  },
  {
   "cell_type": "code",
   "execution_count": 34,
   "metadata": {
    "collapsed": false
   },
   "outputs": [
    {
     "data": {
      "text/html": [
       "<div>\n",
       "<style>\n",
       "    .dataframe thead tr:only-child th {\n",
       "        text-align: right;\n",
       "    }\n",
       "\n",
       "    .dataframe thead th {\n",
       "        text-align: left;\n",
       "    }\n",
       "\n",
       "    .dataframe tbody tr th {\n",
       "        vertical-align: top;\n",
       "    }\n",
       "</style>\n",
       "<table border=\"1\" class=\"dataframe\">\n",
       "  <thead>\n",
       "    <tr style=\"text-align: right;\">\n",
       "      <th></th>\n",
       "      <th>SOC Code</th>\n",
       "      <th>Job Title</th>\n",
       "      <th>2.A.2.b</th>\n",
       "      <th>1.A.2.c.2</th>\n",
       "      <th>1.A.1.c.2</th>\n",
       "      <th>4.C.1.a.2.h</th>\n",
       "      <th>4.C.2.a.1.e</th>\n",
       "      <th>4.A.4.b.4</th>\n",
       "      <th>4.C.2.c.1.c</th>\n",
       "      <th>4.A.1.b.2</th>\n",
       "      <th>...</th>\n",
       "      <th>2.B.1.d</th>\n",
       "      <th>4.C.2.b.1.f</th>\n",
       "      <th>4.C.1.c.2</th>\n",
       "      <th>2.A.2.a</th>\n",
       "      <th>4.A.3.b.6</th>\n",
       "      <th>4.C.3.d.3</th>\n",
       "      <th>4.C.3.a.2.a</th>\n",
       "      <th>1.A.4.b.3</th>\n",
       "      <th>4.A.4.a.6</th>\n",
       "      <th>1.A.2.a.3</th>\n",
       "    </tr>\n",
       "  </thead>\n",
       "  <tbody>\n",
       "    <tr>\n",
       "      <th>0</th>\n",
       "      <td>00-0000</td>\n",
       "      <td>Total Average</td>\n",
       "      <td>0.155094</td>\n",
       "      <td>0.315455</td>\n",
       "      <td>0.290686</td>\n",
       "      <td>0.112535</td>\n",
       "      <td>0.100540</td>\n",
       "      <td>0.095815</td>\n",
       "      <td>0.231591</td>\n",
       "      <td>0.101303</td>\n",
       "      <td>...</td>\n",
       "      <td>0.084015</td>\n",
       "      <td>0.123198</td>\n",
       "      <td>0.140921</td>\n",
       "      <td>0.164031</td>\n",
       "      <td>0.076954</td>\n",
       "      <td>0.073518</td>\n",
       "      <td>0.119879</td>\n",
       "      <td>0.136629</td>\n",
       "      <td>0.056352</td>\n",
       "      <td>0.089136</td>\n",
       "    </tr>\n",
       "    <tr>\n",
       "      <th>1</th>\n",
       "      <td>11-1011</td>\n",
       "      <td>Chief Executives</td>\n",
       "      <td>0.215698</td>\n",
       "      <td>0.322679</td>\n",
       "      <td>0.291856</td>\n",
       "      <td>0.088290</td>\n",
       "      <td>0.101778</td>\n",
       "      <td>0.129800</td>\n",
       "      <td>0.230810</td>\n",
       "      <td>0.097099</td>\n",
       "      <td>...</td>\n",
       "      <td>0.071954</td>\n",
       "      <td>0.138399</td>\n",
       "      <td>0.104823</td>\n",
       "      <td>0.172767</td>\n",
       "      <td>0.077009</td>\n",
       "      <td>0.073989</td>\n",
       "      <td>0.113866</td>\n",
       "      <td>0.131065</td>\n",
       "      <td>0.038863</td>\n",
       "      <td>0.086323</td>\n",
       "    </tr>\n",
       "    <tr>\n",
       "      <th>2</th>\n",
       "      <td>11-1021</td>\n",
       "      <td>General and Operations Managers</td>\n",
       "      <td>0.253047</td>\n",
       "      <td>0.322679</td>\n",
       "      <td>0.323183</td>\n",
       "      <td>0.091774</td>\n",
       "      <td>0.100662</td>\n",
       "      <td>0.135439</td>\n",
       "      <td>0.234716</td>\n",
       "      <td>0.087662</td>\n",
       "      <td>...</td>\n",
       "      <td>0.097391</td>\n",
       "      <td>0.123705</td>\n",
       "      <td>0.096909</td>\n",
       "      <td>0.207750</td>\n",
       "      <td>0.082485</td>\n",
       "      <td>0.073989</td>\n",
       "      <td>0.076296</td>\n",
       "      <td>0.050003</td>\n",
       "      <td>0.029466</td>\n",
       "      <td>0.086323</td>\n",
       "    </tr>\n",
       "    <tr>\n",
       "      <th>3</th>\n",
       "      <td>11-2011</td>\n",
       "      <td>Advertising and Promotions Managers</td>\n",
       "      <td>0.198250</td>\n",
       "      <td>0.322679</td>\n",
       "      <td>0.255731</td>\n",
       "      <td>0.327864</td>\n",
       "      <td>0.100662</td>\n",
       "      <td>0.033918</td>\n",
       "      <td>0.230810</td>\n",
       "      <td>0.097099</td>\n",
       "      <td>...</td>\n",
       "      <td>0.093733</td>\n",
       "      <td>0.123705</td>\n",
       "      <td>0.135456</td>\n",
       "      <td>0.358788</td>\n",
       "      <td>0.077009</td>\n",
       "      <td>0.073989</td>\n",
       "      <td>0.086077</td>\n",
       "      <td>0.131065</td>\n",
       "      <td>0.067921</td>\n",
       "      <td>0.086323</td>\n",
       "    </tr>\n",
       "    <tr>\n",
       "      <th>4</th>\n",
       "      <td>11-2021</td>\n",
       "      <td>Marketing Managers</td>\n",
       "      <td>0.425434</td>\n",
       "      <td>0.322679</td>\n",
       "      <td>0.304141</td>\n",
       "      <td>0.052255</td>\n",
       "      <td>0.100662</td>\n",
       "      <td>0.080690</td>\n",
       "      <td>0.230810</td>\n",
       "      <td>0.097099</td>\n",
       "      <td>...</td>\n",
       "      <td>0.146763</td>\n",
       "      <td>0.123705</td>\n",
       "      <td>0.198586</td>\n",
       "      <td>0.219394</td>\n",
       "      <td>0.077009</td>\n",
       "      <td>0.073989</td>\n",
       "      <td>0.102794</td>\n",
       "      <td>0.131065</td>\n",
       "      <td>0.055297</td>\n",
       "      <td>0.086323</td>\n",
       "    </tr>\n",
       "  </tbody>\n",
       "</table>\n",
       "<p>5 rows × 184 columns</p>\n",
       "</div>"
      ],
      "text/plain": [
       "  SOC Code                            Job Title   2.A.2.b  1.A.2.c.2  \\\n",
       "0  00-0000                        Total Average  0.155094   0.315455   \n",
       "1  11-1011                     Chief Executives  0.215698   0.322679   \n",
       "2  11-1021      General and Operations Managers  0.253047   0.322679   \n",
       "3  11-2011  Advertising and Promotions Managers  0.198250   0.322679   \n",
       "4  11-2021                   Marketing Managers  0.425434   0.322679   \n",
       "\n",
       "   1.A.1.c.2  4.C.1.a.2.h  4.C.2.a.1.e  4.A.4.b.4  4.C.2.c.1.c  4.A.1.b.2  \\\n",
       "0   0.290686     0.112535     0.100540   0.095815     0.231591   0.101303   \n",
       "1   0.291856     0.088290     0.101778   0.129800     0.230810   0.097099   \n",
       "2   0.323183     0.091774     0.100662   0.135439     0.234716   0.087662   \n",
       "3   0.255731     0.327864     0.100662   0.033918     0.230810   0.097099   \n",
       "4   0.304141     0.052255     0.100662   0.080690     0.230810   0.097099   \n",
       "\n",
       "     ...       2.B.1.d  4.C.2.b.1.f  4.C.1.c.2   2.A.2.a  4.A.3.b.6  \\\n",
       "0    ...      0.084015     0.123198   0.140921  0.164031   0.076954   \n",
       "1    ...      0.071954     0.138399   0.104823  0.172767   0.077009   \n",
       "2    ...      0.097391     0.123705   0.096909  0.207750   0.082485   \n",
       "3    ...      0.093733     0.123705   0.135456  0.358788   0.077009   \n",
       "4    ...      0.146763     0.123705   0.198586  0.219394   0.077009   \n",
       "\n",
       "   4.C.3.d.3  4.C.3.a.2.a  1.A.4.b.3  4.A.4.a.6  1.A.2.a.3  \n",
       "0   0.073518     0.119879   0.136629   0.056352   0.089136  \n",
       "1   0.073989     0.113866   0.131065   0.038863   0.086323  \n",
       "2   0.073989     0.076296   0.050003   0.029466   0.086323  \n",
       "3   0.073989     0.086077   0.131065   0.067921   0.086323  \n",
       "4   0.073989     0.102794   0.131065   0.055297   0.086323  \n",
       "\n",
       "[5 rows x 184 columns]"
      ]
     },
     "execution_count": 34,
     "metadata": {},
     "output_type": "execute_result"
    }
   ],
   "source": [
    "skill_dna_2008_2019_df.head()"
   ]
  },
  {
   "cell_type": "markdown",
   "metadata": {},
   "source": [
    "# Skill Network Edges"
   ]
  },
  {
   "cell_type": "code",
   "execution_count": 35,
   "metadata": {
    "collapsed": false
   },
   "outputs": [],
   "source": [
    "mst_edges.to_csv(\"../static/data/network_csv/skill_edges.csv\", index=None)"
   ]
  },
  {
   "cell_type": "markdown",
   "metadata": {},
   "source": [
    "# Skill Network Nodes"
   ]
  },
  {
   "cell_type": "code",
   "execution_count": null,
   "metadata": {
    "collapsed": true
   },
   "outputs": [],
   "source": [
    "cols = skill_dna_2008_df.columns.tolist()[2:]"
   ]
  },
  {
   "cell_type": "code",
   "execution_count": null,
   "metadata": {
    "collapsed": false
   },
   "outputs": [],
   "source": [
    "for i, r in skill_dna_2008_df.iterrows():\n",
    "    skillmap = {}\n",
    "    skillmap[\"job_title\"] = r['Job Title']\n",
    "    skillmap[\"job_code\"] = r['SOC Code']  \n",
    "    \n",
    "    skill_list = []\n",
    "    \n",
    "    for col in cols:\n",
    "        skill_dict = {\"skill_name\": skill_code_to_name[col],\n",
    "                      \"skill_code\":col,\n",
    "                      \"task_name\": skill_code_to_task[col],\n",
    "                      \"automation_2019\":skill_dna_2019_df.iloc[i][col],\n",
    "                      \"automation_2008\":skill_dna_2008_df.iloc[i][col],                                     \n",
    "                      \"automation_2008_2019\":skill_dna_2008_2019_df.iloc[i][col],\n",
    "                     }\n",
    "        skill_list.append(skill_dict)  \n",
    "\n",
    "    skillmap[\"skill_list\"] = skill_list\n",
    "        \n",
    "    #with open('../static/data/network/'+r1['Job Code']+'-2019'+'.json', 'w') as outfile:\n",
    "    with open('../static/data/network/'+skill_dna_2008_df.iloc[i]['SOC Code']+'.json', 'w') as outfile:\n",
    "        json.dump(skillmap, outfile)        "
   ]
  },
  {
   "cell_type": "markdown",
   "metadata": {},
   "source": [
    "# Task Clusters"
   ]
  },
  {
   "cell_type": "code",
   "execution_count": 1,
   "metadata": {
    "collapsed": true
   },
   "outputs": [],
   "source": [
    "import pandas as pd"
   ]
  },
  {
   "cell_type": "code",
   "execution_count": 2,
   "metadata": {
    "collapsed": true
   },
   "outputs": [],
   "source": [
    "task_cluster = {}\n",
    "\n",
    "task_cluster['Race with the Machine'] = ['Interpersonal Task', 'Administrative Task and Communication']\n",
    "\n",
    "task_cluster['Race against the Machine'] = ['Information Processing', 'Routine Problem Solving',\n",
    "                                           'Vehicle and Equipment Operation', 'Machine Control',\n",
    "                                           'General Physical Task']\n",
    "\n",
    "task_cluster['Race ahead of the Machine'] = ['Systems Thinking', 'Creative and Critical Thinking']\n",
    "\n",
    "task_cluster['Running a Different Race'] = ['Equipment Maintenance', 'Dynamic Physical Task', 'Hazardous and Group Task',\n",
    "                                           'Conflict Resolution', 'Management and Supervision']"
   ]
  },
  {
   "cell_type": "code",
   "execution_count": 3,
   "metadata": {
    "collapsed": false
   },
   "outputs": [],
   "source": [
    "flatten_task_cluster = []\n",
    "\n",
    "for task_cluster_nm, tasks in task_cluster.items():\n",
    "    for task in tasks:\n",
    "        flatten_task_cluster_dict = {}\n",
    "        flatten_task_cluster_dict['task_name'] = task\n",
    "        flatten_task_cluster_dict['task_cluster'] = task_cluster_nm\n",
    "        flatten_task_cluster.append(flatten_task_cluster_dict)"
   ]
  },
  {
   "cell_type": "code",
   "execution_count": 4,
   "metadata": {
    "collapsed": false
   },
   "outputs": [],
   "source": [
    "task_cluster_df = pd.DataFrame(flatten_task_cluster)"
   ]
  },
  {
   "cell_type": "code",
   "execution_count": 5,
   "metadata": {
    "collapsed": true
   },
   "outputs": [],
   "source": [
    "task_cluster_df.to_csv(\"../static/data/network_csv/task_cluster.csv\", index=None)"
   ]
  },
  {
   "cell_type": "code",
   "execution_count": null,
   "metadata": {
    "collapsed": true
   },
   "outputs": [],
   "source": []
  }
 ],
 "metadata": {
  "anaconda-cloud": {},
  "kernelspec": {
   "display_name": "py35",
   "language": "python",
   "name": "py35"
  },
  "language_info": {
   "codemirror_mode": {
    "name": "ipython",
    "version": 2
   },
   "file_extension": ".py",
   "mimetype": "text/x-python",
   "name": "python",
   "nbconvert_exporter": "python",
   "pygments_lexer": "ipython2",
   "version": "2.7.12"
  }
 },
 "nbformat": 4,
 "nbformat_minor": 0
}
