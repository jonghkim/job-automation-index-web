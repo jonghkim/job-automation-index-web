{
 "cells": [
  {
   "cell_type": "code",
   "execution_count": 102,
   "metadata": {
    "collapsed": true
   },
   "outputs": [],
   "source": [
    "# -*- coding: utf-8 -*-\n",
    "import pandas as pd\n",
    "import json"
   ]
  },
  {
   "cell_type": "code",
   "execution_count": 103,
   "metadata": {
    "collapsed": false
   },
   "outputs": [],
   "source": [
    "mst_edges = pd.read_excel(\"../static/data/xlsx/MST Edges.xlsx\")"
   ]
  },
  {
   "cell_type": "code",
   "execution_count": 104,
   "metadata": {
    "collapsed": false
   },
   "outputs": [],
   "source": [
    "skill_dna_2008_df = pd.read_excel(\"../static/data/xlsx/Skill DNA v2.xlsx\", sheetname='2008')\n",
    "skill_dna_2019_df = pd.read_excel(\"../static/data/xlsx/Skill DNA v2.xlsx\", sheetname='2019')\n",
    "skill_dna_2008_2019_df = pd.read_excel(\"../static/data/xlsx/Skill DNA v2.xlsx\", sheetname='2008-2019')"
   ]
  },
  {
   "cell_type": "code",
   "execution_count": 105,
   "metadata": {
    "collapsed": false
   },
   "outputs": [],
   "source": [
    "skill_dna_name_refer = pd.read_excel(\"../static/data/xlsx/Skill DNA.xlsx\", sheetname='Automation Level')"
   ]
  },
  {
   "cell_type": "code",
   "execution_count": 106,
   "metadata": {
    "collapsed": true
   },
   "outputs": [],
   "source": [
    "skill_code_to_name = {r['ElementID']:r['node'] for i,r in skill_dna_name_refer.iterrows()}\n",
    "skill_code_to_task = {r['ElementID']:r['Task'] for i,r in skill_dna_name_refer.iterrows()}"
   ]
  },
  {
   "cell_type": "code",
   "execution_count": 107,
   "metadata": {
    "collapsed": false
   },
   "outputs": [
    {
     "data": {
      "text/html": [
       "<div>\n",
       "<style>\n",
       "    .dataframe thead tr:only-child th {\n",
       "        text-align: right;\n",
       "    }\n",
       "\n",
       "    .dataframe thead th {\n",
       "        text-align: left;\n",
       "    }\n",
       "\n",
       "    .dataframe tbody tr th {\n",
       "        vertical-align: top;\n",
       "    }\n",
       "</style>\n",
       "<table border=\"1\" class=\"dataframe\">\n",
       "  <thead>\n",
       "    <tr style=\"text-align: right;\">\n",
       "      <th></th>\n",
       "      <th>SOC Code</th>\n",
       "      <th>Job Title</th>\n",
       "      <th>2.A.2.b</th>\n",
       "      <th>1.A.2.c.2</th>\n",
       "      <th>1.A.1.c.2</th>\n",
       "      <th>4.C.1.a.2.h</th>\n",
       "      <th>4.C.2.a.1.e</th>\n",
       "      <th>4.A.4.b.4</th>\n",
       "      <th>4.C.2.c.1.c</th>\n",
       "      <th>4.A.1.b.2</th>\n",
       "      <th>...</th>\n",
       "      <th>2.B.1.d</th>\n",
       "      <th>4.C.2.b.1.f</th>\n",
       "      <th>4.C.1.c.2</th>\n",
       "      <th>2.A.2.a</th>\n",
       "      <th>4.A.3.b.6</th>\n",
       "      <th>4.C.3.d.3</th>\n",
       "      <th>4.C.3.a.2.a</th>\n",
       "      <th>1.A.4.b.3</th>\n",
       "      <th>4.A.4.a.6</th>\n",
       "      <th>1.A.2.a.3</th>\n",
       "    </tr>\n",
       "  </thead>\n",
       "  <tbody>\n",
       "    <tr>\n",
       "      <th>0</th>\n",
       "      <td>00-0000</td>\n",
       "      <td>Total Average</td>\n",
       "      <td>-0.004449</td>\n",
       "      <td>-0.006703</td>\n",
       "      <td>-0.007260</td>\n",
       "      <td>-0.007273</td>\n",
       "      <td>-0.004149</td>\n",
       "      <td>-0.004161</td>\n",
       "      <td>-0.004047</td>\n",
       "      <td>-0.005161</td>\n",
       "      <td>...</td>\n",
       "      <td>-0.004973</td>\n",
       "      <td>-0.003221</td>\n",
       "      <td>-0.005052</td>\n",
       "      <td>-0.004856</td>\n",
       "      <td>-0.006368</td>\n",
       "      <td>-0.008219</td>\n",
       "      <td>-0.005124</td>\n",
       "      <td>-0.004782</td>\n",
       "      <td>-0.005278</td>\n",
       "      <td>-0.005837</td>\n",
       "    </tr>\n",
       "    <tr>\n",
       "      <th>1</th>\n",
       "      <td>11-1011</td>\n",
       "      <td>Chief Executives</td>\n",
       "      <td>-0.007279</td>\n",
       "      <td>0.000000</td>\n",
       "      <td>-0.010133</td>\n",
       "      <td>-0.007605</td>\n",
       "      <td>-0.000192</td>\n",
       "      <td>-0.014407</td>\n",
       "      <td>0.000000</td>\n",
       "      <td>0.000000</td>\n",
       "      <td>...</td>\n",
       "      <td>-0.019146</td>\n",
       "      <td>-0.001779</td>\n",
       "      <td>-0.015626</td>\n",
       "      <td>-0.010801</td>\n",
       "      <td>0.000000</td>\n",
       "      <td>0.000000</td>\n",
       "      <td>-0.015318</td>\n",
       "      <td>0.000000</td>\n",
       "      <td>-0.013239</td>\n",
       "      <td>0.000000</td>\n",
       "    </tr>\n",
       "    <tr>\n",
       "      <th>2</th>\n",
       "      <td>11-1021</td>\n",
       "      <td>General and Operations Managers</td>\n",
       "      <td>-0.003511</td>\n",
       "      <td>0.000000</td>\n",
       "      <td>-0.003719</td>\n",
       "      <td>-0.009746</td>\n",
       "      <td>0.000000</td>\n",
       "      <td>-0.017527</td>\n",
       "      <td>-0.002777</td>\n",
       "      <td>-0.003970</td>\n",
       "      <td>...</td>\n",
       "      <td>-0.017782</td>\n",
       "      <td>0.000000</td>\n",
       "      <td>-0.025673</td>\n",
       "      <td>-0.005856</td>\n",
       "      <td>-0.000869</td>\n",
       "      <td>0.000000</td>\n",
       "      <td>-0.020327</td>\n",
       "      <td>-0.007329</td>\n",
       "      <td>-0.020362</td>\n",
       "      <td>0.000000</td>\n",
       "    </tr>\n",
       "    <tr>\n",
       "      <th>3</th>\n",
       "      <td>11-2011</td>\n",
       "      <td>Advertising and Promotions Managers</td>\n",
       "      <td>-0.002680</td>\n",
       "      <td>0.000000</td>\n",
       "      <td>-0.013977</td>\n",
       "      <td>-0.007048</td>\n",
       "      <td>0.000000</td>\n",
       "      <td>-0.008417</td>\n",
       "      <td>0.000000</td>\n",
       "      <td>0.000000</td>\n",
       "      <td>...</td>\n",
       "      <td>-0.013694</td>\n",
       "      <td>0.000000</td>\n",
       "      <td>-0.014664</td>\n",
       "      <td>-0.008877</td>\n",
       "      <td>0.000000</td>\n",
       "      <td>0.000000</td>\n",
       "      <td>-0.010470</td>\n",
       "      <td>0.000000</td>\n",
       "      <td>-0.021761</td>\n",
       "      <td>0.000000</td>\n",
       "    </tr>\n",
       "    <tr>\n",
       "      <th>4</th>\n",
       "      <td>11-2021</td>\n",
       "      <td>Marketing Managers</td>\n",
       "      <td>-0.007517</td>\n",
       "      <td>0.000000</td>\n",
       "      <td>-0.014577</td>\n",
       "      <td>-0.015368</td>\n",
       "      <td>0.000000</td>\n",
       "      <td>-0.017794</td>\n",
       "      <td>0.000000</td>\n",
       "      <td>0.000000</td>\n",
       "      <td>...</td>\n",
       "      <td>-0.016517</td>\n",
       "      <td>0.000000</td>\n",
       "      <td>-0.012560</td>\n",
       "      <td>-0.006473</td>\n",
       "      <td>0.000000</td>\n",
       "      <td>0.000000</td>\n",
       "      <td>-0.010006</td>\n",
       "      <td>0.000000</td>\n",
       "      <td>-0.027310</td>\n",
       "      <td>0.000000</td>\n",
       "    </tr>\n",
       "  </tbody>\n",
       "</table>\n",
       "<p>5 rows × 184 columns</p>\n",
       "</div>"
      ],
      "text/plain": [
       "  SOC Code                            Job Title   2.A.2.b  1.A.2.c.2  \\\n",
       "0  00-0000                        Total Average -0.004449  -0.006703   \n",
       "1  11-1011                     Chief Executives -0.007279   0.000000   \n",
       "2  11-1021      General and Operations Managers -0.003511   0.000000   \n",
       "3  11-2011  Advertising and Promotions Managers -0.002680   0.000000   \n",
       "4  11-2021                   Marketing Managers -0.007517   0.000000   \n",
       "\n",
       "   1.A.1.c.2  4.C.1.a.2.h  4.C.2.a.1.e  4.A.4.b.4  4.C.2.c.1.c  4.A.1.b.2  \\\n",
       "0  -0.007260    -0.007273    -0.004149  -0.004161    -0.004047  -0.005161   \n",
       "1  -0.010133    -0.007605    -0.000192  -0.014407     0.000000   0.000000   \n",
       "2  -0.003719    -0.009746     0.000000  -0.017527    -0.002777  -0.003970   \n",
       "3  -0.013977    -0.007048     0.000000  -0.008417     0.000000   0.000000   \n",
       "4  -0.014577    -0.015368     0.000000  -0.017794     0.000000   0.000000   \n",
       "\n",
       "     ...       2.B.1.d  4.C.2.b.1.f  4.C.1.c.2   2.A.2.a  4.A.3.b.6  \\\n",
       "0    ...     -0.004973    -0.003221  -0.005052 -0.004856  -0.006368   \n",
       "1    ...     -0.019146    -0.001779  -0.015626 -0.010801   0.000000   \n",
       "2    ...     -0.017782     0.000000  -0.025673 -0.005856  -0.000869   \n",
       "3    ...     -0.013694     0.000000  -0.014664 -0.008877   0.000000   \n",
       "4    ...     -0.016517     0.000000  -0.012560 -0.006473   0.000000   \n",
       "\n",
       "   4.C.3.d.3  4.C.3.a.2.a  1.A.4.b.3  4.A.4.a.6  1.A.2.a.3  \n",
       "0  -0.008219    -0.005124  -0.004782  -0.005278  -0.005837  \n",
       "1   0.000000    -0.015318   0.000000  -0.013239   0.000000  \n",
       "2   0.000000    -0.020327  -0.007329  -0.020362   0.000000  \n",
       "3   0.000000    -0.010470   0.000000  -0.021761   0.000000  \n",
       "4   0.000000    -0.010006   0.000000  -0.027310   0.000000  \n",
       "\n",
       "[5 rows x 184 columns]"
      ]
     },
     "execution_count": 107,
     "metadata": {},
     "output_type": "execute_result"
    }
   ],
   "source": [
    "skill_dna_2008_2019_df.head()"
   ]
  },
  {
   "cell_type": "code",
   "execution_count": 108,
   "metadata": {
    "collapsed": true
   },
   "outputs": [],
   "source": [
    "def standardizer(df, col):\n",
    "    df[col] -= df[col].min()\n",
    "    df[col] /= df[col].max()\n",
    "    \n",
    "    #df[col] = (30**df[col]-1)/30\n",
    "    \n",
    "    #df[col] = [0.5 if value > 0.5 else value for value in df[col]]\n",
    "    \n",
    "    #df[col] = df[col]*200\n",
    "    #df[col] = df[col]+10\n",
    "    return df"
   ]
  },
  {
   "cell_type": "code",
   "execution_count": 109,
   "metadata": {
    "collapsed": true
   },
   "outputs": [],
   "source": [
    "def standardizer_diff(df, col):\n",
    "    df[col] = df[col]*-1\n",
    "    df[col] -= df[col].min()\n",
    "    df[col] /= df[col].max()\n",
    "    \n",
    "    #df[col] = (30**df[col]-1)/30\n",
    "    \n",
    "    #df[col] = [0.6 if value > 0.6 else value for value in df[col]]\n",
    "    \n",
    "    #df[col] = df[col]*200\n",
    "    #df[col] = df[col]+10\n",
    "    return df"
   ]
  },
  {
   "cell_type": "code",
   "execution_count": 110,
   "metadata": {
    "collapsed": false
   },
   "outputs": [],
   "source": [
    "for col in skill_dna_2008_df.columns.tolist()[2:]:\n",
    "    skill_dna_2008_df = standardizer(skill_dna_2008_df, col)\n",
    "    skill_dna_2019_df = standardizer(skill_dna_2019_df, col)\n",
    "    skill_dna_2008_2019_df = standardizer_diff(skill_dna_2008_2019_df, col)    \n"
   ]
  },
  {
   "cell_type": "code",
   "execution_count": 111,
   "metadata": {
    "collapsed": false
   },
   "outputs": [
    {
     "data": {
      "text/html": [
       "<div>\n",
       "<style>\n",
       "    .dataframe thead tr:only-child th {\n",
       "        text-align: right;\n",
       "    }\n",
       "\n",
       "    .dataframe thead th {\n",
       "        text-align: left;\n",
       "    }\n",
       "\n",
       "    .dataframe tbody tr th {\n",
       "        vertical-align: top;\n",
       "    }\n",
       "</style>\n",
       "<table border=\"1\" class=\"dataframe\">\n",
       "  <thead>\n",
       "    <tr style=\"text-align: right;\">\n",
       "      <th></th>\n",
       "      <th>SOC Code</th>\n",
       "      <th>Job Title</th>\n",
       "      <th>2.A.2.b</th>\n",
       "      <th>1.A.2.c.2</th>\n",
       "      <th>1.A.1.c.2</th>\n",
       "      <th>4.C.1.a.2.h</th>\n",
       "      <th>4.C.2.a.1.e</th>\n",
       "      <th>4.A.4.b.4</th>\n",
       "      <th>4.C.2.c.1.c</th>\n",
       "      <th>4.A.1.b.2</th>\n",
       "      <th>...</th>\n",
       "      <th>2.B.1.d</th>\n",
       "      <th>4.C.2.b.1.f</th>\n",
       "      <th>4.C.1.c.2</th>\n",
       "      <th>2.A.2.a</th>\n",
       "      <th>4.A.3.b.6</th>\n",
       "      <th>4.C.3.d.3</th>\n",
       "      <th>4.C.3.a.2.a</th>\n",
       "      <th>1.A.4.b.3</th>\n",
       "      <th>4.A.4.a.6</th>\n",
       "      <th>1.A.2.a.3</th>\n",
       "    </tr>\n",
       "  </thead>\n",
       "  <tbody>\n",
       "    <tr>\n",
       "      <th>0</th>\n",
       "      <td>00-0000</td>\n",
       "      <td>Total Average</td>\n",
       "      <td>0.157940</td>\n",
       "      <td>0.060654</td>\n",
       "      <td>0.094286</td>\n",
       "      <td>0.164082</td>\n",
       "      <td>0.087529</td>\n",
       "      <td>0.164002</td>\n",
       "      <td>0.088959</td>\n",
       "      <td>0.141305</td>\n",
       "      <td>...</td>\n",
       "      <td>0.094299</td>\n",
       "      <td>0.056997</td>\n",
       "      <td>0.130923</td>\n",
       "      <td>0.126641</td>\n",
       "      <td>0.102244</td>\n",
       "      <td>0.089152</td>\n",
       "      <td>0.158586</td>\n",
       "      <td>0.107773</td>\n",
       "      <td>0.053358</td>\n",
       "      <td>0.099524</td>\n",
       "    </tr>\n",
       "    <tr>\n",
       "      <th>1</th>\n",
       "      <td>11-1011</td>\n",
       "      <td>Chief Executives</td>\n",
       "      <td>0.258425</td>\n",
       "      <td>0.000000</td>\n",
       "      <td>0.131592</td>\n",
       "      <td>0.171556</td>\n",
       "      <td>0.004043</td>\n",
       "      <td>0.567857</td>\n",
       "      <td>0.000000</td>\n",
       "      <td>0.000000</td>\n",
       "      <td>...</td>\n",
       "      <td>0.363036</td>\n",
       "      <td>0.031480</td>\n",
       "      <td>0.404991</td>\n",
       "      <td>0.281693</td>\n",
       "      <td>0.000000</td>\n",
       "      <td>0.000000</td>\n",
       "      <td>0.474038</td>\n",
       "      <td>0.000000</td>\n",
       "      <td>0.133849</td>\n",
       "      <td>0.000000</td>\n",
       "    </tr>\n",
       "    <tr>\n",
       "      <th>2</th>\n",
       "      <td>11-1021</td>\n",
       "      <td>General and Operations Managers</td>\n",
       "      <td>0.124661</td>\n",
       "      <td>0.000000</td>\n",
       "      <td>0.048296</td>\n",
       "      <td>0.219869</td>\n",
       "      <td>0.000000</td>\n",
       "      <td>0.690813</td>\n",
       "      <td>0.061049</td>\n",
       "      <td>0.108675</td>\n",
       "      <td>...</td>\n",
       "      <td>0.337179</td>\n",
       "      <td>0.000000</td>\n",
       "      <td>0.665379</td>\n",
       "      <td>0.152718</td>\n",
       "      <td>0.013947</td>\n",
       "      <td>0.000000</td>\n",
       "      <td>0.629064</td>\n",
       "      <td>0.165161</td>\n",
       "      <td>0.205855</td>\n",
       "      <td>0.000000</td>\n",
       "    </tr>\n",
       "    <tr>\n",
       "      <th>3</th>\n",
       "      <td>11-2011</td>\n",
       "      <td>Advertising and Promotions Managers</td>\n",
       "      <td>0.095136</td>\n",
       "      <td>0.000000</td>\n",
       "      <td>0.181521</td>\n",
       "      <td>0.159007</td>\n",
       "      <td>0.000000</td>\n",
       "      <td>0.331744</td>\n",
       "      <td>0.000000</td>\n",
       "      <td>0.000000</td>\n",
       "      <td>...</td>\n",
       "      <td>0.259656</td>\n",
       "      <td>0.000000</td>\n",
       "      <td>0.380058</td>\n",
       "      <td>0.231519</td>\n",
       "      <td>0.000000</td>\n",
       "      <td>0.000000</td>\n",
       "      <td>0.324011</td>\n",
       "      <td>0.000000</td>\n",
       "      <td>0.220000</td>\n",
       "      <td>0.000000</td>\n",
       "    </tr>\n",
       "    <tr>\n",
       "      <th>4</th>\n",
       "      <td>11-2021</td>\n",
       "      <td>Marketing Managers</td>\n",
       "      <td>0.266877</td>\n",
       "      <td>0.000000</td>\n",
       "      <td>0.189311</td>\n",
       "      <td>0.346700</td>\n",
       "      <td>0.000000</td>\n",
       "      <td>0.701337</td>\n",
       "      <td>0.000000</td>\n",
       "      <td>0.000000</td>\n",
       "      <td>...</td>\n",
       "      <td>0.313184</td>\n",
       "      <td>0.000000</td>\n",
       "      <td>0.325519</td>\n",
       "      <td>0.168809</td>\n",
       "      <td>0.000000</td>\n",
       "      <td>0.000000</td>\n",
       "      <td>0.309666</td>\n",
       "      <td>0.000000</td>\n",
       "      <td>0.276108</td>\n",
       "      <td>0.000000</td>\n",
       "    </tr>\n",
       "  </tbody>\n",
       "</table>\n",
       "<p>5 rows × 184 columns</p>\n",
       "</div>"
      ],
      "text/plain": [
       "  SOC Code                            Job Title   2.A.2.b  1.A.2.c.2  \\\n",
       "0  00-0000                        Total Average  0.157940   0.060654   \n",
       "1  11-1011                     Chief Executives  0.258425   0.000000   \n",
       "2  11-1021      General and Operations Managers  0.124661   0.000000   \n",
       "3  11-2011  Advertising and Promotions Managers  0.095136   0.000000   \n",
       "4  11-2021                   Marketing Managers  0.266877   0.000000   \n",
       "\n",
       "   1.A.1.c.2  4.C.1.a.2.h  4.C.2.a.1.e  4.A.4.b.4  4.C.2.c.1.c  4.A.1.b.2  \\\n",
       "0   0.094286     0.164082     0.087529   0.164002     0.088959   0.141305   \n",
       "1   0.131592     0.171556     0.004043   0.567857     0.000000   0.000000   \n",
       "2   0.048296     0.219869     0.000000   0.690813     0.061049   0.108675   \n",
       "3   0.181521     0.159007     0.000000   0.331744     0.000000   0.000000   \n",
       "4   0.189311     0.346700     0.000000   0.701337     0.000000   0.000000   \n",
       "\n",
       "     ...       2.B.1.d  4.C.2.b.1.f  4.C.1.c.2   2.A.2.a  4.A.3.b.6  \\\n",
       "0    ...      0.094299     0.056997   0.130923  0.126641   0.102244   \n",
       "1    ...      0.363036     0.031480   0.404991  0.281693   0.000000   \n",
       "2    ...      0.337179     0.000000   0.665379  0.152718   0.013947   \n",
       "3    ...      0.259656     0.000000   0.380058  0.231519   0.000000   \n",
       "4    ...      0.313184     0.000000   0.325519  0.168809   0.000000   \n",
       "\n",
       "   4.C.3.d.3  4.C.3.a.2.a  1.A.4.b.3  4.A.4.a.6  1.A.2.a.3  \n",
       "0   0.089152     0.158586   0.107773   0.053358   0.099524  \n",
       "1   0.000000     0.474038   0.000000   0.133849   0.000000  \n",
       "2   0.000000     0.629064   0.165161   0.205855   0.000000  \n",
       "3   0.000000     0.324011   0.000000   0.220000   0.000000  \n",
       "4   0.000000     0.309666   0.000000   0.276108   0.000000  \n",
       "\n",
       "[5 rows x 184 columns]"
      ]
     },
     "execution_count": 111,
     "metadata": {},
     "output_type": "execute_result"
    }
   ],
   "source": [
    "skill_dna_2008_2019_df.head()"
   ]
  },
  {
   "cell_type": "markdown",
   "metadata": {},
   "source": [
    "# Skill Network Edges"
   ]
  },
  {
   "cell_type": "code",
   "execution_count": 112,
   "metadata": {
    "collapsed": false
   },
   "outputs": [],
   "source": [
    "mst_edges.to_csv(\"../static/data/network_csv/skill_edges.csv\", index=None)"
   ]
  },
  {
   "cell_type": "markdown",
   "metadata": {},
   "source": [
    "# Skill Network Nodes"
   ]
  },
  {
   "cell_type": "code",
   "execution_count": 113,
   "metadata": {
    "collapsed": true
   },
   "outputs": [],
   "source": [
    "cols = skill_dna_2008_df.columns.tolist()[2:]"
   ]
  },
  {
   "cell_type": "code",
   "execution_count": 114,
   "metadata": {
    "collapsed": false
   },
   "outputs": [],
   "source": [
    "for i, r in skill_dna_2008_df.iterrows():\n",
    "    skillmap = {}\n",
    "    skillmap[\"job_title\"] = r['Job Title']\n",
    "    skillmap[\"job_code\"] = r['SOC Code']  \n",
    "    \n",
    "    skill_list = []\n",
    "    \n",
    "    for col in cols:\n",
    "        skill_dict = {\"skill_name\": skill_code_to_name[col],\n",
    "                      \"skill_code\":col,\n",
    "                      \"task_name\": skill_code_to_task[col],\n",
    "                      \"automation_2019\":skill_dna_2019_df.iloc[i][col],\n",
    "                      \"automation_2008\":skill_dna_2008_df.iloc[i][col],                                     \n",
    "                      \"automation_2008_2019\":skill_dna_2008_2019_df.iloc[i][col],\n",
    "                     }\n",
    "        skill_list.append(skill_dict)  \n",
    "\n",
    "    skillmap[\"skill_list\"] = skill_list\n",
    "        \n",
    "    #with open('../static/data/network/'+r1['Job Code']+'-2019'+'.json', 'w') as outfile:\n",
    "    with open('../static/data/network/'+skill_dna_2008_df.iloc[i]['SOC Code']+'.json', 'w') as outfile:\n",
    "        json.dump(skillmap, outfile)        "
   ]
  },
  {
   "cell_type": "markdown",
   "metadata": {},
   "source": [
    "# Task Clusters"
   ]
  },
  {
   "cell_type": "code",
   "execution_count": 115,
   "metadata": {
    "collapsed": true
   },
   "outputs": [],
   "source": [
    "import pandas as pd"
   ]
  },
  {
   "cell_type": "code",
   "execution_count": 116,
   "metadata": {
    "collapsed": true
   },
   "outputs": [],
   "source": [
    "task_cluster = {}\n",
    "\n",
    "task_cluster['Race with the Machine'] = ['Interpersonal Task', 'Administrative Task and Communication']\n",
    "\n",
    "task_cluster['Race against the Machine'] = ['Information Processing', 'Routine Problem Solving',\n",
    "                                           'Vehicle and Equipment Operation', 'Machine Control',\n",
    "                                           'Equipment Maintenance', 'General Physical Task']\n",
    "\n",
    "task_cluster['Race ahead of the Machine'] = ['Systems Thinking', 'Creative and Critical Thinking']\n",
    "\n",
    "task_cluster['Running a Different Race'] = ['Dynamic Physical Task', 'Hazardous and Group Task',\n",
    "                                           'Conflict Resolution', 'Management and Supervision']"
   ]
  },
  {
   "cell_type": "code",
   "execution_count": 117,
   "metadata": {
    "collapsed": false
   },
   "outputs": [],
   "source": [
    "flatten_task_cluster = []\n",
    "\n",
    "for task_cluster_nm, tasks in task_cluster.items():\n",
    "    for task in tasks:\n",
    "        flatten_task_cluster_dict = {}\n",
    "        flatten_task_cluster_dict['task_name'] = task\n",
    "        flatten_task_cluster_dict['task_cluster'] = task_cluster_nm\n",
    "        flatten_task_cluster.append(flatten_task_cluster_dict)"
   ]
  },
  {
   "cell_type": "code",
   "execution_count": 118,
   "metadata": {
    "collapsed": false
   },
   "outputs": [],
   "source": [
    "task_cluster_df = pd.DataFrame(flatten_task_cluster)"
   ]
  },
  {
   "cell_type": "code",
   "execution_count": 119,
   "metadata": {
    "collapsed": true
   },
   "outputs": [],
   "source": [
    "task_cluster_df.to_csv(\"../static/data/network_csv/task_cluster.csv\", index=None)"
   ]
  }
 ],
 "metadata": {
  "anaconda-cloud": {},
  "kernelspec": {
   "display_name": "py35",
   "language": "python",
   "name": "py35"
  },
  "language_info": {
   "codemirror_mode": {
    "name": "ipython",
    "version": 2
   },
   "file_extension": ".py",
   "mimetype": "text/x-python",
   "name": "python",
   "nbconvert_exporter": "python",
   "pygments_lexer": "ipython2",
   "version": "2.7.12"
  }
 },
 "nbformat": 4,
 "nbformat_minor": 0
}
