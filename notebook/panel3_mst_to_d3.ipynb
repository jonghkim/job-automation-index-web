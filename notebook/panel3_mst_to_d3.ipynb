{
 "cells": [
  {
   "cell_type": "code",
   "execution_count": 5,
   "metadata": {
    "collapsed": true
   },
   "outputs": [],
   "source": [
    "# -*- coding: utf-8 -*-\n",
    "import pandas as pd\n",
    "import json"
   ]
  },
  {
   "cell_type": "code",
   "execution_count": 6,
   "metadata": {
    "collapsed": false
   },
   "outputs": [],
   "source": [
    "panel3_task_year_df = pd.read_csv(\"../static/data/csv/Panel 3.csv\")\n",
    "panel3_job_skill_2008_df = pd.read_csv(\"../static/data/csv/Panel 3 Skill Importance 2008.csv\")\n",
    "panel3_job_skill_2019_df = pd.read_csv(\"../static/data/csv/Panel 3 Skill Importance 2019.csv\")\n",
    "mst_edges = pd.read_excel(\"../static/data/xlsx/MST Edges.xlsx\")"
   ]
  },
  {
   "cell_type": "code",
   "execution_count": 7,
   "metadata": {
    "collapsed": false
   },
   "outputs": [
    {
     "data": {
      "text/html": [
       "<div>\n",
       "<style scoped>\n",
       "    .dataframe tbody tr th:only-of-type {\n",
       "        vertical-align: middle;\n",
       "    }\n",
       "\n",
       "    .dataframe tbody tr th {\n",
       "        vertical-align: top;\n",
       "    }\n",
       "\n",
       "    .dataframe thead th {\n",
       "        text-align: right;\n",
       "    }\n",
       "</style>\n",
       "<table border=\"1\" class=\"dataframe\">\n",
       "  <thead>\n",
       "    <tr style=\"text-align: right;\">\n",
       "      <th></th>\n",
       "      <th>Job Code</th>\n",
       "      <th>Job Title</th>\n",
       "      <th>Active Learning</th>\n",
       "      <th>Wrist-Finger Speed</th>\n",
       "      <th>Number Facility</th>\n",
       "      <th>Electronic Mail</th>\n",
       "      <th>In an Open Vehicle or Equipment</th>\n",
       "      <th>Guiding, Directing, and Motivating Subordinates</th>\n",
       "      <th>Exposed to High Places</th>\n",
       "      <th>Inspecting Equipment, Structures, or Material</th>\n",
       "      <th>...</th>\n",
       "      <th>Negotiation</th>\n",
       "      <th>Exposed to Whole Body Vibration</th>\n",
       "      <th>Responsibility for Outcomes and Results</th>\n",
       "      <th>Critical Thinking</th>\n",
       "      <th>Documenting/Recording Information</th>\n",
       "      <th>Pace Determined by Speed of Equipment</th>\n",
       "      <th>Impact of Decisions on Co-workers or Company Results</th>\n",
       "      <th>Sound Localization</th>\n",
       "      <th>Selling or Influencing Others</th>\n",
       "      <th>Finger Dexterity</th>\n",
       "    </tr>\n",
       "  </thead>\n",
       "  <tbody>\n",
       "    <tr>\n",
       "      <th>0</th>\n",
       "      <td>00-0000</td>\n",
       "      <td>TOTAL AVERAGE</td>\n",
       "      <td>0.005153</td>\n",
       "      <td>0.006004</td>\n",
       "      <td>0.006238</td>\n",
       "      <td>0.007199</td>\n",
       "      <td>0.004171</td>\n",
       "      <td>0.004526</td>\n",
       "      <td>0.004076</td>\n",
       "      <td>0.005198</td>\n",
       "      <td>...</td>\n",
       "      <td>0.005543</td>\n",
       "      <td>0.003324</td>\n",
       "      <td>0.004511</td>\n",
       "      <td>0.005597</td>\n",
       "      <td>0.005817</td>\n",
       "      <td>0.00592</td>\n",
       "      <td>0.004848</td>\n",
       "      <td>0.005148</td>\n",
       "      <td>0.006031</td>\n",
       "      <td>0.005871</td>\n",
       "    </tr>\n",
       "    <tr>\n",
       "      <th>1</th>\n",
       "      <td>11-1011</td>\n",
       "      <td>Chief Executives</td>\n",
       "      <td>0.011427</td>\n",
       "      <td>0.000000</td>\n",
       "      <td>0.008704</td>\n",
       "      <td>0.005994</td>\n",
       "      <td>0.000289</td>\n",
       "      <td>0.017453</td>\n",
       "      <td>0.000000</td>\n",
       "      <td>0.000000</td>\n",
       "      <td>...</td>\n",
       "      <td>0.018997</td>\n",
       "      <td>0.002607</td>\n",
       "      <td>0.012023</td>\n",
       "      <td>0.012390</td>\n",
       "      <td>0.000000</td>\n",
       "      <td>0.00000</td>\n",
       "      <td>0.013786</td>\n",
       "      <td>0.000000</td>\n",
       "      <td>0.011320</td>\n",
       "      <td>0.000000</td>\n",
       "    </tr>\n",
       "    <tr>\n",
       "      <th>2</th>\n",
       "      <td>11-1021</td>\n",
       "      <td>General and Operations Managers</td>\n",
       "      <td>0.008371</td>\n",
       "      <td>0.000000</td>\n",
       "      <td>0.004497</td>\n",
       "      <td>0.008413</td>\n",
       "      <td>0.000000</td>\n",
       "      <td>0.021092</td>\n",
       "      <td>0.002898</td>\n",
       "      <td>0.003211</td>\n",
       "      <td>...</td>\n",
       "      <td>0.020354</td>\n",
       "      <td>0.000000</td>\n",
       "      <td>0.020745</td>\n",
       "      <td>0.008813</td>\n",
       "      <td>0.001589</td>\n",
       "      <td>0.00000</td>\n",
       "      <td>0.014911</td>\n",
       "      <td>0.001704</td>\n",
       "      <td>0.016846</td>\n",
       "      <td>0.000000</td>\n",
       "    </tr>\n",
       "    <tr>\n",
       "      <th>3</th>\n",
       "      <td>11-2011</td>\n",
       "      <td>Advertising and Promotions Managers</td>\n",
       "      <td>0.005194</td>\n",
       "      <td>0.000000</td>\n",
       "      <td>0.010406</td>\n",
       "      <td>0.014330</td>\n",
       "      <td>0.000000</td>\n",
       "      <td>0.003663</td>\n",
       "      <td>0.000000</td>\n",
       "      <td>0.000000</td>\n",
       "      <td>...</td>\n",
       "      <td>0.015706</td>\n",
       "      <td>0.000000</td>\n",
       "      <td>0.013109</td>\n",
       "      <td>0.017165</td>\n",
       "      <td>0.000000</td>\n",
       "      <td>0.00000</td>\n",
       "      <td>0.006843</td>\n",
       "      <td>0.000000</td>\n",
       "      <td>0.026177</td>\n",
       "      <td>0.000000</td>\n",
       "    </tr>\n",
       "    <tr>\n",
       "      <th>4</th>\n",
       "      <td>11-2021</td>\n",
       "      <td>Marketing Managers</td>\n",
       "      <td>0.017921</td>\n",
       "      <td>0.000000</td>\n",
       "      <td>0.012927</td>\n",
       "      <td>0.010800</td>\n",
       "      <td>0.000000</td>\n",
       "      <td>0.018276</td>\n",
       "      <td>0.000000</td>\n",
       "      <td>0.000000</td>\n",
       "      <td>...</td>\n",
       "      <td>0.023033</td>\n",
       "      <td>0.000000</td>\n",
       "      <td>0.014231</td>\n",
       "      <td>0.009973</td>\n",
       "      <td>0.000000</td>\n",
       "      <td>0.00000</td>\n",
       "      <td>0.007969</td>\n",
       "      <td>0.000000</td>\n",
       "      <td>0.030220</td>\n",
       "      <td>0.000000</td>\n",
       "    </tr>\n",
       "  </tbody>\n",
       "</table>\n",
       "<p>5 rows × 184 columns</p>\n",
       "</div>"
      ],
      "text/plain": [
       "  Job Code                            Job Title  Active Learning  \\\n",
       "0  00-0000                        TOTAL AVERAGE         0.005153   \n",
       "1  11-1011                     Chief Executives         0.011427   \n",
       "2  11-1021      General and Operations Managers         0.008371   \n",
       "3  11-2011  Advertising and Promotions Managers         0.005194   \n",
       "4  11-2021                   Marketing Managers         0.017921   \n",
       "\n",
       "   Wrist-Finger Speed  Number Facility  Electronic Mail  \\\n",
       "0            0.006004         0.006238         0.007199   \n",
       "1            0.000000         0.008704         0.005994   \n",
       "2            0.000000         0.004497         0.008413   \n",
       "3            0.000000         0.010406         0.014330   \n",
       "4            0.000000         0.012927         0.010800   \n",
       "\n",
       "   In an Open Vehicle or Equipment  \\\n",
       "0                         0.004171   \n",
       "1                         0.000289   \n",
       "2                         0.000000   \n",
       "3                         0.000000   \n",
       "4                         0.000000   \n",
       "\n",
       "   Guiding, Directing, and Motivating Subordinates  Exposed to High Places  \\\n",
       "0                                         0.004526                0.004076   \n",
       "1                                         0.017453                0.000000   \n",
       "2                                         0.021092                0.002898   \n",
       "3                                         0.003663                0.000000   \n",
       "4                                         0.018276                0.000000   \n",
       "\n",
       "   Inspecting Equipment, Structures, or Material  ...  Negotiation  \\\n",
       "0                                       0.005198  ...     0.005543   \n",
       "1                                       0.000000  ...     0.018997   \n",
       "2                                       0.003211  ...     0.020354   \n",
       "3                                       0.000000  ...     0.015706   \n",
       "4                                       0.000000  ...     0.023033   \n",
       "\n",
       "   Exposed to Whole Body Vibration  Responsibility for Outcomes and Results  \\\n",
       "0                         0.003324                                 0.004511   \n",
       "1                         0.002607                                 0.012023   \n",
       "2                         0.000000                                 0.020745   \n",
       "3                         0.000000                                 0.013109   \n",
       "4                         0.000000                                 0.014231   \n",
       "\n",
       "   Critical Thinking  Documenting/Recording Information  \\\n",
       "0           0.005597                           0.005817   \n",
       "1           0.012390                           0.000000   \n",
       "2           0.008813                           0.001589   \n",
       "3           0.017165                           0.000000   \n",
       "4           0.009973                           0.000000   \n",
       "\n",
       "   Pace Determined by Speed of Equipment  \\\n",
       "0                                0.00592   \n",
       "1                                0.00000   \n",
       "2                                0.00000   \n",
       "3                                0.00000   \n",
       "4                                0.00000   \n",
       "\n",
       "   Impact of Decisions on Co-workers or Company Results  Sound Localization  \\\n",
       "0                                           0.004848               0.005148   \n",
       "1                                           0.013786               0.000000   \n",
       "2                                           0.014911               0.001704   \n",
       "3                                           0.006843               0.000000   \n",
       "4                                           0.007969               0.000000   \n",
       "\n",
       "   Selling or Influencing Others  Finger Dexterity  \n",
       "0                       0.006031          0.005871  \n",
       "1                       0.011320          0.000000  \n",
       "2                       0.016846          0.000000  \n",
       "3                       0.026177          0.000000  \n",
       "4                       0.030220          0.000000  \n",
       "\n",
       "[5 rows x 184 columns]"
      ]
     },
     "execution_count": 7,
     "metadata": {},
     "output_type": "execute_result"
    }
   ],
   "source": [
    "panel3_job_skill_2019_df.head()"
   ]
  },
  {
   "cell_type": "code",
   "execution_count": 8,
   "metadata": {
    "collapsed": true
   },
   "outputs": [],
   "source": [
    "def standardizer(df, col):\n",
    "    df[col] -= df[col].min()\n",
    "    df[col] /= df[col].max()\n",
    "    \n",
    "    df[col] = (30**df[col]-1)/30\n",
    "    \n",
    "    df[col] = [0.5 if value > 0.5 else value for value in df[col]]\n",
    "    \n",
    "    #df[col] = df[col]*200\n",
    "    #df[col] = df[col]+10\n",
    "    return df"
   ]
  },
  {
   "cell_type": "code",
   "execution_count": 9,
   "metadata": {
    "collapsed": true
   },
   "outputs": [],
   "source": [
    "def standardizer_diff(df, col):\n",
    "    df[col] -= df[col].min()\n",
    "    df[col] /= df[col].max()\n",
    "    \n",
    "    df[col] = (30**df[col]-1)/30\n",
    "    \n",
    "    df[col] = [0.6 if value > 0.6 else value for value in df[col]]\n",
    "    \n",
    "    #df[col] = df[col]*200\n",
    "    #df[col] = df[col]+10\n",
    "    return df"
   ]
  },
  {
   "cell_type": "code",
   "execution_count": 10,
   "metadata": {
    "collapsed": true
   },
   "outputs": [],
   "source": [
    "panel3_task_year_df = standardizer(panel3_task_year_df, \"2008 Automation Level\")\n",
    "panel3_task_year_df = standardizer(panel3_task_year_df, \"2019 Automation Level\")\n",
    "panel3_task_year_df = standardizer_diff(panel3_task_year_df, \"Change during 2008-2019\")"
   ]
  },
  {
   "cell_type": "code",
   "execution_count": 11,
   "metadata": {
    "collapsed": false
   },
   "outputs": [
    {
     "data": {
      "text/html": [
       "<div>\n",
       "<style scoped>\n",
       "    .dataframe tbody tr th:only-of-type {\n",
       "        vertical-align: middle;\n",
       "    }\n",
       "\n",
       "    .dataframe tbody tr th {\n",
       "        vertical-align: top;\n",
       "    }\n",
       "\n",
       "    .dataframe thead th {\n",
       "        text-align: right;\n",
       "    }\n",
       "</style>\n",
       "<table border=\"1\" class=\"dataframe\">\n",
       "  <thead>\n",
       "    <tr style=\"text-align: right;\">\n",
       "      <th></th>\n",
       "      <th>Skill Id</th>\n",
       "      <th>Skill Name</th>\n",
       "      <th>Task</th>\n",
       "      <th>2019 Automation Level</th>\n",
       "      <th>2008 Automation Level</th>\n",
       "      <th>Change during 2008-2019</th>\n",
       "    </tr>\n",
       "  </thead>\n",
       "  <tbody>\n",
       "    <tr>\n",
       "      <th>0</th>\n",
       "      <td>4.A.3.b.1</td>\n",
       "      <td>Interacting With Computers</td>\n",
       "      <td>Administrative Task and Communication</td>\n",
       "      <td>0.299335</td>\n",
       "      <td>0.309173</td>\n",
       "      <td>0.069780</td>\n",
       "    </tr>\n",
       "    <tr>\n",
       "      <th>1</th>\n",
       "      <td>2.B.3.e</td>\n",
       "      <td>Programming</td>\n",
       "      <td>Administrative Task and Communication</td>\n",
       "      <td>0.250588</td>\n",
       "      <td>0.153256</td>\n",
       "      <td>0.278059</td>\n",
       "    </tr>\n",
       "    <tr>\n",
       "      <th>2</th>\n",
       "      <td>4.C.2.d.1.a</td>\n",
       "      <td>Spend Time Sitting</td>\n",
       "      <td>Administrative Task and Communication</td>\n",
       "      <td>0.216880</td>\n",
       "      <td>0.202520</td>\n",
       "      <td>0.090418</td>\n",
       "    </tr>\n",
       "    <tr>\n",
       "      <th>3</th>\n",
       "      <td>4.A.4.c.1</td>\n",
       "      <td>Performing Administrative Activities</td>\n",
       "      <td>Administrative Task and Communication</td>\n",
       "      <td>0.175269</td>\n",
       "      <td>0.118865</td>\n",
       "      <td>0.196262</td>\n",
       "    </tr>\n",
       "    <tr>\n",
       "      <th>4</th>\n",
       "      <td>4.C.1.a.2.j</td>\n",
       "      <td>Letters and Memos</td>\n",
       "      <td>Administrative Task and Communication</td>\n",
       "      <td>0.146159</td>\n",
       "      <td>0.082767</td>\n",
       "      <td>0.270968</td>\n",
       "    </tr>\n",
       "  </tbody>\n",
       "</table>\n",
       "</div>"
      ],
      "text/plain": [
       "      Skill Id                            Skill Name  \\\n",
       "0    4.A.3.b.1            Interacting With Computers   \n",
       "1      2.B.3.e                           Programming   \n",
       "2  4.C.2.d.1.a                    Spend Time Sitting   \n",
       "3    4.A.4.c.1  Performing Administrative Activities   \n",
       "4  4.C.1.a.2.j                     Letters and Memos   \n",
       "\n",
       "                                    Task  2019 Automation Level  \\\n",
       "0  Administrative Task and Communication               0.299335   \n",
       "1  Administrative Task and Communication               0.250588   \n",
       "2  Administrative Task and Communication               0.216880   \n",
       "3  Administrative Task and Communication               0.175269   \n",
       "4  Administrative Task and Communication               0.146159   \n",
       "\n",
       "   2008 Automation Level  Change during 2008-2019  \n",
       "0               0.309173                 0.069780  \n",
       "1               0.153256                 0.278059  \n",
       "2               0.202520                 0.090418  \n",
       "3               0.118865                 0.196262  \n",
       "4               0.082767                 0.270968  "
      ]
     },
     "execution_count": 11,
     "metadata": {},
     "output_type": "execute_result"
    }
   ],
   "source": [
    "panel3_task_year_df.head()"
   ]
  },
  {
   "cell_type": "markdown",
   "metadata": {},
   "source": [
    "# Skill Network Edges"
   ]
  },
  {
   "cell_type": "code",
   "execution_count": 12,
   "metadata": {
    "collapsed": false
   },
   "outputs": [],
   "source": [
    "mst_edges.to_csv(\"../static/data/network_csv/skill_edges.csv\", index=None)"
   ]
  },
  {
   "cell_type": "markdown",
   "metadata": {},
   "source": [
    "# Skill Network Nodes"
   ]
  },
  {
   "cell_type": "code",
   "execution_count": 13,
   "metadata": {
    "collapsed": true
   },
   "outputs": [],
   "source": [
    "panel3_task_year_df_gp = panel3_task_year_df.groupby('Task')"
   ]
  },
  {
   "cell_type": "code",
   "execution_count": 14,
   "metadata": {
    "collapsed": false
   },
   "outputs": [],
   "source": [
    "for i in range(panel3_job_skill_2019_df.shape[0]):    \n",
    "    skillmap = {}\n",
    "    skillmap[\"job_title\"] = panel3_job_skill_2019_df.iloc[i]['Job Title']\n",
    "    skillmap[\"job_code\"] = panel3_job_skill_2019_df.iloc[i]['Job Code']  \n",
    "    \n",
    "    skill_list = []\n",
    "    \n",
    "    for nm, gp in panel3_task_year_df_gp:    \n",
    "        for j, r2 in gp.iterrows():\n",
    "            skill_dict = {\"skill_name\": r2[\"Skill Name\"],\n",
    "                          \"task_name\": nm,\n",
    "                          #\"skill_importance_2019\": panel3_job_skill_2019_df.iloc[i][r2[\"Skill Name\"]],\n",
    "                          #\"skill_importance_2008\":panel3_job_skill_2008_df.iloc[i][r2[\"Skill Name\"]], \n",
    "                          #\"skill_importance_2008_2019\": panel3_job_skill_2019_df.iloc[i][r2[\"Skill Name\"]],\n",
    "                          \"automation_2019\":r2[\"2019 Automation Level\"],\n",
    "                          \"automation_2008\":r2[\"2008 Automation Level\"],                                     \n",
    "                          \"automation_2008_2019\":r2[\"Change during 2008-2019\"],\n",
    "                         }\n",
    "            skill_list.append(skill_dict)  \n",
    "\n",
    "    skillmap[\"skill_list\"] = skill_list\n",
    "        \n",
    "    #with open('../static/data/network/'+r1['Job Code']+'-2019'+'.json', 'w') as outfile:\n",
    "    with open('../static/data/network/'+panel3_job_skill_2019_df.iloc[i]['Job Code']+'.json', 'w') as outfile:\n",
    "        json.dump(skillmap, outfile)"
   ]
  },
  {
   "cell_type": "markdown",
   "metadata": {},
   "source": [
    "# Task Clusters"
   ]
  },
  {
   "cell_type": "code",
   "execution_count": 15,
   "metadata": {
    "collapsed": true
   },
   "outputs": [],
   "source": [
    "import pandas as pd"
   ]
  },
  {
   "cell_type": "code",
   "execution_count": 16,
   "metadata": {
    "collapsed": true
   },
   "outputs": [],
   "source": [
    "task_cluster = {}\n",
    "\n",
    "task_cluster['Race with the Machine'] = ['Interpersonal Task', 'Administrative Task and Communication']\n",
    "\n",
    "task_cluster['Race against the Machine'] = ['Information Processing', 'Routine Problem Solving',\n",
    "                                           'Vehicle and Equipment Operation', 'Machine Control',\n",
    "                                           'Equipment Maintenance', 'General Physical Task']\n",
    "\n",
    "task_cluster['Race ahead of the Machine'] = ['Systems Thinking', 'Creative and Critical Thinking']\n",
    "\n",
    "task_cluster['Running a Different Race'] = ['Dynamic Physical Task', 'Hazardous and Group Task',\n",
    "                                           'Conflict Resolution', 'Management and Supervision']"
   ]
  },
  {
   "cell_type": "code",
   "execution_count": 17,
   "metadata": {
    "collapsed": false
   },
   "outputs": [
    {
     "data": {
      "text/plain": [
       "{'Race with the Machine': ['Interpersonal Task',\n",
       "  'Administrative Task and Communication'],\n",
       " 'Race against the Machine': ['Information Processing',\n",
       "  'Routine Problem Solving',\n",
       "  'Vehicle and Equipment Operation',\n",
       "  'Machine Control',\n",
       "  'Equipment Maintenance',\n",
       "  'General Physical Task'],\n",
       " 'Race ahead of the Machine': ['Systems Thinking',\n",
       "  'Creative and Critical Thinking'],\n",
       " 'Running a Different Race': ['Dynamic Physical Task',\n",
       "  'Hazardous and Group Task',\n",
       "  'Conflict Resolution',\n",
       "  'Management and Supervision']}"
      ]
     },
     "execution_count": 17,
     "metadata": {},
     "output_type": "execute_result"
    }
   ],
   "source": [
    "task_cluster"
   ]
  },
  {
   "cell_type": "code",
   "execution_count": 18,
   "metadata": {
    "collapsed": false
   },
   "outputs": [],
   "source": [
    "flatten_task_cluster = []\n",
    "\n",
    "for task_cluster_nm, tasks in task_cluster.items():\n",
    "    for task in tasks:\n",
    "        flatten_task_cluster_dict = {}\n",
    "        flatten_task_cluster_dict['task_name'] = task\n",
    "        flatten_task_cluster_dict['task_cluster'] = task_cluster_nm\n",
    "        flatten_task_cluster.append(flatten_task_cluster_dict)"
   ]
  },
  {
   "cell_type": "code",
   "execution_count": 19,
   "metadata": {
    "collapsed": false
   },
   "outputs": [],
   "source": [
    "task_cluster_df = pd.DataFrame(flatten_task_cluster)"
   ]
  },
  {
   "cell_type": "code",
   "execution_count": 20,
   "metadata": {
    "collapsed": true
   },
   "outputs": [],
   "source": [
    "task_cluster_df.to_csv(\"../static/data/network_csv/task_cluster.csv\", index=None)"
   ]
  }
 ],
 "metadata": {
  "anaconda-cloud": {},
  "kernelspec": {
   "display_name": "Python [conda env:jauto]",
   "language": "python",
   "name": "conda-env-jauto-py"
  },
  "language_info": {
   "codemirror_mode": {
    "name": "ipython",
    "version": 3
   },
   "file_extension": ".py",
   "mimetype": "text/x-python",
   "name": "python",
   "nbconvert_exporter": "python",
   "pygments_lexer": "ipython3",
   "version": "3.6.8"
  }
 },
 "nbformat": 4,
 "nbformat_minor": 0
}
