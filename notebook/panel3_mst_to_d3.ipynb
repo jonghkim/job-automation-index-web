{
 "cells": [
  {
   "cell_type": "code",
   "execution_count": 2,
   "metadata": {
    "collapsed": true
   },
   "outputs": [],
   "source": [
    "# -*- coding: utf-8 -*-\n",
    "import pandas as pd\n",
    "import json"
   ]
  },
  {
   "cell_type": "code",
   "execution_count": 3,
   "metadata": {
    "collapsed": false
   },
   "outputs": [],
   "source": [
    "mst_edges = pd.read_excel(\"../static/data/xlsx/MST Edges.xlsx\")"
   ]
  },
  {
   "cell_type": "code",
   "execution_count": 4,
   "metadata": {
    "collapsed": false
   },
   "outputs": [
    {
     "name": "stderr",
     "output_type": "stream",
     "text": [
      "C:\\Users\\jh.kim\\AppData\\Local\\conda\\conda\\envs\\jauto\\lib\\site-packages\\pandas\\util\\_decorators.py:188: FutureWarning: The `sheetname` keyword is deprecated, use `sheet_name` instead\n",
      "  return func(*args, **kwargs)\n"
     ]
    }
   ],
   "source": [
    "skill_dna_2008_df = pd.read_excel(\"../static/data/xlsx/Skill DNA v2.xlsx\", sheetname='2008')\n",
    "skill_dna_2019_df = pd.read_excel(\"../static/data/xlsx/Skill DNA v2.xlsx\", sheetname='2019')\n",
    "skill_dna_2008_2019_df = pd.read_excel(\"../static/data/xlsx/Skill DNA v2.xlsx\", sheetname='2008-2019')"
   ]
  },
  {
   "cell_type": "code",
   "execution_count": 17,
   "metadata": {
    "collapsed": false
   },
   "outputs": [],
   "source": [
    "skill_dna_name_refer = pd.read_excel(\"../static/data/xlsx/Skill DNA.xlsx\", sheetname='Automation Level')"
   ]
  },
  {
   "cell_type": "code",
   "execution_count": 20,
   "metadata": {
    "collapsed": true
   },
   "outputs": [],
   "source": [
    "skill_code_to_name = {r['ElementID']:r['node'] for i,r in skill_dna_name_refer.iterrows()}\n",
    "skill_code_to_task = {r['ElementID']:r['Task'] for i,r in skill_dna_name_refer.iterrows()}"
   ]
  },
  {
   "cell_type": "code",
   "execution_count": 5,
   "metadata": {
    "collapsed": false
   },
   "outputs": [
    {
     "data": {
      "text/html": [
       "<div>\n",
       "<style scoped>\n",
       "    .dataframe tbody tr th:only-of-type {\n",
       "        vertical-align: middle;\n",
       "    }\n",
       "\n",
       "    .dataframe tbody tr th {\n",
       "        vertical-align: top;\n",
       "    }\n",
       "\n",
       "    .dataframe thead th {\n",
       "        text-align: right;\n",
       "    }\n",
       "</style>\n",
       "<table border=\"1\" class=\"dataframe\">\n",
       "  <thead>\n",
       "    <tr style=\"text-align: right;\">\n",
       "      <th></th>\n",
       "      <th>SOC Code</th>\n",
       "      <th>Job Title</th>\n",
       "      <th>2.A.2.b</th>\n",
       "      <th>1.A.2.c.2</th>\n",
       "      <th>1.A.1.c.2</th>\n",
       "      <th>4.C.1.a.2.h</th>\n",
       "      <th>4.C.2.a.1.e</th>\n",
       "      <th>4.A.4.b.4</th>\n",
       "      <th>4.C.2.c.1.c</th>\n",
       "      <th>4.A.1.b.2</th>\n",
       "      <th>...</th>\n",
       "      <th>2.B.1.d</th>\n",
       "      <th>4.C.2.b.1.f</th>\n",
       "      <th>4.C.1.c.2</th>\n",
       "      <th>2.A.2.a</th>\n",
       "      <th>4.A.3.b.6</th>\n",
       "      <th>4.C.3.d.3</th>\n",
       "      <th>4.C.3.a.2.a</th>\n",
       "      <th>1.A.4.b.3</th>\n",
       "      <th>4.A.4.a.6</th>\n",
       "      <th>1.A.2.a.3</th>\n",
       "    </tr>\n",
       "  </thead>\n",
       "  <tbody>\n",
       "    <tr>\n",
       "      <th>0</th>\n",
       "      <td>00-0000</td>\n",
       "      <td>Total Average</td>\n",
       "      <td>0.002162</td>\n",
       "      <td>0.003214</td>\n",
       "      <td>0.003704</td>\n",
       "      <td>0.003541</td>\n",
       "      <td>0.002069</td>\n",
       "      <td>0.002092</td>\n",
       "      <td>0.002035</td>\n",
       "      <td>0.002711</td>\n",
       "      <td>...</td>\n",
       "      <td>0.002643</td>\n",
       "      <td>0.001597</td>\n",
       "      <td>0.002433</td>\n",
       "      <td>0.002631</td>\n",
       "      <td>0.003180</td>\n",
       "      <td>0.004071</td>\n",
       "      <td>0.002628</td>\n",
       "      <td>0.002524</td>\n",
       "      <td>0.002726</td>\n",
       "      <td>0.003015</td>\n",
       "    </tr>\n",
       "    <tr>\n",
       "      <th>1</th>\n",
       "      <td>11-1011</td>\n",
       "      <td>Chief Executives</td>\n",
       "      <td>0.004793</td>\n",
       "      <td>0.000000</td>\n",
       "      <td>0.005168</td>\n",
       "      <td>0.002948</td>\n",
       "      <td>0.000144</td>\n",
       "      <td>0.008065</td>\n",
       "      <td>0.000000</td>\n",
       "      <td>0.000000</td>\n",
       "      <td>...</td>\n",
       "      <td>0.009059</td>\n",
       "      <td>0.001252</td>\n",
       "      <td>0.006486</td>\n",
       "      <td>0.005823</td>\n",
       "      <td>0.000000</td>\n",
       "      <td>0.000000</td>\n",
       "      <td>0.007471</td>\n",
       "      <td>0.000000</td>\n",
       "      <td>0.005116</td>\n",
       "      <td>0.000000</td>\n",
       "    </tr>\n",
       "    <tr>\n",
       "      <th>2</th>\n",
       "      <td>11-1021</td>\n",
       "      <td>General and Operations Managers</td>\n",
       "      <td>0.003511</td>\n",
       "      <td>0.000000</td>\n",
       "      <td>0.002670</td>\n",
       "      <td>0.004138</td>\n",
       "      <td>0.000000</td>\n",
       "      <td>0.009747</td>\n",
       "      <td>0.001447</td>\n",
       "      <td>0.001675</td>\n",
       "      <td>...</td>\n",
       "      <td>0.009706</td>\n",
       "      <td>0.000000</td>\n",
       "      <td>0.011191</td>\n",
       "      <td>0.004142</td>\n",
       "      <td>0.000869</td>\n",
       "      <td>0.000000</td>\n",
       "      <td>0.008081</td>\n",
       "      <td>0.000836</td>\n",
       "      <td>0.007613</td>\n",
       "      <td>0.000000</td>\n",
       "    </tr>\n",
       "    <tr>\n",
       "      <th>3</th>\n",
       "      <td>11-2011</td>\n",
       "      <td>Advertising and Promotions Managers</td>\n",
       "      <td>0.002179</td>\n",
       "      <td>0.000000</td>\n",
       "      <td>0.006179</td>\n",
       "      <td>0.007048</td>\n",
       "      <td>0.000000</td>\n",
       "      <td>0.001693</td>\n",
       "      <td>0.000000</td>\n",
       "      <td>0.000000</td>\n",
       "      <td>...</td>\n",
       "      <td>0.007489</td>\n",
       "      <td>0.000000</td>\n",
       "      <td>0.007072</td>\n",
       "      <td>0.008068</td>\n",
       "      <td>0.000000</td>\n",
       "      <td>0.000000</td>\n",
       "      <td>0.003709</td>\n",
       "      <td>0.000000</td>\n",
       "      <td>0.011830</td>\n",
       "      <td>0.000000</td>\n",
       "    </tr>\n",
       "    <tr>\n",
       "      <th>4</th>\n",
       "      <td>11-2021</td>\n",
       "      <td>Marketing Managers</td>\n",
       "      <td>0.007517</td>\n",
       "      <td>0.000000</td>\n",
       "      <td>0.007677</td>\n",
       "      <td>0.005312</td>\n",
       "      <td>0.000000</td>\n",
       "      <td>0.008446</td>\n",
       "      <td>0.000000</td>\n",
       "      <td>0.000000</td>\n",
       "      <td>...</td>\n",
       "      <td>0.010983</td>\n",
       "      <td>0.000000</td>\n",
       "      <td>0.007677</td>\n",
       "      <td>0.004687</td>\n",
       "      <td>0.000000</td>\n",
       "      <td>0.000000</td>\n",
       "      <td>0.004319</td>\n",
       "      <td>0.000000</td>\n",
       "      <td>0.013657</td>\n",
       "      <td>0.000000</td>\n",
       "    </tr>\n",
       "  </tbody>\n",
       "</table>\n",
       "<p>5 rows × 184 columns</p>\n",
       "</div>"
      ],
      "text/plain": [
       "  SOC Code                            Job Title   2.A.2.b  1.A.2.c.2  \\\n",
       "0  00-0000                        Total Average  0.002162   0.003214   \n",
       "1  11-1011                     Chief Executives  0.004793   0.000000   \n",
       "2  11-1021      General and Operations Managers  0.003511   0.000000   \n",
       "3  11-2011  Advertising and Promotions Managers  0.002179   0.000000   \n",
       "4  11-2021                   Marketing Managers  0.007517   0.000000   \n",
       "\n",
       "   1.A.1.c.2  4.C.1.a.2.h  4.C.2.a.1.e  4.A.4.b.4  4.C.2.c.1.c  4.A.1.b.2  \\\n",
       "0   0.003704     0.003541     0.002069   0.002092     0.002035   0.002711   \n",
       "1   0.005168     0.002948     0.000144   0.008065     0.000000   0.000000   \n",
       "2   0.002670     0.004138     0.000000   0.009747     0.001447   0.001675   \n",
       "3   0.006179     0.007048     0.000000   0.001693     0.000000   0.000000   \n",
       "4   0.007677     0.005312     0.000000   0.008446     0.000000   0.000000   \n",
       "\n",
       "   ...   2.B.1.d  4.C.2.b.1.f  4.C.1.c.2   2.A.2.a  4.A.3.b.6  4.C.3.d.3  \\\n",
       "0  ...  0.002643     0.001597   0.002433  0.002631   0.003180   0.004071   \n",
       "1  ...  0.009059     0.001252   0.006486  0.005823   0.000000   0.000000   \n",
       "2  ...  0.009706     0.000000   0.011191  0.004142   0.000869   0.000000   \n",
       "3  ...  0.007489     0.000000   0.007072  0.008068   0.000000   0.000000   \n",
       "4  ...  0.010983     0.000000   0.007677  0.004687   0.000000   0.000000   \n",
       "\n",
       "   4.C.3.a.2.a  1.A.4.b.3  4.A.4.a.6  1.A.2.a.3  \n",
       "0     0.002628   0.002524   0.002726   0.003015  \n",
       "1     0.007471   0.000000   0.005116   0.000000  \n",
       "2     0.008081   0.000836   0.007613   0.000000  \n",
       "3     0.003709   0.000000   0.011830   0.000000  \n",
       "4     0.004319   0.000000   0.013657   0.000000  \n",
       "\n",
       "[5 rows x 184 columns]"
      ]
     },
     "execution_count": 5,
     "metadata": {},
     "output_type": "execute_result"
    }
   ],
   "source": [
    "skill_dna_2019_df.head()"
   ]
  },
  {
   "cell_type": "code",
   "execution_count": 6,
   "metadata": {
    "collapsed": true
   },
   "outputs": [],
   "source": [
    "def standardizer(df, col):\n",
    "    df[col] -= df[col].min()\n",
    "    df[col] /= df[col].max()\n",
    "    \n",
    "    df[col] = (30**df[col]-1)/30\n",
    "    \n",
    "    df[col] = [0.5 if value > 0.5 else value for value in df[col]]\n",
    "    \n",
    "    #df[col] = df[col]*200\n",
    "    #df[col] = df[col]+10\n",
    "    return df"
   ]
  },
  {
   "cell_type": "code",
   "execution_count": 7,
   "metadata": {
    "collapsed": true
   },
   "outputs": [],
   "source": [
    "def standardizer_diff(df, col):\n",
    "    df[col] -= df[col].min()\n",
    "    df[col] /= df[col].max()\n",
    "    \n",
    "    df[col] = (30**df[col]-1)/30\n",
    "    \n",
    "    df[col] = [0.6 if value > 0.6 else value for value in df[col]]\n",
    "    \n",
    "    #df[col] = df[col]*200\n",
    "    #df[col] = df[col]+10\n",
    "    return df"
   ]
  },
  {
   "cell_type": "code",
   "execution_count": 8,
   "metadata": {
    "collapsed": false
   },
   "outputs": [],
   "source": [
    "for col in skill_dna_2008_df.columns.tolist()[2:]:\n",
    "    skill_dna_2008_df = standardizer(skill_dna_2008_df, col)\n",
    "    skill_dna_2019_df = standardizer(skill_dna_2019_df, col)\n",
    "    skill_dna_2008_2019_df = standardizer_diff(skill_dna_2008_2019_df, col)    \n"
   ]
  },
  {
   "cell_type": "code",
   "execution_count": 9,
   "metadata": {
    "collapsed": false
   },
   "outputs": [
    {
     "data": {
      "text/html": [
       "<div>\n",
       "<style scoped>\n",
       "    .dataframe tbody tr th:only-of-type {\n",
       "        vertical-align: middle;\n",
       "    }\n",
       "\n",
       "    .dataframe tbody tr th {\n",
       "        vertical-align: top;\n",
       "    }\n",
       "\n",
       "    .dataframe thead th {\n",
       "        text-align: right;\n",
       "    }\n",
       "</style>\n",
       "<table border=\"1\" class=\"dataframe\">\n",
       "  <thead>\n",
       "    <tr style=\"text-align: right;\">\n",
       "      <th></th>\n",
       "      <th>SOC Code</th>\n",
       "      <th>Job Title</th>\n",
       "      <th>2.A.2.b</th>\n",
       "      <th>1.A.2.c.2</th>\n",
       "      <th>1.A.1.c.2</th>\n",
       "      <th>4.C.1.a.2.h</th>\n",
       "      <th>4.C.2.a.1.e</th>\n",
       "      <th>4.A.4.b.4</th>\n",
       "      <th>4.C.2.c.1.c</th>\n",
       "      <th>4.A.1.b.2</th>\n",
       "      <th>...</th>\n",
       "      <th>2.B.1.d</th>\n",
       "      <th>4.C.2.b.1.f</th>\n",
       "      <th>4.C.1.c.2</th>\n",
       "      <th>2.A.2.a</th>\n",
       "      <th>4.A.3.b.6</th>\n",
       "      <th>4.C.3.d.3</th>\n",
       "      <th>4.C.3.a.2.a</th>\n",
       "      <th>1.A.4.b.3</th>\n",
       "      <th>4.A.4.a.6</th>\n",
       "      <th>1.A.2.a.3</th>\n",
       "    </tr>\n",
       "  </thead>\n",
       "  <tbody>\n",
       "    <tr>\n",
       "      <th>0</th>\n",
       "      <td>00-0000</td>\n",
       "      <td>Total Average</td>\n",
       "      <td>0.018164</td>\n",
       "      <td>0.00775</td>\n",
       "      <td>0.009787</td>\n",
       "      <td>0.022691</td>\n",
       "      <td>0.011837</td>\n",
       "      <td>0.019340</td>\n",
       "      <td>0.011838</td>\n",
       "      <td>0.013811</td>\n",
       "      <td>...</td>\n",
       "      <td>0.011884</td>\n",
       "      <td>0.006496</td>\n",
       "      <td>0.015388</td>\n",
       "      <td>0.014745</td>\n",
       "      <td>0.013204</td>\n",
       "      <td>0.010523</td>\n",
       "      <td>0.015489</td>\n",
       "      <td>0.013547</td>\n",
       "      <td>0.006320</td>\n",
       "      <td>0.011416</td>\n",
       "    </tr>\n",
       "    <tr>\n",
       "      <th>1</th>\n",
       "      <td>11-1011</td>\n",
       "      <td>Chief Executives</td>\n",
       "      <td>0.020148</td>\n",
       "      <td>0.00000</td>\n",
       "      <td>0.014417</td>\n",
       "      <td>0.030371</td>\n",
       "      <td>0.000235</td>\n",
       "      <td>0.102143</td>\n",
       "      <td>0.000000</td>\n",
       "      <td>0.000000</td>\n",
       "      <td>...</td>\n",
       "      <td>0.091450</td>\n",
       "      <td>0.001981</td>\n",
       "      <td>0.092089</td>\n",
       "      <td>0.042299</td>\n",
       "      <td>0.000000</td>\n",
       "      <td>0.000000</td>\n",
       "      <td>0.077257</td>\n",
       "      <td>0.000000</td>\n",
       "      <td>0.024596</td>\n",
       "      <td>0.000000</td>\n",
       "    </tr>\n",
       "    <tr>\n",
       "      <th>2</th>\n",
       "      <td>11-1021</td>\n",
       "      <td>General and Operations Managers</td>\n",
       "      <td>0.000000</td>\n",
       "      <td>0.00000</td>\n",
       "      <td>0.002629</td>\n",
       "      <td>0.039392</td>\n",
       "      <td>0.000000</td>\n",
       "      <td>0.152837</td>\n",
       "      <td>0.007421</td>\n",
       "      <td>0.012785</td>\n",
       "      <td>...</td>\n",
       "      <td>0.062582</td>\n",
       "      <td>0.000000</td>\n",
       "      <td>0.238755</td>\n",
       "      <td>0.010861</td>\n",
       "      <td>0.000000</td>\n",
       "      <td>0.000000</td>\n",
       "      <td>0.183333</td>\n",
       "      <td>0.055545</td>\n",
       "      <td>0.046015</td>\n",
       "      <td>0.000000</td>\n",
       "    </tr>\n",
       "    <tr>\n",
       "      <th>3</th>\n",
       "      <td>11-2011</td>\n",
       "      <td>Advertising and Promotions Managers</td>\n",
       "      <td>0.003332</td>\n",
       "      <td>0.00000</td>\n",
       "      <td>0.025291</td>\n",
       "      <td>0.000000</td>\n",
       "      <td>0.000000</td>\n",
       "      <td>0.114084</td>\n",
       "      <td>0.000000</td>\n",
       "      <td>0.000000</td>\n",
       "      <td>...</td>\n",
       "      <td>0.041742</td>\n",
       "      <td>0.000000</td>\n",
       "      <td>0.066876</td>\n",
       "      <td>0.004751</td>\n",
       "      <td>0.000000</td>\n",
       "      <td>0.000000</td>\n",
       "      <td>0.060355</td>\n",
       "      <td>0.000000</td>\n",
       "      <td>0.032174</td>\n",
       "      <td>0.000000</td>\n",
       "    </tr>\n",
       "    <tr>\n",
       "      <th>4</th>\n",
       "      <td>11-2021</td>\n",
       "      <td>Marketing Managers</td>\n",
       "      <td>0.000000</td>\n",
       "      <td>0.00000</td>\n",
       "      <td>0.021602</td>\n",
       "      <td>0.101682</td>\n",
       "      <td>0.000000</td>\n",
       "      <td>0.230017</td>\n",
       "      <td>0.000000</td>\n",
       "      <td>0.000000</td>\n",
       "      <td>...</td>\n",
       "      <td>0.035432</td>\n",
       "      <td>0.000000</td>\n",
       "      <td>0.034326</td>\n",
       "      <td>0.011386</td>\n",
       "      <td>0.000000</td>\n",
       "      <td>0.000000</td>\n",
       "      <td>0.046174</td>\n",
       "      <td>0.000000</td>\n",
       "      <td>0.051054</td>\n",
       "      <td>0.000000</td>\n",
       "    </tr>\n",
       "  </tbody>\n",
       "</table>\n",
       "<p>5 rows × 184 columns</p>\n",
       "</div>"
      ],
      "text/plain": [
       "  SOC Code                            Job Title   2.A.2.b  1.A.2.c.2  \\\n",
       "0  00-0000                        Total Average  0.018164    0.00775   \n",
       "1  11-1011                     Chief Executives  0.020148    0.00000   \n",
       "2  11-1021      General and Operations Managers  0.000000    0.00000   \n",
       "3  11-2011  Advertising and Promotions Managers  0.003332    0.00000   \n",
       "4  11-2021                   Marketing Managers  0.000000    0.00000   \n",
       "\n",
       "   1.A.1.c.2  4.C.1.a.2.h  4.C.2.a.1.e  4.A.4.b.4  4.C.2.c.1.c  4.A.1.b.2  \\\n",
       "0   0.009787     0.022691     0.011837   0.019340     0.011838   0.013811   \n",
       "1   0.014417     0.030371     0.000235   0.102143     0.000000   0.000000   \n",
       "2   0.002629     0.039392     0.000000   0.152837     0.007421   0.012785   \n",
       "3   0.025291     0.000000     0.000000   0.114084     0.000000   0.000000   \n",
       "4   0.021602     0.101682     0.000000   0.230017     0.000000   0.000000   \n",
       "\n",
       "   ...   2.B.1.d  4.C.2.b.1.f  4.C.1.c.2   2.A.2.a  4.A.3.b.6  4.C.3.d.3  \\\n",
       "0  ...  0.011884     0.006496   0.015388  0.014745   0.013204   0.010523   \n",
       "1  ...  0.091450     0.001981   0.092089  0.042299   0.000000   0.000000   \n",
       "2  ...  0.062582     0.000000   0.238755  0.010861   0.000000   0.000000   \n",
       "3  ...  0.041742     0.000000   0.066876  0.004751   0.000000   0.000000   \n",
       "4  ...  0.035432     0.000000   0.034326  0.011386   0.000000   0.000000   \n",
       "\n",
       "   4.C.3.a.2.a  1.A.4.b.3  4.A.4.a.6  1.A.2.a.3  \n",
       "0     0.015489   0.013547   0.006320   0.011416  \n",
       "1     0.077257   0.000000   0.024596   0.000000  \n",
       "2     0.183333   0.055545   0.046015   0.000000  \n",
       "3     0.060355   0.000000   0.032174   0.000000  \n",
       "4     0.046174   0.000000   0.051054   0.000000  \n",
       "\n",
       "[5 rows x 184 columns]"
      ]
     },
     "execution_count": 9,
     "metadata": {},
     "output_type": "execute_result"
    }
   ],
   "source": [
    "skill_dna_2008_df.head()"
   ]
  },
  {
   "cell_type": "markdown",
   "metadata": {},
   "source": [
    "# Skill Network Edges"
   ]
  },
  {
   "cell_type": "code",
   "execution_count": 10,
   "metadata": {
    "collapsed": false
   },
   "outputs": [],
   "source": [
    "mst_edges.to_csv(\"../static/data/network_csv/skill_edges.csv\", index=None)"
   ]
  },
  {
   "cell_type": "markdown",
   "metadata": {},
   "source": [
    "# Skill Network Nodes"
   ]
  },
  {
   "cell_type": "code",
   "execution_count": 14,
   "metadata": {
    "collapsed": true
   },
   "outputs": [],
   "source": [
    "cols = skill_dna_2008_df.columns.tolist()[2:]"
   ]
  },
  {
   "cell_type": "code",
   "execution_count": 29,
   "metadata": {
    "collapsed": false
   },
   "outputs": [],
   "source": [
    "for i, r in skill_dna_2008_df.iterrows():\n",
    "    skillmap = {}\n",
    "    skillmap[\"job_title\"] = r['Job Title']\n",
    "    skillmap[\"job_code\"] = r['SOC Code']  \n",
    "    \n",
    "    skill_list = []\n",
    "    \n",
    "    for col in cols:\n",
    "        skill_dict = {\"skill_name\": skill_code_to_name[col],\n",
    "                      \"skill_code\":col,\n",
    "                      \"task_name\": skill_code_to_task[col],\n",
    "                      \"automation_2019\":skill_dna_2019_df.iloc[i][col],\n",
    "                      \"automation_2008\":skill_dna_2008_df.iloc[i][col],                                     \n",
    "                      \"automation_2008_2019\":skill_dna_2008_2019_df.iloc[i][col],\n",
    "                     }\n",
    "        skill_list.append(skill_dict)  \n",
    "\n",
    "    skillmap[\"skill_list\"] = skill_list\n",
    "        \n",
    "    #with open('../static/data/network/'+r1['Job Code']+'-2019'+'.json', 'w') as outfile:\n",
    "    with open('../static/data/network/'+skill_dna_2008_df.iloc[i]['SOC Code']+'.json', 'w') as outfile:\n",
    "        json.dump(skillmap, outfile)        "
   ]
  },
  {
   "cell_type": "markdown",
   "metadata": {},
   "source": [
    "# Task Clusters"
   ]
  },
  {
   "cell_type": "code",
   "execution_count": 30,
   "metadata": {
    "collapsed": true
   },
   "outputs": [],
   "source": [
    "import pandas as pd"
   ]
  },
  {
   "cell_type": "code",
   "execution_count": 31,
   "metadata": {
    "collapsed": true
   },
   "outputs": [],
   "source": [
    "task_cluster = {}\n",
    "\n",
    "task_cluster['Race with the Machine'] = ['Interpersonal Task', 'Administrative Task and Communication']\n",
    "\n",
    "task_cluster['Race against the Machine'] = ['Information Processing', 'Routine Problem Solving',\n",
    "                                           'Vehicle and Equipment Operation', 'Machine Control',\n",
    "                                           'Equipment Maintenance', 'General Physical Task']\n",
    "\n",
    "task_cluster['Race ahead of the Machine'] = ['Systems Thinking', 'Creative and Critical Thinking']\n",
    "\n",
    "task_cluster['Running a Different Race'] = ['Dynamic Physical Task', 'Hazardous and Group Task',\n",
    "                                           'Conflict Resolution', 'Management and Supervision']"
   ]
  },
  {
   "cell_type": "code",
   "execution_count": 32,
   "metadata": {
    "collapsed": false
   },
   "outputs": [],
   "source": [
    "flatten_task_cluster = []\n",
    "\n",
    "for task_cluster_nm, tasks in task_cluster.items():\n",
    "    for task in tasks:\n",
    "        flatten_task_cluster_dict = {}\n",
    "        flatten_task_cluster_dict['task_name'] = task\n",
    "        flatten_task_cluster_dict['task_cluster'] = task_cluster_nm\n",
    "        flatten_task_cluster.append(flatten_task_cluster_dict)"
   ]
  },
  {
   "cell_type": "code",
   "execution_count": 33,
   "metadata": {
    "collapsed": false
   },
   "outputs": [],
   "source": [
    "task_cluster_df = pd.DataFrame(flatten_task_cluster)"
   ]
  },
  {
   "cell_type": "code",
   "execution_count": 34,
   "metadata": {
    "collapsed": true
   },
   "outputs": [],
   "source": [
    "task_cluster_df.to_csv(\"../static/data/network_csv/task_cluster.csv\", index=None)"
   ]
  }
 ],
 "metadata": {
  "anaconda-cloud": {},
  "kernelspec": {
   "display_name": "Python [conda env:jauto]",
   "language": "python",
   "name": "conda-env-jauto-py"
  },
  "language_info": {
   "codemirror_mode": {
    "name": "ipython",
    "version": 3
   },
   "file_extension": ".py",
   "mimetype": "text/x-python",
   "name": "python",
   "nbconvert_exporter": "python",
   "pygments_lexer": "ipython3",
   "version": "3.6.8"
  }
 },
 "nbformat": 4,
 "nbformat_minor": 0
}
